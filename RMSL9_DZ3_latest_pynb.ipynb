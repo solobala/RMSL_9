{
  "nbformat": 4,
  "nbformat_minor": 0,
  "metadata": {
    "colab": {
      "provenance": [],
      "collapsed_sections": [
        "9Nb8KcXqRH6i",
        "hnvpLPS9aTr-",
        "wVVIghvEbgv1"
      ],
      "authorship_tag": "ABX9TyP1NQNDmQ4bE/aVkclq6NEO",
      "include_colab_link": true
    },
    "kernelspec": {
      "name": "python3",
      "display_name": "Python 3"
    },
    "language_info": {
      "name": "python"
    }
  },
  "cells": [
    {
      "cell_type": "markdown",
      "metadata": {
        "id": "view-in-github",
        "colab_type": "text"
      },
      "source": [
        "<a href=\"https://colab.research.google.com/github/solobala/RMSL_9/blob/main/RMSL9_DZ3_latest_pynb.ipynb\" target=\"_parent\"><img src=\"https://colab.research.google.com/assets/colab-badge.svg\" alt=\"Open In Colab\"/></a>"
      ]
    },
    {
      "cell_type": "markdown",
      "source": [
        "# Задание к теме «Гибридные рекомендательные системы»\n",
        "\n",
        "Преподаватель: Наталья Баданина, Юлия Пономарева, Егор Шишковец\n",
        "Что нужно делать?\n",
        "\n",
        "Датасет ml-latest.\n",
        "Вспомнить подходы, которые мы разбирали.\n",
        "Выбрать понравившийся подход к гибридным системам.\n",
        "Написать свою.\n",
        "Материалы вы найдёте здесь.\n",
        "\n",
        "Планирую: построить гибридную рекомендательную систему на основе:\n",
        "1. CBRS (item features, user features) - регрессионная модель прогнозирования рейтинга для конкретного пользователя\n",
        "\n",
        "2. Collaborative user-based filtering с использованием Surprise( отобрать n последних фильмов из числа тех, которым пользователь поставил высокие оценки. Получить их вектора. С помощью KNN отобрать из непросмотренных m ближайших соседей.\n",
        "\n",
        "3. Полученную выборку передать в модель CBRS  и из нее уже отобрать все фильмы с рейтингом выше установленного порога)\n",
        "\n",
        "4. Результат передать на уточнение в SVD (получить список рекомендаций из k фильмов)\n"
      ],
      "metadata": {
        "id": "2tcvh3pKQiJQ"
      }
    },
    {
      "cell_type": "markdown",
      "source": [
        "# 0. Загрузка данных и импорт библиотек"
      ],
      "metadata": {
        "id": "9Nb8KcXqRH6i"
      }
    },
    {
      "cell_type": "code",
      "source": [
        "import numpy as np\n",
        "import pandas as pd\n",
        "import scipy\n",
        "from scipy import sparse\n",
        "from sklearn.linear_model import LinearRegression\n",
        "from sklearn.model_selection import train_test_split\n",
        "from sklearn.feature_extraction.text import TfidfVectorizer, CountVectorizer, TfidfTransformer\n",
        "from tqdm import tqdm\n",
        "import pickle\n",
        "from sklearn.neighbors import NearestNeighbors\n",
        "from sklearn.base import RegressorMixin\n",
        "from sklearn.metrics import mean_squared_error\n",
        "from sklearn.neighbors import NearestNeighbors\n",
        "import warnings\n",
        "warnings.filterwarnings(\"ignore\")"
      ],
      "metadata": {
        "id": "-Cwrf8Yj0pU0"
      },
      "execution_count": 3,
      "outputs": []
    },
    {
      "cell_type": "markdown",
      "source": [
        "#1. Пользовательские функции"
      ],
      "metadata": {
        "id": "hnvpLPS9aTr-"
      }
    },
    {
      "cell_type": "code",
      "source": [
        "!unzip ml-latest-small.zip"
      ],
      "metadata": {
        "colab": {
          "base_uri": "https://localhost:8080/"
        },
        "id": "oz3oWj0V78oS",
        "outputId": "75e0405a-da0c-40aa-f4ca-e756d56272bf"
      },
      "execution_count": 4,
      "outputs": [
        {
          "output_type": "stream",
          "name": "stdout",
          "text": [
            "Archive:  ml-latest-small.zip\n",
            "   creating: ml-latest-small/\n",
            "  inflating: ml-latest-small/links.csv  \n",
            "  inflating: ml-latest-small/tags.csv  \n",
            "  inflating: ml-latest-small/ratings.csv  \n",
            "  inflating: ml-latest-small/README.txt  \n",
            "  inflating: ml-latest-small/movies.csv  \n"
          ]
        }
      ]
    },
    {
      "cell_type": "code",
      "source": [
        "def change_string(s):\n",
        "    return ' '.join(s.replace(' ', '').replace('-', '').split('|')) # Убираем лищние пробелы и тире и разбиваем строку на отдельные слова\n",
        ""
      ],
      "metadata": {
        "id": "d68hxKV40tMt"
      },
      "execution_count": 5,
      "outputs": []
    },
    {
      "cell_type": "code",
      "source": [
        "def make_dataset() -> pd.DataFrame:\n",
        "  # load dataset\n",
        "  !wget  \"https://files.grouplens.org/datasets/movielens/ml-latest-small.zip\"   # Качаем архив выбранного датасета\n",
        "  # unzip data from zip\n",
        "  # !unzip ml-latest-small.zip\n",
        "  # read tables\n",
        "  tags = pd.read_csv('/content/ml-latest-small/tags.csv')\n",
        "  movies = pd.read_csv('/content/ml-latest-small/movies.csv')\n",
        "  ratings = pd.read_csv('/content/ml-latest-small/ratings.csv')\n",
        "  # ratings.drop(columns=['timestamp'], inplace=True)\n",
        "  tags.drop(columns=['timestamp'], inplace=True)\n",
        "  # join tables\n",
        "  df = movies.join(ratings.set_index('movieId'), on='movieId', how='right')\n",
        "  # drop some columns\n",
        "  df1 = pd.merge(df, tags, left_on=['userId','movieId'], right_on = ['userId','movieId'], how='left')\n",
        "  return df1"
      ],
      "metadata": {
        "id": "0INvhZeM0xjn"
      },
      "execution_count": 6,
      "outputs": []
    },
    {
      "cell_type": "code",
      "source": [
        "def clean(df: pd.DataFrame) -> pd.DataFrame:\n",
        "  # fill nan\n",
        "  df['tag'] = df['tag'].fillna('no_tag')\n",
        "  return df\n",
        ""
      ],
      "metadata": {
        "id": "F08MSXXb003v"
      },
      "execution_count": 7,
      "outputs": []
    },
    {
      "cell_type": "code",
      "source": [
        "def b_f_by_user(df: pd.DataFrame, userId: int, is_train: bool) -> tuple():\n",
        "  tfidf_transformer2 = TfidfVectorizer()\n",
        "  df = df[df['userId']==userId]\n",
        "  df['genres'] = df['genres'].apply(lambda x: change_string(x))\n",
        "  if df[(df['tag']!='no_tag')].shape[0] != 0:\n",
        "    df['tag'] = df['tag'].apply(lambda x: change_string(x))\n",
        "  ddf = df[['movieId', 'rating','timestamp']]\n",
        "  y = df['rating'].to_numpy()\n",
        "\n",
        "  if is_train:\n",
        "    tfidf_transformer1 = TfidfVectorizer()\n",
        "    tfidf_transformer2 = TfidfVectorizer()\n",
        "    X_tfidf_1 = tfidf_transformer1.fit_transform(df['genres'])\n",
        "    X_tfidf_2 = tfidf_transformer2.fit_transform(df['tag'])\n",
        "    with open('trr1.pkl', 'wb') as f:\n",
        "        pickle.dump(tfidf_transformer1, f)\n",
        "    with open('trr2.pkl', 'wb') as f:\n",
        "        pickle.dump(tfidf_transformer2, f)\n",
        "  else:\n",
        "     with open('trr1.pkl', 'rb') as f:\n",
        "        tfidf_transformer1 = pickle.load(f)\n",
        "     with open('trr2.pkl', 'rb') as f:\n",
        "        tfidf_transformer2 = pickle.load(f)\n",
        "     X_tfidf_1 = tfidf_transformer1.transform(df['genres'])\n",
        "     X_tfidf_2 = tfidf_transformer2.transform(df['tag'])\n",
        "\n",
        "\n",
        "  tfidf_transformer1 = TfidfVectorizer()\n",
        "  X_tfidf_1 = tfidf_transformer1.fit_transform(df['genres'])\n",
        "  # Проверяем, что у пользователя есть тэги\n",
        "  X_transform = scipy.sparse.hstack([X_tfidf_1, X_tfidf_2 ])\n",
        "  X1 = sparse.csr_matrix(X_transform)\n",
        "\n",
        "  return ddf, X1, y, tfidf_transformer1, tfidf_transformer2"
      ],
      "metadata": {
        "id": "WKLCbO3Z9kQP"
      },
      "execution_count": 8,
      "outputs": []
    },
    {
      "cell_type": "code",
      "source": [
        "def build_features(df: pd.DataFrame, is_train: bool) -> tuple():\n",
        "  # feature engineering\n",
        "  df['genres'] = df['genres'].apply(lambda x: change_string(x))\n",
        "  df['tag'] = df['tag'].apply(lambda x: change_string(x))\n",
        "  y = df['rating'].to_numpy()\n",
        "  if is_train:\n",
        "    tfidf_transformer1 = TfidfVectorizer()\n",
        "    tfidf_transformer2 = TfidfVectorizer()\n",
        "    X_tfidf_1 = tfidf_transformer1.fit_transform(df['genres'])\n",
        "    X_tfidf_2 = tfidf_transformer2.fit_transform(df['tag'])\n",
        "    with open('tr1.pkl', 'wb') as f:\n",
        "            pickle.dump(tfidf_transformer1, f)\n",
        "    with open('tr2.pkl', 'wb') as f:\n",
        "            pickle.dump(tfidf_transformer2, f)\n",
        "  else:\n",
        "     with open('tr1.pkl', 'rb') as f:\n",
        "        tfidf_transformer1 = pickle.load(f)\n",
        "     with open('tr2.pkl', 'rb') as f:\n",
        "        tfidf_transformer2 = pickle.load(f)\n",
        "     X_tfidf_1 = tfidf_transformer1.transform(df['genres'])\n",
        "     X_tfidf_2 = tfidf_transformer2.transform(df['tag'])\n",
        "  X_transform = scipy.sparse.hstack([X_tfidf_1, X_tfidf_2 ])\n",
        "  # feature engineering\n",
        "  ddf = df[['userId', 'movieId', 'rating']]\n",
        "  mean_user_rating = ddf.groupby(by='userId')[['rating']].mean()\n",
        "  mean_movie_rating = ddf.groupby(by='movieId')[['rating']].mean()\n",
        "  median_user_rating = ddf.groupby(by='userId')[['rating']].median()\n",
        "  median_movie_rating = ddf.groupby(by='movieId')[['rating']].median()\n",
        "  var_user_rating = ddf.groupby(by='userId')[['rating']].var()\n",
        "  var_movie_rating = ddf.groupby(by='movieId')[['rating']].var()\n",
        "  std_user_rating = ddf.groupby(by='userId')[['rating']].std()\n",
        "  std_movie_rating = ddf.groupby(by='movieId')[['rating']].std()\n",
        "  ddf = ddf.join(mean_user_rating.reset_index('userId'), on='userId',lsuffix='', rsuffix='_user_mean', how='left')\n",
        "  ddf = ddf.join(mean_movie_rating.reset_index('movieId'), on='movieId', lsuffix='', rsuffix='_movie_mean', how='left')\n",
        "  mean_rating_user = ddf['rating_user_mean'].mean()\n",
        "  mean_rating_movie = ddf['rating_movie_mean'].mean()\n",
        "  ddf['rating_user_mean'] = ddf['rating_user_mean'].fillna(mean_rating_user)\n",
        "  ddf['rating_movie_mean'] = ddf['rating_movie_mean'].fillna(mean_rating_movie)\n",
        "  ddf = ddf.join(median_user_rating.reset_index('userId'), on='userId',lsuffix='', rsuffix='_user_median', how='left')\n",
        "  ddf = ddf.join(median_movie_rating.reset_index('movieId'), on='movieId', lsuffix='', rsuffix='_movie_median', how='left')\n",
        "  median_rating_user = ddf['rating_user_median'].mean()\n",
        "  median_rating_movie = ddf['rating_movie_median'].mean()\n",
        "  ddf['rating_user_median'] = ddf['rating_user_median'].fillna(median_rating_user)\n",
        "  ddf['rating_movie_median'] = ddf['rating_movie_median'].fillna(median_rating_movie)\n",
        "  ddf = ddf.join(var_user_rating.reset_index('userId'), on='userId',lsuffix='', rsuffix='_user_var', how='left')\n",
        "  ddf = ddf.join(var_movie_rating.reset_index('movieId'), on='movieId', lsuffix='', rsuffix='_movie_var', how='left')\n",
        "  var_rating_user = ddf['rating_user_var'].mean()\n",
        "  var_rating_movie = ddf['rating_movie_var'].mean()\n",
        "  ddf['rating_user_var'] = ddf['rating_user_var'].fillna(var_rating_user)\n",
        "  ddf['rating_movie_var'] = ddf['rating_movie_var'].fillna(var_rating_movie)\n",
        "  ddf = ddf.join(std_user_rating.reset_index('userId'), on='userId',lsuffix='', rsuffix='_user_std', how='left')\n",
        "  ddf = ddf.join(std_movie_rating.reset_index('movieId'), on='movieId', lsuffix='', rsuffix='_movie_std', how='left')\n",
        "  std_rating_user = ddf['rating_user_std'].mean()\n",
        "  std_rating_movie = ddf['rating_movie_std'].mean()\n",
        "  ddf['rating_user_std'] = ddf['rating_user_std'].fillna(std_rating_user)\n",
        "  ddf['rating_movie_std'] = ddf['rating_movie_std'].fillna(std_rating_movie)\n",
        "  ddf.drop(columns=[ 'userId_user_mean','movieId_movie_mean', 'userId_user_median', 'movieId_movie_median',\t'userId_user_var', 'movieId_movie_var', 'userId_user_std', 'movieId_movie_std'], inplace=True)\n",
        "  X = ddf.copy(deep=True)\n",
        "  X.drop(columns=['userId', 'movieId', 'rating'], inplace=True)\n",
        "  # scaling\n",
        "  X['rating_user_mean'] = (X['rating_user_mean']-X['rating_user_mean'].mean())/(X['rating_user_mean'].max() - X['rating_user_mean'].min())\n",
        "  X['rating_movie_mean'] = (X['rating_movie_mean'] - X['rating_movie_mean'].mean())/(X['rating_movie_mean'].max() - X['rating_movie_mean'].min())\n",
        "  X['rating_user_median'] = (X['rating_user_median'] - X['rating_user_median'].mean())/(X['rating_user_median'].max() - X['rating_user_median'].min())\n",
        "  X['rating_movie_median'] = (X['rating_movie_median'] - X['rating_movie_median'].mean())/(X['rating_movie_median'].max() - X['rating_movie_median'].min())\n",
        "  X['rating_user_var'] = (X['rating_user_var'] - X['rating_user_var'].mean())/(X['rating_user_var'].max() - X['rating_user_var'].min())\n",
        "  X['rating_movie_var'] = (X['rating_movie_var'] - X['rating_movie_var'].mean())/(X['rating_movie_var'].max() - X['rating_movie_var'].min())\n",
        "  X1 = sparse.csr_matrix(X)\n",
        "  X = scipy.sparse.hstack([X_transform, X1])\n",
        "  return ddf, X, y, tfidf_transformer1, tfidf_transformer2"
      ],
      "metadata": {
        "id": "4fzSQ15Z03Dr"
      },
      "execution_count": 9,
      "outputs": []
    },
    {
      "cell_type": "code",
      "source": [
        "def train_model(X_train: scipy.sparse._csr.csr_matrix, y_train: np.ndarray) -> RegressorMixin:\n",
        "  # fit model\n",
        "  lr = LinearRegression()\n",
        "  lr.fit(X_train, y_train)\n",
        "  return lr"
      ],
      "metadata": {
        "id": "XGSgnVNG1CcZ"
      },
      "execution_count": 18,
      "outputs": []
    },
    {
      "cell_type": "code",
      "source": [
        "def predict_model(model: RegressorMixin,\n",
        "                  X_test: scipy.sparse._csr.csr_matrix ) -> np.ndarray:\n",
        "  # make predictions\n",
        "  y_pred = model.predict(X_test)\n",
        "  return y_pred"
      ],
      "metadata": {
        "id": "0YwWXV6p152c"
      },
      "execution_count": 10,
      "outputs": []
    },
    {
      "cell_type": "code",
      "source": [
        "def evaluate_model(y_test, y_pred) -> None:\n",
        "  # model evaluation with rmse\n",
        "  rmse = np.sqrt(mean_squared_error(y_test, y_pred))\n",
        "  print(\"RMSE: \", rmse)\n",
        "  return rmse"
      ],
      "metadata": {
        "id": "aKw18uwN1GH7"
      },
      "execution_count": 11,
      "outputs": []
    },
    {
      "cell_type": "markdown",
      "source": [
        "#2. Построить рекомендации (регрессия, предсказываем оценку) на фичах TF-IDF - на тегах и жанрах; на фичах - средние оценки (+ median, variance и т. д.) пользователя и фильма"
      ],
      "metadata": {
        "id": "wVVIghvEbgv1"
      }
    },
    {
      "cell_type": "code",
      "source": [
        "movies = pd.read_csv('/content/ml-latest-small/movies.csv')\n",
        "movies.info()"
      ],
      "metadata": {
        "colab": {
          "base_uri": "https://localhost:8080/"
        },
        "id": "tOXRbHshIZwM",
        "outputId": "493f024a-bf65-4da2-8045-2a53ae156c2c"
      },
      "execution_count": 12,
      "outputs": [
        {
          "output_type": "stream",
          "name": "stdout",
          "text": [
            "<class 'pandas.core.frame.DataFrame'>\n",
            "RangeIndex: 9742 entries, 0 to 9741\n",
            "Data columns (total 3 columns):\n",
            " #   Column   Non-Null Count  Dtype \n",
            "---  ------   --------------  ----- \n",
            " 0   movieId  9742 non-null   int64 \n",
            " 1   title    9742 non-null   object\n",
            " 2   genres   9742 non-null   object\n",
            "dtypes: int64(1), object(2)\n",
            "memory usage: 228.5+ KB\n"
          ]
        }
      ]
    },
    {
      "cell_type": "code",
      "source": [
        "tags = pd.read_csv('/content/ml-latest-small/tags.csv')\n",
        "tags.info()\n"
      ],
      "metadata": {
        "colab": {
          "base_uri": "https://localhost:8080/"
        },
        "id": "RgfcNKPuIT8B",
        "outputId": "e9fe3496-9514-4733-c70d-49caaa7411e3"
      },
      "execution_count": 13,
      "outputs": [
        {
          "output_type": "stream",
          "name": "stdout",
          "text": [
            "<class 'pandas.core.frame.DataFrame'>\n",
            "RangeIndex: 3683 entries, 0 to 3682\n",
            "Data columns (total 4 columns):\n",
            " #   Column     Non-Null Count  Dtype \n",
            "---  ------     --------------  ----- \n",
            " 0   userId     3683 non-null   int64 \n",
            " 1   movieId    3683 non-null   int64 \n",
            " 2   tag        3683 non-null   object\n",
            " 3   timestamp  3683 non-null   int64 \n",
            "dtypes: int64(3), object(1)\n",
            "memory usage: 115.2+ KB\n"
          ]
        }
      ]
    },
    {
      "cell_type": "code",
      "source": [
        "ratings = pd.read_csv('/content/ml-latest-small/ratings.csv')\n",
        "ratings.info()"
      ],
      "metadata": {
        "colab": {
          "base_uri": "https://localhost:8080/"
        },
        "id": "AcFH1D-gIgW4",
        "outputId": "40359f5a-4f3b-4e0b-c7e1-d75b7a23505f"
      },
      "execution_count": 14,
      "outputs": [
        {
          "output_type": "stream",
          "name": "stdout",
          "text": [
            "<class 'pandas.core.frame.DataFrame'>\n",
            "RangeIndex: 100836 entries, 0 to 100835\n",
            "Data columns (total 4 columns):\n",
            " #   Column     Non-Null Count   Dtype  \n",
            "---  ------     --------------   -----  \n",
            " 0   userId     100836 non-null  int64  \n",
            " 1   movieId    100836 non-null  int64  \n",
            " 2   rating     100836 non-null  float64\n",
            " 3   timestamp  100836 non-null  int64  \n",
            "dtypes: float64(1), int64(3)\n",
            "memory usage: 3.1 MB\n"
          ]
        }
      ]
    },
    {
      "cell_type": "code",
      "source": [
        "all_users = ratings['userId'].unique()\n",
        "all_users"
      ],
      "metadata": {
        "id": "eiOD9pjmEWyx"
      },
      "execution_count": null,
      "outputs": []
    },
    {
      "cell_type": "code",
      "source": [
        "def cbrs_all() -> tuple:\n",
        "  # CBRS для среднего пользователя\n",
        "  df = make_dataset()\n",
        "  df = clean(df)\n",
        "  df, X, y, _, _ = build_features(df,True)\n",
        "  X_train, X_test, y_train, y_test =\\\n",
        "    train_test_split(X, y, test_size=0.2, random_state=42)\n",
        "  model = train_model(X_train, y_train)\n",
        "  y_pred = predict_model(model, X_test)\n",
        "  whole_rmse = evaluate_model(y_test, y_pred)\n",
        "  return df, model, whole_rmse"
      ],
      "metadata": {
        "id": "O9SRfXsME1Id"
      },
      "execution_count": 19,
      "outputs": []
    },
    {
      "cell_type": "code",
      "source": [
        "df, whole_model, whole_rmse = cbrs_all()"
      ],
      "metadata": {
        "colab": {
          "base_uri": "https://localhost:8080/"
        },
        "id": "vJf31ROuRfuk",
        "outputId": "70366b5f-17c6-40f6-b123-efb25fc18cc6"
      },
      "execution_count": 20,
      "outputs": [
        {
          "output_type": "stream",
          "name": "stdout",
          "text": [
            "--2023-07-15 08:32:50--  https://files.grouplens.org/datasets/movielens/ml-latest-small.zip\n",
            "Resolving files.grouplens.org (files.grouplens.org)... 128.101.65.152\n",
            "Connecting to files.grouplens.org (files.grouplens.org)|128.101.65.152|:443... connected.\n",
            "HTTP request sent, awaiting response... 200 OK\n",
            "Length: 978202 (955K) [application/zip]\n",
            "Saving to: ‘ml-latest-small.zip.2’\n",
            "\n",
            "ml-latest-small.zip 100%[===================>] 955.28K  2.67MB/s    in 0.3s    \n",
            "\n",
            "2023-07-15 08:32:50 (2.67 MB/s) - ‘ml-latest-small.zip.2’ saved [978202/978202]\n",
            "\n",
            "RMSE:  1.0162363777340064\n"
          ]
        }
      ]
    },
    {
      "cell_type": "code",
      "source": [
        "def cbrs_private(userId: int) -> tuple:\n",
        "  # CBRS для конкретного пользователя\n",
        "  df = make_dataset()\n",
        "  df = clean(df)\n",
        "  dff, X, y, _, _ = b_f_by_user(df, userId, True)\n",
        "  X_train, X_test, y_train, y_test =\\\n",
        "    train_test_split(X, y, test_size=0.2, random_state=42)\n",
        "  model = train_model(X_train, y_train)\n",
        "  y_pred = predict_model(model, X_test)\n",
        "  private_rmse = evaluate_model(y_test, y_pred)\n",
        "  return dff, model, private_rmse"
      ],
      "metadata": {
        "id": "FUROgPBB1lwp"
      },
      "execution_count": 21,
      "outputs": []
    },
    {
      "cell_type": "code",
      "source": [
        "userId = 1\n",
        "dff, private_model, private_rmse = cbrs_private(userId)"
      ],
      "metadata": {
        "colab": {
          "base_uri": "https://localhost:8080/"
        },
        "id": "LBxvdRzNSGN4",
        "outputId": "0ba88067-5adc-4810-e07c-08679b6c1860"
      },
      "execution_count": 22,
      "outputs": [
        {
          "output_type": "stream",
          "name": "stdout",
          "text": [
            "--2023-07-15 08:33:00--  https://files.grouplens.org/datasets/movielens/ml-latest-small.zip\n",
            "Resolving files.grouplens.org (files.grouplens.org)... 128.101.65.152\n",
            "Connecting to files.grouplens.org (files.grouplens.org)|128.101.65.152|:443... connected.\n",
            "HTTP request sent, awaiting response... 200 OK\n",
            "Length: 978202 (955K) [application/zip]\n",
            "Saving to: ‘ml-latest-small.zip.3’\n",
            "\n",
            "ml-latest-small.zip 100%[===================>] 955.28K  2.69MB/s    in 0.3s    \n",
            "\n",
            "2023-07-15 08:33:01 (2.69 MB/s) - ‘ml-latest-small.zip.3’ saved [978202/978202]\n",
            "\n",
            "RMSE:  0.7302236978647451\n"
          ]
        }
      ]
    },
    {
      "cell_type": "code",
      "source": [
        "print(whole_rmse, private_rmse)"
      ],
      "metadata": {
        "colab": {
          "base_uri": "https://localhost:8080/"
        },
        "id": "YYcgtVvoRBC5",
        "outputId": "56d7c047-4369-4c6a-e876-db13059ccd2c"
      },
      "execution_count": 23,
      "outputs": [
        {
          "output_type": "stream",
          "name": "stdout",
          "text": [
            "1.0162363777340064 0.7302236978647451\n"
          ]
        }
      ]
    },
    {
      "cell_type": "markdown",
      "source": [
        "Если пользователь новый - используем модель для среднего пользователя.\n",
        "Если пользователь старый:\n",
        "Если RMSE для конкретного пользователя < RMSE для среднего пользователя - используем модель для конкретного пользователя, иначе используем модель для среднего пользователя"
      ],
      "metadata": {
        "id": "IFm_TRwzLR9u"
      }
    },
    {
      "cell_type": "markdown",
      "source": [
        "#3 Коллаборативная фильтрация item-to-item"
      ],
      "metadata": {
        "id": "elkg8mpO2Hpv"
      }
    },
    {
      "cell_type": "code",
      "source": [
        "# Строим словарь, ключи - названия фильмов, значения - векторы (рейтинги всех пользователей по фильму)\n",
        "movies_with_ratings = movies.merge(ratings, on='movieId').reset_index(drop=True)\n",
        "movies_with_ratings.dropna(inplace=True)\n",
        "num_users = movies_with_ratings.userId.unique().shape[0]\n",
        "movie_vector = {} # Строим вектор для фильма длиной 610 по к-ву пользователей\n",
        "\n",
        "for movie, group in tqdm(movies_with_ratings.groupby('title')):\n",
        "    movie_vector[movie] = np.zeros(num_users) # заполняем нулями\n",
        "\n",
        "    for i in range(len(group.userId.values)):  # по каждому из пользователей ставивших рейтинг фильму\n",
        "        u = group.userId.values[i] # Это идентификатор пользователя\n",
        "        r = group.rating.values[i] # это рейтинг, который он поставил\n",
        "        movie_vector[movie][int(u - 1)] = r # u-1, т.к это нумерация столбцов вектора, которая начинаетися с нуля, а пользоватили нумеруются с 1"
      ],
      "metadata": {
        "colab": {
          "base_uri": "https://localhost:8080/"
        },
        "id": "AA-w4W8z2MLl",
        "outputId": "6b2055db-91ed-4eb2-e646-f34fd3f82676"
      },
      "execution_count": 24,
      "outputs": [
        {
          "output_type": "stream",
          "name": "stderr",
          "text": [
            "100%|██████████| 9719/9719 [00:02<00:00, 3907.49it/s]\n"
          ]
        }
      ]
    },
    {
      "cell_type": "markdown",
      "source": [
        "* отобрать n последних фильмов из числа тех, которым пользователь поставил высокие оценки.\n",
        "* Получить их вектора.\n",
        "* С помощью KNN отобрать из непросмотренных фильмов m ближайших соседей."
      ],
      "metadata": {
        "id": "7HgbP-ww2T9x"
      }
    },
    {
      "cell_type": "code",
      "source": [
        "df.head()"
      ],
      "metadata": {
        "colab": {
          "base_uri": "https://localhost:8080/",
          "height": 270
        },
        "id": "AIKY1RqWXXEE",
        "outputId": "459ffea1-2a48-4f01-8b06-296a34e9711d"
      },
      "execution_count": 25,
      "outputs": [
        {
          "output_type": "execute_result",
          "data": {
            "text/plain": [
              "   userId  movieId  rating  rating_user_mean  rating_movie_mean  \\\n",
              "0       1        1     4.0          4.128571           3.441964   \n",
              "1       1        3     4.0          4.128571           2.357143   \n",
              "2       1        6     4.0          4.128571           3.185185   \n",
              "3       1       47     5.0          4.128571           3.482759   \n",
              "4       1       50     5.0          4.128571           4.000000   \n",
              "\n",
              "   rating_user_median  rating_movie_median  rating_user_var  rating_movie_var  \\\n",
              "0                 4.0                  3.5         0.696218          0.769124   \n",
              "1                 4.0                  3.0         0.696218          0.726190   \n",
              "2                 4.0                  3.0         0.696218          0.955625   \n",
              "3                 4.0                  3.5         0.696218          0.740764   \n",
              "4                 4.0                  4.0         0.696218          0.889498   \n",
              "\n",
              "   rating_user_std  rating_movie_std  \n",
              "0         0.834397          0.876997  \n",
              "1         0.834397          0.852168  \n",
              "2         0.834397          0.977561  \n",
              "3         0.834397          0.860676  \n",
              "4         0.834397          0.863867  "
            ],
            "text/html": [
              "\n",
              "\n",
              "  <div id=\"df-2c83e4b0-c0ce-4360-9b9b-03019e5ba3c1\">\n",
              "    <div class=\"colab-df-container\">\n",
              "      <div>\n",
              "<style scoped>\n",
              "    .dataframe tbody tr th:only-of-type {\n",
              "        vertical-align: middle;\n",
              "    }\n",
              "\n",
              "    .dataframe tbody tr th {\n",
              "        vertical-align: top;\n",
              "    }\n",
              "\n",
              "    .dataframe thead th {\n",
              "        text-align: right;\n",
              "    }\n",
              "</style>\n",
              "<table border=\"1\" class=\"dataframe\">\n",
              "  <thead>\n",
              "    <tr style=\"text-align: right;\">\n",
              "      <th></th>\n",
              "      <th>userId</th>\n",
              "      <th>movieId</th>\n",
              "      <th>rating</th>\n",
              "      <th>rating_user_mean</th>\n",
              "      <th>rating_movie_mean</th>\n",
              "      <th>rating_user_median</th>\n",
              "      <th>rating_movie_median</th>\n",
              "      <th>rating_user_var</th>\n",
              "      <th>rating_movie_var</th>\n",
              "      <th>rating_user_std</th>\n",
              "      <th>rating_movie_std</th>\n",
              "    </tr>\n",
              "  </thead>\n",
              "  <tbody>\n",
              "    <tr>\n",
              "      <th>0</th>\n",
              "      <td>1</td>\n",
              "      <td>1</td>\n",
              "      <td>4.0</td>\n",
              "      <td>4.128571</td>\n",
              "      <td>3.441964</td>\n",
              "      <td>4.0</td>\n",
              "      <td>3.5</td>\n",
              "      <td>0.696218</td>\n",
              "      <td>0.769124</td>\n",
              "      <td>0.834397</td>\n",
              "      <td>0.876997</td>\n",
              "    </tr>\n",
              "    <tr>\n",
              "      <th>1</th>\n",
              "      <td>1</td>\n",
              "      <td>3</td>\n",
              "      <td>4.0</td>\n",
              "      <td>4.128571</td>\n",
              "      <td>2.357143</td>\n",
              "      <td>4.0</td>\n",
              "      <td>3.0</td>\n",
              "      <td>0.696218</td>\n",
              "      <td>0.726190</td>\n",
              "      <td>0.834397</td>\n",
              "      <td>0.852168</td>\n",
              "    </tr>\n",
              "    <tr>\n",
              "      <th>2</th>\n",
              "      <td>1</td>\n",
              "      <td>6</td>\n",
              "      <td>4.0</td>\n",
              "      <td>4.128571</td>\n",
              "      <td>3.185185</td>\n",
              "      <td>4.0</td>\n",
              "      <td>3.0</td>\n",
              "      <td>0.696218</td>\n",
              "      <td>0.955625</td>\n",
              "      <td>0.834397</td>\n",
              "      <td>0.977561</td>\n",
              "    </tr>\n",
              "    <tr>\n",
              "      <th>3</th>\n",
              "      <td>1</td>\n",
              "      <td>47</td>\n",
              "      <td>5.0</td>\n",
              "      <td>4.128571</td>\n",
              "      <td>3.482759</td>\n",
              "      <td>4.0</td>\n",
              "      <td>3.5</td>\n",
              "      <td>0.696218</td>\n",
              "      <td>0.740764</td>\n",
              "      <td>0.834397</td>\n",
              "      <td>0.860676</td>\n",
              "    </tr>\n",
              "    <tr>\n",
              "      <th>4</th>\n",
              "      <td>1</td>\n",
              "      <td>50</td>\n",
              "      <td>5.0</td>\n",
              "      <td>4.128571</td>\n",
              "      <td>4.000000</td>\n",
              "      <td>4.0</td>\n",
              "      <td>4.0</td>\n",
              "      <td>0.696218</td>\n",
              "      <td>0.889498</td>\n",
              "      <td>0.834397</td>\n",
              "      <td>0.863867</td>\n",
              "    </tr>\n",
              "  </tbody>\n",
              "</table>\n",
              "</div>\n",
              "      <button class=\"colab-df-convert\" onclick=\"convertToInteractive('df-2c83e4b0-c0ce-4360-9b9b-03019e5ba3c1')\"\n",
              "              title=\"Convert this dataframe to an interactive table.\"\n",
              "              style=\"display:none;\">\n",
              "\n",
              "  <svg xmlns=\"http://www.w3.org/2000/svg\" height=\"24px\"viewBox=\"0 0 24 24\"\n",
              "       width=\"24px\">\n",
              "    <path d=\"M0 0h24v24H0V0z\" fill=\"none\"/>\n",
              "    <path d=\"M18.56 5.44l.94 2.06.94-2.06 2.06-.94-2.06-.94-.94-2.06-.94 2.06-2.06.94zm-11 1L8.5 8.5l.94-2.06 2.06-.94-2.06-.94L8.5 2.5l-.94 2.06-2.06.94zm10 10l.94 2.06.94-2.06 2.06-.94-2.06-.94-.94-2.06-.94 2.06-2.06.94z\"/><path d=\"M17.41 7.96l-1.37-1.37c-.4-.4-.92-.59-1.43-.59-.52 0-1.04.2-1.43.59L10.3 9.45l-7.72 7.72c-.78.78-.78 2.05 0 2.83L4 21.41c.39.39.9.59 1.41.59.51 0 1.02-.2 1.41-.59l7.78-7.78 2.81-2.81c.8-.78.8-2.07 0-2.86zM5.41 20L4 18.59l7.72-7.72 1.47 1.35L5.41 20z\"/>\n",
              "  </svg>\n",
              "      </button>\n",
              "\n",
              "\n",
              "\n",
              "    <div id=\"df-fb5db0a2-71c1-4ad9-bf0e-fc8f760a3760\">\n",
              "      <button class=\"colab-df-quickchart\" onclick=\"quickchart('df-fb5db0a2-71c1-4ad9-bf0e-fc8f760a3760')\"\n",
              "              title=\"Suggest charts.\"\n",
              "              style=\"display:none;\">\n",
              "\n",
              "<svg xmlns=\"http://www.w3.org/2000/svg\" height=\"24px\"viewBox=\"0 0 24 24\"\n",
              "     width=\"24px\">\n",
              "    <g>\n",
              "        <path d=\"M19 3H5c-1.1 0-2 .9-2 2v14c0 1.1.9 2 2 2h14c1.1 0 2-.9 2-2V5c0-1.1-.9-2-2-2zM9 17H7v-7h2v7zm4 0h-2V7h2v10zm4 0h-2v-4h2v4z\"/>\n",
              "    </g>\n",
              "</svg>\n",
              "      </button>\n",
              "    </div>\n",
              "\n",
              "<style>\n",
              "  .colab-df-quickchart {\n",
              "    background-color: #E8F0FE;\n",
              "    border: none;\n",
              "    border-radius: 50%;\n",
              "    cursor: pointer;\n",
              "    display: none;\n",
              "    fill: #1967D2;\n",
              "    height: 32px;\n",
              "    padding: 0 0 0 0;\n",
              "    width: 32px;\n",
              "  }\n",
              "\n",
              "  .colab-df-quickchart:hover {\n",
              "    background-color: #E2EBFA;\n",
              "    box-shadow: 0px 1px 2px rgba(60, 64, 67, 0.3), 0px 1px 3px 1px rgba(60, 64, 67, 0.15);\n",
              "    fill: #174EA6;\n",
              "  }\n",
              "\n",
              "  [theme=dark] .colab-df-quickchart {\n",
              "    background-color: #3B4455;\n",
              "    fill: #D2E3FC;\n",
              "  }\n",
              "\n",
              "  [theme=dark] .colab-df-quickchart:hover {\n",
              "    background-color: #434B5C;\n",
              "    box-shadow: 0px 1px 3px 1px rgba(0, 0, 0, 0.15);\n",
              "    filter: drop-shadow(0px 1px 2px rgba(0, 0, 0, 0.3));\n",
              "    fill: #FFFFFF;\n",
              "  }\n",
              "</style>\n",
              "\n",
              "    <script>\n",
              "      async function quickchart(key) {\n",
              "        const containerElement = document.querySelector('#' + key);\n",
              "        const charts = await google.colab.kernel.invokeFunction(\n",
              "            'suggestCharts', [key], {});\n",
              "      }\n",
              "    </script>\n",
              "\n",
              "      <script>\n",
              "\n",
              "function displayQuickchartButton(domScope) {\n",
              "  let quickchartButtonEl =\n",
              "    domScope.querySelector('#df-fb5db0a2-71c1-4ad9-bf0e-fc8f760a3760 button.colab-df-quickchart');\n",
              "  quickchartButtonEl.style.display =\n",
              "    google.colab.kernel.accessAllowed ? 'block' : 'none';\n",
              "}\n",
              "\n",
              "        displayQuickchartButton(document);\n",
              "      </script>\n",
              "      <style>\n",
              "    .colab-df-container {\n",
              "      display:flex;\n",
              "      flex-wrap:wrap;\n",
              "      gap: 12px;\n",
              "    }\n",
              "\n",
              "    .colab-df-convert {\n",
              "      background-color: #E8F0FE;\n",
              "      border: none;\n",
              "      border-radius: 50%;\n",
              "      cursor: pointer;\n",
              "      display: none;\n",
              "      fill: #1967D2;\n",
              "      height: 32px;\n",
              "      padding: 0 0 0 0;\n",
              "      width: 32px;\n",
              "    }\n",
              "\n",
              "    .colab-df-convert:hover {\n",
              "      background-color: #E2EBFA;\n",
              "      box-shadow: 0px 1px 2px rgba(60, 64, 67, 0.3), 0px 1px 3px 1px rgba(60, 64, 67, 0.15);\n",
              "      fill: #174EA6;\n",
              "    }\n",
              "\n",
              "    [theme=dark] .colab-df-convert {\n",
              "      background-color: #3B4455;\n",
              "      fill: #D2E3FC;\n",
              "    }\n",
              "\n",
              "    [theme=dark] .colab-df-convert:hover {\n",
              "      background-color: #434B5C;\n",
              "      box-shadow: 0px 1px 3px 1px rgba(0, 0, 0, 0.15);\n",
              "      filter: drop-shadow(0px 1px 2px rgba(0, 0, 0, 0.3));\n",
              "      fill: #FFFFFF;\n",
              "    }\n",
              "  </style>\n",
              "\n",
              "      <script>\n",
              "        const buttonEl =\n",
              "          document.querySelector('#df-2c83e4b0-c0ce-4360-9b9b-03019e5ba3c1 button.colab-df-convert');\n",
              "        buttonEl.style.display =\n",
              "          google.colab.kernel.accessAllowed ? 'block' : 'none';\n",
              "\n",
              "        async function convertToInteractive(key) {\n",
              "          const element = document.querySelector('#df-2c83e4b0-c0ce-4360-9b9b-03019e5ba3c1');\n",
              "          const dataTable =\n",
              "            await google.colab.kernel.invokeFunction('convertToInteractive',\n",
              "                                                     [key], {});\n",
              "          if (!dataTable) return;\n",
              "\n",
              "          const docLinkHtml = 'Like what you see? Visit the ' +\n",
              "            '<a target=\"_blank\" href=https://colab.research.google.com/notebooks/data_table.ipynb>data table notebook</a>'\n",
              "            + ' to learn more about interactive tables.';\n",
              "          element.innerHTML = '';\n",
              "          dataTable['output_type'] = 'display_data';\n",
              "          await google.colab.output.renderOutput(dataTable, element);\n",
              "          const docLink = document.createElement('div');\n",
              "          docLink.innerHTML = docLinkHtml;\n",
              "          element.appendChild(docLink);\n",
              "        }\n",
              "      </script>\n",
              "    </div>\n",
              "  </div>\n"
            ]
          },
          "metadata": {},
          "execution_count": 25
        }
      ]
    },
    {
      "cell_type": "code",
      "source": [
        "df=make_dataset()\n",
        "df=clean(df)\n",
        "df['genres'] = df['genres'].apply(lambda x: change_string(x))\n",
        "df['tag'] = df['tag'].apply(lambda x: change_string(x))\n"
      ],
      "metadata": {
        "colab": {
          "base_uri": "https://localhost:8080/"
        },
        "id": "eu1hQKPqA7Jm",
        "outputId": "4d07cb37-bc6b-4c71-84ef-a04962179809"
      },
      "execution_count": 26,
      "outputs": [
        {
          "output_type": "stream",
          "name": "stdout",
          "text": [
            "--2023-07-15 08:33:28--  https://files.grouplens.org/datasets/movielens/ml-latest-small.zip\n",
            "Resolving files.grouplens.org (files.grouplens.org)... 128.101.65.152\n",
            "Connecting to files.grouplens.org (files.grouplens.org)|128.101.65.152|:443... connected.\n",
            "HTTP request sent, awaiting response... 200 OK\n",
            "Length: 978202 (955K) [application/zip]\n",
            "Saving to: ‘ml-latest-small.zip.4’\n",
            "\n",
            "ml-latest-small.zip 100%[===================>] 955.28K  2.69MB/s    in 0.3s    \n",
            "\n",
            "2023-07-15 08:33:29 (2.69 MB/s) - ‘ml-latest-small.zip.4’ saved [978202/978202]\n",
            "\n"
          ]
        }
      ]
    },
    {
      "cell_type": "code",
      "source": [
        "# К-во последних фильмов\n",
        "n = 10\n",
        "# выбираем n последних фильмов пользователя с рейтингом 5 и сохраняем их идентификаторы\n",
        "last_movies = df[(df['userId']==userId) & (df['rating']==5) ].sort_values(by='timestamp', ascending=False)[:10]\n",
        "last_ids = last_movies['movieId'].to_list()\n",
        "last_titles = last_movies['title'].to_list()\n",
        "# находим непросмотренные фильмы для выбранного пользователя\n",
        "\n",
        "df1 = df[(df['userId']!=userId)]\n",
        "df1.shape"
      ],
      "metadata": {
        "colab": {
          "base_uri": "https://localhost:8080/"
        },
        "id": "DTB3QCrItnqt",
        "outputId": "f638dd07-fde3-48f6-d159-24a4e21d4d83"
      },
      "execution_count": 27,
      "outputs": [
        {
          "output_type": "execute_result",
          "data": {
            "text/plain": [
              "(102445, 7)"
            ]
          },
          "metadata": {},
          "execution_count": 27
        }
      ]
    },
    {
      "cell_type": "code",
      "source": [
        "last_titles  # Названия 10 последних фильмов, которые понравились пользователю"
      ],
      "metadata": {
        "colab": {
          "base_uri": "https://localhost:8080/"
        },
        "id": "cHxcRKMp4s5A",
        "outputId": "882cf1e0-ac98-488a-f2f2-aac84be4f79c"
      },
      "execution_count": 28,
      "outputs": [
        {
          "output_type": "execute_result",
          "data": {
            "text/plain": [
              "['Tombstone (1993)',\n",
              " 'Canadian Bacon (1995)',\n",
              " 'Messenger: The Story of Joan of Arc, The (1999)',\n",
              " 'Pink Floyd: The Wall (1982)',\n",
              " 'Good Morning, Vietnam (1987)',\n",
              " 'Rob Roy (1995)',\n",
              " 'Henry V (1989)',\n",
              " 'M*A*S*H (a.k.a. MASH) (1970)',\n",
              " \"Schindler's List (1993)\",\n",
              " 'Green Mile, The (1999)']"
            ]
          },
          "metadata": {},
          "execution_count": 28
        }
      ]
    },
    {
      "cell_type": "code",
      "source": [
        "# Получим векторы для любимых фильмов пользователя\n",
        "last_movie_vectors = []\n",
        "for title in last_titles:\n",
        "  last_movie_vectors.append(movie_vector[title])"
      ],
      "metadata": {
        "id": "ZOYQwU0L6eqF"
      },
      "execution_count": 30,
      "outputs": []
    },
    {
      "cell_type": "code",
      "source": [
        "# Для каждого из любимых фильмов найдем 50 ближайших соседей\n",
        "from scipy.spatial.distance import cosine\n",
        "all_titles = []\n",
        "for title in last_titles:\n",
        "  distances = []\n",
        "  titles = []\n",
        "\n",
        "  for key in tqdm(movie_vector.keys()):\n",
        "      if key == title:\n",
        "          continue\n",
        "\n",
        "      titles.append(key)\n",
        "      distances.append(cosine(movie_vector[title], movie_vector[key]))\n",
        "  best_indexes = np.argsort(distances)[:50] # А это идентификаторы соответствующих фильмов\n",
        "  best_movies = [(titles[i], distances[i]) for i in best_indexes]\n",
        "  for m in best_movies:\n",
        "      all_titles.append(m)\n",
        "print(len(list(set(all_titles))))\n",
        "for m in set(all_titles):\n",
        "    print(m)"
      ],
      "metadata": {
        "colab": {
          "base_uri": "https://localhost:8080/"
        },
        "id": "jhjzC42G27D_",
        "outputId": "36b7af3f-6d23-4607-c5e9-603dafbe0d1b"
      },
      "execution_count": 31,
      "outputs": [
        {
          "output_type": "stream",
          "name": "stderr",
          "text": [
            "100%|██████████| 9719/9719 [00:00<00:00, 23647.41it/s]\n",
            "100%|██████████| 9719/9719 [00:00<00:00, 14239.06it/s]\n",
            "100%|██████████| 9719/9719 [00:00<00:00, 25232.02it/s]\n",
            "100%|██████████| 9719/9719 [00:00<00:00, 14582.22it/s]\n",
            "100%|██████████| 9719/9719 [00:00<00:00, 15981.67it/s]\n",
            "100%|██████████| 9719/9719 [00:00<00:00, 20816.56it/s]\n",
            "100%|██████████| 9719/9719 [00:00<00:00, 25372.24it/s]\n",
            "100%|██████████| 9719/9719 [00:00<00:00, 22406.31it/s]\n",
            "100%|██████████| 9719/9719 [00:00<00:00, 25055.76it/s]\n",
            "100%|██████████| 9719/9719 [00:00<00:00, 25300.83it/s]\n"
          ]
        },
        {
          "output_type": "stream",
          "name": "stdout",
          "text": [
            "500\n",
            "('Love and Death (1975)', 0.6161047391405763)\n",
            "('Godfather, The (1972)', 0.4883623365958737)\n",
            "('Action Jackson (1988)', 0.5384963686614612)\n",
            "('Spaceballs (1987)', 0.6185390149482496)\n",
            "('Johnny Dangerously (1984)', 0.6601265845531314)\n",
            "('Dangerous Liaisons (1988)', 0.5999534540648228)\n",
            "('Client, The (1994)', 0.6094699342464945)\n",
            "('Sex and Lucia (Lucía y el sexo) (2001)', 0.5150436126781104)\n",
            "('Moscow on the Hudson (1984)', 0.6171275766686588)\n",
            "('I Am a Fugitive from a Chain Gang (1932)', 0.5895783440883031)\n",
            "('Batman (1989)', 0.5363823716555465)\n",
            "('Angel Eyes (2001)', 0.5903860730836266)\n",
            "('Good Will Hunting (1997)', 0.5416942635349471)\n",
            "('Kill Bill: Vol. 2 (2004)', 0.5685187839835413)\n",
            "('Platoon (1986)', 0.6279799565388255)\n",
            "('Clear and Present Danger (1994)', 0.5781548831933938)\n",
            "('Fugitive, The (1993)', 0.5624122691887394)\n",
            "('Legends of the Fall (1994)', 0.6100773774415201)\n",
            "('Saving Private Ryan (1998)', 0.44746659158782554)\n",
            "('Grumpy Old Men (1993)', 0.5320629202013392)\n",
            "('Hoodlum (1997)', 0.49631017742546546)\n",
            "('Don Juan DeMarco (1995)', 0.6141806166017669)\n",
            "('Casablanca (1942)', 0.5916110561111191)\n",
            "('Star Wars: Episode VI - Return of the Jedi (1983)', 0.57097314046859)\n",
            "('Running Man, The (1987)', 0.6842559320229692)\n",
            "('Raising Arizona (1987)', 0.5977671392202666)\n",
            "('Sex, Lies, and Videotape (1989)', 0.6284655408199873)\n",
            "(\"City Slickers II: The Legend of Curly's Gold (1994)\", 0.5570773861591917)\n",
            "('Sting, The (1973)', 0.6084928955704945)\n",
            "('I Know What You Did Last Summer (1997)', 0.674536644709183)\n",
            "('South Pacific (1958)', 0.6156928750761973)\n",
            "('Dumb & Dumber (Dumb and Dumber) (1994)', 0.6392043845807789)\n",
            "('Godfather, The (1972)', 0.5561806626406367)\n",
            "('Max (2002)', 0.5789367183568404)\n",
            "('Grumpier Old Men (1995)', 0.6078748346122416)\n",
            "('Planet of the Apes (1968)', 0.5709485525003353)\n",
            "('Crocodile Dundee (1986)', 0.5570449978498333)\n",
            "('Memento (2000)', 0.5818471703998681)\n",
            "('Ghost (1990)', 0.661308301551383)\n",
            "(\"She's the One (1996)\", 0.6041910834922404)\n",
            "('Casablanca (1942)', 0.5994171639187591)\n",
            "('Forrest Gump (1994)', 0.5044796596907319)\n",
            "('Kuffs (1992)', 0.622077182853908)\n",
            "('Seven (a.k.a. Se7en) (1995)', 0.5094719554439882)\n",
            "('Dark Blue World (Tmavomodrý svet) (2001)', 0.5442189235117217)\n",
            "('Deliverance (1972)', 0.6111984078639805)\n",
            "('Butch Cassidy and the Sundance Kid (1969)', 0.44897762740759894)\n",
            "('Mrs. Doubtfire (1993)', 0.5800047919719957)\n",
            "('Lord of the Rings: The Fellowship of the Ring, The (2001)', 0.5194139887537863)\n",
            "('Player, The (1992)', 0.5660547560867484)\n",
            "('Memento (2000)', 0.543346132354321)\n",
            "('Quiz Show (1994)', 0.651901834028491)\n",
            "('Dead Poets Society (1989)', 0.536319281297777)\n",
            "('Usual Suspects, The (1995)', 0.44800138473963946)\n",
            "('Mission: Impossible (1996)', 0.5894874119284046)\n",
            "('Winnie the Pooh and the Blustery Day (1968)', 0.6678898594192242)\n",
            "('Dances with Wolves (1990)', 0.5342395725058238)\n",
            "('Shaft (1971)', 0.48253013505645137)\n",
            "('Even Cowgirls Get the Blues (1993)', 0.5384963686614612)\n",
            "('Shawshank Redemption, The (1994)', 0.5028520378006667)\n",
            "('Blazing Saddles (1974)', 0.5839004976753726)\n",
            "('White Sands (1992)', 0.6604113267492004)\n",
            "('Dave (1993)', 0.609940865621911)\n",
            "('Dances with Wolves (1990)', 0.5271109509494667)\n",
            "(\"Lover, The (Amant, L') (1992)\", 0.5463057925264211)\n",
            "('Rare Birds (2001)', 0.5457933015373213)\n",
            "(\"Dead Men Don't Wear Plaid (1982)\", 0.5263329036736006)\n",
            "(\"Angela's Ashes (1999)\", 0.5251166811238636)\n",
            "('Born on the Fourth of July (1989)', 0.6307069557730424)\n",
            "('Green Mile, The (1999)', 0.5263978290751423)\n",
            "('Newton Boys, The (1998)', 0.6369814853151029)\n",
            "('Three Caballeros, The (1945)', 0.6136804242145651)\n",
            "('Messenger: The Story of Joan of Arc, The (1999)', 0.6589694132003686)\n",
            "('Last Days (2005)', 0.5577342179131535)\n",
            "('Woman on Top (2000)', 0.39395421222827653)\n",
            "('Splash (1984)', 0.6128168783641068)\n",
            "('Auto Focus (2002)', 0.6743108760749217)\n",
            "('Jaws (1975)', 0.5545171128222652)\n",
            "('I, Tonya (2017)', 0.6744557469811663)\n",
            "('Groundhog Day (1993)', 0.5524154553204375)\n",
            "('Four Weddings and a Funeral (1994)', 0.6893918422091923)\n",
            "('Jurassic Park (1993)', 0.5163288796647749)\n",
            "('Fat Girl (À ma soeur!) (2001)', 0.44818472373345264)\n",
            "('Karate Kid, The (1984)', 0.6085471964480331)\n",
            "('Sliver (1993)', 0.6041127554330237)\n",
            "('Jurassic Park (1993)', 0.6343804769540329)\n",
            "('Killing Zoe (1994)', 0.6191677894556897)\n",
            "('My First Mister (2001)', 0.5899791607642425)\n",
            "('Tape (2001)', 0.6737568003536953)\n",
            "('Back to the Future (1985)', 0.543387125872532)\n",
            "('Money Pit, The (1986)', 0.6823651770749537)\n",
            "('Shape of Things, The (2003)', 0.5695834881437629)\n",
            "('Safety of Objects, The (2001)', 0.6050098836969748)\n",
            "('Big Lebowski, The (1998)', 0.6783088394324122)\n",
            "('Courage Under Fire (1996)', 0.6627636605483767)\n",
            "('Indiana Jones and the Temple of Doom (1984)', 0.5328442858805394)\n",
            "('Heavy Metal 2000 (2000)', 0.5921227795499584)\n",
            "('Chasers (1994)', 0.5577342179131535)\n",
            "('Cell, The (2000)', 0.6533421159575944)\n",
            "('Comic Book Villains (2002)', 0.6216790998724251)\n",
            "('Madness of King George, The (1994)', 0.6865705952853703)\n",
            "('American History X (1998)', 0.5608309027193049)\n",
            "('Broken Arrow (1996)', 0.6299457755990783)\n",
            "('Big Chill, The (1983)', 0.6253717615368224)\n",
            "('Crimson Tide (1995)', 0.6307040169802258)\n",
            "('Midnight Express (1978)', 0.6339855661508385)\n",
            "('Auto Focus (2002)', 0.6214944179477677)\n",
            "('Platoon (1986)', 0.5822584088028566)\n",
            "('Toy Story (1995)', 0.5807988109801495)\n",
            "(\"The Devil's Advocate (1997)\", 0.624292790838374)\n",
            "('Adventures of Ford Fairlane, The (1990)', 0.5798475070174959)\n",
            "('Pollock (2000)', 0.6896381907830609)\n",
            "('Punisher, The (1989)', 0.4950940164247145)\n",
            "('Girlfight (2000)', 0.5209392005636904)\n",
            "('Excalibur (1981)', 0.620541115465852)\n",
            "('Speed (1994)', 0.6839873109802252)\n",
            "(\"Schindler's List (1993)\", 0.5263978290751423)\n",
            "('Lion King, The (1994)', 0.6158294424412727)\n",
            "('Speed (1994)', 0.6385898339132023)\n",
            "('Best Men (1997)', 0.6214944179477677)\n",
            "(\"Dead Men Don't Wear Plaid (1982)\", 0.6301330491620436)\n",
            "('Lost and Delirious (2001)', 0.5811204891955296)\n",
            "('Atlantic City (1980)', 0.5539920808871616)\n",
            "('Goodfellas (1990)', 0.5810359458601785)\n",
            "('No Mercy (1986)', 0.5804298392349605)\n",
            "('Scent of a Woman (1992)', 0.6295591817278244)\n",
            "('Wag the Dog (1997)', 0.590806142192101)\n",
            "('Close Encounters of the Third Kind (1977)', 0.6133849140014016)\n",
            "('Face/Off (1997)', 0.5657150850598527)\n",
            "('Men in Black (a.k.a. MIB) (1997)', 0.5321380947100023)\n",
            "('Waterworld (1995)', 0.6227022229372752)\n",
            "('Romancing the Stone (1984)', 0.6101309085412112)\n",
            "('Who Is Cletis Tout? (2001)', 0.5450054315636392)\n",
            "('Fight Club (1999)', 0.48121288534405626)\n",
            "('Aladdin (1992)', 0.5901434831738761)\n",
            "('Man Without a Face, The (1993)', 0.6460603848219745)\n",
            "('Wyatt Earp (1994)', 0.506127507448066)\n",
            "('Field of Dreams (1989)', 0.6120188272813682)\n",
            "('Mad Dog and Glory (1993)', 0.5942200960663213)\n",
            "('Subway (1985)', 0.5985342043208581)\n",
            "('Ghost (1990)', 0.6306063070846157)\n",
            "('Ace Ventura: Pet Detective (1994)', 0.6196310548179293)\n",
            "('Rudy (1993)', 0.6281544947991863)\n",
            "('Shape of Things, The (2003)', 0.5330225022408932)\n",
            "('Regarding Henry (1991)', 0.5784328257585105)\n",
            "('Get Shorty (1995)', 0.635975906543643)\n",
            "('Three Caballeros, The (1945)', 0.62996988721381)\n",
            "('Leonard Part 6 (1987)', 0.5798475070174959)\n",
            "('Valmont (1989)', 0.5919241817267318)\n",
            "('Big (1988)', 0.5837679293529201)\n",
            "('Silence of the Lambs, The (1991)', 0.5435742297477326)\n",
            "('Fugitive, The (1993)', 0.6223720906735106)\n",
            "('Erik the Viking (1989)', 0.6412978137747363)\n",
            "('Someone Like You (2001)', 0.5668089965048873)\n",
            "('Valley Girl (1983)', 0.6848308346714241)\n",
            "('Pretty Woman (1990)', 0.5815734944298283)\n",
            "('First Knight (1995)', 0.6827659823549936)\n",
            "('Adventures of Buckaroo Banzai Across the 8th Dimension, The (1984)', 0.615111486268663)\n",
            "('Sorority Boys (2002)', 0.5789296748023389)\n",
            "('Client, The (1994)', 0.5654581786401434)\n",
            "('Lethal Weapon (1987)', 0.5767107902714306)\n",
            "('Regarding Henry (1991)', 0.5933772485030144)\n",
            "('Green Mile, The (1999)', 0.6340500918766702)\n",
            "('Gangster No. 1 (2000)', 0.5978221118853677)\n",
            "('Dancer Upstairs, The (2002)', 0.592055573981114)\n",
            "('Principal, The (1987)', 0.6228577923268168)\n",
            "('Braveheart (1995)', 0.4828696503912723)\n",
            "('Bananas (1971)', 0.5468934739835664)\n",
            "('187 (One Eight Seven) (1997)', 0.5012751056779985)\n",
            "('Man Who Knew Too Little, The (1997)', 0.5596440675959385)\n",
            "('Hoodlum (1997)', 0.6316202386829228)\n",
            "('E.T. the Extra-Terrestrial (1982)', 0.5832819365185005)\n",
            "('Cradle Will Rock (1999)', 0.5488889022714166)\n",
            "('Hunt for Red October, The (1990)', 0.6144238466817686)\n",
            "('Nell (1994)', 0.6753781428056596)\n",
            "('Escape to Witch Mountain (1975)', 0.6727108365276135)\n",
            "('Jerry Maguire (1996)', 0.6334925357424146)\n",
            "('Platoon (1986)', 0.6103871403660115)\n",
            "('I.Q. (1994)', 0.6185849474624774)\n",
            "('Deuces Wild (2002)', 0.5485921906310567)\n",
            "('Gladiator (2000)', 0.535433378902515)\n",
            "('Fifth Element, The (1997)', 0.537219393324939)\n",
            "('Elephant (2003)', 0.5870954815894123)\n",
            "(\"McHale's Navy (1997)\", 0.42284052103044434)\n",
            "('Cocoon (1985)', 0.5565268633277873)\n",
            "('Lord of the Rings: The Fellowship of the Ring, The (2001)', 0.5586986624552959)\n",
            "('Manchurian Candidate, The (1962)', 0.573735346488288)\n",
            "('Crocodile Dundee (1986)', 0.5977723141894008)\n",
            "('Star Wars: Episode VI - Return of the Jedi (1983)', 0.5600469585626926)\n",
            "('Monsters, Inc. (2001)', 0.5686245453337653)\n",
            "('Being John Malkovich (1999)', 0.6134222546397572)\n",
            "('Fear and Loathing in Las Vegas (1998)', 0.65000571757305)\n",
            "('Henry V (1989)', 0.6683681793039913)\n",
            "('Dances with Wolves (1990)', 0.6762090221174837)\n",
            "('Citizen Kane (1941)', 0.5922933093004745)\n",
            "('Groundhog Day (1993)', 0.5598341210407609)\n",
            "(\"Amelie (Fabuleux destin d'Amélie Poulain, Le) (2001)\", 0.5775144764766638)\n",
            "('Witness (1985)', 0.5547335787432142)\n",
            "('Lord of the Rings: The Return of the King, The (2003)', 0.5065020027518656)\n",
            "('Sixth Sense, The (1999)', 0.5013957342575344)\n",
            "('Shaft (1971)', 0.5465323480198339)\n",
            "('Fight Club (1999)', 0.48399662871217)\n",
            "('Teenage Mutant Ninja Turtles III (1993)', 0.610128177536021)\n",
            "('Real Genius (1985)', 0.6881212661929579)\n",
            "('Firm, The (1993)', 0.6574003540945826)\n",
            "(\"Mr. Holland's Opus (1995)\", 0.6702803222852419)\n",
            "('Doctor Zhivago (1965)', 0.6244519768810348)\n",
            "('Dead Poets Society (1989)', 0.6103706814754879)\n",
            "('Killing Fields, The (1984)', 0.630224294417038)\n",
            "('Dolores Claiborne (1995)', 0.6028145537512183)\n",
            "('Apocalypse Now (1979)', 0.5972217045137189)\n",
            "('Addams Family Values (1993)', 0.6151561861567854)\n",
            "('Indiana Jones and the Temple of Doom (1984)', 0.582952734991051)\n",
            "('Novocaine (2001)', 0.5545156164441309)\n",
            "('True Lies (1994)', 0.6549479720098392)\n",
            "('Manhattan (1979)', 0.5768587765253579)\n",
            "('Sixteen Candles (1984)', 0.6306372721398115)\n",
            "('Pretty in Pink (1986)', 0.6193628890262928)\n",
            "('Grosse Pointe Blank (1997)', 0.6019577393653834)\n",
            "('State and Main (2000)', 0.5253320728784465)\n",
            "('First Knight (1995)', 0.5516431007251623)\n",
            "('Clear and Present Danger (1994)', 0.6248677980643585)\n",
            "('Newton Boys, The (1998)', 0.43189931675092275)\n",
            "('Grifters, The (1990)', 0.4667305829591528)\n",
            "('Star Trek: Generations (1994)', 0.6542856583431228)\n",
            "('Five Easy Pieces (1970)', 0.5778427562075961)\n",
            "('Pulp Fiction (1994)', 0.4287994086259308)\n",
            "('Wind That Shakes the Barley, The (2006)', 0.578988366951751)\n",
            "('Lord of the Rings: The Return of the King, The (2003)', 0.5559804776135127)\n",
            "('Terminator, The (1984)', 0.5552166298892903)\n",
            "('Unforgiven (1992)', 0.6193864671816967)\n",
            "('Dr. T and the Women (2000)', 0.5492009725809476)\n",
            "('Shaft (1971)', 0.41118349967059187)\n",
            "('Stargate (1994)', 0.6754378635255933)\n",
            "('American Beauty (1999)', 0.5394185077449487)\n",
            "('Back to the Future (1985)', 0.5859321799462536)\n",
            "('Easy Rider (1969)', 0.5498218148543322)\n",
            "('Total Recall (1990)', 0.6719202870324001)\n",
            "('Little Women (1994)', 0.6519180403748333)\n",
            "('Human Nature (2001)', 0.6225212442064203)\n",
            "('Mad Max (1979)', 0.6234782661241194)\n",
            "('Shawshank Redemption, The (1994)', 0.37085504275383663)\n",
            "('Clockwork Orange, A (1971)', 0.6299963045552706)\n",
            "('Four Weddings and a Funeral (1994)', 0.549141798281598)\n",
            "('About Adam (2000)', 0.5477935132080071)\n",
            "('Raiders of the Lost Ark (Indiana Jones and the Raiders of the Lost Ark) (1981)', 0.5876916475793292)\n",
            "('Cast Away (2000)', 0.5099435611989365)\n",
            "('Beautiful Mind, A (2001)', 0.49334424874517435)\n",
            "('Pride of the Yankees, The (1942)', 0.5997849506678667)\n",
            "('Cliffhanger (1993)', 0.6940151902378733)\n",
            "('Hope and Glory (1987)', 0.6317124360205406)\n",
            "('Big Trouble (2002)', 0.6227020679226216)\n",
            "('Matrix, The (1999)', 0.48499281239411574)\n",
            "('Catch Me If You Can (2002)', 0.4674953888760218)\n",
            "('Spider-Man (2002)', 0.5221280688217957)\n",
            "('River Runs Through It, A (1992)', 0.6297668831125455)\n",
            "('Patton (1970)', 0.5895649908784586)\n",
            "('League of Their Own, A (1992)', 0.6327100426439296)\n",
            "('Love Song for Bobby Long, A (2004)', 0.41148203919993354)\n",
            "('Minority Report (2002)', 0.5061530964123573)\n",
            "('Terminator 2: Judgment Day (1991)', 0.5462302344444694)\n",
            "('Sleeping with the Enemy (1991)', 0.5534253333145001)\n",
            "('Species (1995)', 0.5797074454281684)\n",
            "('Dancer Upstairs, The (2002)', 0.5776830183602282)\n",
            "('Killing Fields, The (1984)', 0.5260852642397726)\n",
            "(\"Schindler's List (1993)\", 0.6908402229346104)\n",
            "('Interview with the Vampire: The Vampire Chronicles (1994)', 0.6537071919761581)\n",
            "('Better Off Dead... (1985)', 0.6157256542596728)\n",
            "('Apollo 13 (1995)', 0.686873712281217)\n",
            "('Lost in La Mancha (2002)', 0.6312019727305254)\n",
            "('Blue Car (2002)', 0.5952370523800016)\n",
            "('Crimes and Misdemeanors (1989)', 0.563881162985129)\n",
            "('Made (2001)', 0.394976407260926)\n",
            "('Towering Inferno, The (1974)', 0.5961421828549015)\n",
            "('Journey of Natty Gann, The (1985)', 0.6936283973063294)\n",
            "('Platoon (1986)', 0.6710842769868364)\n",
            "('Casablanca (1942)', 0.5673543540591807)\n",
            "('Newton Boys, The (1998)', 0.5651301943673224)\n",
            "('Last Picture Show, The (1971)', 0.6266179288711835)\n",
            "('When Harry Met Sally... (1989)', 0.5971966362941648)\n",
            "(\"Peter's Friends (1992)\", 0.5838673066603386)\n",
            "('Flintstones, The (1994)', 0.6195628932201194)\n",
            "('Nothing to Lose (1997)', 0.5788748841270639)\n",
            "('Maltese Falcon, The (1941)', 0.5661906629927638)\n",
            "('Saving Private Ryan (1998)', 0.43869574555102986)\n",
            "(\"Jesus' Son (1999)\", 0.5457933015373213)\n",
            "('Cape Fear (1962)', 0.6158918257694246)\n",
            "('Back to the Future Part III (1990)', 0.631083303703807)\n",
            "('What About Bob? (1991)', 0.6469637981089413)\n",
            "('Killing, The (1956)', 0.6282643288970373)\n",
            "('American President, The (1995)', 0.6366516037979848)\n",
            "('Fame (1980)', 0.6187267363383187)\n",
            "(\"One Flew Over the Cuckoo's Nest (1975)\", 0.5782574649900188)\n",
            "('Tsotsi (2005)', 0.628951697364003)\n",
            "('Apocalypse Now (1979)', 0.590310334869625)\n",
            "('Cider House Rules, The (1999)', 0.6949686505972914)\n",
            "('Casper (1995)', 0.5782119153904811)\n",
            "('Three Musketeers, The (1993)', 0.6942749473220902)\n",
            "('Matrix, The (1999)', 0.48146276171146496)\n",
            "('Star Wars: Episode V - The Empire Strikes Back (1980)', 0.5714856502249205)\n",
            "('Very Bad Things (1998)', 0.672133166380357)\n",
            "('Zapped! (1982)', 0.5804298392349607)\n",
            "('American History X (1998)', 0.48316766779799125)\n",
            "('Alien (1979)', 0.5557648806788333)\n",
            "('Finding Nemo (2003)', 0.5582448256157607)\n",
            "('Shipping News, The (2001)', 0.5780001884049577)\n",
            "('My First Mister (2001)', 0.692796268278002)\n",
            "('Rain Man (1988)', 0.5149021921548886)\n",
            "('Fargo (1996)', 0.5368538521333609)\n",
            "('No Escape (1994)', 0.5804298392349607)\n",
            "('Fugitive, The (1993)', 0.5219568941142942)\n",
            "('People I Know (2002)', 0.5907964644661794)\n",
            "('Reservoir Dogs (1992)', 0.5707185824721759)\n",
            "('From Here to Eternity (1953)', 0.6154294489319239)\n",
            "('My Science Project (1985)', 0.6802203194511933)\n",
            "('In the Line of Fire (1993)', 0.6736406004732165)\n",
            "('Last of the Mohicans, The (1992)', 0.6787327396583973)\n",
            "('Three Musketeers, The (1993)', 0.6244309291696102)\n",
            "('Fast Times at Ridgemont High (1982)', 0.5923825566772061)\n",
            "('White Oleander (2002)', 0.4721655438146978)\n",
            "('Blown Away (1994)', 0.5134030961768237)\n",
            "('Silence of the Lambs, The (1991)', 0.4084803997368799)\n",
            "('Star Wars: Episode IV - A New Hope (1977)', 0.5724852166573241)\n",
            "('Something Wicked This Way Comes (1983)', 0.6003469649546782)\n",
            "('Fluke (1995)', 0.6214944179477677)\n",
            "('Moonlight Mile (2002)', 0.5138990634211655)\n",
            "('Liberty Heights (1999)', 0.5450054315636391)\n",
            "('Awakenings (1990)', 0.6109705479852376)\n",
            "('American Werewolf in London, An (1981)', 0.6831652764935497)\n",
            "('Down and Out in Beverly Hills (1986)', 0.6041946415603473)\n",
            "('Bodyguard, The (1992)', 0.6202202656597078)\n",
            "('Right Stuff, The (1983)', 0.6160256211562223)\n",
            "('Copycat (1995)', 0.6562549739206762)\n",
            "(\"It's All Gone Pete Tong (2004)\", 0.5134468491598942)\n",
            "('Speed (1994)', 0.5229791037788396)\n",
            "('Splash (1984)', 0.6153080082817979)\n",
            "('Junior (1994)', 0.6854816225977223)\n",
            "('Spitfire Grill, The (1996)', 0.6977440191574971)\n",
            "('¡Three Amigos! (1986)', 0.49448622475264836)\n",
            "('Let It Ride (1989)', 0.5776259978926447)\n",
            "('Max (2002)', 0.562366886649468)\n",
            "('Matrix Reloaded, The (2003)', 0.541946815520674)\n",
            "('Return to Oz (1985)', 0.578988366951751)\n",
            "(\"Baadasssss! (How to Get the Man's Foot Outta Your Ass) (2003)\", 0.6091957655835177)\n",
            "('Hellbound: Hellraiser II (1988)', 0.6218811770208844)\n",
            "('Star Trek: The Motion Picture (1979)', 0.691260250954301)\n",
            "('American Beauty (1999)', 0.5287527412715575)\n",
            "('Milk Money (1994)', 0.6101873681583885)\n",
            "('French Connection, The (1971)', 0.5612138210372928)\n",
            "('Shattered Glass (2003)', 0.5671602941382756)\n",
            "('Stargate (1994)', 0.5546698999328975)\n",
            "('Prophecy, The (1995)', 0.5131704377152793)\n",
            "('Fisher King, The (1991)', 0.6063418855759088)\n",
            "('Eternal Sunshine of the Spotless Mind (2004)', 0.5869382956214495)\n",
            "('Rosencrantz and Guildenstern Are Dead (1990)', 0.5533741969051238)\n",
            "('Hudson Hawk (1991)', 0.6534660542544682)\n",
            "('Mask, The (1994)', 0.6444892138600324)\n",
            "('Adventures in Babysitting (1987)', 0.6243855857416579)\n",
            "('My First Mister (2001)', 0.49367726003410295)\n",
            "('Net, The (1995)', 0.6274828072920566)\n",
            "('Best Men (1997)', 0.5055318235658512)\n",
            "('American President, The (1995)', 0.6278712340378326)\n",
            "('War of the Roses, The (1989)', 0.6282302890076784)\n",
            "('Novocaine (2001)', 0.6523436065616464)\n",
            "('E.T. the Extra-Terrestrial (1982)', 0.5453928729131177)\n",
            "('Poolhall Junkies (2002)', 0.5926119690471967)\n",
            "('Independence Day (a.k.a. ID4) (1996)', 0.5817051308923653)\n",
            "('Last Action Hero (1993)', 0.6146870672477539)\n",
            "('Get Real (1998)', 0.5451992421548024)\n",
            "('Winnie the Pooh and the Blustery Day (1968)', 0.568886263477533)\n",
            "('Pieces of April (2003)', 0.5887742071093796)\n",
            "('Beauty and the Beast (1991)', 0.6258814095831212)\n",
            "('Young Frankenstein (1974)', 0.5505042889177816)\n",
            "('I, Robot (2004)', 0.5694108139487108)\n",
            "('Wizard of Oz, The (1939)', 0.5396461956685936)\n",
            "('Maverick (1994)', 0.6567449466860374)\n",
            "('Lawrence of Arabia (1962)', 0.6222269377443747)\n",
            "('Crow, The (1994)', 0.6305924143912369)\n",
            "('E.T. the Extra-Terrestrial (1982)', 0.5965643862230212)\n",
            "('Tombstone (1993)', 0.59994083680645)\n",
            "('Snow White and the Seven Dwarfs (1937)', 0.6080447259273764)\n",
            "('Dirty Dozen, The (1967)', 0.5376631503981046)\n",
            "('Legends of the Fall (1994)', 0.586006609942731)\n",
            "('Maverick (1994)', 0.5704385655785738)\n",
            "('Sweet Sixteen (2002)', 0.5622439649803842)\n",
            "(\"Son's Room, The (Stanza del figlio, La) (2001)\", 0.5001519905733411)\n",
            "('Clockwork Orange, A (1971)', 0.532309460100971)\n",
            "('Ballad of Jack and Rose, The (2005)', 0.6320222046987951)\n",
            "('Star Wars: Episode V - The Empire Strikes Back (1980)', 0.5495581732844259)\n",
            "(\"Ferris Bueller's Day Off (1986)\", 0.6197376999594708)\n",
            "('Alien (1979)', 0.6087188579226448)\n",
            "('Holy Smoke (1999)', 0.5670274820639825)\n",
            "('One Crazy Summer (1986)', 0.6252597144407367)\n",
            "('Deer Hunter, The (1978)', 0.6158084822897507)\n",
            "('Psycho (1960)', 0.613260556811922)\n",
            "('Demolition Man (1993)', 0.6388799612258529)\n",
            "('Miracle on 34th Street (1994)', 0.6098043736217442)\n",
            "('Pit and the Pendulum (1961)', 0.6813769379749255)\n",
            "('Assassination (1987)', 0.6214944179477677)\n",
            "(\"How to Kill Your Neighbor's Dog (2000)\", 0.5964700992206775)\n",
            "('In Good Company (2004)', 0.6032674458328333)\n",
            "(\"Hard Day's Night, A (1964)\", 0.6695041540625257)\n",
            "('Mad Dog and Glory (1993)', 0.4997220975009361)\n",
            "('Shining, The (1980)', 0.5519973878540929)\n",
            "('E.T. the Extra-Terrestrial (1982)', 0.5632783024713859)\n",
            "('Bedknobs and Broomsticks (1971)', 0.5943678160270783)\n",
            "('Born on the Fourth of July (1989)', 0.5886533966190193)\n",
            "('Interview with the Vampire: The Vampire Chronicles (1994)', 0.584752180000949)\n",
            "('Rain Man (1988)', 0.6071831130533136)\n",
            "('Batman Forever (1995)', 0.5565224865458283)\n",
            "('Just Cause (1995)', 0.6779528449002961)\n",
            "('Barbarian Invasions, The (Les invasions barbares) (2003)', 0.5171898524310841)\n",
            "('Fatal Attraction (1987)', 0.6322420515746392)\n",
            "('Excalibur (1981)', 0.5617228847476213)\n",
            "('Godfather: Part II, The (1974)', 0.5598985475862661)\n",
            "('Forrest Gump (1994)', 0.3979282742277046)\n",
            "('Big Lebowski, The (1998)', 0.5370803076469708)\n",
            "('Star Wars: Episode IV - A New Hope (1977)', 0.5465350374692197)\n",
            "('Lion King, The (1994)', 0.567736997561322)\n",
            "(\"One Night at McCool's (2001)\", 0.6207711933140565)\n",
            "('Love Liza (2002)', 0.5820709971461513)\n",
            "('Doors, The (1991)', 0.6489372753645004)\n",
            "('Mrs. Doubtfire (1993)', 0.6791318908778669)\n",
            "('This Is Spinal Tap (1984)', 0.6005228020171212)\n",
            "('Pirates of the Caribbean: The Curse of the Black Pearl (2003)', 0.5485102382844871)\n",
            "('Gas, Food, Lodging (1992)', 0.62441728471694)\n",
            "('Outside Providence (1999)', 0.6725561995412048)\n",
            "('Ladyhawke (1985)', 0.5477955819412532)\n",
            "(\"City Slickers II: The Legend of Curly's Gold (1994)\", 0.6519265724472008)\n",
            "('Rob Roy (1995)', 0.59994083680645)\n",
            "('Braveheart (1995)', 0.6239189413856026)\n",
            "('Ed Wood (1994)', 0.6595545500759656)\n",
            "('All Quiet on the Western Front (1930)', 0.5589140692894957)\n",
            "('Life Is Beautiful (La Vita è bella) (1997)', 0.5750294359437655)\n",
            "('Pulp Fiction (1994)', 0.5709593055153053)\n",
            "('Human Traffic (1999)', 0.4461956423937533)\n",
            "('Shrek (2001)', 0.5367278873738178)\n",
            "('Sleepless in Seattle (1993)', 0.6190213172928307)\n",
            "('Breakdown (1997)', 0.5996984621458805)\n",
            "('Stripes (1981)', 0.6176431407210243)\n",
            "('Gangster No. 1 (2000)', 0.5079929455723621)\n",
            "('Bourne Identity, The (2002)', 0.5482230803746124)\n",
            "('Die Hard: With a Vengeance (1995)', 0.6362047335831691)\n",
            "('300 (2007)', 0.5627380217762954)\n",
            "('Cool Hand Luke (1967)', 0.6111239908991635)\n",
            "('African Queen, The (1951)', 0.5720425067321464)\n",
            "('Firm, The (1993)', 0.5744155427515654)\n",
            "(\"My Boyfriend's Back (1993)\", 0.5798475070174959)\n",
            "('Business of Strangers, The (2001)', 0.5055318235658512)\n",
            "('Lord of the Rings: The Two Towers, The (2002)', 0.5241987556348985)\n",
            "('Aladdin (1992)', 0.6946354891430704)\n",
            "('Tully (2000)', 0.62441728471694)\n",
            "('Only the Lonely (1991)', 0.6100551807943636)\n",
            "(\"Who's That Girl? (1987)\", 0.4514368110096929)\n",
            "('Impostor (2002)', 0.599411087338751)\n",
            "('Michael Collins (1996)', 0.568236743173215)\n",
            "(\"What's Love Got to Do with It? (1993)\", 0.6946590505298491)\n",
            "('Basic Instinct (1992)', 0.625707500019674)\n",
            "('Metropolis (2001)', 0.5909883806092919)\n",
            "('Soul Man (1986)', 0.5300663818267607)\n",
            "('Secret of My Succe$s, The (a.k.a. The Secret of My Success) (1987)', 0.5333548620241697)\n",
            "('Lord of the Rings: The Two Towers, The (2002)', 0.5517193409776169)\n",
            "('Nico and Dani (Krámpack) (2000)', 0.44057311897994744)\n",
            "('Erik the Viking (1989)', 0.5705051215612797)\n",
            "('Marked for Death (1990)', 0.6218615457273494)\n",
            "('Braveheart (1995)', 0.605898454609078)\n",
            "(\"One Night at McCool's (2001)\", 0.6759259394330366)\n",
            "('Apollo 13 (1995)', 0.516114183315258)\n",
            "('Chariots of Fire (1981)', 0.6023245498554053)\n",
            "('Dirty Dozen, The (1967)', 0.6284290693104246)\n",
            "('Fish Called Wanda, A (1988)', 0.5514811971477231)\n",
            "('Hoax, The (2007)', 0.5804298392349605)\n",
            "('My Science Project (1985)', 0.608274133222946)\n",
            "('Volunteers (1985)', 0.5349170571336184)\n",
            "('Black Cauldron, The (1985)', 0.5888159421772555)\n",
            "('Say Anything... (1989)', 0.6211822380119879)\n",
            "(\"What's Eating Gilbert Grape (1993)\", 0.6794749666290227)\n",
            "('Better Off Dead... (1985)', 0.6830382802786773)\n",
            "('Sense and Sensibility (1995)', 0.6326744778215674)\n",
            "('Reservoir Dogs (1992)', 0.6191659971782675)\n",
            "('Legal Eagles (1986)', 0.4785608321239886)\n",
            "('Shaft (1971)', 0.6143384766677067)\n",
            "('Cliffhanger (1993)', 0.5920385677813018)\n",
            "('Natural Born Killers (1994)', 0.629168057703863)\n",
            "('True Lies (1994)', 0.5930944991378688)\n",
            "('Sixth Sense, The (1999)', 0.4501820035302726)\n",
            "('Good Will Hunting (1997)', 0.5040182096877626)\n",
            "('Dirty Dozen, The (1967)', 0.589463743822503)\n",
            "('Crimson Tide (1995)', 0.5723827838375983)\n",
            "('Streetcar Named Desire, A (1951)', 0.6313251993158923)\n",
            "('Beautiful Mind, A (2001)', 0.5836482121126954)\n",
            "('Three Caballeros, The (1945)', 0.5627770272489211)\n",
            "('Hellraiser (1987)', 0.638079204799435)\n",
            "(\"Gulliver's Travels (1939)\", 0.43165343892800656)\n",
            "('Truman Show, The (1998)', 0.5338296755284686)\n",
            "('Babe, The (1992)', 0.5798475070174958)\n",
            "('Monty Python and the Holy Grail (1975)', 0.6098478606291048)\n",
            "('Very Bad Things (1998)', 0.540517879474538)\n",
            "('Silence of the Lambs, The (1991)', 0.6341918731503102)\n",
            "(\"McHale's Navy (1997)\", 0.643979259139255)\n"
          ]
        }
      ]
    },
    {
      "cell_type": "markdown",
      "source": [
        "# 4.  Surprise и скрытые факторы: user_based\n",
        "\n",
        "1.  В прошломы разделе выбирали фильмы на основании item-based features\n",
        "2.  В этом попробуем использовать user-based подход и коллаборативную фильтрацию\n",
        "\n"
      ],
      "metadata": {
        "id": "FGMWTVp0gnHv"
      }
    },
    {
      "cell_type": "code",
      "source": [
        "%pip install scikit-surprise"
      ],
      "metadata": {
        "colab": {
          "base_uri": "https://localhost:8080/"
        },
        "id": "RGaI2ENIhKaV",
        "outputId": "503bcfff-1d98-4c88-89c0-4b1baba39b2e"
      },
      "execution_count": 32,
      "outputs": [
        {
          "output_type": "stream",
          "name": "stdout",
          "text": [
            "Collecting scikit-surprise\n",
            "  Downloading scikit-surprise-1.1.3.tar.gz (771 kB)\n",
            "\u001b[?25l     \u001b[90m━━━━━━━━━━━━━━━━━━━━━━━━━━━━━━━━━━━━━━━━\u001b[0m \u001b[32m0.0/772.0 kB\u001b[0m \u001b[31m?\u001b[0m eta \u001b[36m-:--:--\u001b[0m\r\u001b[2K     \u001b[91m━━━━━━━━━━━━━━━━━━━━━━━━━━━━━━━━━━━━━\u001b[0m\u001b[91m╸\u001b[0m \u001b[32m768.0/772.0 kB\u001b[0m \u001b[31m30.1 MB/s\u001b[0m eta \u001b[36m0:00:01\u001b[0m\r\u001b[2K     \u001b[90m━━━━━━━━━━━━━━━━━━━━━━━━━━━━━━━━━━━━━━\u001b[0m \u001b[32m772.0/772.0 kB\u001b[0m \u001b[31m20.8 MB/s\u001b[0m eta \u001b[36m0:00:00\u001b[0m\n",
            "\u001b[?25h  Preparing metadata (setup.py) ... \u001b[?25l\u001b[?25hdone\n",
            "Requirement already satisfied: joblib>=1.0.0 in /usr/local/lib/python3.10/dist-packages (from scikit-surprise) (1.3.1)\n",
            "Requirement already satisfied: numpy>=1.17.3 in /usr/local/lib/python3.10/dist-packages (from scikit-surprise) (1.22.4)\n",
            "Requirement already satisfied: scipy>=1.3.2 in /usr/local/lib/python3.10/dist-packages (from scikit-surprise) (1.10.1)\n",
            "Building wheels for collected packages: scikit-surprise\n",
            "  Building wheel for scikit-surprise (setup.py) ... \u001b[?25l\u001b[?25hdone\n",
            "  Created wheel for scikit-surprise: filename=scikit_surprise-1.1.3-cp310-cp310-linux_x86_64.whl size=3097777 sha256=d309ab703052a244fecd682d6c1581a48993a1fcd2093ef0e3ab3c2315715c35\n",
            "  Stored in directory: /root/.cache/pip/wheels/a5/ca/a8/4e28def53797fdc4363ca4af740db15a9c2f1595ebc51fb445\n",
            "Successfully built scikit-surprise\n",
            "Installing collected packages: scikit-surprise\n",
            "Successfully installed scikit-surprise-1.1.3\n"
          ]
        }
      ]
    },
    {
      "cell_type": "code",
      "source": [
        "from surprise import KNNWithMeans, KNNBasic, SVD\n",
        "from surprise import Dataset\n",
        "from surprise import accuracy\n",
        "from surprise import Reader\n",
        "from surprise.model_selection import train_test_split\n",
        "from operator import itemgetter"
      ],
      "metadata": {
        "id": "UOH28eIEgJiT"
      },
      "execution_count": 33,
      "outputs": []
    },
    {
      "cell_type": "code",
      "source": [
        "def generate_recommendation(uid, model, dataset, thresh=4.8, amount=500):\n",
        "    all_titles = list(dataset['iid'].values) # Все названия\n",
        "    users_seen_titles = dataset[dataset['uid'] == uid]['iid']  # ТЕ. что наш пользователь видел\n",
        "    titles = np.array(list(set(all_titles) - set(users_seen_titles))) # ТО. что он не видел\n",
        "\n",
        "    np.random.shuffle(titles)\n",
        "\n",
        "    rec_list = []\n",
        "    for title in titles:\n",
        "        review_prediction = model.predict(uid=uid, iid=title) # Прогноз полный\n",
        "        rating = review_prediction.est # рейтинг из прогноза\n",
        "\n",
        "        if rating >= thresh:\n",
        "            rec_list.append((title, round(rating, 2)))\n",
        "    return sorted(rec_list, key=itemgetter(1))[-500:]"
      ],
      "metadata": {
        "id": "-WMpD--8hfAd"
      },
      "execution_count": 34,
      "outputs": []
    },
    {
      "cell_type": "code",
      "source": [
        "movies_with_ratings = movies.merge(ratings, on='movieId').reset_index(drop=True)\n",
        "movies_with_ratings.dropna(inplace=True)\n",
        "dataset = pd.DataFrame({\n",
        "    'uid': movies_with_ratings.userId,\n",
        "    'iid': movies_with_ratings.title,\n",
        "    'rating': movies_with_ratings.rating\n",
        "})\n",
        "reader = Reader(rating_scale=(ratings.rating.min(), ratings.rating.max()))\n",
        "data = Dataset.load_from_df(dataset, reader)"
      ],
      "metadata": {
        "id": "rTtyc0pyhgxV"
      },
      "execution_count": 35,
      "outputs": []
    },
    {
      "cell_type": "code",
      "source": [
        "trainset, testset = train_test_split(data, test_size=0.2, random_state=42)\n",
        "algo = KNNWithMeans(k=50, sim_options={\n",
        "    'name': 'cosine',\n",
        "    'user_based': True  # compute  similarities between users\n",
        "})\n",
        "algo.fit(trainset)"
      ],
      "metadata": {
        "colab": {
          "base_uri": "https://localhost:8080/"
        },
        "id": "wU3hc_BXk6WU",
        "outputId": "fff4fdc1-954f-4b08-f41b-f2ee1b311c40"
      },
      "execution_count": 36,
      "outputs": [
        {
          "output_type": "stream",
          "name": "stdout",
          "text": [
            "Computing the cosine similarity matrix...\n",
            "Done computing similarity matrix.\n"
          ]
        },
        {
          "output_type": "execute_result",
          "data": {
            "text/plain": [
              "<surprise.prediction_algorithms.knns.KNNWithMeans at 0x7c25f2f4fe20>"
            ]
          },
          "metadata": {},
          "execution_count": 36
        }
      ]
    },
    {
      "cell_type": "code",
      "source": [
        "test_pred = algo.test(testset)\n",
        "accuracy.rmse(test_pred, verbose=True)"
      ],
      "metadata": {
        "colab": {
          "base_uri": "https://localhost:8080/"
        },
        "id": "TZ2In9MblEqZ",
        "outputId": "24f45b20-cc27-4c80-b6f0-e78ef7adc562"
      },
      "execution_count": 37,
      "outputs": [
        {
          "output_type": "stream",
          "name": "stdout",
          "text": [
            "RMSE: 0.8959\n"
          ]
        },
        {
          "output_type": "execute_result",
          "data": {
            "text/plain": [
              "0.8959492188641812"
            ]
          },
          "metadata": {},
          "execution_count": 37
        }
      ]
    },
    {
      "cell_type": "code",
      "source": [
        "knn_list = generate_recommendation(1, algo, dataset, thresh=4.8)"
      ],
      "metadata": {
        "id": "rDG1SPu9lTHd"
      },
      "execution_count": 38,
      "outputs": []
    },
    {
      "cell_type": "markdown",
      "source": [
        "Таким образом, есть список фильмов, полученный с помощью item-to-item коллаборативной фильтрации и список фильмов, полученный с помощью KNNWithMeans User-based. Эти списки не совпадают, но  частично пересекаются. Задача -выбрать из обоих самые походящие фильмы. Попробуем использовать объединенный список на вход для svd"
      ],
      "metadata": {
        "id": "sJfzJyi3pNA6"
      }
    },
    {
      "cell_type": "code",
      "source": [
        "full_list =[]\n",
        "for el in all_titles:\n",
        "  full_list.append(el[0])\n",
        "for el in knn_list:\n",
        "  full_list.append(el[0])"
      ],
      "metadata": {
        "id": "rSWR7GhMqY-e"
      },
      "execution_count": 39,
      "outputs": []
    },
    {
      "cell_type": "code",
      "source": [
        "duplicates = set()\n",
        "repeated_elements = set()\n",
        "for item in full_list:\n",
        "    if item in duplicates:\n",
        "        repeated_elements.add(item)\n",
        "    else:\n",
        "        duplicates.add(item)"
      ],
      "metadata": {
        "id": "DuDO0EVIsNoj"
      },
      "execution_count": 40,
      "outputs": []
    },
    {
      "cell_type": "code",
      "source": [
        "repeated_elements # Это элементы из обоих списков"
      ],
      "metadata": {
        "colab": {
          "base_uri": "https://localhost:8080/"
        },
        "id": "0O9hait1rTwA",
        "outputId": "7460fe27-e0c4-4a96-8cb0-0da4163a3d8c"
      },
      "execution_count": 42,
      "outputs": [
        {
          "output_type": "execute_result",
          "data": {
            "text/plain": [
              "{'African Queen, The (1951)',\n",
              " 'Aladdin (1992)',\n",
              " 'Alien (1979)',\n",
              " 'American Beauty (1999)',\n",
              " 'American History X (1998)',\n",
              " 'American President, The (1995)',\n",
              " 'Apocalypse Now (1979)',\n",
              " 'Apollo 13 (1995)',\n",
              " 'Auto Focus (2002)',\n",
              " 'Back to the Future (1985)',\n",
              " 'Beautiful Mind, A (2001)',\n",
              " 'Best Men (1997)',\n",
              " 'Better Off Dead... (1985)',\n",
              " 'Big Lebowski, The (1998)',\n",
              " 'Born on the Fourth of July (1989)',\n",
              " 'Braveheart (1995)',\n",
              " 'Casablanca (1942)',\n",
              " \"City Slickers II: The Legend of Curly's Gold (1994)\",\n",
              " 'Clear and Present Danger (1994)',\n",
              " 'Client, The (1994)',\n",
              " 'Cliffhanger (1993)',\n",
              " 'Clockwork Orange, A (1971)',\n",
              " 'Crimson Tide (1995)',\n",
              " 'Crocodile Dundee (1986)',\n",
              " 'Dancer Upstairs, The (2002)',\n",
              " 'Dances with Wolves (1990)',\n",
              " 'Dark Blue World (Tmavomodrý svet) (2001)',\n",
              " \"Dead Men Don't Wear Plaid (1982)\",\n",
              " 'Dead Poets Society (1989)',\n",
              " 'Dirty Dozen, The (1967)',\n",
              " 'E.T. the Extra-Terrestrial (1982)',\n",
              " 'Erik the Viking (1989)',\n",
              " 'Excalibur (1981)',\n",
              " 'Fight Club (1999)',\n",
              " 'Firm, The (1993)',\n",
              " 'First Knight (1995)',\n",
              " 'Five Easy Pieces (1970)',\n",
              " 'Forrest Gump (1994)',\n",
              " 'Four Weddings and a Funeral (1994)',\n",
              " 'Fugitive, The (1993)',\n",
              " 'Gangster No. 1 (2000)',\n",
              " 'Ghost (1990)',\n",
              " 'Godfather, The (1972)',\n",
              " 'Good Will Hunting (1997)',\n",
              " 'Green Mile, The (1999)',\n",
              " 'Groundhog Day (1993)',\n",
              " 'Hoodlum (1997)',\n",
              " 'Hope and Glory (1987)',\n",
              " 'Indiana Jones and the Temple of Doom (1984)',\n",
              " 'Interview with the Vampire: The Vampire Chronicles (1994)',\n",
              " 'Jurassic Park (1993)',\n",
              " 'Killing Fields, The (1984)',\n",
              " 'Legends of the Fall (1994)',\n",
              " 'Lion King, The (1994)',\n",
              " 'Lord of the Rings: The Fellowship of the Ring, The (2001)',\n",
              " 'Lord of the Rings: The Return of the King, The (2003)',\n",
              " 'Lord of the Rings: The Two Towers, The (2002)',\n",
              " 'Mad Dog and Glory (1993)',\n",
              " 'Matrix, The (1999)',\n",
              " 'Maverick (1994)',\n",
              " 'Max (2002)',\n",
              " \"McHale's Navy (1997)\",\n",
              " 'Memento (2000)',\n",
              " 'Mrs. Doubtfire (1993)',\n",
              " 'My First Mister (2001)',\n",
              " 'My Science Project (1985)',\n",
              " 'Newton Boys, The (1998)',\n",
              " 'Novocaine (2001)',\n",
              " \"One Night at McCool's (2001)\",\n",
              " 'Patton (1970)',\n",
              " 'Platoon (1986)',\n",
              " 'Pulp Fiction (1994)',\n",
              " 'Rain Man (1988)',\n",
              " 'Regarding Henry (1991)',\n",
              " 'Reservoir Dogs (1992)',\n",
              " 'Safety of Objects, The (2001)',\n",
              " 'Saving Private Ryan (1998)',\n",
              " \"Schindler's List (1993)\",\n",
              " 'Shaft (1971)',\n",
              " 'Shape of Things, The (2003)',\n",
              " 'Shawshank Redemption, The (1994)',\n",
              " 'Silence of the Lambs, The (1991)',\n",
              " 'Sixth Sense, The (1999)',\n",
              " 'Speed (1994)',\n",
              " 'Splash (1984)',\n",
              " 'Star Wars: Episode IV - A New Hope (1977)',\n",
              " 'Star Wars: Episode V - The Empire Strikes Back (1980)',\n",
              " 'Star Wars: Episode VI - Return of the Jedi (1983)',\n",
              " 'Stargate (1994)',\n",
              " 'Three Caballeros, The (1945)',\n",
              " 'Three Musketeers, The (1993)',\n",
              " 'True Lies (1994)',\n",
              " 'Very Bad Things (1998)',\n",
              " 'Winnie the Pooh and the Blustery Day (1968)'}"
            ]
          },
          "metadata": {},
          "execution_count": 42
        }
      ]
    },
    {
      "cell_type": "code",
      "source": [
        "len(repeated_elements)"
      ],
      "metadata": {
        "colab": {
          "base_uri": "https://localhost:8080/"
        },
        "id": "bl3GwvZttmLd",
        "outputId": "d837faa2-c4bb-4628-c5e1-e938d99fd61d"
      },
      "execution_count": 43,
      "outputs": [
        {
          "output_type": "execute_result",
          "data": {
            "text/plain": [
              "94"
            ]
          },
          "metadata": {},
          "execution_count": 43
        }
      ]
    },
    {
      "cell_type": "markdown",
      "source": [
        "Из 500 фильмов, отобранных обоими алгоритмами, совпали 92. Теперь можно пропустить общий список через модель пользователя и отобрать фильмы с предполагаемо самыми высокими рейтингами"
      ],
      "metadata": {
        "id": "TNdTJjaptwJ_"
      }
    },
    {
      "cell_type": "markdown",
      "source": [
        "# 4.  Использование результатов item-to-item (3) и user-based коллаборативной фильтрации(4) в модели (2)\n"
      ],
      "metadata": {
        "id": "4VyDZOEr8VIY"
      }
    },
    {
      "cell_type": "code",
      "source": [
        "df=make_dataset()\n",
        "df=clean(df)\n",
        "df['genres'] = df['genres'].apply(lambda x: change_string(x))\n",
        "df['tag'] = df['tag'].apply(lambda x: change_string(x))\n",
        "with open('trr1.pkl', 'rb') as f:\n",
        "  tfidf_transformer1 = pickle.load(f)\n",
        "with open('trr2.pkl', 'rb') as f:\n",
        "  tfidf_transformer2 = pickle.load(f)\n",
        "recommendations = list()\n",
        "for title in list(repeated_elements):\n",
        "  dff = df[df['title']==title]\n",
        "\n",
        "  x1 = tfidf_transformer1.transform(dff['genres'])\n",
        "  x2 = tfidf_transformer2.transform(dff['tag'])\n",
        "  X = scipy.sparse.hstack([x1, x2])\n",
        "  y_pred = private_model.predict(X)\n",
        "  if y_pred[0]>4.8:\n",
        "    recommendations.append((title,y_pred[0]))\n",
        "    print((title,y_pred[0]))\n"
      ],
      "metadata": {
        "colab": {
          "base_uri": "https://localhost:8080/"
        },
        "id": "F95Gzd5f84eJ",
        "outputId": "3720ce65-7bb5-43ab-be87-c805132f267e"
      },
      "execution_count": 46,
      "outputs": [
        {
          "output_type": "stream",
          "name": "stdout",
          "text": [
            "--2023-07-15 08:42:14--  https://files.grouplens.org/datasets/movielens/ml-latest-small.zip\n",
            "Resolving files.grouplens.org (files.grouplens.org)... 128.101.65.152\n",
            "Connecting to files.grouplens.org (files.grouplens.org)|128.101.65.152|:443... connected.\n",
            "HTTP request sent, awaiting response... 200 OK\n",
            "Length: 978202 (955K) [application/zip]\n",
            "Saving to: ‘ml-latest-small.zip.2’\n",
            "\n",
            "ml-latest-small.zip 100%[===================>] 955.28K  2.65MB/s    in 0.4s    \n",
            "\n",
            "2023-07-15 08:42:14 (2.65 MB/s) - ‘ml-latest-small.zip.2’ saved [978202/978202]\n",
            "\n",
            "('Apollo 13 (1995)', 4.887520306503109)\n",
            "('Godfather, The (1972)', 4.811783278011128)\n",
            "('Hope and Glory (1987)', 5.022502363425985)\n",
            "('Shawshank Redemption, The (1994)', 4.811783278011128)\n",
            "('Max (2002)', 5.022502363425985)\n",
            "('American History X (1998)', 4.811783278011128)\n",
            "('Shape of Things, The (2003)', 5.022502363425985)\n",
            "('Hoodlum (1997)', 5.523272607141486)\n",
            "('Regarding Henry (1991)', 5.022502363425985)\n",
            "('Dead Poets Society (1989)', 5.022502363425985)\n",
            "('Safety of Objects, The (2001)', 5.022502363425985)\n",
            "('Five Easy Pieces (1970)', 5.022502363425985)\n",
            "('Newton Boys, The (1998)', 4.811783278011128)\n",
            "('Auto Focus (2002)', 4.811783278011128)\n",
            "('Green Mile, The (1999)', 4.811783278011128)\n",
            "('Rain Man (1988)', 5.022502363425985)\n"
          ]
        }
      ]
    },
    {
      "cell_type": "code",
      "source": [
        "len(recommendations)"
      ],
      "metadata": {
        "colab": {
          "base_uri": "https://localhost:8080/"
        },
        "id": "Soz6IGL2u59s",
        "outputId": "dd11cb4a-d290-4029-aefb-c89ae87231b5"
      },
      "execution_count": 45,
      "outputs": [
        {
          "output_type": "execute_result",
          "data": {
            "text/plain": [
              "36"
            ]
          },
          "metadata": {},
          "execution_count": 45
        }
      ]
    },
    {
      "cell_type": "markdown",
      "source": [
        "Получили список из 36 фильмов, из которых надо оставить 5. Поищем скрытые факторы"
      ],
      "metadata": {
        "id": "wzYHnG1F2nd4"
      }
    },
    {
      "cell_type": "code",
      "source": [
        "indices=[]\n",
        "for item in recommendations:\n",
        "  indices.append(movies[movies['title']==item[0]].movieId.values[0])"
      ],
      "metadata": {
        "id": "8eVr51RZ3k5J"
      },
      "execution_count": 49,
      "outputs": []
    },
    {
      "cell_type": "code",
      "source": [
        "df=make_dataset()\n",
        "df=clean(df)"
      ],
      "metadata": {
        "colab": {
          "base_uri": "https://localhost:8080/"
        },
        "id": "AHndIvW_4uUk",
        "outputId": "5c989bf6-74bb-4346-e4f1-72933a0de56d"
      },
      "execution_count": 50,
      "outputs": [
        {
          "output_type": "stream",
          "name": "stdout",
          "text": [
            "--2023-07-15 08:43:26--  https://files.grouplens.org/datasets/movielens/ml-latest-small.zip\n",
            "Resolving files.grouplens.org (files.grouplens.org)... 128.101.65.152\n",
            "Connecting to files.grouplens.org (files.grouplens.org)|128.101.65.152|:443... connected.\n",
            "HTTP request sent, awaiting response... 200 OK\n",
            "Length: 978202 (955K) [application/zip]\n",
            "Saving to: ‘ml-latest-small.zip.4’\n",
            "\n",
            "ml-latest-small.zip 100%[===================>] 955.28K  2.67MB/s    in 0.3s    \n",
            "\n",
            "2023-07-15 08:43:26 (2.67 MB/s) - ‘ml-latest-small.zip.4’ saved [978202/978202]\n",
            "\n"
          ]
        }
      ]
    },
    {
      "cell_type": "code",
      "source": [
        "data = df.loc[df.movieId.isin(indices), ['title', 'userId', 'rating']]\n",
        "data = data[data['userId']!=1]"
      ],
      "metadata": {
        "id": "mDvGCoqU3f6H"
      },
      "execution_count": 51,
      "outputs": []
    },
    {
      "cell_type": "code",
      "source": [
        "dataset = pd.DataFrame({\n",
        "    'uid': data.userId,\n",
        "    'iid': data.title,\n",
        "    'rating': data.rating\n",
        "})"
      ],
      "metadata": {
        "id": "Jydu9HwQ2_Ae"
      },
      "execution_count": 52,
      "outputs": []
    },
    {
      "cell_type": "code",
      "source": [
        "dataset.rating.min(), dataset.rating.max()"
      ],
      "metadata": {
        "colab": {
          "base_uri": "https://localhost:8080/"
        },
        "id": "Xn_pv-vyujfl",
        "outputId": "f216ed20-df81-4624-a3c2-86e8f05e29f0"
      },
      "execution_count": 62,
      "outputs": [
        {
          "output_type": "execute_result",
          "data": {
            "text/plain": [
              "(0.5, 5.0)"
            ]
          },
          "metadata": {},
          "execution_count": 62
        }
      ]
    },
    {
      "cell_type": "code",
      "source": [
        "reader = Reader(rating_scale=(dataset.rating.min(), dataset.rating.max()))\n",
        "data = Dataset.load_from_df(dataset, reader)"
      ],
      "metadata": {
        "id": "ThFl--o-6f6n"
      },
      "execution_count": 63,
      "outputs": []
    },
    {
      "cell_type": "code",
      "source": [
        "trainset, testset = train_test_split(data, test_size=.15, random_state=42)"
      ],
      "metadata": {
        "id": "eD8_FqFK6ja-"
      },
      "execution_count": 64,
      "outputs": []
    },
    {
      "cell_type": "code",
      "source": [
        "algo = SVD(n_factors=20, n_epochs=20)\n",
        "algo.fit(trainset)"
      ],
      "metadata": {
        "colab": {
          "base_uri": "https://localhost:8080/"
        },
        "id": "UC7O6bkG6mgi",
        "outputId": "0cc01794-08dc-4369-9d5b-fb4bf18305af"
      },
      "execution_count": 75,
      "outputs": [
        {
          "output_type": "execute_result",
          "data": {
            "text/plain": [
              "<surprise.prediction_algorithms.matrix_factorization.SVD at 0x7c25bc5a0a90>"
            ]
          },
          "metadata": {},
          "execution_count": 75
        }
      ]
    },
    {
      "cell_type": "code",
      "source": [
        "test_pred = algo.test(testset)\n",
        "accuracy.rmse(test_pred, verbose=True)"
      ],
      "metadata": {
        "colab": {
          "base_uri": "https://localhost:8080/"
        },
        "id": "iL5fxqs167mT",
        "outputId": "ff3a1dad-b0a3-44b5-b2bd-9cee96d9fd6e"
      },
      "execution_count": 76,
      "outputs": [
        {
          "output_type": "stream",
          "name": "stdout",
          "text": [
            "RMSE: 0.7221\n"
          ]
        },
        {
          "output_type": "execute_result",
          "data": {
            "text/plain": [
              "0.7220670546448171"
            ]
          },
          "metadata": {},
          "execution_count": 76
        }
      ]
    },
    {
      "cell_type": "code",
      "source": [
        "svd_list=[]\n",
        "for item in recommendations:\n",
        "  svd_list.append((item[0], algo.predict(uid=1.0, iid=item[0]).est))"
      ],
      "metadata": {
        "id": "x1skkcff7MKu"
      },
      "execution_count": 77,
      "outputs": []
    },
    {
      "cell_type": "code",
      "source": [
        "for item in svd_list:\n",
        "  if item[1]>4.2:\n",
        "    print(item)"
      ],
      "metadata": {
        "colab": {
          "base_uri": "https://localhost:8080/"
        },
        "id": "AHZezXh_7CNx",
        "outputId": "8f115dcf-dbe5-4e23-9299-b2b4c618a860"
      },
      "execution_count": 78,
      "outputs": [
        {
          "output_type": "stream",
          "name": "stdout",
          "text": [
            "('Godfather, The (1972)', 4.250880287219493)\n",
            "('Hope and Glory (1987)', 4.2006081302954215)\n",
            "('Shawshank Redemption, The (1994)', 4.400411855505626)\n",
            "('American History X (1998)', 4.2041794190255155)\n",
            "('Five Easy Pieces (1970)', 4.283367998265415)\n"
          ]
        }
      ]
    }
  ]
}
{
  "nbformat": 4,
  "nbformat_minor": 0,
  "metadata": {
    "colab": {
      "provenance": [],
      "authorship_tag": "ABX9TyPj2+VwB0tNy5lNBxhwqljp",
      "include_colab_link": true
    },
    "kernelspec": {
      "name": "python3",
      "display_name": "Python 3"
    },
    "language_info": {
      "name": "python"
    }
  },
  "cells": [
    {
      "cell_type": "markdown",
      "metadata": {
        "id": "view-in-github",
        "colab_type": "text"
      },
      "source": [
        "<a href=\"https://colab.research.google.com/github/solobala/RMSL_9/blob/main/RMSL9_DZ1_1.ipynb\" target=\"_parent\"><img src=\"https://colab.research.google.com/assets/colab-badge.svg\" alt=\"Open In Colab\"/></a>"
      ]
    },
    {
      "cell_type": "markdown",
      "source": [
        "Домашнее задание по теме «Рекомендации на основе содержания»\n",
        "1. Использовать датасет MovieLens.\n",
        "2. Построить рекомендации (регрессия, предсказываем оценку) на фичах:\n",
        "\n",
        "  *   TF-IDF на тегах и жанрах;\n",
        "  *   средние оценки (+ median, variance и т. д.) пользователя и фильма.\n",
        "\n",
        "\n",
        "3. Оценить RMSE на тестовой выборке."
      ],
      "metadata": {
        "id": "2tcvh3pKQiJQ"
      }
    },
    {
      "cell_type": "markdown",
      "source": [
        "# 0. Загрузка данных и импорт библиотек"
      ],
      "metadata": {
        "id": "9Nb8KcXqRH6i"
      }
    },
    {
      "cell_type": "code",
      "execution_count": 46,
      "metadata": {
        "id": "DLoggrtXQaaC"
      },
      "outputs": [],
      "source": [
        "import numpy as np\n",
        "import pandas as pd\n",
        "import scipy\n",
        "from scipy import sparse\n",
        "from sklearn.linear_model import LinearRegression\n",
        "from sklearn.model_selection import train_test_split\n",
        "from sklearn.feature_extraction.text import TfidfVectorizer\n",
        "from sklearn.neighbors import NearestNeighbors\n",
        "from sklearn.base import RegressorMixin\n",
        "from sklearn.metrics import mean_squared_error"
      ]
    },
    {
      "cell_type": "markdown",
      "source": [
        "#1. Пользовательские функции"
      ],
      "metadata": {
        "id": "hnvpLPS9aTr-"
      }
    },
    {
      "cell_type": "code",
      "source": [
        "def change_string(s):\n",
        "    return ' '.join(s.replace(' ', '').replace('-', '').split('|')) # Убираем лищние пробелы и тире и разбиваем строку на отдельные слова"
      ],
      "metadata": {
        "id": "KBVzbVa0ysml"
      },
      "execution_count": 2,
      "outputs": []
    },
    {
      "cell_type": "code",
      "source": [
        "def make_dataset() -> pd.DataFrame:\n",
        "  # load dataset\n",
        "  !wget  \"https://files.grouplens.org/datasets/movielens/ml-latest-small.zip\"   # Качаем архив выбранного датасета\n",
        "  # unzip data from zip\n",
        "  !unzip ml-latest-small.zip\n",
        "  # read tables\n",
        "  tags = pd.read_csv('/content/ml-latest-small/tags.csv')\n",
        "  movies = pd.read_csv('/content/ml-latest-small/movies.csv')\n",
        "  ratings = pd.read_csv('/content/ml-latest-small/ratings.csv')\n",
        "  ratings.drop(columns=['timestamp'], inplace=True)\n",
        "  tags.drop(columns=['timestamp'], inplace=True)\n",
        "  # join tables\n",
        "  df = ratings.join(movies.set_index('movieId'), on='movieId', how='left')\n",
        "  # drop some columns\n",
        "  df = pd.merge(df, tags, left_on=['userId','movieId'], right_on = ['userId','movieId'], how='left')\n",
        "  return df"
      ],
      "metadata": {
        "id": "g59i-QMnSadf"
      },
      "execution_count": 3,
      "outputs": []
    },
    {
      "cell_type": "code",
      "source": [
        "def clean(df: pd.DataFrame) -> pd.DataFrame:\n",
        "  # fill nan\n",
        "  df['tag'] = df['tag'].fillna('no_tag')\n",
        "  return df"
      ],
      "metadata": {
        "id": "oPV73CgBS3-D"
      },
      "execution_count": 4,
      "outputs": []
    },
    {
      "cell_type": "code",
      "source": [
        "def build_features(df: pd.DataFrame) -> tuple():\n",
        "  # feature engineering\n",
        "  df['genres'] = df['genres'].apply(lambda x: change_string(x))\n",
        "  df['tag'] = df['tag'].apply(lambda x: change_string(x))\n",
        "  y = df['rating'].to_numpy()\n",
        "\n",
        "  tfidf_transformer = TfidfVectorizer()\n",
        "  X_tfidf_1 = tfidf_transformer.fit_transform(df['genres'])\n",
        "  X_tfidf_2 = tfidf_transformer.fit_transform(df['tag'])\n",
        "  X_transform = scipy.sparse.hstack([X_tfidf_1, X_tfidf_2 ])\n",
        "  # feature engineering\n",
        "  ddf = df[['userId', 'movieId', 'rating']]\n",
        "  mean_user_rating = ddf.groupby(by='userId')[['rating']].mean()\n",
        "  mean_movie_rating = ddf.groupby(by='movieId')[['rating']].mean()\n",
        "  median_user_rating = ddf.groupby(by='userId')[['rating']].median()\n",
        "  median_movie_rating = ddf.groupby(by='movieId')[['rating']].median()\n",
        "  var_user_rating = ddf.groupby(by='userId')[['rating']].var()\n",
        "  var_movie_rating = ddf.groupby(by='movieId')[['rating']].var()\n",
        "  std_user_rating = ddf.groupby(by='userId')[['rating']].std()\n",
        "  std_movie_rating = ddf.groupby(by='movieId')[['rating']].std()\n",
        "  ddf = ddf.join(mean_user_rating.reset_index('userId'), on='userId',lsuffix='', rsuffix='_user_mean', how='left')\n",
        "  ddf = ddf.join(mean_movie_rating.reset_index('movieId'), on='movieId', lsuffix='', rsuffix='_movie_mean', how='left')\n",
        "  mean_rating_user = ddf['rating_user_mean'].mean()\n",
        "  mean_rating_movie = ddf['rating_movie_mean'].mean()\n",
        "  ddf['rating_user_mean'] = ddf['rating_user_mean'].fillna(mean_rating_user)\n",
        "  ddf['rating_movie_mean'] = ddf['rating_movie_mean'].fillna(mean_rating_movie)\n",
        "  ddf = ddf.join(median_user_rating.reset_index('userId'), on='userId',lsuffix='', rsuffix='_user_median', how='left')\n",
        "  ddf = ddf.join(median_movie_rating.reset_index('movieId'), on='movieId', lsuffix='', rsuffix='_movie_median', how='left')\n",
        "  median_rating_user = ddf['rating_user_median'].mean()\n",
        "  median_rating_movie = ddf['rating_movie_median'].mean()\n",
        "  ddf['rating_user_median'] = ddf['rating_user_median'].fillna(median_rating_user)\n",
        "  ddf['rating_movie_median'] = ddf['rating_movie_median'].fillna(median_rating_movie)\n",
        "  ddf = ddf.join(var_user_rating.reset_index('userId'), on='userId',lsuffix='', rsuffix='_user_var', how='left')\n",
        "  ddf = ddf.join(var_movie_rating.reset_index('movieId'), on='movieId', lsuffix='', rsuffix='_movie_var', how='left')\n",
        "  var_rating_user = ddf['rating_user_var'].mean()\n",
        "  var_rating_movie = ddf['rating_movie_var'].mean()\n",
        "  ddf['rating_user_var'] = ddf['rating_user_var'].fillna(var_rating_user)\n",
        "  ddf['rating_movie_var'] = ddf['rating_movie_var'].fillna(var_rating_movie)\n",
        "  ddf = ddf.join(std_user_rating.reset_index('userId'), on='userId',lsuffix='', rsuffix='_user_std', how='left')\n",
        "  ddf = ddf.join(std_movie_rating.reset_index('movieId'), on='movieId', lsuffix='', rsuffix='_movie_std', how='left')\n",
        "  std_rating_user = ddf['rating_user_std'].mean()\n",
        "  std_rating_movie = ddf['rating_movie_std'].mean()\n",
        "  ddf['rating_user_std'] = ddf['rating_user_std'].fillna(std_rating_user)\n",
        "  ddf['rating_movie_std'] = ddf['rating_movie_std'].fillna(std_rating_movie)\n",
        "  ddf.drop(columns=['userId', 'movieId', 'rating', 'userId_user_mean','movieId_movie_mean', 'userId_user_median', 'movieId_movie_median',\t'userId_user_var', 'movieId_movie_var', 'userId_user_std', 'movieId_movie_std'], inplace=True)\n",
        "  X = ddf\n",
        "  # scaling\n",
        "  X['rating_user_mean'] = (X['rating_user_mean']-X['rating_user_mean'].mean())/(X['rating_user_mean'].max() - X['rating_user_mean'].min())\n",
        "  X['rating_movie_mean'] = (X['rating_movie_mean'] - X['rating_movie_mean'].mean())/(X['rating_movie_mean'].max() - X['rating_movie_mean'].min())\n",
        "  X['rating_user_median'] = (X['rating_user_median'] - X['rating_user_median'].mean())/(X['rating_user_median'].max() - X['rating_user_median'].min())\n",
        "  X['rating_movie_median'] = (X['rating_movie_median'] - X['rating_movie_median'].mean())/(X['rating_movie_median'].max() - X['rating_movie_median'].min())\n",
        "  X['rating_user_var'] = (X['rating_user_var'] - X['rating_user_var'].mean())/(X['rating_user_var'].max() - X['rating_user_var'].min())\n",
        "  X['rating_movie_var'] = (X['rating_movie_var'] - X['rating_movie_var'].mean())/(X['rating_movie_var'].max() - X['rating_movie_var'].min())\n",
        "  X1 = sparse.csr_matrix(X)\n",
        "  X = scipy.sparse.hstack([X_transform, X1])\n",
        "  return X_transform, y"
      ],
      "metadata": {
        "id": "dFEQqNhrTMEN"
      },
      "execution_count": 82,
      "outputs": []
    },
    {
      "cell_type": "code",
      "source": [
        "def train_model(X: scipy.sparse._csr.csr_matrix, y: np.ndarray) -> RegressorMixin:\n",
        "  # fit model\n",
        "  lr = LinearRegression()\n",
        "  lr.fit(X_train, y_train)\n",
        "  return lr"
      ],
      "metadata": {
        "id": "OIL_IUrGUKDW"
      },
      "execution_count": 7,
      "outputs": []
    },
    {
      "cell_type": "code",
      "source": [
        "def predict_model(model: RegressorMixin,\n",
        "                  X_test: scipy.sparse._csr.csr_matrix ) -> np.ndarray:\n",
        "  # make predictions\n",
        "  y_pred = model.predict(X_test)\n",
        "  return y_pred"
      ],
      "metadata": {
        "id": "31vj0pc3WTsG"
      },
      "execution_count": 8,
      "outputs": []
    },
    {
      "cell_type": "code",
      "source": [
        "def evaluate_model(y_test, y_pred) -> None:\n",
        "  # model evaluation with rmse\n",
        "  rmse = np.sqrt(mean_squared_error(y_test, y_pred))\n",
        "  print(\"RMSE: \", rmse)\n"
      ],
      "metadata": {
        "id": "T3p6KJlJWurt"
      },
      "execution_count": 9,
      "outputs": []
    },
    {
      "cell_type": "markdown",
      "source": [
        "#2. Построить рекомендации (регрессия, предсказываем оценку) на фичах TF-IDF - на тегах и жанрах; на фичах - средние оценки (+ median, variance и т. д.) пользователя и фильма"
      ],
      "metadata": {
        "id": "wVVIghvEbgv1"
      }
    },
    {
      "cell_type": "code",
      "source": [
        "df = make_dataset()"
      ],
      "metadata": {
        "colab": {
          "base_uri": "https://localhost:8080/"
        },
        "id": "Ejrv_idIXGt_",
        "outputId": "8ce921c3-1dc0-4ffa-de95-0457eef1bc55"
      },
      "execution_count": 15,
      "outputs": [
        {
          "output_type": "stream",
          "name": "stdout",
          "text": [
            "--2023-07-13 17:20:03--  https://files.grouplens.org/datasets/movielens/ml-latest-small.zip\n",
            "Resolving files.grouplens.org (files.grouplens.org)... 128.101.65.152\n",
            "Connecting to files.grouplens.org (files.grouplens.org)|128.101.65.152|:443... connected.\n",
            "HTTP request sent, awaiting response... 200 OK\n",
            "Length: 978202 (955K) [application/zip]\n",
            "Saving to: ‘ml-latest-small.zip.1’\n",
            "\n",
            "ml-latest-small.zip 100%[===================>] 955.28K  4.56MB/s    in 0.2s    \n",
            "\n",
            "2023-07-13 17:20:04 (4.56 MB/s) - ‘ml-latest-small.zip.1’ saved [978202/978202]\n",
            "\n",
            "Archive:  ml-latest-small.zip\n",
            "replace ml-latest-small/links.csv? [y]es, [n]o, [A]ll, [N]one, [r]ename: n\n",
            "replace ml-latest-small/tags.csv? [y]es, [n]o, [A]ll, [N]one, [r]ename: n\n",
            "replace ml-latest-small/ratings.csv? [y]es, [n]o, [A]ll, [N]one, [r]ename: n\n",
            "replace ml-latest-small/README.txt? [y]es, [n]o, [A]ll, [N]one, [r]ename: n\n",
            "replace ml-latest-small/movies.csv? [y]es, [n]o, [A]ll, [N]one, [r]ename: n\n"
          ]
        }
      ]
    },
    {
      "cell_type": "code",
      "source": [
        "df = clean(df)"
      ],
      "metadata": {
        "id": "ZzHMid7NRHrx"
      },
      "execution_count": 50,
      "outputs": []
    },
    {
      "cell_type": "code",
      "source": [
        "X_transform, y = build_features(df)\n"
      ],
      "metadata": {
        "id": "0DEBcqjbXonl"
      },
      "execution_count": null,
      "outputs": []
    },
    {
      "cell_type": "code",
      "source": [
        "X_train, X_test, y_train, y_test =\\\n",
        "  train_test_split(X_transform, y, test_size=0.2, random_state=42)\n",
        "model = train_model(X_train, y_train)\n",
        "y_pred = predict_model(model, X_test)\n",
        "evaluate_model(y_test, y_pred)"
      ],
      "metadata": {
        "id": "9_1QwyO2MYUl",
        "outputId": "640d725f-45fe-456e-ff88-5e92b1b8fa33",
        "colab": {
          "base_uri": "https://localhost:8080/"
        }
      },
      "execution_count": 84,
      "outputs": [
        {
          "output_type": "stream",
          "name": "stdout",
          "text": [
            "RMSE:  0.9998417366050728\n"
          ]
        }
      ]
    },
    {
      "cell_type": "code",
      "source": [],
      "metadata": {
        "id": "vzBzhet4hUnO"
      },
      "execution_count": null,
      "outputs": []
    }
  ]
}
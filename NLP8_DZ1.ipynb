{
  "cells": [
    {
      "cell_type": "markdown",
      "metadata": {
        "id": "view-in-github",
        "colab_type": "text"
      },
      "source": [
        "<a href=\"https://colab.research.google.com/github/solobala/RMSL_9/blob/main/NLP8_DZ1.ipynb\" target=\"_parent\"><img src=\"https://colab.research.google.com/assets/colab-badge.svg\" alt=\"Open In Colab\"/></a>"
      ]
    },
    {
      "cell_type": "markdown",
      "metadata": {
        "id": "NG6pKBy830S3"
      },
      "source": [
        "# Классификация по тональности\n",
        "В этом домашнем задании вам предстоит классифицировать по тональности отзывы на банки с сайта banki.ru.\n",
        "\n",
        "Данные содержат непосредственно тексты отзывов, некоторую дополнительную информацию, а также оценку по шкале от 1 до 5.\n",
        "\n",
        "Тексты хранятся в json-ах в массиве responses.\n",
        "\n"
      ]
    },
    {
      "cell_type": "markdown",
      "source": [
        "## Импорт библиотек и пользовательские функции"
      ],
      "metadata": {
        "id": "5GMXKLn0E3cl"
      }
    },
    {
      "cell_type": "code",
      "execution_count": 18,
      "metadata": {
        "colab": {
          "base_uri": "https://localhost:8080/"
        },
        "id": "ZhdZhlJu52Uz",
        "outputId": "844f5c24-baba-4858-e899-d410fa7b2b66"
      },
      "outputs": [
        {
          "output_type": "stream",
          "name": "stdout",
          "text": [
            "Populating the interactive namespace from numpy and matplotlib\n"
          ]
        },
        {
          "output_type": "stream",
          "name": "stderr",
          "text": [
            "[nltk_data] Downloading package punkt to /root/nltk_data...\n",
            "[nltk_data]   Package punkt is already up-to-date!\n"
          ]
        }
      ],
      "source": [
        "import json\n",
        "import bz2\n",
        "import re\n",
        "import regex\n",
        "from tqdm import tqdm\n",
        "from scipy import sparse\n",
        "import pandas as pd\n",
        "import numpy as np\n",
        "import nltk\n",
        "nltk.download('punkt')\n",
        "import matplotlib.pyplot as plt\n",
        "import seaborn as sns\n",
        "from tqdm import tqdm\n",
        "from joblib import Parallel, delayed\n",
        "%matplotlib inline\n",
        "%pylab inline\n",
        "import warnings\n",
        "warnings.filterwarnings('ignore')\n",
        "import matplotlib\n",
        "matplotlib.style.use('ggplot')\n",
        "from pylab import rcParams\n",
        "rcParams['figure.figsize'] = 10, 8\n",
        "from collections import Counter\n",
        "from nltk.tokenize import word_tokenize\n",
        "from nltk import FreqDist"
      ]
    },
    {
      "cell_type": "code",
      "execution_count": 2,
      "metadata": {
        "colab": {
          "base_uri": "https://localhost:8080/"
        },
        "id": "pgjWymfza_sZ",
        "outputId": "0fb4d6e1-40a5-47c1-b415-8b4a8c916555"
      },
      "outputs": [
        {
          "output_type": "stream",
          "name": "stdout",
          "text": [
            "Requirement already satisfied: pymorphy2 in /usr/local/lib/python3.10/dist-packages (0.9.1)\n",
            "Requirement already satisfied: dawg-python>=0.7.1 in /usr/local/lib/python3.10/dist-packages (from pymorphy2) (0.7.2)\n",
            "Requirement already satisfied: pymorphy2-dicts-ru<3.0,>=2.4 in /usr/local/lib/python3.10/dist-packages (from pymorphy2) (2.4.417127.4579844)\n",
            "Requirement already satisfied: docopt>=0.6 in /usr/local/lib/python3.10/dist-packages (from pymorphy2) (0.6.2)\n",
            "Requirement already satisfied: pymorphy2-dicts-ru in /usr/local/lib/python3.10/dist-packages (2.4.417127.4579844)\n"
          ]
        }
      ],
      "source": [
        "!pip install pymorphy2\n",
        "!pip install pymorphy2-dicts-ru"
      ]
    },
    {
      "cell_type": "code",
      "execution_count": 3,
      "metadata": {
        "colab": {
          "base_uri": "https://localhost:8080/"
        },
        "id": "V75toscfwVS_",
        "outputId": "828eb2cf-d07f-4104-c2b7-0bf91932a015"
      },
      "outputs": [
        {
          "output_type": "stream",
          "name": "stderr",
          "text": [
            "[nltk_data] Downloading package stopwords to /root/nltk_data...\n",
            "[nltk_data]   Package stopwords is already up-to-date!\n"
          ]
        },
        {
          "output_type": "execute_result",
          "data": {
            "text/plain": [
              "True"
            ]
          },
          "metadata": {},
          "execution_count": 3
        }
      ],
      "source": [
        "nltk.download('stopwords')"
      ]
    },
    {
      "cell_type": "code",
      "execution_count": 4,
      "metadata": {
        "id": "MC56c1lLwY2r"
      },
      "outputs": [],
      "source": [
        "from nltk.corpus import stopwords"
      ]
    },
    {
      "cell_type": "code",
      "execution_count": 5,
      "metadata": {
        "id": "BGFl00123ZD3"
      },
      "outputs": [],
      "source": [
        "from string import punctuation"
      ]
    },
    {
      "cell_type": "markdown",
      "source": [
        "## Загрузка и предобработка датасета"
      ],
      "metadata": {
        "id": "Wq5kPODWFCqg"
      }
    },
    {
      "cell_type": "code",
      "execution_count": 6,
      "metadata": {
        "colab": {
          "base_uri": "https://localhost:8080/"
        },
        "id": "N0y_-W0a5_lX",
        "outputId": "b7bc30da-b86a-4c10-d34b-2680e45c70f2"
      },
      "outputs": [
        {
          "output_type": "stream",
          "name": "stderr",
          "text": [
            "201030it [02:17, 1465.18it/s]\n"
          ]
        }
      ],
      "source": [
        "# Формируем список отзывов\n",
        "responses = []\n",
        "with bz2.BZ2File('banki_responses.json.bz2', 'r') as thefile:\n",
        "    for row in tqdm(thefile):\n",
        "        resp = json.loads(row)\n",
        "        if not resp['rating_not_checked'] and (len(resp['text'].split()) > 0):\n",
        "            responses.append(resp)"
      ]
    },
    {
      "cell_type": "code",
      "execution_count": 7,
      "metadata": {
        "colab": {
          "base_uri": "https://localhost:8080/"
        },
        "id": "pcxiHgF36Yx7",
        "outputId": "c3eddf14-4ad9-409a-f4cb-26013a954af8"
      },
      "outputs": [
        {
          "output_type": "execute_result",
          "data": {
            "text/plain": [
              "{'city': 'г. Саратов',\n",
              " 'rating_not_checked': False,\n",
              " 'title': 'Карта ко вкладу',\n",
              " 'num_comments': 0,\n",
              " 'bank_license': 'лицензия № 880',\n",
              " 'author': 'ronnichka',\n",
              " 'bank_name': 'Югра',\n",
              " 'datetime': '2015-06-03 20:56:57',\n",
              " 'text': 'Здравствуйте! Хотела написать, что мне месяц не выдают карту ко вкладу, ссылаясь на \"нам же их из Самары везут\" (на секундочку 5 часов езды от нашего города). Но! Прочитала, что людям 3,5 месяцев не выдают карту, и поняла, что у меня все хорошо, пока что. И подарок мне дали, и кулер в отделении есть. Так что я, конечно, готова ждать. Правда хотелось бы не очень долго.',\n",
              " 'rating_grade': 3}"
            ]
          },
          "metadata": {},
          "execution_count": 7
        }
      ],
      "source": [
        "# Посмотрим на пример отзыва:\n",
        "responses[99]"
      ]
    },
    {
      "cell_type": "code",
      "execution_count": 8,
      "metadata": {
        "colab": {
          "base_uri": "https://localhost:8080/",
          "height": 556
        },
        "id": "Xjfmf6xLOJxu",
        "outputId": "c2459b9d-d4f7-4869-fec6-300673114b27"
      },
      "outputs": [
        {
          "output_type": "execute_result",
          "data": {
            "text/plain": [
              "             city  rating_not_checked  \\\n",
              "0       г. Москва               False   \n",
              "1  г. Новосибирск               False   \n",
              "2       г. Москва               False   \n",
              "3   г. Ставрополь               False   \n",
              "4    г. Челябинск               False   \n",
              "\n",
              "                                               title  num_comments  \\\n",
              "0                                             Жалоба             0   \n",
              "1      Не могу пользоваться услугой Сбербанк он-лайн             0   \n",
              "2                    Двойное списание за один товар.             1   \n",
              "3  Меняют проценты комиссии  не предупредив и не ...             2   \n",
              "4             Верните денежные средства за страховку             1   \n",
              "\n",
              "      bank_license       author        bank_name             datetime  \\\n",
              "0  лицензия № 2562       uhnov1          Бинбанк  2015-06-08 12:50:54   \n",
              "1  лицензия № 1481       Foryou  Сбербанк России  2015-06-08 11:09:57   \n",
              "2  лицензия № 2562   Vladimir84          Бинбанк  2015-06-05 20:14:28   \n",
              "3  лицензия № 1481       643609  Сбербанк России  2015-06-05 13:51:01   \n",
              "4  лицензия № 2766  anfisa-2003         ОТП Банк  2015-06-05 10:58:12   \n",
              "\n",
              "                                                text  rating_grade  \n",
              "0  Добрый день! Я не являюсь клиентом банка и пор...           NaN  \n",
              "1  Доброго дня! Являюсь держателем зарплатной кар...           NaN  \n",
              "2  Здравствуйте!  Дублирую свое заявление от 03.0...           NaN  \n",
              "3  Добрый день!! Я открыл расчетный счет в СберБа...           NaN  \n",
              "4  04.03.2015 г. взяла кредит в вашем банке, заяв...           NaN  "
            ],
            "text/html": [
              "\n",
              "  <div id=\"df-a196f61d-874f-4c5d-b51a-9b7582dd7b30\" class=\"colab-df-container\">\n",
              "    <div>\n",
              "<style scoped>\n",
              "    .dataframe tbody tr th:only-of-type {\n",
              "        vertical-align: middle;\n",
              "    }\n",
              "\n",
              "    .dataframe tbody tr th {\n",
              "        vertical-align: top;\n",
              "    }\n",
              "\n",
              "    .dataframe thead th {\n",
              "        text-align: right;\n",
              "    }\n",
              "</style>\n",
              "<table border=\"1\" class=\"dataframe\">\n",
              "  <thead>\n",
              "    <tr style=\"text-align: right;\">\n",
              "      <th></th>\n",
              "      <th>city</th>\n",
              "      <th>rating_not_checked</th>\n",
              "      <th>title</th>\n",
              "      <th>num_comments</th>\n",
              "      <th>bank_license</th>\n",
              "      <th>author</th>\n",
              "      <th>bank_name</th>\n",
              "      <th>datetime</th>\n",
              "      <th>text</th>\n",
              "      <th>rating_grade</th>\n",
              "    </tr>\n",
              "  </thead>\n",
              "  <tbody>\n",
              "    <tr>\n",
              "      <th>0</th>\n",
              "      <td>г. Москва</td>\n",
              "      <td>False</td>\n",
              "      <td>Жалоба</td>\n",
              "      <td>0</td>\n",
              "      <td>лицензия № 2562</td>\n",
              "      <td>uhnov1</td>\n",
              "      <td>Бинбанк</td>\n",
              "      <td>2015-06-08 12:50:54</td>\n",
              "      <td>Добрый день! Я не являюсь клиентом банка и пор...</td>\n",
              "      <td>NaN</td>\n",
              "    </tr>\n",
              "    <tr>\n",
              "      <th>1</th>\n",
              "      <td>г. Новосибирск</td>\n",
              "      <td>False</td>\n",
              "      <td>Не могу пользоваться услугой Сбербанк он-лайн</td>\n",
              "      <td>0</td>\n",
              "      <td>лицензия № 1481</td>\n",
              "      <td>Foryou</td>\n",
              "      <td>Сбербанк России</td>\n",
              "      <td>2015-06-08 11:09:57</td>\n",
              "      <td>Доброго дня! Являюсь держателем зарплатной кар...</td>\n",
              "      <td>NaN</td>\n",
              "    </tr>\n",
              "    <tr>\n",
              "      <th>2</th>\n",
              "      <td>г. Москва</td>\n",
              "      <td>False</td>\n",
              "      <td>Двойное списание за один товар.</td>\n",
              "      <td>1</td>\n",
              "      <td>лицензия № 2562</td>\n",
              "      <td>Vladimir84</td>\n",
              "      <td>Бинбанк</td>\n",
              "      <td>2015-06-05 20:14:28</td>\n",
              "      <td>Здравствуйте!  Дублирую свое заявление от 03.0...</td>\n",
              "      <td>NaN</td>\n",
              "    </tr>\n",
              "    <tr>\n",
              "      <th>3</th>\n",
              "      <td>г. Ставрополь</td>\n",
              "      <td>False</td>\n",
              "      <td>Меняют проценты комиссии  не предупредив и не ...</td>\n",
              "      <td>2</td>\n",
              "      <td>лицензия № 1481</td>\n",
              "      <td>643609</td>\n",
              "      <td>Сбербанк России</td>\n",
              "      <td>2015-06-05 13:51:01</td>\n",
              "      <td>Добрый день!! Я открыл расчетный счет в СберБа...</td>\n",
              "      <td>NaN</td>\n",
              "    </tr>\n",
              "    <tr>\n",
              "      <th>4</th>\n",
              "      <td>г. Челябинск</td>\n",
              "      <td>False</td>\n",
              "      <td>Верните денежные средства за страховку</td>\n",
              "      <td>1</td>\n",
              "      <td>лицензия № 2766</td>\n",
              "      <td>anfisa-2003</td>\n",
              "      <td>ОТП Банк</td>\n",
              "      <td>2015-06-05 10:58:12</td>\n",
              "      <td>04.03.2015 г. взяла кредит в вашем банке, заяв...</td>\n",
              "      <td>NaN</td>\n",
              "    </tr>\n",
              "  </tbody>\n",
              "</table>\n",
              "</div>\n",
              "    <div class=\"colab-df-buttons\">\n",
              "\n",
              "  <div class=\"colab-df-container\">\n",
              "    <button class=\"colab-df-convert\" onclick=\"convertToInteractive('df-a196f61d-874f-4c5d-b51a-9b7582dd7b30')\"\n",
              "            title=\"Convert this dataframe to an interactive table.\"\n",
              "            style=\"display:none;\">\n",
              "\n",
              "  <svg xmlns=\"http://www.w3.org/2000/svg\" height=\"24px\" viewBox=\"0 -960 960 960\">\n",
              "    <path d=\"M120-120v-720h720v720H120Zm60-500h600v-160H180v160Zm220 220h160v-160H400v160Zm0 220h160v-160H400v160ZM180-400h160v-160H180v160Zm440 0h160v-160H620v160ZM180-180h160v-160H180v160Zm440 0h160v-160H620v160Z\"/>\n",
              "  </svg>\n",
              "    </button>\n",
              "\n",
              "  <style>\n",
              "    .colab-df-container {\n",
              "      display:flex;\n",
              "      gap: 12px;\n",
              "    }\n",
              "\n",
              "    .colab-df-convert {\n",
              "      background-color: #E8F0FE;\n",
              "      border: none;\n",
              "      border-radius: 50%;\n",
              "      cursor: pointer;\n",
              "      display: none;\n",
              "      fill: #1967D2;\n",
              "      height: 32px;\n",
              "      padding: 0 0 0 0;\n",
              "      width: 32px;\n",
              "    }\n",
              "\n",
              "    .colab-df-convert:hover {\n",
              "      background-color: #E2EBFA;\n",
              "      box-shadow: 0px 1px 2px rgba(60, 64, 67, 0.3), 0px 1px 3px 1px rgba(60, 64, 67, 0.15);\n",
              "      fill: #174EA6;\n",
              "    }\n",
              "\n",
              "    .colab-df-buttons div {\n",
              "      margin-bottom: 4px;\n",
              "    }\n",
              "\n",
              "    [theme=dark] .colab-df-convert {\n",
              "      background-color: #3B4455;\n",
              "      fill: #D2E3FC;\n",
              "    }\n",
              "\n",
              "    [theme=dark] .colab-df-convert:hover {\n",
              "      background-color: #434B5C;\n",
              "      box-shadow: 0px 1px 3px 1px rgba(0, 0, 0, 0.15);\n",
              "      filter: drop-shadow(0px 1px 2px rgba(0, 0, 0, 0.3));\n",
              "      fill: #FFFFFF;\n",
              "    }\n",
              "  </style>\n",
              "\n",
              "    <script>\n",
              "      const buttonEl =\n",
              "        document.querySelector('#df-a196f61d-874f-4c5d-b51a-9b7582dd7b30 button.colab-df-convert');\n",
              "      buttonEl.style.display =\n",
              "        google.colab.kernel.accessAllowed ? 'block' : 'none';\n",
              "\n",
              "      async function convertToInteractive(key) {\n",
              "        const element = document.querySelector('#df-a196f61d-874f-4c5d-b51a-9b7582dd7b30');\n",
              "        const dataTable =\n",
              "          await google.colab.kernel.invokeFunction('convertToInteractive',\n",
              "                                                    [key], {});\n",
              "        if (!dataTable) return;\n",
              "\n",
              "        const docLinkHtml = 'Like what you see? Visit the ' +\n",
              "          '<a target=\"_blank\" href=https://colab.research.google.com/notebooks/data_table.ipynb>data table notebook</a>'\n",
              "          + ' to learn more about interactive tables.';\n",
              "        element.innerHTML = '';\n",
              "        dataTable['output_type'] = 'display_data';\n",
              "        await google.colab.output.renderOutput(dataTable, element);\n",
              "        const docLink = document.createElement('div');\n",
              "        docLink.innerHTML = docLinkHtml;\n",
              "        element.appendChild(docLink);\n",
              "      }\n",
              "    </script>\n",
              "  </div>\n",
              "\n",
              "\n",
              "<div id=\"df-234e762f-0c1e-494d-bbda-eff8455448fc\">\n",
              "  <button class=\"colab-df-quickchart\" onclick=\"quickchart('df-234e762f-0c1e-494d-bbda-eff8455448fc')\"\n",
              "            title=\"Suggest charts.\"\n",
              "            style=\"display:none;\">\n",
              "\n",
              "<svg xmlns=\"http://www.w3.org/2000/svg\" height=\"24px\"viewBox=\"0 0 24 24\"\n",
              "     width=\"24px\">\n",
              "    <g>\n",
              "        <path d=\"M19 3H5c-1.1 0-2 .9-2 2v14c0 1.1.9 2 2 2h14c1.1 0 2-.9 2-2V5c0-1.1-.9-2-2-2zM9 17H7v-7h2v7zm4 0h-2V7h2v10zm4 0h-2v-4h2v4z\"/>\n",
              "    </g>\n",
              "</svg>\n",
              "  </button>\n",
              "\n",
              "<style>\n",
              "  .colab-df-quickchart {\n",
              "      --bg-color: #E8F0FE;\n",
              "      --fill-color: #1967D2;\n",
              "      --hover-bg-color: #E2EBFA;\n",
              "      --hover-fill-color: #174EA6;\n",
              "      --disabled-fill-color: #AAA;\n",
              "      --disabled-bg-color: #DDD;\n",
              "  }\n",
              "\n",
              "  [theme=dark] .colab-df-quickchart {\n",
              "      --bg-color: #3B4455;\n",
              "      --fill-color: #D2E3FC;\n",
              "      --hover-bg-color: #434B5C;\n",
              "      --hover-fill-color: #FFFFFF;\n",
              "      --disabled-bg-color: #3B4455;\n",
              "      --disabled-fill-color: #666;\n",
              "  }\n",
              "\n",
              "  .colab-df-quickchart {\n",
              "    background-color: var(--bg-color);\n",
              "    border: none;\n",
              "    border-radius: 50%;\n",
              "    cursor: pointer;\n",
              "    display: none;\n",
              "    fill: var(--fill-color);\n",
              "    height: 32px;\n",
              "    padding: 0;\n",
              "    width: 32px;\n",
              "  }\n",
              "\n",
              "  .colab-df-quickchart:hover {\n",
              "    background-color: var(--hover-bg-color);\n",
              "    box-shadow: 0 1px 2px rgba(60, 64, 67, 0.3), 0 1px 3px 1px rgba(60, 64, 67, 0.15);\n",
              "    fill: var(--button-hover-fill-color);\n",
              "  }\n",
              "\n",
              "  .colab-df-quickchart-complete:disabled,\n",
              "  .colab-df-quickchart-complete:disabled:hover {\n",
              "    background-color: var(--disabled-bg-color);\n",
              "    fill: var(--disabled-fill-color);\n",
              "    box-shadow: none;\n",
              "  }\n",
              "\n",
              "  .colab-df-spinner {\n",
              "    border: 2px solid var(--fill-color);\n",
              "    border-color: transparent;\n",
              "    border-bottom-color: var(--fill-color);\n",
              "    animation:\n",
              "      spin 1s steps(1) infinite;\n",
              "  }\n",
              "\n",
              "  @keyframes spin {\n",
              "    0% {\n",
              "      border-color: transparent;\n",
              "      border-bottom-color: var(--fill-color);\n",
              "      border-left-color: var(--fill-color);\n",
              "    }\n",
              "    20% {\n",
              "      border-color: transparent;\n",
              "      border-left-color: var(--fill-color);\n",
              "      border-top-color: var(--fill-color);\n",
              "    }\n",
              "    30% {\n",
              "      border-color: transparent;\n",
              "      border-left-color: var(--fill-color);\n",
              "      border-top-color: var(--fill-color);\n",
              "      border-right-color: var(--fill-color);\n",
              "    }\n",
              "    40% {\n",
              "      border-color: transparent;\n",
              "      border-right-color: var(--fill-color);\n",
              "      border-top-color: var(--fill-color);\n",
              "    }\n",
              "    60% {\n",
              "      border-color: transparent;\n",
              "      border-right-color: var(--fill-color);\n",
              "    }\n",
              "    80% {\n",
              "      border-color: transparent;\n",
              "      border-right-color: var(--fill-color);\n",
              "      border-bottom-color: var(--fill-color);\n",
              "    }\n",
              "    90% {\n",
              "      border-color: transparent;\n",
              "      border-bottom-color: var(--fill-color);\n",
              "    }\n",
              "  }\n",
              "</style>\n",
              "\n",
              "  <script>\n",
              "    async function quickchart(key) {\n",
              "      const quickchartButtonEl =\n",
              "        document.querySelector('#' + key + ' button');\n",
              "      quickchartButtonEl.disabled = true;  // To prevent multiple clicks.\n",
              "      quickchartButtonEl.classList.add('colab-df-spinner');\n",
              "      try {\n",
              "        const charts = await google.colab.kernel.invokeFunction(\n",
              "            'suggestCharts', [key], {});\n",
              "      } catch (error) {\n",
              "        console.error('Error during call to suggestCharts:', error);\n",
              "      }\n",
              "      quickchartButtonEl.classList.remove('colab-df-spinner');\n",
              "      quickchartButtonEl.classList.add('colab-df-quickchart-complete');\n",
              "    }\n",
              "    (() => {\n",
              "      let quickchartButtonEl =\n",
              "        document.querySelector('#df-234e762f-0c1e-494d-bbda-eff8455448fc button');\n",
              "      quickchartButtonEl.style.display =\n",
              "        google.colab.kernel.accessAllowed ? 'block' : 'none';\n",
              "    })();\n",
              "  </script>\n",
              "</div>\n",
              "    </div>\n",
              "  </div>\n"
            ]
          },
          "metadata": {},
          "execution_count": 8
        }
      ],
      "source": [
        "# Преобразуем список в датасрейм\n",
        "df = pd.DataFrame(responses)\n",
        "df.head()"
      ]
    },
    {
      "cell_type": "code",
      "execution_count": 9,
      "metadata": {
        "colab": {
          "base_uri": "https://localhost:8080/"
        },
        "id": "e8IZB6EAq5B3",
        "outputId": "14ab98cc-0113-415d-f2e1-774184ce70b3"
      },
      "outputs": [
        {
          "output_type": "stream",
          "name": "stdout",
          "text": [
            "<class 'pandas.core.frame.DataFrame'>\n",
            "RangeIndex: 153499 entries, 0 to 153498\n",
            "Data columns (total 10 columns):\n",
            " #   Column              Non-Null Count   Dtype  \n",
            "---  ------              --------------   -----  \n",
            " 0   city                138325 non-null  object \n",
            " 1   rating_not_checked  153499 non-null  bool   \n",
            " 2   title               153499 non-null  object \n",
            " 3   num_comments        153499 non-null  int64  \n",
            " 4   bank_license        153498 non-null  object \n",
            " 5   author              153479 non-null  object \n",
            " 6   bank_name           153499 non-null  object \n",
            " 7   datetime            153499 non-null  object \n",
            " 8   text                153499 non-null  object \n",
            " 9   rating_grade        88658 non-null   float64\n",
            "dtypes: bool(1), float64(1), int64(1), object(7)\n",
            "memory usage: 10.7+ MB\n"
          ]
        }
      ],
      "source": [
        "df.info()"
      ]
    },
    {
      "cell_type": "code",
      "execution_count": 10,
      "metadata": {
        "id": "h7wFqWqyrXtZ"
      },
      "outputs": [],
      "source": [
        "df['text'] = df['text'].astype(str).apply(lambda x: x.lower()) # преобразуем  внижний регистр"
      ]
    },
    {
      "cell_type": "markdown",
      "metadata": {
        "id": "C5pJzn-pPO5W"
      },
      "source": [
        "## Часть 1. Анализ текстов"
      ]
    },
    {
      "cell_type": "markdown",
      "metadata": {
        "id": "85sChSO7PUo6"
      },
      "source": [
        "### Посчитайте количество отзывов в разных городах"
      ]
    },
    {
      "cell_type": "code",
      "execution_count": 11,
      "metadata": {
        "id": "tWHoY0cdRxeU"
      },
      "outputs": [],
      "source": [
        "df['city'] = df['city'].astype(str).apply(lambda x: x.lower().replace('г. ', '').replace('г.', \"\").replace('г ', \"\").replace('город ', \"\").replace('п.', \"\").replace('пгт.', \"\").replace('пгт', \"\").replace('(', \"\").replace(')',\"\"))"
      ]
    },
    {
      "cell_type": "code",
      "execution_count": 12,
      "metadata": {
        "colab": {
          "base_uri": "https://localhost:8080/"
        },
        "id": "pupfV--MPYV4",
        "outputId": "ecb2081f-d29a-43ff-d496-1d2da4588ee0"
      },
      "outputs": [
        {
          "output_type": "execute_result",
          "data": {
            "text/plain": [
              "135817"
            ]
          },
          "metadata": {},
          "execution_count": 12
        }
      ],
      "source": [
        "# Получим кол-во записей по топ 100 городов с наибольшим количеством отзывов.\n",
        "df['city'].value_counts()[:100].sum()"
      ]
    },
    {
      "cell_type": "code",
      "execution_count": 13,
      "metadata": {
        "colab": {
          "base_uri": "https://localhost:8080/"
        },
        "id": "L_9be4B9AIIK",
        "outputId": "b00dc93f-10b1-4259-8e7a-86a5c1b55ef8"
      },
      "outputs": [
        {
          "output_type": "stream",
          "name": "stdout",
          "text": [
            "98.19%\n"
          ]
        }
      ],
      "source": [
        "# более 98% всех отзывов - по топ100 городам. Остальное - это опечатки,  города с небольшим количеством отзывов и пр. - можно не рассматривать\n",
        "print(f'{round(135817/138325*100,2)}%')"
      ]
    },
    {
      "cell_type": "code",
      "execution_count": 14,
      "metadata": {
        "colab": {
          "base_uri": "https://localhost:8080/"
        },
        "id": "qvlh9tZM-QKy",
        "outputId": "f1efd04c-9055-41d3-b485-2ba71ea2eed1"
      },
      "outputs": [
        {
          "output_type": "execute_result",
          "data": {
            "text/plain": [
              "москва             56787\n",
              "none               15174\n",
              "санкт-петербург    14664\n",
              "новосибирск         2383\n",
              "екатеринбург        2378\n",
              "                   ...  \n",
              "чита                 132\n",
              "электросталь         130\n",
              "стерлитамак          118\n",
              "якутск               117\n",
              "благовещенск         117\n",
              "Name: city, Length: 100, dtype: int64"
            ]
          },
          "metadata": {},
          "execution_count": 14
        }
      ],
      "source": [
        "# Выведем список таких городов  в порядке убывания\n",
        "df['city'].value_counts()[:100]"
      ]
    },
    {
      "cell_type": "code",
      "execution_count": 15,
      "metadata": {
        "colab": {
          "base_uri": "https://localhost:8080/",
          "height": 545
        },
        "id": "Xg0qBIOn-skn",
        "outputId": "0ac6f09a-ac62-40a7-a156-8a6e2f99ee36"
      },
      "outputs": [
        {
          "output_type": "display_data",
          "data": {
            "text/plain": [
              "<Figure size 800x600 with 1 Axes>"
            ],
            "image/png": "[encoded data removed]"
          },
          "metadata": {}
        }
      ],
      "source": [
        "cities = df.groupby(['city']).count()['text'].sort_values(ascending=False).head(20)\n",
        "rcParams['figure.figsize'] = 8, 6\n",
        "plt.barh(cities.index[::-1],cities.values[::-1])\n",
        "plt.xlabel('Количество отзывов по городам')\n",
        "plt.ylabel('Top 20')\n",
        "plt.show()"
      ]
    },
    {
      "cell_type": "markdown",
      "metadata": {
        "id": "ljMKt0oPqNGK"
      },
      "source": [
        "### Посчитайте количество отзывов на разные банки"
      ]
    },
    {
      "cell_type": "code",
      "execution_count": 16,
      "metadata": {
        "colab": {
          "base_uri": "https://localhost:8080/"
        },
        "id": "lOYj5SRlPi8p",
        "outputId": "392eb635-ef78-459e-f306-85d35a56d33a"
      },
      "outputs": [
        {
          "output_type": "execute_result",
          "data": {
            "text/plain": [
              "Сбербанк России     26327\n",
              "Альфа-Банк          10224\n",
              "ВТБ 24               8185\n",
              "Русский Стандарт     7943\n",
              "Хоум Кредит Банк     7549\n",
              "                    ...  \n",
              "Сиббизнесбанк           1\n",
              "Донбанк                 1\n",
              "Потенциал               1\n",
              "Ури Банк                1\n",
              "БайкалИнвестБанк        1\n",
              "Name: bank_name, Length: 670, dtype: int64"
            ]
          },
          "metadata": {},
          "execution_count": 16
        }
      ],
      "source": [
        "df['bank_name'].value_counts()"
      ]
    },
    {
      "cell_type": "code",
      "execution_count": 20,
      "metadata": {
        "id": "4gn5d_sbz-w3"
      },
      "outputs": [],
      "source": [
        "df['bank_name'] = df['bank_name'].astype(str).apply(lambda x: x.lower().replace('г. ', '').replace('г.', \"\").replace('г ', \"\"))"
      ]
    },
    {
      "cell_type": "code",
      "execution_count": 21,
      "metadata": {
        "colab": {
          "base_uri": "https://localhost:8080/"
        },
        "id": "i-9t60IF_GCA",
        "outputId": "752dac9f-ac2d-4176-e23f-d8a7e310b1a1"
      },
      "outputs": [
        {
          "output_type": "execute_result",
          "data": {
            "text/plain": [
              "133324"
            ]
          },
          "metadata": {},
          "execution_count": 21
        }
      ],
      "source": [
        "df['bank_name'].value_counts()[:50].sum()"
      ]
    },
    {
      "cell_type": "code",
      "execution_count": 22,
      "metadata": {
        "colab": {
          "base_uri": "https://localhost:8080/"
        },
        "id": "qD9qw4BBz-w5",
        "outputId": "04b05aca-5aca-4c35-fb21-8811050bef78"
      },
      "outputs": [
        {
          "output_type": "stream",
          "name": "stdout",
          "text": [
            "86.86%\n"
          ]
        }
      ],
      "source": [
        "# Почти 87% приходится на топ50 банков. Остальные = опечатки и банки с небольшим количеством отзывов = можно не принимать во внимамние\n",
        "print(f'{round(133324/153499*100,2)}%')"
      ]
    },
    {
      "cell_type": "code",
      "execution_count": 23,
      "metadata": {
        "colab": {
          "base_uri": "https://localhost:8080/"
        },
        "id": "nV2YDmyV_Oa-",
        "outputId": "77260768-8eba-4858-864a-edccebaf4719"
      },
      "outputs": [
        {
          "output_type": "execute_result",
          "data": {
            "text/plain": [
              "сбербанк россии                                         26327\n",
              "альфа-банк                                              10224\n",
              "втб 24                                                   8185\n",
              "русский стандарт                                         7943\n",
              "хоум кредит банк                                         7549\n",
              "тинькофф банк                                            5387\n",
              "национальный банк «траст»                                4607\n",
              "ренессанс кредит                                         3849\n",
              "связной банк                                             3775\n",
              "отп банк                                                 3237\n",
              "восточный экспресс банк                                  3138\n",
              "райффайзенбанк                                           3057\n",
              "московский кредитный банк                                2944\n",
              "ситибанк                                                 2848\n",
              "авангард                                                 2733\n",
              "промсвязьбанк                                            2586\n",
              "юникредит банк                                           2488\n",
              "банк москвы                                              2456\n",
              "ханты-мансийский банк открытие                           2158\n",
              "мтс банк                                                 1870\n",
              "киви банк                                                1741\n",
              "кредит европа банк                                       1683\n",
              "росбанк                                                  1658\n",
              "бинбанк                                                  1646\n",
              "бинбанк кредитные карты                                  1464\n",
              "сетелем банк                                             1351\n",
              "московский областной банк                                1277\n",
              "юниаструм банк                                           1111\n",
              "современный коммерческий банк (бывш. джии мани банк)      993\n",
              "уралсиб                                                   989\n",
              "айманибанк                                                925\n",
              "совкомбанк                                                919\n",
              "абсолют банк                                              782\n",
              "мдм банк                                                  776\n",
              "русфинанс банк                                            723\n",
              "русславбанк                                               715\n",
              "2т банк                                                   655\n",
              "сб банк (судостроительный банк)                           555\n",
              "фк открытие (бывш. номос-банк)                            549\n",
              "россельхозбанк                                            532\n",
              "уральский банк реконструкции и развития                   532\n",
              "пробизнесбанк                                             521\n",
              "газпромбанк                                               505\n",
              "лето банк                                                 501\n",
              "дельтакредит                                              501\n",
              "росгосстрах банк                                          498\n",
              "бнп париба банк                                           475\n",
              "росинтербанк                                              472\n",
              "смп банк                                                  463\n",
              "югра                                                      451\n",
              "Name: bank_name, dtype: int64"
            ]
          },
          "metadata": {},
          "execution_count": 23
        }
      ],
      "source": [
        "df['bank_name'].value_counts()[:50] # На рисунке - только 20 банков, иначе плохо видно"
      ]
    },
    {
      "cell_type": "code",
      "execution_count": 24,
      "metadata": {
        "colab": {
          "base_uri": "https://localhost:8080/",
          "height": 476
        },
        "id": "Swnlsm4p_RKn",
        "outputId": "8785cff2-0897-4427-e6ac-8ebbdf244528"
      },
      "outputs": [
        {
          "output_type": "display_data",
          "data": {
            "text/plain": [
              "<Figure size 800x600 with 1 Axes>"
            ],
            "image/png": "[encoded data removed]"
          },
          "metadata": {}
        }
      ],
      "source": [
        "banks = df.groupby(['bank_name']).count()['text'].sort_values(ascending=False).head(20)\n",
        "rcParams['figure.figsize'] = 8, 6\n",
        "plt.barh(banks.index[::-1],banks.values[::-1])\n",
        "plt.xlabel('Количество отзывов по банкам')\n",
        "plt.ylabel('Top 20')\n",
        "plt.show()"
      ]
    },
    {
      "cell_type": "markdown",
      "metadata": {
        "id": "h3pVheELP3J0"
      },
      "source": [
        "### Постройте гистограмы длин слов в символах и в словах"
      ]
    },
    {
      "cell_type": "code",
      "execution_count": 19,
      "metadata": {
        "id": "NIbcejWvQAnp"
      },
      "outputs": [],
      "source": [
        "# Создадим 2 новых столбца в датафрейме с длиной отзывов в символах и словах\n",
        "df['length'] = df['text'].apply(lambda x: len(x))\n",
        "df['words'] = df['text'].apply(lambda x: len(word_tokenize(x)))"
      ]
    },
    {
      "cell_type": "code",
      "source": [
        "len_c = df.length\n",
        "rcParams['figure.figsize'] = 8, 6\n",
        "len_c[len_c<10000].plot(kind='hist',bins=50)\n",
        "plt.xlabel('Длины отзывов в символах')\n",
        "plt.ylabel('')\n",
        "plt.show()"
      ],
      "metadata": {
        "colab": {
          "base_uri": "https://localhost:8080/",
          "height": 546
        },
        "id": "TnDp5TXLFbEJ",
        "outputId": "4d8b005e-663d-4b46-8d16-40ca1d74ae95"
      },
      "execution_count": 25,
      "outputs": [
        {
          "output_type": "display_data",
          "data": {
            "text/plain": [
              "<Figure size 800x600 with 1 Axes>"
            ],
            "image/png": "[encoded data removed]"
          },
          "metadata": {}
        }
      ]
    },
    {
      "cell_type": "code",
      "source": [
        "len_t = df.words\n",
        "rcParams['figure.figsize'] = 8, 6\n",
        "len_t[len_t<2000].plot(kind='hist',bins=50)\n",
        "plt.xlabel('Длины отзывов в словах')\n",
        "plt.ylabel('')\n",
        "plt.show()"
      ],
      "metadata": {
        "colab": {
          "base_uri": "https://localhost:8080/",
          "height": 546
        },
        "id": "zgbFam1NFcJG",
        "outputId": "8ddf6041-a817-4ca1-c5e6-bf5831b5d2b1"
      },
      "execution_count": 26,
      "outputs": [
        {
          "output_type": "display_data",
          "data": {
            "text/plain": [
              "<Figure size 800x600 with 1 Axes>"
            ],
            "image/png": "[encoded data removed]"
          },
          "metadata": {}
        }
      ]
    },
    {
      "cell_type": "code",
      "source": [
        "df.drop(columns=['length', 'words'], inplace=True) # удаляем новые столбцы, он больше не нужны"
      ],
      "metadata": {
        "id": "9PHD2isYFhRZ"
      },
      "execution_count": 27,
      "outputs": []
    },
    {
      "cell_type": "markdown",
      "source": [
        "## Найдите 10 самых частых:\n",
        "    * слов\n",
        "    * слов без стоп-слов\n",
        "    * лемм\n",
        "    * существительных"
      ],
      "metadata": {
        "id": "qMwc9ZVOFqGD"
      }
    },
    {
      "cell_type": "code",
      "execution_count": 28,
      "metadata": {
        "id": "RHZKrDM9wHlv"
      },
      "outputs": [],
      "source": [
        "noise = stopwords.words('russian') + list(punctuation) + ['``', \"''\", '...', 'это', ' ', ', ', '  ', ' - ', ' \"', ' )',' (']"
      ]
    },
    {
      "cell_type": "code",
      "execution_count": 29,
      "metadata": {
        "id": "wLPuMRV-v6Hs"
      },
      "outputs": [],
      "source": [
        "def remove_stopwords(text, mystopwords=noise):\n",
        "    try:\n",
        "        return \" \".join([token for token in text.split() if not token in mystopwords])\n",
        "    except:\n",
        "        return \"\"\n",
        "regex = re.compile(\"[А-Яа-я]+\")\n",
        "\n",
        "def words_only(text, regex=regex):\n",
        "    try:\n",
        "        return \" \".join(regex.findall(text))\n",
        "    except:\n",
        "        return \"\""
      ]
    },
    {
      "cell_type": "code",
      "execution_count": 30,
      "metadata": {
        "id": "Cb0VR-2qvzkL"
      },
      "outputs": [],
      "source": [
        "df['text_tokenized'] =  df.text.str.lower().apply(words_only)\n",
        "df['text_tokenized_stop_worlds'] = df.text_tokenized.str.lower().apply(remove_stopwords)"
      ]
    },
    {
      "cell_type": "code",
      "execution_count": 31,
      "metadata": {
        "id": "BVZyfSclr8T6"
      },
      "outputs": [],
      "source": [
        "import multiprocessing as mp\n",
        "import pymorphy2\n",
        "\n",
        "# создание объекта лемматизатора\n",
        "morph = pymorphy2.MorphAnalyzer()\n",
        "# функция для лемматизации одного слова\n",
        "def lemmatize_word(word):\n",
        "    return morph.parse(word)[0].normal_form\n",
        "\n",
        "# функция для лемматизации текста в отдельном потоке\n",
        "def process_text(text):\n",
        "    words = text.split()\n",
        "    with mp.Pool() as pool:\n",
        "        lemmas = pool.map(lemmatize_word, words)\n",
        "    return ' '.join(lemmas)\n",
        "\n",
        "def lemmatize(text):\n",
        "    from pymystem3 import Mystem\n",
        "    m = Mystem()\n",
        "    merged_text = \"|\".join(text)\n",
        "\n",
        "    doc = []\n",
        "    res = []\n",
        "\n",
        "    for t in m.lemmatize(merged_text):\n",
        "        if t != '|':\n",
        "            doc.append(t)\n",
        "        else:\n",
        "            res.append(doc)\n",
        "            doc = []\n",
        "\n",
        "    return res"
      ]
    },
    {
      "cell_type": "code",
      "source": [
        "# Самые частотные слова\n",
        "corpus = [token for response in df.text_tokenized for token in word_tokenize(response)]\n",
        "freq_dict = Counter(corpus)\n",
        "print('10 самых частых слов  в отзывах')\n",
        "freq_dict.most_common(10)"
      ],
      "metadata": {
        "colab": {
          "base_uri": "https://localhost:8080/"
        },
        "id": "nI8kUFcZCdVv",
        "outputId": "39cb2fd8-5153-451b-a000-96cac6b1f5be"
      },
      "execution_count": 32,
      "outputs": [
        {
          "output_type": "stream",
          "name": "stdout",
          "text": [
            "10 самых частых слов  в отзывах\n"
          ]
        },
        {
          "output_type": "execute_result",
          "data": {
            "text/plain": [
              "[('в', 1330550),\n",
              " ('и', 1058997),\n",
              " ('не', 855335),\n",
              " ('на', 707935),\n",
              " ('что', 640057),\n",
              " ('я', 577500),\n",
              " ('с', 464037),\n",
              " ('по', 372769),\n",
              " ('мне', 320958),\n",
              " ('банка', 275906)]"
            ]
          },
          "metadata": {},
          "execution_count": 32
        }
      ]
    },
    {
      "cell_type": "code",
      "source": [
        "# самые частотные слова без учета стоп-слов\n",
        "corpus = [token for response in df.text_tokenized_stop_worlds for token in word_tokenize(response)]\n",
        "freq_dict = Counter(corpus)\n",
        "freq_dict.most_common(10)"
      ],
      "metadata": {
        "colab": {
          "base_uri": "https://localhost:8080/"
        },
        "id": "j7ctRzTuCulq",
        "outputId": "ce92287b-2480-42c9-b3e4-c94ed7b6a8ad"
      },
      "execution_count": 33,
      "outputs": [
        {
          "output_type": "execute_result",
          "data": {
            "text/plain": [
              "[('банка', 275906),\n",
              " ('банк', 215426),\n",
              " ('деньги', 131201),\n",
              " ('карту', 105829),\n",
              " ('карты', 101821),\n",
              " ('т', 91756),\n",
              " ('кредит', 81136),\n",
              " ('день', 76552),\n",
              " ('банке', 72169),\n",
              " ('заявление', 70423)]"
            ]
          },
          "metadata": {},
          "execution_count": 33
        }
      ]
    },
    {
      "cell_type": "code",
      "source": [
        "from pymystem3 import Mystem\n",
        "m = Mystem()"
      ],
      "metadata": {
        "id": "uFzKyyPIhxyV"
      },
      "execution_count": 60,
      "outputs": []
    },
    {
      "cell_type": "code",
      "source": [
        "def to_lemmas(text, mystem=m):\n",
        "    try:\n",
        "        return \"\".join(m.lemmatize(text)).strip()\n",
        "    except:\n",
        "        return \" \""
      ],
      "metadata": {
        "id": "AwlAYIt7euma"
      },
      "execution_count": 61,
      "outputs": []
    },
    {
      "cell_type": "code",
      "source": [
        "df['lemma'] = df['text_tokenized_stop_worlds'].apply(to_lemmas)"
      ],
      "metadata": {
        "id": "oQiMmq2Wihgu"
      },
      "execution_count": null,
      "outputs": []
    },
    {
      "cell_type": "code",
      "source": [
        "corpus = [token for response in df.lemma for token in word_tokenize(response)]\n",
        "freq_dict = Counter(corpus)\n"
      ],
      "metadata": {
        "id": "aaHOTKoJir3o"
      },
      "execution_count": null,
      "outputs": []
    },
    {
      "cell_type": "code",
      "source": [
        "print('10 самых частых лемм в отзывах без учета стоп-слов')\n",
        "freq_dict.most_common(10)"
      ],
      "metadata": {
        "id": "qQr8jY10jtrJ"
      },
      "execution_count": null,
      "outputs": []
    },
    {
      "cell_type": "code",
      "execution_count": 34,
      "metadata": {
        "colab": {
          "base_uri": "https://localhost:8080/"
        },
        "id": "fs1AN8Q-4V79",
        "outputId": "e6d2854b-9a6b-4a2d-99ae-d2f22daf7bee"
      },
      "outputs": [
        {
          "output_type": "stream",
          "name": "stderr",
          "text": [
            "100%|██████████| 154/154 [19:14<00:00,  7.50s/it]\n"
          ]
        }
      ],
      "source": [
        "# from tqdm import tqdm\n",
        "# from joblib import Parallel, delayed\n",
        "# batch_size = 1000\n",
        "# texts = df['text_tokenized_stop_worlds'].to_list()\n",
        "# text_batch = [texts[i: i + batch_size] for i in range(0, len(texts), batch_size)]\n",
        "# processed_texts_ = Parallel(n_jobs=-1)(delayed(lemmatize)(t) for t in tqdm(text_batch))"
      ]
    },
    {
      "cell_type": "code",
      "source": [
        "# res = []\n",
        "# for item in tqdm(processed_texts_):\n",
        "#   for el in item[0]:\n",
        "#     if el != ' ':\n",
        "#       res.append(el)"
      ],
      "metadata": {
        "colab": {
          "base_uri": "https://localhost:8080/"
        },
        "id": "up7Ab2HMBVGo",
        "outputId": "5534ec6a-5f8b-42b9-fe87-832316b8952f"
      },
      "execution_count": 35,
      "outputs": [
        {
          "output_type": "stream",
          "name": "stderr",
          "text": [
            "100%|██████████| 154/154 [00:00<00:00, 14546.17it/s]\n"
          ]
        }
      ]
    },
    {
      "cell_type": "code",
      "source": [
        "# len(processed_texts_[0][998])"
      ],
      "metadata": {
        "colab": {
          "base_uri": "https://localhost:8080/"
        },
        "id": "437heAZNgHlT",
        "outputId": "0ee18476-30ab-4c32-8d4f-009d44a5bb7f"
      },
      "execution_count": 54,
      "outputs": [
        {
          "output_type": "execute_result",
          "data": {
            "text/plain": [
              "105"
            ]
          },
          "metadata": {},
          "execution_count": 54
        }
      ]
    },
    {
      "cell_type": "code",
      "source": [
        "# len(res)"
      ],
      "metadata": {
        "colab": {
          "base_uri": "https://localhost:8080/"
        },
        "id": "mY9NwjhvgAu5",
        "outputId": "6ff74909-71cd-4cc0-af09-f8e880cc99b4"
      },
      "execution_count": 47,
      "outputs": [
        {
          "output_type": "execute_result",
          "data": {
            "text/plain": [
              "21132"
            ]
          },
          "metadata": {},
          "execution_count": 47
        }
      ]
    },
    {
      "cell_type": "code",
      "source": [
        "# len(processed_texts_)"
      ],
      "metadata": {
        "colab": {
          "base_uri": "https://localhost:8080/"
        },
        "id": "sG2NSnsMedtE",
        "outputId": "b376c136-1faa-4911-b6e7-2f100b20706f"
      },
      "execution_count": 46,
      "outputs": [
        {
          "output_type": "execute_result",
          "data": {
            "text/plain": [
              "154"
            ]
          },
          "metadata": {},
          "execution_count": 46
        }
      ]
    },
    {
      "cell_type": "code",
      "source": [
        "# freq_dict = Counter(res)\n",
        "# print('10 самых частых лемм в отзывах без учета стоп-слов')\n",
        "# freq_dict.most_common(10)"
      ],
      "metadata": {
        "colab": {
          "base_uri": "https://localhost:8080/"
        },
        "id": "ejNaM5T5Kb0f",
        "outputId": "190fc06c-54c0-4f51-ff76-3d760879af29"
      },
      "execution_count": 36,
      "outputs": [
        {
          "output_type": "stream",
          "name": "stdout",
          "text": [
            "10 самых частых лемм в отзывах без учета стоп-слов\n"
          ]
        },
        {
          "output_type": "execute_result",
          "data": {
            "text/plain": [
              "[('банк', 589),\n",
              " ('карта', 317),\n",
              " ('деньги', 222),\n",
              " ('счет', 182),\n",
              " ('день', 177),\n",
              " ('мой', 170),\n",
              " ('который', 161),\n",
              " ('кредит', 134),\n",
              " ('отделение', 131),\n",
              " ('клиент', 128)]"
            ]
          },
          "metadata": {},
          "execution_count": 36
        }
      ]
    },
    {
      "cell_type": "code",
      "source": [
        "# Существительные\n",
        "nouns = []\n",
        "# for item in res:\n",
        "for item in corpus:\n",
        "  if 'NOUN' in morph.parse(item)[0].tag:\n",
        "    nouns.append(item)\n",
        "\n",
        "freq_dict = Counter(nouns)\n",
        "print('10 самых частых существительных в отзывах')\n",
        "freq_dict.most_common(10)"
      ],
      "metadata": {
        "colab": {
          "base_uri": "https://localhost:8080/"
        },
        "id": "IBbkAoPEKuu8",
        "outputId": "7eae248b-64b6-46f9-c80d-70e5d9833d4f"
      },
      "execution_count": 40,
      "outputs": [
        {
          "output_type": "stream",
          "name": "stdout",
          "text": [
            "10 самых частых существительных в отзывах\n"
          ]
        },
        {
          "output_type": "execute_result",
          "data": {
            "text/plain": [
              "[('банк', 589),\n",
              " ('карта', 317),\n",
              " ('деньги', 222),\n",
              " ('счет', 182),\n",
              " ('день', 177),\n",
              " ('кредит', 134),\n",
              " ('отделение', 131),\n",
              " ('клиент', 128),\n",
              " ('заявление', 124),\n",
              " ('сотрудник', 117)]"
            ]
          },
          "metadata": {},
          "execution_count": 40
        }
      ]
    },
    {
      "cell_type": "markdown",
      "metadata": {
        "id": "0bhqBmMuNf5X"
      },
      "source": [
        "\n",
        "### Постройте кривые Ципфа и Хипса"
      ]
    },
    {
      "cell_type": "code",
      "source": [
        "# кривая Ципфа (для существительных)\n",
        "freqs = list(freq_dict.values())\n",
        "freqs = sorted(freqs, reverse = True)\n",
        "fig, ax = plt.subplots()\n",
        "ax.plot(freqs[:300], range(300))\n",
        "plt.xlabel('Кривая Ципфа')\n",
        "plt.ylabel('')\n",
        "plt.show()"
      ],
      "metadata": {
        "colab": {
          "base_uri": "https://localhost:8080/",
          "height": 546
        },
        "id": "VyeNHsIIQ3dx",
        "outputId": "cc804c73-45aa-4d5d-caf2-e99f3d5e73af"
      },
      "execution_count": 41,
      "outputs": [
        {
          "output_type": "display_data",
          "data": {
            "text/plain": [
              "<Figure size 800x600 with 1 Axes>"
            ],
            "image/png": "[encoded data removed]"
          },
          "metadata": {}
        }
      ]
    },
    {
      "cell_type": "code",
      "source": [
        "# кривая Хипса\n",
        "cnt = Counter()\n",
        "n_words = []\n",
        "n_tokens = []\n",
        "tokens = []\n",
        "\n",
        "for index, row in tqdm(df.iterrows(), total=len(df)):\n",
        "    tokens = word_tokenize(row['text_tokenized_stop_worlds'])\n",
        "    cnt.update([token for token in tokens])\n",
        "    n_words.append(len(cnt))\n",
        "    n_tokens.append(sum(list(cnt.values())))"
      ],
      "metadata": {
        "colab": {
          "base_uri": "https://localhost:8080/"
        },
        "id": "uN1sTCfnRHmg",
        "outputId": "f0d35d53-04df-45d1-cebf-eb5871a38228"
      },
      "execution_count": 42,
      "outputs": [
        {
          "output_type": "stream",
          "name": "stderr",
          "text": [
            "100%|██████████| 153499/153499 [54:37<00:00, 46.83it/s]\n"
          ]
        }
      ]
    },
    {
      "cell_type": "code",
      "source": [
        "fig, ax = plt.subplots()\n",
        "ax.plot(n_tokens, n_words)\n",
        "plt.show()"
      ],
      "metadata": {
        "colab": {
          "base_uri": "https://localhost:8080/",
          "height": 540
        },
        "id": "Io3wVaVsRaay",
        "outputId": "0e5bdbf2-52d3-437b-aea5-52a52f993a66"
      },
      "execution_count": 43,
      "outputs": [
        {
          "output_type": "display_data",
          "data": {
            "text/plain": [
              "<Figure size 800x600 with 1 Axes>"
            ],
            "image/png": "[encoded data removed]"
          },
          "metadata": {}
        }
      ]
    },
    {
      "cell_type": "markdown",
      "source": [
        "### Ответьте на следующие вопросы:\n",
        "    * какое слово встречается чаще, \"сотрудник\" или \"клиент\"?\n",
        "    * сколько раз встречается слова \"мошенничество\" и \"доверие\"?"
      ],
      "metadata": {
        "id": "8UvSYUNaQtrQ"
      }
    },
    {
      "cell_type": "code",
      "source": [
        "# какое слово встречается чаще, \"сотрудник\" или \"клиент\"?\n",
        "\n",
        "print('Слово \"сотрудник\" встречается -\"',freq_dict['сотрудник'],'раз')\n",
        "print('Слово \"клиент\" встречается -\"',freq_dict['клиент'],'раз')"
      ],
      "metadata": {
        "colab": {
          "base_uri": "https://localhost:8080/"
        },
        "id": "Zg2M54cJEsy0",
        "outputId": "2f340e75-cee6-436e-be75-7b981e6b3466"
      },
      "execution_count": 44,
      "outputs": [
        {
          "output_type": "stream",
          "name": "stdout",
          "text": [
            "Слово \"сотрудник\" встречается -\" 117 раз\n",
            "Слово \"клиент\" встречается -\" 128 раз\n"
          ]
        }
      ]
    },
    {
      "cell_type": "markdown",
      "source": [
        "Вывод: слово \"клиент\" встречается чаще"
      ],
      "metadata": {
        "id": "JKuKFNb_RqYv"
      }
    },
    {
      "cell_type": "code",
      "source": [
        "# Сколько раз встречаются слова  \"мошенничество\" и \"доверие\"\n",
        "print('Слово \"мошенничество\" встречается -\"', freq_dict['мошенничество'],'раз')\n",
        "print('Слово \"доверие\" встречается -\"',freq_dict['доверие'],'раз')"
      ],
      "metadata": {
        "id": "PTrnh93iRmdN"
      },
      "execution_count": null,
      "outputs": []
    },
    {
      "cell_type": "markdown",
      "source": [
        "### В поле \"rating_grade\" записана оценка отзыва по шкале от 1 до 5. Используйте меру для того, чтобы найти ключевые слова и биграмы для положительных отзывов (с оценкой 5) и отрицательных отзывов (с оценкой 1)"
      ],
      "metadata": {
        "id": "rbFVgbNvQ4lg"
      }
    },
    {
      "cell_type": "code",
      "source": [
        "positives = df[df['rating_grade']==5]['text_tokenized_stop_worlds'].to_list() # Это все положительные отзывы\n",
        "negatives = df[df['rating_grade']==1]['text_tokenized_stop_worlds'].to_list() # Это все отрицательные отзывы\n",
        "batch_size = 1000\n",
        "text_batch_pos = [positives[i: i + batch_size] for i in range(0, len(positives), batch_size)] # Это батчи по 1000 позитивных отзывов\n",
        "text_batch_neg = [negatives[i: i + batch_size] for i in range(0, len(negatives), batch_size)] # это батчи по 1000 отрицательных отзывов"
      ],
      "metadata": {
        "id": "iz8pOz_DSaLB"
      },
      "execution_count": null,
      "outputs": []
    },
    {
      "cell_type": "code",
      "source": [
        "len(positives)"
      ],
      "metadata": {
        "id": "lZX2BhPGSjpX"
      },
      "execution_count": null,
      "outputs": []
    },
    {
      "cell_type": "code",
      "source": [
        "len(negatives)"
      ],
      "metadata": {
        "id": "W5ydV622SrBM"
      },
      "execution_count": null,
      "outputs": []
    },
    {
      "cell_type": "code",
      "source": [
        "def find_ngram(text, n):\n",
        "    \"\"\" находит n-граммы\n",
        "    на входе - список из слов\n",
        "    на выходе - список n-Грамм\n",
        "    \"\"\"\n",
        "    return list(ngrams(text.split(), n))"
      ],
      "metadata": {
        "id": "1DTIEpODSvss"
      },
      "execution_count": null,
      "outputs": []
    },
    {
      "cell_type": "code",
      "source": [
        "def find_key_ngrams(processed_texts, n, m):\n",
        "    \"\"\" возвращает n наиболее часто встречающихся m-грамм в корпусе\n",
        "    На входе - список -батч отзывов размером batch_size\n",
        "    \"\"\"\n",
        "    result = []\n",
        "    # # Берем по одному лемматизированному отзыву из батча\n",
        "    # print(len(processed_texts))\n",
        "    for item in tqdm(processed_texts):\n",
        "        # и находим  внем m-Граммы\n",
        "        # print(item)\n",
        "        result += find_ngram(item[0], m)\n",
        "        # print(len(result))\n",
        "    freq_dict = Counter(result)\n",
        "    # print(freq_dict)\n",
        "    # print(f'{n} самых частых {m}-грамм')\n",
        "    return freq_dict.most_common(n)"
      ],
      "metadata": {
        "id": "gDqhaDF-SzhD"
      },
      "execution_count": null,
      "outputs": []
    },
    {
      "cell_type": "code",
      "source": [
        "print('Ключевые слова в положительных отзывах')\n",
        "find_key_ngrams(text_batch_pos, 10, 1)"
      ],
      "metadata": {
        "id": "qzGIre2qS-HF"
      },
      "execution_count": null,
      "outputs": []
    },
    {
      "cell_type": "code",
      "source": [
        "print('Биграммы в положительных отзывах')\n",
        "find_key_ngrams(text_batch_pos, 10, 1)"
      ],
      "metadata": {
        "id": "CKv5KqG_TJcm"
      },
      "execution_count": null,
      "outputs": []
    },
    {
      "cell_type": "code",
      "source": [
        "print('Ключевые слова в отрицательных отзывах')\n",
        "find_key_ngrams(text_batch_neg, 10, 1)"
      ],
      "metadata": {
        "id": "L22wZ-vPTOrH"
      },
      "execution_count": null,
      "outputs": []
    },
    {
      "cell_type": "code",
      "source": [
        "print('Биграммы в отрицательных отзывах')\n",
        "find_key_ngrams(text_batch_neg, 10, 1)"
      ],
      "metadata": {
        "id": "-L99lnZ9TXZC"
      },
      "execution_count": null,
      "outputs": []
    },
    {
      "cell_type": "code",
      "source": [],
      "metadata": {
        "id": "FAn009mHT530"
      },
      "execution_count": null,
      "outputs": []
    },
    {
      "cell_type": "markdown",
      "metadata": {
        "id": "5cySuLCaqCPX"
      },
      "source": [
        "## Часть 2. Тематическое моделирование"
      ]
    },
    {
      "cell_type": "markdown",
      "source": [
        "### 2.1. Постройте несколько тематических моделей коллекции документов с разным числом тем. Приведите примеры понятных (интерпретируемых) тем."
      ],
      "metadata": {
        "id": "a7fVJc0PUBk2"
      }
    },
    {
      "cell_type": "code",
      "execution_count": null,
      "metadata": {
        "id": "hjA_Fb0fqn99"
      },
      "outputs": [],
      "source": [
        "import gensim.corpora as corpora\n",
        "from gensim.models import ldamodel"
      ]
    },
    {
      "cell_type": "code",
      "source": [
        "texts = [df['text_tokenized_stop_worlds'].iloc[i].split() for i in range(len(df))]\n",
        "dictionary = corpora.Dictionary(texts)\n",
        "corpus = [dictionary.doc2bow(text) for text in texts]"
      ],
      "metadata": {
        "id": "0pKJVgtIUwYW"
      },
      "execution_count": null,
      "outputs": []
    },
    {
      "cell_type": "code",
      "source": [
        "lda = ldamodel.LdaModel(corpus=corpus,\n",
        "                        id2word=dictionary,\n",
        "                        num_topics=20,\n",
        "                        alpha='auto',\n",
        "                        eta='auto',\n",
        "                        iterations = 20,\n",
        "                        passes = 5,\n",
        "                        random_state=42)"
      ],
      "metadata": {
        "id": "QcUampxMU4l5"
      },
      "execution_count": null,
      "outputs": []
    },
    {
      "cell_type": "code",
      "source": [
        "# 20 тем, рандомная выборка 5\n",
        "lda.show_topics(5)"
      ],
      "metadata": {
        "id": "ea9pdwelU9a6"
      },
      "execution_count": null,
      "outputs": []
    },
    {
      "cell_type": "code",
      "source": [
        "lda15 = ldamodel.LdaModel(corpus=corpus,\n",
        "                          id2word=dictionary,\n",
        "                          num_topics=15,\n",
        "                          alpha='auto',\n",
        "                          eta='auto',\n",
        "                          iterations = 20,\n",
        "                          passes = 5)"
      ],
      "metadata": {
        "id": "JAO8lvT-VA3X"
      },
      "execution_count": null,
      "outputs": []
    },
    {
      "cell_type": "code",
      "source": [
        "# 25 тем, рандомная выборка 5\n",
        "lda15.show_topics(5)"
      ],
      "metadata": {
        "id": "1oAyPKYYVDlR"
      },
      "execution_count": null,
      "outputs": []
    },
    {
      "cell_type": "code",
      "source": [
        "lda10 = ldamodel.LdaModel(corpus=corpus,\n",
        "                          id2word=dictionary,\n",
        "                          num_topics=10,\n",
        "                          alpha='auto',\n",
        "                          eta='auto',\n",
        "                          iterations = 20,\n",
        "                          passes = 5)"
      ],
      "metadata": {
        "id": "N8xzaapKVF_9"
      },
      "execution_count": null,
      "outputs": []
    },
    {
      "cell_type": "code",
      "source": [
        "# 10 тем, рандомная выборка 5\n",
        "lda10.show_topics(5)"
      ],
      "metadata": {
        "id": "U6a5fxFpVITn"
      },
      "execution_count": null,
      "outputs": []
    },
    {
      "cell_type": "markdown",
      "source": [
        "### 2.2. Найдите темы, в которых упомянуты конкретные банки (Сбербанк, ВТБ, другой банк). Можете ли вы их прокомментировать / объяснить? Эта часть задания может быть сделана с использованием gensim."
      ],
      "metadata": {
        "id": "XY27Vqb-UIUe"
      }
    },
    {
      "cell_type": "code",
      "source": [
        "ddf = df[df['bank_name'] == 'Росбанк']\n",
        "texts_bank = [ddf['lemma'].iloc[i].split() for i in range(len(ddf))]\n",
        "dictionary_bank = corpora.Dictionary(texts_bank)\n",
        "corpus_bank = [dictionary_bank.doc2bow(text) for text in texts_bank]"
      ],
      "metadata": {
        "id": "FDJ6B0PiUMYd"
      },
      "execution_count": null,
      "outputs": []
    },
    {
      "cell_type": "code",
      "source": [
        "lda_bank = ldamodel.LdaModel(corpus=corpus_bank,\n",
        "                          id2word=dictionary_bank,\n",
        "                          num_topics=15,\n",
        "                          alpha='auto',\n",
        "                          eta='auto',\n",
        "                          iterations = 20,\n",
        "                          passes = 5)"
      ],
      "metadata": {
        "id": "mSpmb6UjVOlL"
      },
      "execution_count": null,
      "outputs": []
    },
    {
      "cell_type": "markdown",
      "metadata": {
        "id": "AdPGUAq1qcFs"
      },
      "source": [
        "## Часть 3. Классификация текстов\n",
        "Сформулируем для простоты задачу бинарной классификации: будем классифицировать на два класса, то есть, различать резко отрицательные отзывы (с оценкой 1) и положительные отзывы (с оценкой 5).\n",
        "\n",
        "* Составьте обучающее и тестовое множество: выберите из всего набора данных N1 отзывов с оценкой 1 и N2 отзывов с оценкой 5 (значение N1 и N2 – на ваше усмотрение). Используйте sklearn.model_selection.train_test_split для разделения множества отобранных документов на обучающее и тестовое.\n",
        "Используйте любой известный вам алгоритм классификации текстов для решения задачи и получите baseline. Сравните разные варианты векторизации текста:\n",
        "  * использование только униграм,\n",
        "  * использование пар или троек слов или\n",
        "  * использованием символьных -грам.\n",
        "* Сравните, как изменяется качество решения задачи при использовании скрытых тем в качестве признаков:\n",
        "  * 1-ый вариант:\n",
        " преобразование (sklearn.feature_extraction.text.TfidfTransformer) и сингулярное разложение (оно же – латентый семантический анализ) (sklearn.decomposition.TruncatedSVD),\n",
        "  * 2-ой вариант: тематические модели LDA (sklearn.decomposition.LatentDirichletAllocation). Используйте accuracy и F-measure для оценки качества классификации.\n",
        "В ноутбуке, размещенном в папке репозитория. написан примерный Pipeline для классификации текстов.\n",
        "\n",
        "Эта часть задания может быть сделана с использованием sklearn."
      ]
    },
    {
      "cell_type": "markdown",
      "source": [
        "### 3.1. Подготовка обучающего и тестового датасетов, baseline классификация"
      ],
      "metadata": {
        "id": "e-tSlRbrVWXM"
      }
    },
    {
      "cell_type": "code",
      "source": [
        "n1 = 10000\n",
        "n2 = 10000\n",
        "df_sample = df[(df.rating_grade==1)].sample(n=n1).copy()\n",
        "df_sample = df_sample.append(df[(df.rating_grade==5)].sample(n=n2))\n",
        "df_sample.rating_grade.value_counts()"
      ],
      "metadata": {
        "id": "avYDe5JWVTKb"
      },
      "execution_count": null,
      "outputs": []
    },
    {
      "cell_type": "code",
      "source": [
        "X = df_sample['text_tokenized_stop_worlds'].values\n",
        "y = df_sample.rating_grade.values"
      ],
      "metadata": {
        "id": "MDdSMMkbVc7m"
      },
      "execution_count": null,
      "outputs": []
    },
    {
      "cell_type": "code",
      "source": [
        "X_train, X_test, y_train, y_test = train_test_split(X, y, test_size=0.3)"
      ],
      "metadata": {
        "id": "sJacWKlwViVi"
      },
      "execution_count": null,
      "outputs": []
    },
    {
      "cell_type": "code",
      "source": [
        "# Baseline Классификатор - Logistic Regression + CountVectorizer + униграммы, биграммы, триграммы на базе слов или символов\n",
        "clf_countvectorized = Pipeline(\n",
        "    [('vect', CountVectorizer()),\n",
        "     ('clf', LogisticRegression())]\n",
        ")\n",
        "\n",
        "params_cntv = {\n",
        "    'vect__analyzer': ['word','char'],\n",
        "    'vect__max_df': (0.5, 0.75, 1.0),\n",
        "    'vect__ngram_range': ((1, 1), (2, 2), (3, 3)),\n",
        "    'clf__C': np.logspace(-3,3,7),\n",
        "    'clf__penalty': ['l1','l2']\n",
        "}\n",
        "\n",
        "scores=['accuracy', 'f1']"
      ],
      "metadata": {
        "id": "Q_boyg4lVlAE"
      },
      "execution_count": null,
      "outputs": []
    },
    {
      "cell_type": "code",
      "source": [
        "grid_cntv = GridSearchCV(\n",
        "    clf_countvectorized,\n",
        "    param_grid=params_cntv,\n",
        "    cv=3,\n",
        "    scoring=scores,\n",
        "    refit=scores[0],\n",
        "    n_jobs=-1,\n",
        "    verbose=1\n",
        ")"
      ],
      "metadata": {
        "id": "TTbL_f11VoPs"
      },
      "execution_count": null,
      "outputs": []
    },
    {
      "cell_type": "code",
      "source": [
        "grid_cntv.fit(X_train, y_train)"
      ],
      "metadata": {
        "id": "tPYfQz1YVtK_"
      },
      "execution_count": null,
      "outputs": []
    },
    {
      "cell_type": "code",
      "source": [
        "predictions = grid_cntv.best_estimator_.predict(X_test)"
      ],
      "metadata": {
        "id": "1HrUtRy3VvKt"
      },
      "execution_count": null,
      "outputs": []
    },
    {
      "cell_type": "code",
      "source": [
        "print(f\"Best params: {grid_cntv.best_params_}\")"
      ],
      "metadata": {
        "id": "v7mZhpnxV8aT"
      },
      "execution_count": null,
      "outputs": []
    },
    {
      "cell_type": "code",
      "source": [
        "print(\"Best score: %0.3f\" % grid_cntv.best_score_)"
      ],
      "metadata": {
        "id": "FLiDMvxoVyqd"
      },
      "execution_count": null,
      "outputs": []
    },
    {
      "cell_type": "code",
      "source": [
        "print(classification_report(y_test, predictions))"
      ],
      "metadata": {
        "id": "f3Q5Afi7V0sR"
      },
      "execution_count": null,
      "outputs": []
    },
    {
      "cell_type": "code",
      "source": [
        "labels = grid_cntv.best_estimator_.classes_\n",
        "\n",
        "sns.heatmap(\n",
        "    data=confusion_matrix(y_test, predictions),\n",
        "    annot=True,\n",
        "    fmt=\"d\",\n",
        "    cbar=False,\n",
        "    xticklabels=labels,\n",
        "    yticklabels=labels\n",
        ")\n",
        "\n",
        "plt.title(\"Baseline Confusion matrix\")\n",
        "plt.show()"
      ],
      "metadata": {
        "id": "lrc_ud5vWmdn"
      },
      "execution_count": null,
      "outputs": []
    },
    {
      "cell_type": "code",
      "source": [
        "# Классификатор - Logistic Regression + CountVectorizer + TfidfTransformer + униграммы, биграммы, триграммы  на базе слов\n",
        "clf_tf_idf = Pipeline(\n",
        "    [('vect', CountVectorizer()),\n",
        "     ('tfidf', TfidfTransformer()),\n",
        "     ('clf', LogisticRegression())]\n",
        ")\n",
        "\n",
        "params_tf_idf={\n",
        "    'vect__analyzer': ['word'],\n",
        "    'vect__max_df': (0.5, 0.75, 1.0),\n",
        "    'vect__ngram_range': [(1, 1), (2, 2), (3, 3)],\n",
        "    'tfidf__use_idf': (True, False),\n",
        "    'clf__C': np.logspace(-3, 3, 7),\n",
        "    'clf__penalty': ['l1', 'l2']\n",
        "}\n",
        "\n",
        "scores=['accuracy','f1']"
      ],
      "metadata": {
        "id": "oRwwz3arWp3i"
      },
      "execution_count": null,
      "outputs": []
    },
    {
      "cell_type": "code",
      "source": [
        "grid_tf_idf = GridSearchCV(\n",
        "    clf_tf_idf,\n",
        "    param_grid=params_tf_idf,\n",
        "    cv=3,\n",
        "    scoring=scores,\n",
        "    refit=scores[0],\n",
        "    n_jobs=-1,\n",
        "    verbose=1\n",
        ")"
      ],
      "metadata": {
        "id": "yses-c-EWtTh"
      },
      "execution_count": null,
      "outputs": []
    },
    {
      "cell_type": "code",
      "source": [
        "grid_tf_idf.fit(X_train, y_train)"
      ],
      "metadata": {
        "id": "eU-4NTEfWxS1"
      },
      "execution_count": null,
      "outputs": []
    },
    {
      "cell_type": "code",
      "source": [
        "predictions = grid_tf_idf.best_estimator_.predict(X_test)"
      ],
      "metadata": {
        "id": "MjwOYi4oW5xP"
      },
      "execution_count": null,
      "outputs": []
    },
    {
      "cell_type": "code",
      "source": [
        "print(f\"Best params: {grid_tf_idf.best_params_}\")"
      ],
      "metadata": {
        "id": "OzN-82vWW_B9"
      },
      "execution_count": null,
      "outputs": []
    },
    {
      "cell_type": "code",
      "source": [
        "print(\"Best score: %0.3f\" % grid_tf_idf.best_score_)"
      ],
      "metadata": {
        "id": "FVMU8otrWyLp"
      },
      "execution_count": null,
      "outputs": []
    },
    {
      "cell_type": "code",
      "source": [
        "print(classification_report(y_test, predictions))"
      ],
      "metadata": {
        "id": "pPNZ_ek1W09U"
      },
      "execution_count": null,
      "outputs": []
    },
    {
      "cell_type": "code",
      "source": [
        "labels = grid_tf_idf.best_estimator_.classes_\n",
        "\n",
        "sns.heatmap(\n",
        "    data=confusion_matrix(y_test, predictions),\n",
        "    annot=True,\n",
        "    fmt=\"d\",\n",
        "    cbar=False,\n",
        "    xticklabels=labels,\n",
        "    yticklabels=labels\n",
        ")\n",
        "\n",
        "plt.title(\"TF_idf Confusion matrix\")\n",
        "plt.show()"
      ],
      "metadata": {
        "id": "t3JbBBMIXEIE"
      },
      "execution_count": null,
      "outputs": []
    },
    {
      "cell_type": "code",
      "source": [
        "# Сингулярное разложение\n",
        "clf_tf_idf_TruncatedSVD = Pipeline(\n",
        "    [('vect', CountVectorizer()),\n",
        "     ('tfidf', TfidfTransformer()),\n",
        "     ('tsvd', TruncatedSVD()),\n",
        "     ('clf', LogisticRegression())]\n",
        ")\n",
        "\n",
        "params_tf_idf_TruncatedSVD={\n",
        "    'vect__analyzer': ['word'],\n",
        "    'vect__ngram_range': [(1, 1), (2, 2), (3, 3)],\n",
        "    'tsvd__n_components': [5, 10, 25, 50, 100],\n",
        "    'clf__C': np.logspace(-3, 3, 7),\n",
        "    'clf__penalty': ['l1', 'l2']\n",
        "}\n",
        "\n",
        "scores=['accuracy','f1']"
      ],
      "metadata": {
        "id": "3BYZ0-zpXUhw"
      },
      "execution_count": null,
      "outputs": []
    },
    {
      "cell_type": "code",
      "source": [
        "grid_tf_idf_TruncatedSVD = GridSearchCV(\n",
        "    clf_tf_idf_TruncatedSVD,\n",
        "    param_grid=params_tf_idf_TruncatedSVD,\n",
        "    cv=3,\n",
        "    scoring=scores,\n",
        "    refit=scores[0],\n",
        "    n_jobs=-1,\n",
        "    verbose=1\n",
        ")"
      ],
      "metadata": {
        "id": "PlnXSVqaYFli"
      },
      "execution_count": null,
      "outputs": []
    },
    {
      "cell_type": "code",
      "source": [
        "grid_tf_idf_TruncatedSVD.fit(X_train, y_train)"
      ],
      "metadata": {
        "id": "yN4iZWAZYKcW"
      },
      "execution_count": null,
      "outputs": []
    },
    {
      "cell_type": "code",
      "source": [
        "predictions=grid_tf_idf_TruncatedSVD.best_estimator_.predict(X_test)"
      ],
      "metadata": {
        "id": "QshSlzQJYhw_"
      },
      "execution_count": null,
      "outputs": []
    },
    {
      "cell_type": "code",
      "source": [
        "print(f\"Best params: {grid_tf_idf_TruncatedSVD.best_params_}\")"
      ],
      "metadata": {
        "id": "MbYNrXvLYSBx"
      },
      "execution_count": null,
      "outputs": []
    },
    {
      "cell_type": "code",
      "source": [
        "print(\"Best score: %0.3f\" % grid_tf_idf_TruncatedSVD.best_score_)"
      ],
      "metadata": {
        "id": "R3cIpKtiYXL2"
      },
      "execution_count": null,
      "outputs": []
    },
    {
      "cell_type": "code",
      "source": [
        "print(classification_report(y_test, predictions))"
      ],
      "metadata": {
        "id": "dNUMfbP5YcpH"
      },
      "execution_count": null,
      "outputs": []
    },
    {
      "cell_type": "code",
      "source": [
        "labels = grid_tf_idf_TruncatedSVD.best_estimator_.classes_\n",
        "\n",
        "sns.heatmap(\n",
        "    data=confusion_matrix(y_test, predictions),\n",
        "    annot=True,\n",
        "    fmt=\"d\",\n",
        "    cbar=False,\n",
        "    xticklabels=labels,\n",
        "    yticklabels=labels\n",
        ")\n",
        "\n",
        "plt.title(\"TruncatedSVD Confusion matrix\")\n",
        "plt.show()"
      ],
      "metadata": {
        "id": "uVbdTfjBYlbK"
      },
      "execution_count": null,
      "outputs": []
    },
    {
      "cell_type": "code",
      "source": [
        "# LDA\n",
        "clf_tf_idf_LDA = Pipeline(\n",
        "    [('vect', CountVectorizer()),\n",
        "     ('lda', LatentDirichletAllocation()),\n",
        "     ('clf', LogisticRegression())]\n",
        ")\n",
        "\n",
        "params_tf_idf_LDA={\n",
        "    'vect__analyzer': ['word'],\n",
        "    'vect__max_df': [0.75],\n",
        "    'vect__ngram_range': [(1, 1)],\n",
        "    'lda__n_components' : [25, 50, 100],\n",
        "    'clf__C': np.logspace(-3, 3, 7),\n",
        "    'clf__penalty': ['l1']\n",
        "}\n",
        "\n",
        "scores=['accuracy', 'f1']"
      ],
      "metadata": {
        "id": "Y_Rm7NfAYrnw"
      },
      "execution_count": null,
      "outputs": []
    },
    {
      "cell_type": "code",
      "source": [
        "grid_tf_idf_LDA = GridSearchCV(\n",
        "    clf_tf_idf_LDA,\n",
        "    param_grid=params_tf_idf_LDA,\n",
        "    cv=3,\n",
        "    scoring=scores,\n",
        "    refit=scores[0],\n",
        "    n_jobs=-1,\n",
        "    verbose=1\n",
        ")"
      ],
      "metadata": {
        "id": "j9oD5SYqZVoe"
      },
      "execution_count": null,
      "outputs": []
    },
    {
      "cell_type": "code",
      "source": [
        "grid_tf_idf_LDA.fit(X_train, y_train)"
      ],
      "metadata": {
        "id": "bEPy3cN1ZxZa"
      },
      "execution_count": null,
      "outputs": []
    },
    {
      "cell_type": "code",
      "source": [
        "predictions=grid_tf_idf_LDA.best_estimator_.predict(X_test)"
      ],
      "metadata": {
        "id": "tfhVHmyNZ1_b"
      },
      "execution_count": null,
      "outputs": []
    },
    {
      "cell_type": "code",
      "source": [
        "print(f\"Best params: {grid_tf_idf_LDA.best_params_}\")"
      ],
      "metadata": {
        "id": "F9BuQZuzZ87D"
      },
      "execution_count": null,
      "outputs": []
    },
    {
      "cell_type": "code",
      "source": [
        "print(\"Best score: %0.3f\" % grid_tf_idf_LDA.best_score_)"
      ],
      "metadata": {
        "id": "FpsWpI8wZyMa"
      },
      "execution_count": null,
      "outputs": []
    },
    {
      "cell_type": "code",
      "source": [
        "print(classification_report(y_test, predictions))"
      ],
      "metadata": {
        "id": "Mi_3yUPJZ_Di"
      },
      "execution_count": null,
      "outputs": []
    },
    {
      "cell_type": "code",
      "source": [
        "labels = grid_tf_idf_LDA.best_estimator_.classes_\n",
        "\n",
        "sns.heatmap(\n",
        "    data=confusion_matrix(y_test, predictions),\n",
        "    annot=True,\n",
        "    fmt=\"d\",\n",
        "    cbar=False,\n",
        "    xticklabels=labels,\n",
        "    yticklabels=labels\n",
        ")\n",
        "\n",
        "plt.title(\"LDA Confusion matrix\")\n",
        "plt.show()"
      ],
      "metadata": {
        "id": "vxPHbTiLaC9o"
      },
      "execution_count": null,
      "outputs": []
    },
    {
      "cell_type": "code",
      "source": [
        "models=['grid_cntv', 'grid_tf_idf', 'grid_tf_idf_TruncatedSVD', 'grid_tf_idf_LDA']\n",
        "\n",
        "for model in models:\n",
        "    print(model[5:])\n",
        "    predictions=eval(model).best_estimator_.predict(X_test)\n",
        "    print(\"f1_score: {0:6.3f}\\nAccuracy: {0:6.3f}\\n\\n\".format(\n",
        "        f1_score(y_test, predictions, average='macro'),\n",
        "        accuracy_score(y_test, predictions)))"
      ],
      "metadata": {
        "id": "tjSepaLTaIAN"
      },
      "execution_count": null,
      "outputs": []
    }
  ],
  "metadata": {
    "colab": {
      "provenance": [],
      "mount_file_id": "1GQ0PXtDTG1K3xdToyz0ySrWp60hmD9sB",
      "authorship_tag": "ABX9TyO+bJArYgg35NMtp+YyOkAY",
      "include_colab_link": true
    },
    "kernelspec": {
      "display_name": "Python 3",
      "name": "python3"
    },
    "language_info": {
      "name": "python"
    }
  },
  "nbformat": 4,
  "nbformat_minor": 0
}
{
  "cells": [
    {
      "cell_type": "markdown",
      "metadata": {
        "id": "view-in-github",
        "colab_type": "text"
      },
      "source": [
        "<a href=\"https://colab.research.google.com/github/solobala/RMSL_9/blob/main/NLP8_DZ1.ipynb\" target=\"_parent\"><img src=\"https://colab.research.google.com/assets/colab-badge.svg\" alt=\"Open In Colab\"/></a>"
      ]
    },
    {
      "cell_type": "markdown",
      "metadata": {
        "id": "NG6pKBy830S3"
      },
      "source": [
        "# Классификация по тональности\n",
        "В этом домашнем задании вам предстоит классифицировать по тональности отзывы на банки с сайта banki.ru.\n",
        "\n",
        "Данные содержат непосредственно тексты отзывов, некоторую дополнительную информацию, а также оценку по шкале от 1 до 5.\n",
        "\n",
        "Тексты хранятся в json-ах в массиве responses.\n",
        "\n"
      ]
    },
    {
      "cell_type": "markdown",
      "source": [
        "## Импорт библиотек и пользовательские функции"
      ],
      "metadata": {
        "id": "5GMXKLn0E3cl"
      }
    },
    {
      "cell_type": "code",
      "source": [
        "from sklearn.pipeline import Pipeline\n",
        "from sklearn.model_selection import train_test_split, GridSearchCV\n",
        "from sklearn.base import BaseEstimator, TransformerMixin\n",
        "from sklearn.feature_extraction.text import CountVectorizer, TfidfTransformer\n",
        "from sklearn.metrics import precision_score, recall_score, f1_score, accuracy_score, classification_report, confusion_matrix\n",
        "from sklearn.linear_model import LogisticRegression\n",
        "from sklearn.decomposition import TruncatedSVD, LatentDirichletAllocation"
      ],
      "metadata": {
        "id": "_uBbi0reBq99"
      },
      "execution_count": 1,
      "outputs": []
    },
    {
      "cell_type": "code",
      "execution_count": 2,
      "metadata": {
        "colab": {
          "base_uri": "https://localhost:8080/"
        },
        "id": "ZhdZhlJu52Uz",
        "outputId": "c19d4651-18e8-4e42-dbfd-e4cd0c819c5e"
      },
      "outputs": [
        {
          "output_type": "stream",
          "name": "stderr",
          "text": [
            "[nltk_data] Downloading package punkt to /root/nltk_data...\n",
            "[nltk_data]   Unzipping tokenizers/punkt.zip.\n"
          ]
        },
        {
          "output_type": "stream",
          "name": "stdout",
          "text": [
            "Populating the interactive namespace from numpy and matplotlib\n"
          ]
        }
      ],
      "source": [
        "import json\n",
        "import bz2\n",
        "import re\n",
        "import regex\n",
        "from tqdm import tqdm\n",
        "from scipy import sparse\n",
        "import pandas as pd\n",
        "import numpy as np\n",
        "import nltk\n",
        "nltk.download('punkt')\n",
        "import matplotlib.pyplot as plt\n",
        "import seaborn as sns\n",
        "from tqdm import tqdm\n",
        "from joblib import Parallel, delayed\n",
        "%matplotlib inline\n",
        "%pylab inline\n",
        "import warnings\n",
        "warnings.filterwarnings('ignore')\n",
        "import matplotlib\n",
        "matplotlib.style.use('ggplot')\n",
        "from pylab import rcParams\n",
        "rcParams['figure.figsize'] = 10, 8\n",
        "from collections import Counter\n",
        "from nltk.tokenize import word_tokenize\n",
        "from nltk import FreqDist"
      ]
    },
    {
      "cell_type": "code",
      "execution_count": 3,
      "metadata": {
        "colab": {
          "base_uri": "https://localhost:8080/"
        },
        "id": "pgjWymfza_sZ",
        "outputId": "5716d006-3e82-455b-f4ec-507d9a07ca11"
      },
      "outputs": [
        {
          "output_type": "stream",
          "name": "stdout",
          "text": [
            "Collecting pymorphy2\n",
            "  Downloading pymorphy2-0.9.1-py3-none-any.whl (55 kB)\n",
            "\u001b[?25l     \u001b[90m━━━━━━━━━━━━━━━━━━━━━━━━━━━━━━━━━━━━━━━━\u001b[0m \u001b[32m0.0/55.5 kB\u001b[0m \u001b[31m?\u001b[0m eta \u001b[36m-:--:--\u001b[0m\r\u001b[2K     \u001b[90m━━━━━━━━━━━━━━━━━━━━━━━━━━━━━━━━━━━━━━━━\u001b[0m \u001b[32m55.5/55.5 kB\u001b[0m \u001b[31m1.6 MB/s\u001b[0m eta \u001b[36m0:00:00\u001b[0m\n",
            "\u001b[?25hCollecting dawg-python>=0.7.1 (from pymorphy2)\n",
            "  Downloading DAWG_Python-0.7.2-py2.py3-none-any.whl (11 kB)\n",
            "Collecting pymorphy2-dicts-ru<3.0,>=2.4 (from pymorphy2)\n",
            "  Downloading pymorphy2_dicts_ru-2.4.417127.4579844-py2.py3-none-any.whl (8.2 MB)\n",
            "\u001b[2K     \u001b[90m━━━━━━━━━━━━━━━━━━━━━━━━━━━━━━━━━━━━━━━━\u001b[0m \u001b[32m8.2/8.2 MB\u001b[0m \u001b[31m18.6 MB/s\u001b[0m eta \u001b[36m0:00:00\u001b[0m\n",
            "\u001b[?25hCollecting docopt>=0.6 (from pymorphy2)\n",
            "  Downloading docopt-0.6.2.tar.gz (25 kB)\n",
            "  Preparing metadata (setup.py) ... \u001b[?25l\u001b[?25hdone\n",
            "Building wheels for collected packages: docopt\n",
            "  Building wheel for docopt (setup.py) ... \u001b[?25l\u001b[?25hdone\n",
            "  Created wheel for docopt: filename=docopt-0.6.2-py2.py3-none-any.whl size=13705 sha256=b95284a73d66597877a5cbcd9979aff8809d1d12efdb45f3c072ef67f212cd82\n",
            "  Stored in directory: /root/.cache/pip/wheels/fc/ab/d4/5da2067ac95b36618c629a5f93f809425700506f72c9732fac\n",
            "Successfully built docopt\n",
            "Installing collected packages: pymorphy2-dicts-ru, docopt, dawg-python, pymorphy2\n",
            "Successfully installed dawg-python-0.7.2 docopt-0.6.2 pymorphy2-0.9.1 pymorphy2-dicts-ru-2.4.417127.4579844\n",
            "Requirement already satisfied: pymorphy2-dicts-ru in /usr/local/lib/python3.10/dist-packages (2.4.417127.4579844)\n"
          ]
        }
      ],
      "source": [
        "!pip install pymorphy2\n",
        "!pip install pymorphy2-dicts-ru"
      ]
    },
    {
      "cell_type": "code",
      "execution_count": 4,
      "metadata": {
        "colab": {
          "base_uri": "https://localhost:8080/"
        },
        "id": "V75toscfwVS_",
        "outputId": "b6faa424-55e7-42c5-c51a-4836b16404ae"
      },
      "outputs": [
        {
          "output_type": "stream",
          "name": "stderr",
          "text": [
            "[nltk_data] Downloading package stopwords to /root/nltk_data...\n",
            "[nltk_data]   Unzipping corpora/stopwords.zip.\n"
          ]
        },
        {
          "output_type": "execute_result",
          "data": {
            "text/plain": [
              "True"
            ]
          },
          "metadata": {},
          "execution_count": 4
        }
      ],
      "source": [
        "nltk.download('stopwords')"
      ]
    },
    {
      "cell_type": "code",
      "execution_count": 5,
      "metadata": {
        "id": "MC56c1lLwY2r"
      },
      "outputs": [],
      "source": [
        "from nltk.corpus import stopwords"
      ]
    },
    {
      "cell_type": "code",
      "execution_count": 6,
      "metadata": {
        "id": "BGFl00123ZD3"
      },
      "outputs": [],
      "source": [
        "from string import punctuation"
      ]
    },
    {
      "cell_type": "markdown",
      "source": [
        "## Загрузка и предобработка датасета"
      ],
      "metadata": {
        "id": "Wq5kPODWFCqg"
      }
    },
    {
      "cell_type": "code",
      "execution_count": 7,
      "metadata": {
        "colab": {
          "base_uri": "https://localhost:8080/"
        },
        "id": "N0y_-W0a5_lX",
        "outputId": "cca7465d-afb7-4b12-d287-971298de0d6f"
      },
      "outputs": [
        {
          "output_type": "stream",
          "name": "stderr",
          "text": [
            "201030it [03:14, 1033.71it/s]\n"
          ]
        }
      ],
      "source": [
        "# Формируем список отзывов\n",
        "responses = []\n",
        "with bz2.BZ2File('/content/drive/MyDrive/banki_responses.json.bz2', 'r') as thefile:\n",
        "    for row in tqdm(thefile):\n",
        "        resp = json.loads(row)\n",
        "        if not resp['rating_not_checked'] and (len(resp['text'].split()) > 0):\n",
        "            responses.append(resp)"
      ]
    },
    {
      "cell_type": "code",
      "execution_count": 8,
      "metadata": {
        "colab": {
          "base_uri": "https://localhost:8080/"
        },
        "id": "pcxiHgF36Yx7",
        "outputId": "b6c05698-2569-4083-9cc4-4c3fc5f9049d"
      },
      "outputs": [
        {
          "output_type": "execute_result",
          "data": {
            "text/plain": [
              "{'city': 'г. Саратов',\n",
              " 'rating_not_checked': False,\n",
              " 'title': 'Карта ко вкладу',\n",
              " 'num_comments': 0,\n",
              " 'bank_license': 'лицензия № 880',\n",
              " 'author': 'ronnichka',\n",
              " 'bank_name': 'Югра',\n",
              " 'datetime': '2015-06-03 20:56:57',\n",
              " 'text': 'Здравствуйте! Хотела написать, что мне месяц не выдают карту ко вкладу, ссылаясь на \"нам же их из Самары везут\" (на секундочку 5 часов езды от нашего города). Но! Прочитала, что людям 3,5 месяцев не выдают карту, и поняла, что у меня все хорошо, пока что. И подарок мне дали, и кулер в отделении есть. Так что я, конечно, готова ждать. Правда хотелось бы не очень долго.',\n",
              " 'rating_grade': 3}"
            ]
          },
          "metadata": {},
          "execution_count": 8
        }
      ],
      "source": [
        "# Посмотрим на пример отзыва:\n",
        "responses[99]"
      ]
    },
    {
      "cell_type": "code",
      "execution_count": 9,
      "metadata": {
        "colab": {
          "base_uri": "https://localhost:8080/",
          "height": 556
        },
        "id": "Xjfmf6xLOJxu",
        "outputId": "e700f407-4aae-4b48-86d2-1e2fc01cff5e"
      },
      "outputs": [
        {
          "output_type": "execute_result",
          "data": {
            "text/plain": [
              "             city  rating_not_checked  \\\n",
              "0       г. Москва               False   \n",
              "1  г. Новосибирск               False   \n",
              "2       г. Москва               False   \n",
              "3   г. Ставрополь               False   \n",
              "4    г. Челябинск               False   \n",
              "\n",
              "                                               title  num_comments  \\\n",
              "0                                             Жалоба             0   \n",
              "1      Не могу пользоваться услугой Сбербанк он-лайн             0   \n",
              "2                    Двойное списание за один товар.             1   \n",
              "3  Меняют проценты комиссии  не предупредив и не ...             2   \n",
              "4             Верните денежные средства за страховку             1   \n",
              "\n",
              "      bank_license       author        bank_name             datetime  \\\n",
              "0  лицензия № 2562       uhnov1          Бинбанк  2015-06-08 12:50:54   \n",
              "1  лицензия № 1481       Foryou  Сбербанк России  2015-06-08 11:09:57   \n",
              "2  лицензия № 2562   Vladimir84          Бинбанк  2015-06-05 20:14:28   \n",
              "3  лицензия № 1481       643609  Сбербанк России  2015-06-05 13:51:01   \n",
              "4  лицензия № 2766  anfisa-2003         ОТП Банк  2015-06-05 10:58:12   \n",
              "\n",
              "                                                text  rating_grade  \n",
              "0  Добрый день! Я не являюсь клиентом банка и пор...           NaN  \n",
              "1  Доброго дня! Являюсь держателем зарплатной кар...           NaN  \n",
              "2  Здравствуйте!  Дублирую свое заявление от 03.0...           NaN  \n",
              "3  Добрый день!! Я открыл расчетный счет в СберБа...           NaN  \n",
              "4  04.03.2015 г. взяла кредит в вашем банке, заяв...           NaN  "
            ],
            "text/html": [
              "\n",
              "  <div id=\"df-8583fb28-5844-41fe-9acd-7200ca776206\" class=\"colab-df-container\">\n",
              "    <div>\n",
              "<style scoped>\n",
              "    .dataframe tbody tr th:only-of-type {\n",
              "        vertical-align: middle;\n",
              "    }\n",
              "\n",
              "    .dataframe tbody tr th {\n",
              "        vertical-align: top;\n",
              "    }\n",
              "\n",
              "    .dataframe thead th {\n",
              "        text-align: right;\n",
              "    }\n",
              "</style>\n",
              "<table border=\"1\" class=\"dataframe\">\n",
              "  <thead>\n",
              "    <tr style=\"text-align: right;\">\n",
              "      <th></th>\n",
              "      <th>city</th>\n",
              "      <th>rating_not_checked</th>\n",
              "      <th>title</th>\n",
              "      <th>num_comments</th>\n",
              "      <th>bank_license</th>\n",
              "      <th>author</th>\n",
              "      <th>bank_name</th>\n",
              "      <th>datetime</th>\n",
              "      <th>text</th>\n",
              "      <th>rating_grade</th>\n",
              "    </tr>\n",
              "  </thead>\n",
              "  <tbody>\n",
              "    <tr>\n",
              "      <th>0</th>\n",
              "      <td>г. Москва</td>\n",
              "      <td>False</td>\n",
              "      <td>Жалоба</td>\n",
              "      <td>0</td>\n",
              "      <td>лицензия № 2562</td>\n",
              "      <td>uhnov1</td>\n",
              "      <td>Бинбанк</td>\n",
              "      <td>2015-06-08 12:50:54</td>\n",
              "      <td>Добрый день! Я не являюсь клиентом банка и пор...</td>\n",
              "      <td>NaN</td>\n",
              "    </tr>\n",
              "    <tr>\n",
              "      <th>1</th>\n",
              "      <td>г. Новосибирск</td>\n",
              "      <td>False</td>\n",
              "      <td>Не могу пользоваться услугой Сбербанк он-лайн</td>\n",
              "      <td>0</td>\n",
              "      <td>лицензия № 1481</td>\n",
              "      <td>Foryou</td>\n",
              "      <td>Сбербанк России</td>\n",
              "      <td>2015-06-08 11:09:57</td>\n",
              "      <td>Доброго дня! Являюсь держателем зарплатной кар...</td>\n",
              "      <td>NaN</td>\n",
              "    </tr>\n",
              "    <tr>\n",
              "      <th>2</th>\n",
              "      <td>г. Москва</td>\n",
              "      <td>False</td>\n",
              "      <td>Двойное списание за один товар.</td>\n",
              "      <td>1</td>\n",
              "      <td>лицензия № 2562</td>\n",
              "      <td>Vladimir84</td>\n",
              "      <td>Бинбанк</td>\n",
              "      <td>2015-06-05 20:14:28</td>\n",
              "      <td>Здравствуйте!  Дублирую свое заявление от 03.0...</td>\n",
              "      <td>NaN</td>\n",
              "    </tr>\n",
              "    <tr>\n",
              "      <th>3</th>\n",
              "      <td>г. Ставрополь</td>\n",
              "      <td>False</td>\n",
              "      <td>Меняют проценты комиссии  не предупредив и не ...</td>\n",
              "      <td>2</td>\n",
              "      <td>лицензия № 1481</td>\n",
              "      <td>643609</td>\n",
              "      <td>Сбербанк России</td>\n",
              "      <td>2015-06-05 13:51:01</td>\n",
              "      <td>Добрый день!! Я открыл расчетный счет в СберБа...</td>\n",
              "      <td>NaN</td>\n",
              "    </tr>\n",
              "    <tr>\n",
              "      <th>4</th>\n",
              "      <td>г. Челябинск</td>\n",
              "      <td>False</td>\n",
              "      <td>Верните денежные средства за страховку</td>\n",
              "      <td>1</td>\n",
              "      <td>лицензия № 2766</td>\n",
              "      <td>anfisa-2003</td>\n",
              "      <td>ОТП Банк</td>\n",
              "      <td>2015-06-05 10:58:12</td>\n",
              "      <td>04.03.2015 г. взяла кредит в вашем банке, заяв...</td>\n",
              "      <td>NaN</td>\n",
              "    </tr>\n",
              "  </tbody>\n",
              "</table>\n",
              "</div>\n",
              "    <div class=\"colab-df-buttons\">\n",
              "\n",
              "  <div class=\"colab-df-container\">\n",
              "    <button class=\"colab-df-convert\" onclick=\"convertToInteractive('df-8583fb28-5844-41fe-9acd-7200ca776206')\"\n",
              "            title=\"Convert this dataframe to an interactive table.\"\n",
              "            style=\"display:none;\">\n",
              "\n",
              "  <svg xmlns=\"http://www.w3.org/2000/svg\" height=\"24px\" viewBox=\"0 -960 960 960\">\n",
              "    <path d=\"M120-120v-720h720v720H120Zm60-500h600v-160H180v160Zm220 220h160v-160H400v160Zm0 220h160v-160H400v160ZM180-400h160v-160H180v160Zm440 0h160v-160H620v160ZM180-180h160v-160H180v160Zm440 0h160v-160H620v160Z\"/>\n",
              "  </svg>\n",
              "    </button>\n",
              "\n",
              "  <style>\n",
              "    .colab-df-container {\n",
              "      display:flex;\n",
              "      gap: 12px;\n",
              "    }\n",
              "\n",
              "    .colab-df-convert {\n",
              "      background-color: #E8F0FE;\n",
              "      border: none;\n",
              "      border-radius: 50%;\n",
              "      cursor: pointer;\n",
              "      display: none;\n",
              "      fill: #1967D2;\n",
              "      height: 32px;\n",
              "      padding: 0 0 0 0;\n",
              "      width: 32px;\n",
              "    }\n",
              "\n",
              "    .colab-df-convert:hover {\n",
              "      background-color: #E2EBFA;\n",
              "      box-shadow: 0px 1px 2px rgba(60, 64, 67, 0.3), 0px 1px 3px 1px rgba(60, 64, 67, 0.15);\n",
              "      fill: #174EA6;\n",
              "    }\n",
              "\n",
              "    .colab-df-buttons div {\n",
              "      margin-bottom: 4px;\n",
              "    }\n",
              "\n",
              "    [theme=dark] .colab-df-convert {\n",
              "      background-color: #3B4455;\n",
              "      fill: #D2E3FC;\n",
              "    }\n",
              "\n",
              "    [theme=dark] .colab-df-convert:hover {\n",
              "      background-color: #434B5C;\n",
              "      box-shadow: 0px 1px 3px 1px rgba(0, 0, 0, 0.15);\n",
              "      filter: drop-shadow(0px 1px 2px rgba(0, 0, 0, 0.3));\n",
              "      fill: #FFFFFF;\n",
              "    }\n",
              "  </style>\n",
              "\n",
              "    <script>\n",
              "      const buttonEl =\n",
              "        document.querySelector('#df-8583fb28-5844-41fe-9acd-7200ca776206 button.colab-df-convert');\n",
              "      buttonEl.style.display =\n",
              "        google.colab.kernel.accessAllowed ? 'block' : 'none';\n",
              "\n",
              "      async function convertToInteractive(key) {\n",
              "        const element = document.querySelector('#df-8583fb28-5844-41fe-9acd-7200ca776206');\n",
              "        const dataTable =\n",
              "          await google.colab.kernel.invokeFunction('convertToInteractive',\n",
              "                                                    [key], {});\n",
              "        if (!dataTable) return;\n",
              "\n",
              "        const docLinkHtml = 'Like what you see? Visit the ' +\n",
              "          '<a target=\"_blank\" href=https://colab.research.google.com/notebooks/data_table.ipynb>data table notebook</a>'\n",
              "          + ' to learn more about interactive tables.';\n",
              "        element.innerHTML = '';\n",
              "        dataTable['output_type'] = 'display_data';\n",
              "        await google.colab.output.renderOutput(dataTable, element);\n",
              "        const docLink = document.createElement('div');\n",
              "        docLink.innerHTML = docLinkHtml;\n",
              "        element.appendChild(docLink);\n",
              "      }\n",
              "    </script>\n",
              "  </div>\n",
              "\n",
              "\n",
              "<div id=\"df-1bf9c2ed-7489-4480-9eaf-0f9182f38735\">\n",
              "  <button class=\"colab-df-quickchart\" onclick=\"quickchart('df-1bf9c2ed-7489-4480-9eaf-0f9182f38735')\"\n",
              "            title=\"Suggest charts.\"\n",
              "            style=\"display:none;\">\n",
              "\n",
              "<svg xmlns=\"http://www.w3.org/2000/svg\" height=\"24px\"viewBox=\"0 0 24 24\"\n",
              "     width=\"24px\">\n",
              "    <g>\n",
              "        <path d=\"M19 3H5c-1.1 0-2 .9-2 2v14c0 1.1.9 2 2 2h14c1.1 0 2-.9 2-2V5c0-1.1-.9-2-2-2zM9 17H7v-7h2v7zm4 0h-2V7h2v10zm4 0h-2v-4h2v4z\"/>\n",
              "    </g>\n",
              "</svg>\n",
              "  </button>\n",
              "\n",
              "<style>\n",
              "  .colab-df-quickchart {\n",
              "      --bg-color: #E8F0FE;\n",
              "      --fill-color: #1967D2;\n",
              "      --hover-bg-color: #E2EBFA;\n",
              "      --hover-fill-color: #174EA6;\n",
              "      --disabled-fill-color: #AAA;\n",
              "      --disabled-bg-color: #DDD;\n",
              "  }\n",
              "\n",
              "  [theme=dark] .colab-df-quickchart {\n",
              "      --bg-color: #3B4455;\n",
              "      --fill-color: #D2E3FC;\n",
              "      --hover-bg-color: #434B5C;\n",
              "      --hover-fill-color: #FFFFFF;\n",
              "      --disabled-bg-color: #3B4455;\n",
              "      --disabled-fill-color: #666;\n",
              "  }\n",
              "\n",
              "  .colab-df-quickchart {\n",
              "    background-color: var(--bg-color);\n",
              "    border: none;\n",
              "    border-radius: 50%;\n",
              "    cursor: pointer;\n",
              "    display: none;\n",
              "    fill: var(--fill-color);\n",
              "    height: 32px;\n",
              "    padding: 0;\n",
              "    width: 32px;\n",
              "  }\n",
              "\n",
              "  .colab-df-quickchart:hover {\n",
              "    background-color: var(--hover-bg-color);\n",
              "    box-shadow: 0 1px 2px rgba(60, 64, 67, 0.3), 0 1px 3px 1px rgba(60, 64, 67, 0.15);\n",
              "    fill: var(--button-hover-fill-color);\n",
              "  }\n",
              "\n",
              "  .colab-df-quickchart-complete:disabled,\n",
              "  .colab-df-quickchart-complete:disabled:hover {\n",
              "    background-color: var(--disabled-bg-color);\n",
              "    fill: var(--disabled-fill-color);\n",
              "    box-shadow: none;\n",
              "  }\n",
              "\n",
              "  .colab-df-spinner {\n",
              "    border: 2px solid var(--fill-color);\n",
              "    border-color: transparent;\n",
              "    border-bottom-color: var(--fill-color);\n",
              "    animation:\n",
              "      spin 1s steps(1) infinite;\n",
              "  }\n",
              "\n",
              "  @keyframes spin {\n",
              "    0% {\n",
              "      border-color: transparent;\n",
              "      border-bottom-color: var(--fill-color);\n",
              "      border-left-color: var(--fill-color);\n",
              "    }\n",
              "    20% {\n",
              "      border-color: transparent;\n",
              "      border-left-color: var(--fill-color);\n",
              "      border-top-color: var(--fill-color);\n",
              "    }\n",
              "    30% {\n",
              "      border-color: transparent;\n",
              "      border-left-color: var(--fill-color);\n",
              "      border-top-color: var(--fill-color);\n",
              "      border-right-color: var(--fill-color);\n",
              "    }\n",
              "    40% {\n",
              "      border-color: transparent;\n",
              "      border-right-color: var(--fill-color);\n",
              "      border-top-color: var(--fill-color);\n",
              "    }\n",
              "    60% {\n",
              "      border-color: transparent;\n",
              "      border-right-color: var(--fill-color);\n",
              "    }\n",
              "    80% {\n",
              "      border-color: transparent;\n",
              "      border-right-color: var(--fill-color);\n",
              "      border-bottom-color: var(--fill-color);\n",
              "    }\n",
              "    90% {\n",
              "      border-color: transparent;\n",
              "      border-bottom-color: var(--fill-color);\n",
              "    }\n",
              "  }\n",
              "</style>\n",
              "\n",
              "  <script>\n",
              "    async function quickchart(key) {\n",
              "      const quickchartButtonEl =\n",
              "        document.querySelector('#' + key + ' button');\n",
              "      quickchartButtonEl.disabled = true;  // To prevent multiple clicks.\n",
              "      quickchartButtonEl.classList.add('colab-df-spinner');\n",
              "      try {\n",
              "        const charts = await google.colab.kernel.invokeFunction(\n",
              "            'suggestCharts', [key], {});\n",
              "      } catch (error) {\n",
              "        console.error('Error during call to suggestCharts:', error);\n",
              "      }\n",
              "      quickchartButtonEl.classList.remove('colab-df-spinner');\n",
              "      quickchartButtonEl.classList.add('colab-df-quickchart-complete');\n",
              "    }\n",
              "    (() => {\n",
              "      let quickchartButtonEl =\n",
              "        document.querySelector('#df-1bf9c2ed-7489-4480-9eaf-0f9182f38735 button');\n",
              "      quickchartButtonEl.style.display =\n",
              "        google.colab.kernel.accessAllowed ? 'block' : 'none';\n",
              "    })();\n",
              "  </script>\n",
              "</div>\n",
              "    </div>\n",
              "  </div>\n"
            ]
          },
          "metadata": {},
          "execution_count": 9
        }
      ],
      "source": [
        "# Преобразуем список в датасрейм\n",
        "df = pd.DataFrame(responses)\n",
        "df.head()"
      ]
    },
    {
      "cell_type": "code",
      "execution_count": 10,
      "metadata": {
        "colab": {
          "base_uri": "https://localhost:8080/"
        },
        "id": "e8IZB6EAq5B3",
        "outputId": "8ad5dfce-7ea6-4a1a-f23f-bf8b620320ac"
      },
      "outputs": [
        {
          "output_type": "stream",
          "name": "stdout",
          "text": [
            "<class 'pandas.core.frame.DataFrame'>\n",
            "RangeIndex: 153499 entries, 0 to 153498\n",
            "Data columns (total 10 columns):\n",
            " #   Column              Non-Null Count   Dtype  \n",
            "---  ------              --------------   -----  \n",
            " 0   city                138325 non-null  object \n",
            " 1   rating_not_checked  153499 non-null  bool   \n",
            " 2   title               153499 non-null  object \n",
            " 3   num_comments        153499 non-null  int64  \n",
            " 4   bank_license        153498 non-null  object \n",
            " 5   author              153479 non-null  object \n",
            " 6   bank_name           153499 non-null  object \n",
            " 7   datetime            153499 non-null  object \n",
            " 8   text                153499 non-null  object \n",
            " 9   rating_grade        88658 non-null   float64\n",
            "dtypes: bool(1), float64(1), int64(1), object(7)\n",
            "memory usage: 10.7+ MB\n"
          ]
        }
      ],
      "source": [
        "df.info()"
      ]
    },
    {
      "cell_type": "code",
      "execution_count": 11,
      "metadata": {
        "id": "h7wFqWqyrXtZ"
      },
      "outputs": [],
      "source": [
        "df['text'] = df['text'].astype(str).apply(lambda x: x.lower()) # преобразуем  внижний регистр"
      ]
    },
    {
      "cell_type": "markdown",
      "metadata": {
        "id": "C5pJzn-pPO5W"
      },
      "source": [
        "## Часть 1. Анализ текстов"
      ]
    },
    {
      "cell_type": "markdown",
      "metadata": {
        "id": "85sChSO7PUo6"
      },
      "source": [
        "### Посчитайте количество отзывов в разных городах"
      ]
    },
    {
      "cell_type": "code",
      "source": [
        "df1 = df.copy()"
      ],
      "metadata": {
        "id": "4eHjMF-kAzwh"
      },
      "execution_count": 11,
      "outputs": []
    },
    {
      "cell_type": "code",
      "source": [
        "df1.dropna(subset=['city'], inplace=True, axis=0) # Уберем запуски с пропущенными значениямив City"
      ],
      "metadata": {
        "id": "rr51xn_kA05U"
      },
      "execution_count": 12,
      "outputs": []
    },
    {
      "cell_type": "code",
      "execution_count": 13,
      "metadata": {
        "id": "tWHoY0cdRxeU"
      },
      "outputs": [],
      "source": [
        "df1['city'] = df1['city'].astype(str).apply(lambda x: x.lower().replace('г. ', '').replace('г.', \"\").replace('г ', \"\").replace('город ', \"\").replace('п.', \"\").replace('пгт.', \"\").replace('пгт', \"\").replace('(', \"\").replace(')',\"\"))"
      ]
    },
    {
      "cell_type": "code",
      "execution_count": 14,
      "metadata": {
        "colab": {
          "base_uri": "https://localhost:8080/"
        },
        "id": "pupfV--MPYV4",
        "outputId": "d0ff3267-910d-4d10-a183-7c537cf608a7"
      },
      "outputs": [
        {
          "output_type": "execute_result",
          "data": {
            "text/plain": [
              "120756"
            ]
          },
          "metadata": {},
          "execution_count": 14
        }
      ],
      "source": [
        "# Получим кол-во записей по топ 100 городов с наибольшим количеством отзывов.\n",
        "df1['city'].value_counts()[:100].sum()"
      ]
    },
    {
      "cell_type": "code",
      "execution_count": 15,
      "metadata": {
        "colab": {
          "base_uri": "https://localhost:8080/"
        },
        "id": "L_9be4B9AIIK",
        "outputId": "a9fc2f60-927a-4a6b-943b-27dbd9aef4d3"
      },
      "outputs": [
        {
          "output_type": "stream",
          "name": "stdout",
          "text": [
            "87.3%\n"
          ]
        }
      ],
      "source": [
        "# более 87% всех отзывов - по топ100 городам. Остальное - это опечатки,  города с небольшим количеством отзывов и пр. - можно не рассматривать\n",
        "print(f'{round(df1[\"city\"].value_counts()[:100].sum()/df1.shape[0]*100,2)}%')"
      ]
    },
    {
      "cell_type": "code",
      "execution_count": 16,
      "metadata": {
        "colab": {
          "base_uri": "https://localhost:8080/"
        },
        "id": "qvlh9tZM-QKy",
        "outputId": "4687cfad-9f4c-4308-e36e-1004e099285b"
      },
      "outputs": [
        {
          "output_type": "execute_result",
          "data": {
            "text/plain": [
              "москва             56787\n",
              "санкт-петербург    14664\n",
              "новосибирск         2383\n",
              "екатеринбург        2378\n",
              "нижний новгород     2038\n",
              "                   ...  \n",
              "электросталь         130\n",
              "стерлитамак          118\n",
              "благовещенск         117\n",
              "якутск               117\n",
              "серпухов             113\n",
              "Name: city, Length: 100, dtype: int64"
            ]
          },
          "metadata": {},
          "execution_count": 16
        }
      ],
      "source": [
        "# Выведем список таких городов  в порядке убывания\n",
        "df1['city'].value_counts()[:100]"
      ]
    },
    {
      "cell_type": "code",
      "execution_count": 17,
      "metadata": {
        "colab": {
          "base_uri": "https://localhost:8080/",
          "height": 545
        },
        "id": "Xg0qBIOn-skn",
        "outputId": "ccf8e6fa-c8fd-4834-9bba-fce7e0cfc937"
      },
      "outputs": [
        {
          "output_type": "display_data",
          "data": {
            "text/plain": [
              "<Figure size 800x600 with 1 Axes>"
            ],
            "image/png": "[encoded data removed]"
          },
          "metadata": {}
        }
      ],
      "source": [
        "cities = df1.groupby(['city']).count()['text'].sort_values(ascending=False).head(20)\n",
        "rcParams['figure.figsize'] = 8, 6\n",
        "plt.barh(cities.index[::-1],cities.values[::-1])\n",
        "plt.xlabel('Количество отзывов по городам')\n",
        "plt.ylabel('Top 20')\n",
        "plt.show()"
      ]
    },
    {
      "cell_type": "markdown",
      "metadata": {
        "id": "ljMKt0oPqNGK"
      },
      "source": [
        "### Посчитайте количество отзывов на разные банки"
      ]
    },
    {
      "cell_type": "code",
      "execution_count": 18,
      "metadata": {
        "colab": {
          "base_uri": "https://localhost:8080/"
        },
        "id": "lOYj5SRlPi8p",
        "outputId": "fba41ddc-4433-4cf8-b843-e59e9b530bb8"
      },
      "outputs": [
        {
          "output_type": "execute_result",
          "data": {
            "text/plain": [
              "Сбербанк России     26327\n",
              "Альфа-Банк          10224\n",
              "ВТБ 24               8185\n",
              "Русский Стандарт     7943\n",
              "Хоум Кредит Банк     7549\n",
              "                    ...  \n",
              "Сиббизнесбанк           1\n",
              "Донбанк                 1\n",
              "Потенциал               1\n",
              "Ури Банк                1\n",
              "БайкалИнвестБанк        1\n",
              "Name: bank_name, Length: 670, dtype: int64"
            ]
          },
          "metadata": {},
          "execution_count": 18
        }
      ],
      "source": [
        "df['bank_name'].value_counts()"
      ]
    },
    {
      "cell_type": "code",
      "execution_count": 19,
      "metadata": {
        "id": "4gn5d_sbz-w3"
      },
      "outputs": [],
      "source": [
        "df['bank_name'] = df['bank_name'].astype(str).apply(lambda x: x.lower())"
      ]
    },
    {
      "cell_type": "code",
      "execution_count": 20,
      "metadata": {
        "colab": {
          "base_uri": "https://localhost:8080/"
        },
        "id": "i-9t60IF_GCA",
        "outputId": "430f7b78-db06-416e-a4e2-bd2af5ac49f9"
      },
      "outputs": [
        {
          "output_type": "execute_result",
          "data": {
            "text/plain": [
              "133324"
            ]
          },
          "metadata": {},
          "execution_count": 20
        }
      ],
      "source": [
        "df['bank_name'].value_counts()[:50].sum()"
      ]
    },
    {
      "cell_type": "code",
      "execution_count": 22,
      "metadata": {
        "colab": {
          "base_uri": "https://localhost:8080/"
        },
        "id": "qD9qw4BBz-w5",
        "outputId": "13c5a751-7818-41ac-8889-1c8f362d7c84"
      },
      "outputs": [
        {
          "output_type": "stream",
          "name": "stdout",
          "text": [
            "86.86%\n"
          ]
        }
      ],
      "source": [
        "# Почти 87% приходится на топ50 банков. Остальные = опечатки и банки с небольшим количеством отзывов = можно не принимать во внимамние\n",
        "print(f'{round(df[\"bank_name\"].value_counts()[:50].sum()/df.shape[0]*100,2)}%')"
      ]
    },
    {
      "cell_type": "code",
      "execution_count": 23,
      "metadata": {
        "colab": {
          "base_uri": "https://localhost:8080/"
        },
        "id": "nV2YDmyV_Oa-",
        "outputId": "2b780f19-e4cb-43e8-cb58-7ed26906537f"
      },
      "outputs": [
        {
          "output_type": "execute_result",
          "data": {
            "text/plain": [
              "сбербанк россии                                         26327\n",
              "альфа-банк                                              10224\n",
              "втб 24                                                   8185\n",
              "русский стандарт                                         7943\n",
              "хоум кредит банк                                         7549\n",
              "тинькофф банк                                            5387\n",
              "национальный банк «траст»                                4607\n",
              "ренессанс кредит                                         3849\n",
              "связной банк                                             3775\n",
              "отп банк                                                 3237\n",
              "восточный экспресс банк                                  3138\n",
              "райффайзенбанк                                           3057\n",
              "московский кредитный банк                                2944\n",
              "ситибанк                                                 2848\n",
              "авангард                                                 2733\n",
              "промсвязьбанк                                            2586\n",
              "юникредит банк                                           2488\n",
              "банк москвы                                              2456\n",
              "ханты-мансийский банк открытие                           2158\n",
              "мтс банк                                                 1870\n",
              "киви банк                                                1741\n",
              "кредит европа банк                                       1683\n",
              "росбанк                                                  1658\n",
              "бинбанк                                                  1646\n",
              "бинбанк кредитные карты                                  1464\n",
              "сетелем банк                                             1351\n",
              "московский областной банк                                1277\n",
              "юниаструм банк                                           1111\n",
              "современный коммерческий банк (бывш. джии мани банк)      993\n",
              "уралсиб                                                   989\n",
              "айманибанк                                                925\n",
              "совкомбанк                                                919\n",
              "абсолют банк                                              782\n",
              "мдм банк                                                  776\n",
              "русфинанс банк                                            723\n",
              "русславбанк                                               715\n",
              "2т банк                                                   655\n",
              "сб банк (судостроительный банк)                           555\n",
              "фк открытие (бывш. номос-банк)                            549\n",
              "уральский банк реконструкции и развития                   532\n",
              "россельхозбанк                                            532\n",
              "пробизнесбанк                                             521\n",
              "газпромбанк                                               505\n",
              "дельтакредит                                              501\n",
              "лето банк                                                 501\n",
              "росгосстрах банк                                          498\n",
              "бнп париба банк                                           475\n",
              "росинтербанк                                              472\n",
              "смп банк                                                  463\n",
              "югра                                                      451\n",
              "Name: bank_name, dtype: int64"
            ]
          },
          "metadata": {},
          "execution_count": 23
        }
      ],
      "source": [
        "df['bank_name'].value_counts()[:50] # На рисунке - только 20 банков, иначе плохо видно"
      ]
    },
    {
      "cell_type": "code",
      "execution_count": 24,
      "metadata": {
        "colab": {
          "base_uri": "https://localhost:8080/",
          "height": 476
        },
        "id": "Swnlsm4p_RKn",
        "outputId": "7e3ba4a1-6c47-4afb-aa86-df34e11d8884"
      },
      "outputs": [
        {
          "output_type": "display_data",
          "data": {
            "text/plain": [
              "<Figure size 800x600 with 1 Axes>"
            ],
            "image/png": "[encoded data removed]"
          },
          "metadata": {}
        }
      ],
      "source": [
        "banks = df.groupby(['bank_name']).count()['text'].sort_values(ascending=False).head(20)\n",
        "rcParams['figure.figsize'] = 8, 6\n",
        "plt.barh(banks.index[::-1],banks.values[::-1])\n",
        "plt.xlabel('Количество отзывов по банкам')\n",
        "plt.ylabel('Top 20')\n",
        "plt.show()"
      ]
    },
    {
      "cell_type": "markdown",
      "metadata": {
        "id": "h3pVheELP3J0"
      },
      "source": [
        "### Постройте гистограмы длин слов в символах и в словах"
      ]
    },
    {
      "cell_type": "code",
      "source": [
        "texts = df['text'].to_list()\n",
        "lengths = list(map(len, texts))\n",
        "word_counts = list(map(lambda text: len(text.split()), texts))"
      ],
      "metadata": {
        "id": "ElG7pESFDeCD"
      },
      "execution_count": 33,
      "outputs": []
    },
    {
      "cell_type": "code",
      "source": [
        "lengths = [x for x in lengths if x<10000]"
      ],
      "metadata": {
        "id": "V9et_u6jFWnG"
      },
      "execution_count": 39,
      "outputs": []
    },
    {
      "cell_type": "code",
      "source": [
        "rcParams['figure.figsize'] = 8, 6\n",
        "plt.hist(x=lengths, bins=50)\n",
        "plt.xlabel('Длины отзывов в символах')\n",
        "plt.ylabel('')\n",
        "plt.show()"
      ],
      "metadata": {
        "colab": {
          "base_uri": "https://localhost:8080/",
          "height": 546
        },
        "id": "3EGJfL61EoTl",
        "outputId": "f64e6482-ee29-4069-ff2b-051f13cb7354"
      },
      "execution_count": 40,
      "outputs": [
        {
          "output_type": "display_data",
          "data": {
            "text/plain": [
              "<Figure size 800x600 with 1 Axes>"
            ],
            "image/png": "[encoded data removed]"
          },
          "metadata": {}
        }
      ]
    },
    {
      "cell_type": "code",
      "source": [
        "word_counts = [x for x in word_counts if x<2000]"
      ],
      "metadata": {
        "id": "_O9G7hl6FqSo"
      },
      "execution_count": 41,
      "outputs": []
    },
    {
      "cell_type": "code",
      "source": [
        "rcParams['figure.figsize'] = 8, 6\n",
        "plt.hist(x=word_counts, bins=50)\n",
        "plt.xlabel('Длины отзывов в словах')\n",
        "plt.ylabel('')\n",
        "plt.show()"
      ],
      "metadata": {
        "colab": {
          "base_uri": "https://localhost:8080/",
          "height": 546
        },
        "id": "hNrJxLzMFypQ",
        "outputId": "3f38e636-76ee-4175-e775-49307a5da9c2"
      },
      "execution_count": 42,
      "outputs": [
        {
          "output_type": "display_data",
          "data": {
            "text/plain": [
              "<Figure size 800x600 with 1 Axes>"
            ],
            "image/png": "[encoded data removed]"
          },
          "metadata": {}
        }
      ]
    },
    {
      "cell_type": "markdown",
      "source": [
        "## Найдите 10 самых частых:\n",
        "    * слов\n",
        "    * слов без стоп-слов\n",
        "    * лемм\n",
        "    * существительных"
      ],
      "metadata": {
        "id": "qMwc9ZVOFqGD"
      }
    },
    {
      "cell_type": "code",
      "execution_count": 44,
      "metadata": {
        "id": "RHZKrDM9wHlv"
      },
      "outputs": [],
      "source": [
        "noise = stopwords.words('russian') + list(punctuation) + ['``', \"''\", '...', 'это', ' ', ', ', '  ', ' - ', ' \"', ' )',' (', 'т', 'сч', 'е', 'сих', 'мой']"
      ]
    },
    {
      "cell_type": "code",
      "execution_count": 26,
      "metadata": {
        "id": "wLPuMRV-v6Hs"
      },
      "outputs": [],
      "source": [
        "def remove_stopwords(text, mystopwords=noise):\n",
        "    try:\n",
        "        return \" \".join([token for token in text.split() if not token in mystopwords])\n",
        "    except:\n",
        "        return \"\"\n",
        "regex = re.compile(\"[А-Яа-я]+\")\n",
        "\n",
        "def words_only(text, regex=regex):\n",
        "    try:\n",
        "        return \" \".join(regex.findall(text))\n",
        "    except:\n",
        "        return \"\""
      ]
    },
    {
      "cell_type": "code",
      "execution_count": 27,
      "metadata": {
        "id": "Cb0VR-2qvzkL"
      },
      "outputs": [],
      "source": [
        "df['text_tokenized'] =  df.text.str.lower().apply(words_only)\n",
        "df['text_tokenized_stop_worlds'] = df.text_tokenized.str.lower().apply(remove_stopwords)"
      ]
    },
    {
      "cell_type": "code",
      "execution_count": 28,
      "metadata": {
        "id": "BVZyfSclr8T6"
      },
      "outputs": [],
      "source": [
        "import multiprocessing as mp\n",
        "import pymorphy2\n",
        "\n",
        "# создание объекта лемматизатора\n",
        "morph = pymorphy2.MorphAnalyzer()\n",
        "# функция для лемматизации одного слова\n",
        "def lemmatize_word(word):\n",
        "    return morph.parse(word)[0].normal_form\n",
        "\n",
        "# функция для лемматизации текста в отдельном потоке\n",
        "def process_text(text):\n",
        "    words = text.split()\n",
        "    with mp.Pool() as pool:\n",
        "        lemmas = pool.map(lemmatize_word, words)\n",
        "    return ' '.join(lemmas)\n",
        "\n",
        "def lemmatize(text):\n",
        "    from pymystem3 import Mystem\n",
        "    m = Mystem()\n",
        "    merged_text = \"|\".join(text)\n",
        "\n",
        "    doc = []\n",
        "    res = []\n",
        "\n",
        "    for t in m.lemmatize(merged_text):\n",
        "        if t != '|':\n",
        "            doc.append(t)\n",
        "        else:\n",
        "            res.append(doc)\n",
        "            doc = []\n",
        "\n",
        "    return res"
      ]
    },
    {
      "cell_type": "code",
      "source": [
        "# Самые частотные слова\n",
        "corpus = [token for response in df.text_tokenized for token in word_tokenize(response)]\n",
        "freq_dict = Counter(corpus)\n",
        "print('10 самых частых слов  в отзывах')\n",
        "freq_dict.most_common(10)"
      ],
      "metadata": {
        "colab": {
          "base_uri": "https://localhost:8080/"
        },
        "id": "nI8kUFcZCdVv",
        "outputId": "68f168cd-3db9-4749-fadd-00959b7212e8"
      },
      "execution_count": 45,
      "outputs": [
        {
          "output_type": "stream",
          "name": "stdout",
          "text": [
            "10 самых частых слов  в отзывах\n"
          ]
        },
        {
          "output_type": "execute_result",
          "data": {
            "text/plain": [
              "[('в', 1330550),\n",
              " ('и', 1058997),\n",
              " ('не', 855335),\n",
              " ('на', 707935),\n",
              " ('что', 640057),\n",
              " ('я', 577500),\n",
              " ('с', 464037),\n",
              " ('по', 372769),\n",
              " ('мне', 320958),\n",
              " ('банка', 275906)]"
            ]
          },
          "metadata": {},
          "execution_count": 45
        }
      ]
    },
    {
      "cell_type": "code",
      "source": [
        "# самые частотные слова без учета стоп-слов\n",
        "corpus = [token for response in df.text_tokenized_stop_worlds for token in word_tokenize(response)]\n",
        "freq_dict = Counter(corpus)\n",
        "freq_dict.most_common(10)"
      ],
      "metadata": {
        "colab": {
          "base_uri": "https://localhost:8080/"
        },
        "id": "j7ctRzTuCulq",
        "outputId": "de9cba67-d7db-4ced-d5c8-07ec8ec038e6"
      },
      "execution_count": 46,
      "outputs": [
        {
          "output_type": "execute_result",
          "data": {
            "text/plain": [
              "[('банка', 275906),\n",
              " ('банк', 215426),\n",
              " ('деньги', 131201),\n",
              " ('карту', 105829),\n",
              " ('карты', 101821),\n",
              " ('кредит', 81136),\n",
              " ('день', 76552),\n",
              " ('банке', 72169),\n",
              " ('заявление', 70423),\n",
              " ('очень', 66824)]"
            ]
          },
          "metadata": {},
          "execution_count": 46
        }
      ]
    },
    {
      "cell_type": "code",
      "source": [
        "%pip install pymystem3"
      ],
      "metadata": {
        "colab": {
          "base_uri": "https://localhost:8080/"
        },
        "id": "qvqQuezKMAjG",
        "outputId": "fc8ce02f-efc8-489b-af75-977a81da8c73"
      },
      "execution_count": 72,
      "outputs": [
        {
          "output_type": "stream",
          "name": "stdout",
          "text": [
            "Requirement already satisfied: pymystem3 in /usr/local/lib/python3.10/dist-packages (0.2.0)\n",
            "Requirement already satisfied: requests in /usr/local/lib/python3.10/dist-packages (from pymystem3) (2.31.0)\n",
            "Requirement already satisfied: charset-normalizer<4,>=2 in /usr/local/lib/python3.10/dist-packages (from requests->pymystem3) (3.2.0)\n",
            "Requirement already satisfied: idna<4,>=2.5 in /usr/local/lib/python3.10/dist-packages (from requests->pymystem3) (3.4)\n",
            "Requirement already satisfied: urllib3<3,>=1.21.1 in /usr/local/lib/python3.10/dist-packages (from requests->pymystem3) (2.0.4)\n",
            "Requirement already satisfied: certifi>=2017.4.17 in /usr/local/lib/python3.10/dist-packages (from requests->pymystem3) (2023.7.22)\n"
          ]
        }
      ]
    },
    {
      "cell_type": "code",
      "source": [
        "from pymystem3 import Mystem\n",
        "m = Mystem()"
      ],
      "metadata": {
        "id": "uFzKyyPIhxyV"
      },
      "execution_count": 73,
      "outputs": []
    },
    {
      "cell_type": "code",
      "source": [
        "def to_lemmas(text, mystem=m):\n",
        "    tokens = text.split()\n",
        "    lemmas = [m.lemmatize(token)[0] for token in tokens]\n",
        "    return ' '.join(lemmas)\n"
      ],
      "metadata": {
        "id": "aGq_yzPHJnH4"
      },
      "execution_count": 75,
      "outputs": []
    },
    {
      "cell_type": "code",
      "source": [
        "mylist = df['text_tokenized_stop_worlds'].to_list()\n",
        "lemmatized_texts =[]\n",
        "for item in tqdm(mylist):\n",
        "  lemmatized_texts.append(to_lemmas(item, mystem=m))"
      ],
      "metadata": {
        "colab": {
          "base_uri": "https://localhost:8080/"
        },
        "id": "BMEpY4KeHrPI",
        "outputId": "eecf9e27-49e0-432f-d290-7c72eda667e1"
      },
      "execution_count": 76,
      "outputs": [
        {
          "output_type": "stream",
          "name": "stderr",
          "text": [
            "100%|██████████| 153499/153499 [40:23<00:00, 63.34it/s] \n"
          ]
        }
      ]
    },
    {
      "cell_type": "code",
      "source": [
        "lemmatized_texts[2]"
      ],
      "metadata": {
        "colab": {
          "base_uri": "https://localhost:8080/",
          "height": 109
        },
        "id": "hJhFW7k8IjUk",
        "outputId": "dbfe5f15-f0bf-45e1-ed9d-9bbcf14bde21"
      },
      "execution_count": 77,
      "outputs": [
        {
          "output_type": "execute_result",
          "data": {
            "text/plain": [
              "'здравствовать дублировать свое заявление можайский я мой дебетовый карта совершать покупка интернет магазин сумма руб карта происходить двойной списание раз руб руб иметься смс сообщение банка интернет магазин подтверждать платеж руб товар получать просить разбираться ситуация вернуть счет ошибочный списывать сумма размер руб уважение давний клиент ваш банка владимир номер карта указывать мой заявление можайский'"
            ],
            "application/vnd.google.colaboratory.intrinsic+json": {
              "type": "string"
            }
          },
          "metadata": {},
          "execution_count": 77
        }
      ]
    },
    {
      "cell_type": "code",
      "source": [
        "# каждая строка состоит из лемм.\n",
        "lemmas=[]\n",
        "for row in tqdm(lemmatized_texts):\n",
        "  words = row.split()\n",
        "  for word in words:\n",
        "    lemmas.append(word)"
      ],
      "metadata": {
        "colab": {
          "base_uri": "https://localhost:8080/"
        },
        "id": "9zoOUKgWMoLs",
        "outputId": "7dca85cc-a5df-472c-8984-957ffc2fd8d4"
      },
      "execution_count": 79,
      "outputs": [
        {
          "output_type": "stream",
          "name": "stderr",
          "text": [
            "100%|██████████| 153499/153499 [00:11<00:00, 13016.85it/s]\n"
          ]
        }
      ]
    },
    {
      "cell_type": "code",
      "source": [
        "# Самые частые леммы\n",
        "freq_dict_lem = Counter(lemmas)\n",
        "print('10 самых частых лемм в отзывах')\n",
        "freq_dict_lem.most_common(10)\n"
      ],
      "metadata": {
        "colab": {
          "base_uri": "https://localhost:8080/"
        },
        "id": "aaHOTKoJir3o",
        "outputId": "290410c4-80fc-49bf-a67a-be5b00750529"
      },
      "execution_count": 80,
      "outputs": [
        {
          "output_type": "execute_result",
          "data": {
            "text/plain": [
              "[('банк', 364704),\n",
              " ('карта', 334999),\n",
              " ('банка', 303889),\n",
              " ('деньги', 179734),\n",
              " ('день', 172952),\n",
              " ('мой', 163042),\n",
              " ('кредит', 156177),\n",
              " ('который', 149037),\n",
              " ('отделение', 144050),\n",
              " ('клиент', 136892)]"
            ]
          },
          "metadata": {},
          "execution_count": 80
        }
      ]
    },
    {
      "cell_type": "code",
      "source": [
        "# Существительные\n",
        "nouns = []\n",
        "for key, value in tqdm(freq_dict_lem.items()):\n",
        "  if 'NOUN' in morph.parse(key)[0].tag:\n",
        "    i=0\n",
        "    while i < value:\n",
        "      nouns.append(key)\n",
        "      i+=1"
      ],
      "metadata": {
        "colab": {
          "base_uri": "https://localhost:8080/"
        },
        "id": "WpfyxB6_w54z",
        "outputId": "9c748497-e127-4925-8ed6-9275015cdbb4"
      },
      "execution_count": 91,
      "outputs": [
        {
          "output_type": "stream",
          "name": "stderr",
          "text": [
            "100%|██████████| 91290/91290 [00:31<00:00, 2887.23it/s]\n"
          ]
        }
      ]
    },
    {
      "cell_type": "code",
      "source": [
        "freq_dict = Counter(nouns)\n",
        "print('10 самых частых существительных в отзывах')\n",
        "freq_dict.most_common(10)"
      ],
      "metadata": {
        "colab": {
          "base_uri": "https://localhost:8080/"
        },
        "id": "N1k83nuapIdh",
        "outputId": "f9997ddc-c685-4fbf-b7cd-487b63b1f9b0"
      },
      "execution_count": 92,
      "outputs": [
        {
          "output_type": "stream",
          "name": "stdout",
          "text": [
            "10 самых частых существительных в отзывах\n"
          ]
        },
        {
          "output_type": "execute_result",
          "data": {
            "text/plain": [
              "[('банк', 364704),\n",
              " ('карта', 334999),\n",
              " ('банка', 303889),\n",
              " ('деньги', 179734),\n",
              " ('день', 172952),\n",
              " ('кредит', 156177),\n",
              " ('отделение', 144050),\n",
              " ('клиент', 136892),\n",
              " ('сотрудник', 134168),\n",
              " ('счет', 126894)]"
            ]
          },
          "metadata": {},
          "execution_count": 92
        }
      ]
    },
    {
      "cell_type": "markdown",
      "metadata": {
        "id": "0bhqBmMuNf5X"
      },
      "source": [
        "\n",
        "### Постройте кривые Ципфа и Хипса"
      ]
    },
    {
      "cell_type": "code",
      "source": [
        "# кривая Ципфа (для существительных)\n",
        "freqs = list(freq_dict.values())\n",
        "freqs = sorted(freqs, reverse = True)\n",
        "fig, ax = plt.subplots()\n",
        "ax.plot(freqs[:300], range(300))\n",
        "plt.xlabel('Кривая Ципфа')\n",
        "plt.ylabel('')\n",
        "plt.show()"
      ],
      "metadata": {
        "colab": {
          "base_uri": "https://localhost:8080/",
          "height": 546
        },
        "id": "VyeNHsIIQ3dx",
        "outputId": "b2d2cb7d-1bf9-40e8-8cd0-2420e79eb253"
      },
      "execution_count": 68,
      "outputs": [
        {
          "output_type": "display_data",
          "data": {
            "text/plain": [
              "<Figure size 800x600 with 1 Axes>"
            ],
            "image/png": "[encoded data removed]"
          },
          "metadata": {}
        }
      ]
    },
    {
      "cell_type": "code",
      "source": [
        "# кривая Хипса\n",
        "cnt = Counter()\n",
        "n_words = []\n",
        "n_tokens = []\n",
        "tokens = []\n",
        "\n",
        "for index, row in tqdm(df.iterrows(), total=len(df)):\n",
        "    tokens = word_tokenize(row['text_tokenized_stop_worlds'])\n",
        "    cnt.update([token for token in tokens])\n",
        "    n_words.append(len(cnt))\n",
        "    n_tokens.append(sum(list(cnt.values())))"
      ],
      "metadata": {
        "colab": {
          "base_uri": "https://localhost:8080/"
        },
        "id": "uN1sTCfnRHmg",
        "outputId": "f0d35d53-04df-45d1-cebf-eb5871a38228"
      },
      "execution_count": 42,
      "outputs": [
        {
          "output_type": "stream",
          "name": "stderr",
          "text": [
            "100%|██████████| 153499/153499 [54:37<00:00, 46.83it/s]\n"
          ]
        }
      ]
    },
    {
      "cell_type": "code",
      "source": [
        "fig, ax = plt.subplots()\n",
        "ax.plot(n_tokens, n_words)\n",
        "plt.show()"
      ],
      "metadata": {
        "colab": {
          "base_uri": "https://localhost:8080/",
          "height": 540
        },
        "id": "Io3wVaVsRaay",
        "outputId": "0e5bdbf2-52d3-437b-aea5-52a52f993a66"
      },
      "execution_count": 43,
      "outputs": [
        {
          "output_type": "display_data",
          "data": {
            "text/plain": [
              "<Figure size 800x600 with 1 Axes>"
            ],
            "image/png": "[encoded data removed]"
          },
          "metadata": {}
        }
      ]
    },
    {
      "cell_type": "markdown",
      "source": [
        "### Ответьте на следующие вопросы:\n",
        "    * какое слово встречается чаще, \"сотрудник\" или \"клиент\"?\n",
        "    * сколько раз встречается слова \"мошенничество\" и \"доверие\"?"
      ],
      "metadata": {
        "id": "8UvSYUNaQtrQ"
      }
    },
    {
      "cell_type": "code",
      "source": [
        "freq_dict = Counter(nouns)"
      ],
      "metadata": {
        "id": "JmifqmLZAsYx"
      },
      "execution_count": 93,
      "outputs": []
    },
    {
      "cell_type": "code",
      "source": [
        "# какое слово встречается чаще, \"сотрудник\" или \"клиент\"?\n",
        "\n",
        "print('Слово \"сотрудник\" встречается -\"',freq_dict['сотрудник'],'раз')\n",
        "print('Слово \"клиент\" встречается -\"',freq_dict['клиент'],'раз')"
      ],
      "metadata": {
        "colab": {
          "base_uri": "https://localhost:8080/"
        },
        "id": "Zg2M54cJEsy0",
        "outputId": "2728f91f-636f-4a1b-9e25-48c64c3d67ea"
      },
      "execution_count": 94,
      "outputs": [
        {
          "output_type": "stream",
          "name": "stdout",
          "text": [
            "Слово \"сотрудник\" встречается -\" 134168 раз\n",
            "Слово \"клиент\" встречается -\" 136892 раз\n"
          ]
        }
      ]
    },
    {
      "cell_type": "markdown",
      "source": [
        "Вывод: слово \"клиент\" встречается чаще"
      ],
      "metadata": {
        "id": "JKuKFNb_RqYv"
      }
    },
    {
      "cell_type": "code",
      "source": [
        "# Сколько раз встречаются слова  \"мошенничество\" и \"доверие\"\n",
        "print('Слово \"мошенничество\" встречается -\"', freq_dict['мошенничество'],'раз')\n",
        "print('Слово \"доверие\" встречается -\"',freq_dict['доверие'],'раз')"
      ],
      "metadata": {
        "colab": {
          "base_uri": "https://localhost:8080/"
        },
        "id": "PTrnh93iRmdN",
        "outputId": "74eba285-dada-4279-fc81-64684e3c6884"
      },
      "execution_count": 95,
      "outputs": [
        {
          "output_type": "stream",
          "name": "stdout",
          "text": [
            "Слово \"мошенничество\" встречается -\" 3244 раз\n",
            "Слово \"доверие\" встречается -\" 2108 раз\n"
          ]
        }
      ]
    },
    {
      "cell_type": "markdown",
      "source": [
        "### В поле \"rating_grade\" записана оценка отзыва по шкале от 1 до 5. Используйте меру для того, чтобы найти ключевые слова и биграмы для положительных отзывов (с оценкой 5) и отрицательных отзывов (с оценкой 1)"
      ],
      "metadata": {
        "id": "rbFVgbNvQ4lg"
      }
    },
    {
      "cell_type": "code",
      "source": [
        "df['lemmas'] = lemmatized_texts"
      ],
      "metadata": {
        "id": "JAYKyhPRnFLl"
      },
      "execution_count": 96,
      "outputs": []
    },
    {
      "cell_type": "code",
      "source": [
        "df.head()"
      ],
      "metadata": {
        "colab": {
          "base_uri": "https://localhost:8080/",
          "height": 573
        },
        "id": "Y5ZXATq30TJK",
        "outputId": "a9cb82f0-2058-45b5-a586-d3d35a90b62e"
      },
      "execution_count": 104,
      "outputs": [
        {
          "output_type": "execute_result",
          "data": {
            "text/plain": [
              "             city  rating_not_checked  \\\n",
              "0       г. Москва               False   \n",
              "1  г. Новосибирск               False   \n",
              "2       г. Москва               False   \n",
              "3   г. Ставрополь               False   \n",
              "4    г. Челябинск               False   \n",
              "\n",
              "                                               title  num_comments  \\\n",
              "0                                             Жалоба             0   \n",
              "1      Не могу пользоваться услугой Сбербанк он-лайн             0   \n",
              "2                    Двойное списание за один товар.             1   \n",
              "3  Меняют проценты комиссии  не предупредив и не ...             2   \n",
              "4             Верните денежные средства за страховку             1   \n",
              "\n",
              "      bank_license       author        bank_name             datetime  \\\n",
              "0  лицензия № 2562       uhnov1          бинбанк  2015-06-08 12:50:54   \n",
              "1  лицензия № 1481       Foryou  сбербанк россии  2015-06-08 11:09:57   \n",
              "2  лицензия № 2562   Vladimir84          бинбанк  2015-06-05 20:14:28   \n",
              "3  лицензия № 1481       643609  сбербанк россии  2015-06-05 13:51:01   \n",
              "4  лицензия № 2766  anfisa-2003         отп банк  2015-06-05 10:58:12   \n",
              "\n",
              "                                                text  rating_grade  \\\n",
              "0  Добрый день! Я не являюсь клиентом банка и пор...           NaN   \n",
              "1  Доброго дня! Являюсь держателем зарплатной кар...           NaN   \n",
              "2  Здравствуйте!  Дублирую свое заявление от 03.0...           NaN   \n",
              "3  Добрый день!! Я открыл расчетный счет в СберБа...           NaN   \n",
              "4  04.03.2015 г. взяла кредит в вашем банке, заяв...           NaN   \n",
              "\n",
              "                                      text_tokenized  \\\n",
              "0  добрый день я не являюсь клиентом банка и пору...   \n",
              "1  доброго дня являюсь держателем зарплатной карт...   \n",
              "2  здравствуйте дублирую свое заявление от в до м...   \n",
              "3  добрый день я открыл расчетный счет в сбербанк...   \n",
              "4  г взяла кредит в вашем банке заявленная мною с...   \n",
              "\n",
              "                          text_tokenized_stop_worlds  \\\n",
              "0  добрый день являюсь клиентом банка поручителем...   \n",
              "1  доброго дня являюсь держателем зарплатной карт...   \n",
              "2  здравствуйте дублирую свое заявление можайский...   \n",
              "3  добрый день открыл расчетный счет сбербанке юр...   \n",
              "4  г взяла кредит вашем банке заявленная мною сум...   \n",
              "\n",
              "                                              lemmas  \n",
              "0  добрый день являться клиент банка поручитель к...  \n",
              "1  добрый день являться держатель зарплатной карт...  \n",
              "2  здравствовать дублировать свое заявление можай...  \n",
              "3  добрый день открывать расчетный счет сбербанк ...  \n",
              "4  г взять кредит ваш банк заявлять я сумма рубль...  "
            ],
            "text/html": [
              "\n",
              "  <div id=\"df-eb28dff0-6384-4935-a00f-f40b1395c757\" class=\"colab-df-container\">\n",
              "    <div>\n",
              "<style scoped>\n",
              "    .dataframe tbody tr th:only-of-type {\n",
              "        vertical-align: middle;\n",
              "    }\n",
              "\n",
              "    .dataframe tbody tr th {\n",
              "        vertical-align: top;\n",
              "    }\n",
              "\n",
              "    .dataframe thead th {\n",
              "        text-align: right;\n",
              "    }\n",
              "</style>\n",
              "<table border=\"1\" class=\"dataframe\">\n",
              "  <thead>\n",
              "    <tr style=\"text-align: right;\">\n",
              "      <th></th>\n",
              "      <th>city</th>\n",
              "      <th>rating_not_checked</th>\n",
              "      <th>title</th>\n",
              "      <th>num_comments</th>\n",
              "      <th>bank_license</th>\n",
              "      <th>author</th>\n",
              "      <th>bank_name</th>\n",
              "      <th>datetime</th>\n",
              "      <th>text</th>\n",
              "      <th>rating_grade</th>\n",
              "      <th>text_tokenized</th>\n",
              "      <th>text_tokenized_stop_worlds</th>\n",
              "      <th>lemmas</th>\n",
              "    </tr>\n",
              "  </thead>\n",
              "  <tbody>\n",
              "    <tr>\n",
              "      <th>0</th>\n",
              "      <td>г. Москва</td>\n",
              "      <td>False</td>\n",
              "      <td>Жалоба</td>\n",
              "      <td>0</td>\n",
              "      <td>лицензия № 2562</td>\n",
              "      <td>uhnov1</td>\n",
              "      <td>бинбанк</td>\n",
              "      <td>2015-06-08 12:50:54</td>\n",
              "      <td>Добрый день! Я не являюсь клиентом банка и пор...</td>\n",
              "      <td>NaN</td>\n",
              "      <td>добрый день я не являюсь клиентом банка и пору...</td>\n",
              "      <td>добрый день являюсь клиентом банка поручителем...</td>\n",
              "      <td>добрый день являться клиент банка поручитель к...</td>\n",
              "    </tr>\n",
              "    <tr>\n",
              "      <th>1</th>\n",
              "      <td>г. Новосибирск</td>\n",
              "      <td>False</td>\n",
              "      <td>Не могу пользоваться услугой Сбербанк он-лайн</td>\n",
              "      <td>0</td>\n",
              "      <td>лицензия № 1481</td>\n",
              "      <td>Foryou</td>\n",
              "      <td>сбербанк россии</td>\n",
              "      <td>2015-06-08 11:09:57</td>\n",
              "      <td>Доброго дня! Являюсь держателем зарплатной кар...</td>\n",
              "      <td>NaN</td>\n",
              "      <td>доброго дня являюсь держателем зарплатной карт...</td>\n",
              "      <td>доброго дня являюсь держателем зарплатной карт...</td>\n",
              "      <td>добрый день являться держатель зарплатной карт...</td>\n",
              "    </tr>\n",
              "    <tr>\n",
              "      <th>2</th>\n",
              "      <td>г. Москва</td>\n",
              "      <td>False</td>\n",
              "      <td>Двойное списание за один товар.</td>\n",
              "      <td>1</td>\n",
              "      <td>лицензия № 2562</td>\n",
              "      <td>Vladimir84</td>\n",
              "      <td>бинбанк</td>\n",
              "      <td>2015-06-05 20:14:28</td>\n",
              "      <td>Здравствуйте!  Дублирую свое заявление от 03.0...</td>\n",
              "      <td>NaN</td>\n",
              "      <td>здравствуйте дублирую свое заявление от в до м...</td>\n",
              "      <td>здравствуйте дублирую свое заявление можайский...</td>\n",
              "      <td>здравствовать дублировать свое заявление можай...</td>\n",
              "    </tr>\n",
              "    <tr>\n",
              "      <th>3</th>\n",
              "      <td>г. Ставрополь</td>\n",
              "      <td>False</td>\n",
              "      <td>Меняют проценты комиссии  не предупредив и не ...</td>\n",
              "      <td>2</td>\n",
              "      <td>лицензия № 1481</td>\n",
              "      <td>643609</td>\n",
              "      <td>сбербанк россии</td>\n",
              "      <td>2015-06-05 13:51:01</td>\n",
              "      <td>Добрый день!! Я открыл расчетный счет в СберБа...</td>\n",
              "      <td>NaN</td>\n",
              "      <td>добрый день я открыл расчетный счет в сбербанк...</td>\n",
              "      <td>добрый день открыл расчетный счет сбербанке юр...</td>\n",
              "      <td>добрый день открывать расчетный счет сбербанк ...</td>\n",
              "    </tr>\n",
              "    <tr>\n",
              "      <th>4</th>\n",
              "      <td>г. Челябинск</td>\n",
              "      <td>False</td>\n",
              "      <td>Верните денежные средства за страховку</td>\n",
              "      <td>1</td>\n",
              "      <td>лицензия № 2766</td>\n",
              "      <td>anfisa-2003</td>\n",
              "      <td>отп банк</td>\n",
              "      <td>2015-06-05 10:58:12</td>\n",
              "      <td>04.03.2015 г. взяла кредит в вашем банке, заяв...</td>\n",
              "      <td>NaN</td>\n",
              "      <td>г взяла кредит в вашем банке заявленная мною с...</td>\n",
              "      <td>г взяла кредит вашем банке заявленная мною сум...</td>\n",
              "      <td>г взять кредит ваш банк заявлять я сумма рубль...</td>\n",
              "    </tr>\n",
              "  </tbody>\n",
              "</table>\n",
              "</div>\n",
              "    <div class=\"colab-df-buttons\">\n",
              "\n",
              "  <div class=\"colab-df-container\">\n",
              "    <button class=\"colab-df-convert\" onclick=\"convertToInteractive('df-eb28dff0-6384-4935-a00f-f40b1395c757')\"\n",
              "            title=\"Convert this dataframe to an interactive table.\"\n",
              "            style=\"display:none;\">\n",
              "\n",
              "  <svg xmlns=\"http://www.w3.org/2000/svg\" height=\"24px\" viewBox=\"0 -960 960 960\">\n",
              "    <path d=\"M120-120v-720h720v720H120Zm60-500h600v-160H180v160Zm220 220h160v-160H400v160Zm0 220h160v-160H400v160ZM180-400h160v-160H180v160Zm440 0h160v-160H620v160ZM180-180h160v-160H180v160Zm440 0h160v-160H620v160Z\"/>\n",
              "  </svg>\n",
              "    </button>\n",
              "\n",
              "  <style>\n",
              "    .colab-df-container {\n",
              "      display:flex;\n",
              "      gap: 12px;\n",
              "    }\n",
              "\n",
              "    .colab-df-convert {\n",
              "      background-color: #E8F0FE;\n",
              "      border: none;\n",
              "      border-radius: 50%;\n",
              "      cursor: pointer;\n",
              "      display: none;\n",
              "      fill: #1967D2;\n",
              "      height: 32px;\n",
              "      padding: 0 0 0 0;\n",
              "      width: 32px;\n",
              "    }\n",
              "\n",
              "    .colab-df-convert:hover {\n",
              "      background-color: #E2EBFA;\n",
              "      box-shadow: 0px 1px 2px rgba(60, 64, 67, 0.3), 0px 1px 3px 1px rgba(60, 64, 67, 0.15);\n",
              "      fill: #174EA6;\n",
              "    }\n",
              "\n",
              "    .colab-df-buttons div {\n",
              "      margin-bottom: 4px;\n",
              "    }\n",
              "\n",
              "    [theme=dark] .colab-df-convert {\n",
              "      background-color: #3B4455;\n",
              "      fill: #D2E3FC;\n",
              "    }\n",
              "\n",
              "    [theme=dark] .colab-df-convert:hover {\n",
              "      background-color: #434B5C;\n",
              "      box-shadow: 0px 1px 3px 1px rgba(0, 0, 0, 0.15);\n",
              "      filter: drop-shadow(0px 1px 2px rgba(0, 0, 0, 0.3));\n",
              "      fill: #FFFFFF;\n",
              "    }\n",
              "  </style>\n",
              "\n",
              "    <script>\n",
              "      const buttonEl =\n",
              "        document.querySelector('#df-eb28dff0-6384-4935-a00f-f40b1395c757 button.colab-df-convert');\n",
              "      buttonEl.style.display =\n",
              "        google.colab.kernel.accessAllowed ? 'block' : 'none';\n",
              "\n",
              "      async function convertToInteractive(key) {\n",
              "        const element = document.querySelector('#df-eb28dff0-6384-4935-a00f-f40b1395c757');\n",
              "        const dataTable =\n",
              "          await google.colab.kernel.invokeFunction('convertToInteractive',\n",
              "                                                    [key], {});\n",
              "        if (!dataTable) return;\n",
              "\n",
              "        const docLinkHtml = 'Like what you see? Visit the ' +\n",
              "          '<a target=\"_blank\" href=https://colab.research.google.com/notebooks/data_table.ipynb>data table notebook</a>'\n",
              "          + ' to learn more about interactive tables.';\n",
              "        element.innerHTML = '';\n",
              "        dataTable['output_type'] = 'display_data';\n",
              "        await google.colab.output.renderOutput(dataTable, element);\n",
              "        const docLink = document.createElement('div');\n",
              "        docLink.innerHTML = docLinkHtml;\n",
              "        element.appendChild(docLink);\n",
              "      }\n",
              "    </script>\n",
              "  </div>\n",
              "\n",
              "\n",
              "<div id=\"df-93fc3105-3d98-44ac-a876-169f20bc9560\">\n",
              "  <button class=\"colab-df-quickchart\" onclick=\"quickchart('df-93fc3105-3d98-44ac-a876-169f20bc9560')\"\n",
              "            title=\"Suggest charts.\"\n",
              "            style=\"display:none;\">\n",
              "\n",
              "<svg xmlns=\"http://www.w3.org/2000/svg\" height=\"24px\"viewBox=\"0 0 24 24\"\n",
              "     width=\"24px\">\n",
              "    <g>\n",
              "        <path d=\"M19 3H5c-1.1 0-2 .9-2 2v14c0 1.1.9 2 2 2h14c1.1 0 2-.9 2-2V5c0-1.1-.9-2-2-2zM9 17H7v-7h2v7zm4 0h-2V7h2v10zm4 0h-2v-4h2v4z\"/>\n",
              "    </g>\n",
              "</svg>\n",
              "  </button>\n",
              "\n",
              "<style>\n",
              "  .colab-df-quickchart {\n",
              "      --bg-color: #E8F0FE;\n",
              "      --fill-color: #1967D2;\n",
              "      --hover-bg-color: #E2EBFA;\n",
              "      --hover-fill-color: #174EA6;\n",
              "      --disabled-fill-color: #AAA;\n",
              "      --disabled-bg-color: #DDD;\n",
              "  }\n",
              "\n",
              "  [theme=dark] .colab-df-quickchart {\n",
              "      --bg-color: #3B4455;\n",
              "      --fill-color: #D2E3FC;\n",
              "      --hover-bg-color: #434B5C;\n",
              "      --hover-fill-color: #FFFFFF;\n",
              "      --disabled-bg-color: #3B4455;\n",
              "      --disabled-fill-color: #666;\n",
              "  }\n",
              "\n",
              "  .colab-df-quickchart {\n",
              "    background-color: var(--bg-color);\n",
              "    border: none;\n",
              "    border-radius: 50%;\n",
              "    cursor: pointer;\n",
              "    display: none;\n",
              "    fill: var(--fill-color);\n",
              "    height: 32px;\n",
              "    padding: 0;\n",
              "    width: 32px;\n",
              "  }\n",
              "\n",
              "  .colab-df-quickchart:hover {\n",
              "    background-color: var(--hover-bg-color);\n",
              "    box-shadow: 0 1px 2px rgba(60, 64, 67, 0.3), 0 1px 3px 1px rgba(60, 64, 67, 0.15);\n",
              "    fill: var(--button-hover-fill-color);\n",
              "  }\n",
              "\n",
              "  .colab-df-quickchart-complete:disabled,\n",
              "  .colab-df-quickchart-complete:disabled:hover {\n",
              "    background-color: var(--disabled-bg-color);\n",
              "    fill: var(--disabled-fill-color);\n",
              "    box-shadow: none;\n",
              "  }\n",
              "\n",
              "  .colab-df-spinner {\n",
              "    border: 2px solid var(--fill-color);\n",
              "    border-color: transparent;\n",
              "    border-bottom-color: var(--fill-color);\n",
              "    animation:\n",
              "      spin 1s steps(1) infinite;\n",
              "  }\n",
              "\n",
              "  @keyframes spin {\n",
              "    0% {\n",
              "      border-color: transparent;\n",
              "      border-bottom-color: var(--fill-color);\n",
              "      border-left-color: var(--fill-color);\n",
              "    }\n",
              "    20% {\n",
              "      border-color: transparent;\n",
              "      border-left-color: var(--fill-color);\n",
              "      border-top-color: var(--fill-color);\n",
              "    }\n",
              "    30% {\n",
              "      border-color: transparent;\n",
              "      border-left-color: var(--fill-color);\n",
              "      border-top-color: var(--fill-color);\n",
              "      border-right-color: var(--fill-color);\n",
              "    }\n",
              "    40% {\n",
              "      border-color: transparent;\n",
              "      border-right-color: var(--fill-color);\n",
              "      border-top-color: var(--fill-color);\n",
              "    }\n",
              "    60% {\n",
              "      border-color: transparent;\n",
              "      border-right-color: var(--fill-color);\n",
              "    }\n",
              "    80% {\n",
              "      border-color: transparent;\n",
              "      border-right-color: var(--fill-color);\n",
              "      border-bottom-color: var(--fill-color);\n",
              "    }\n",
              "    90% {\n",
              "      border-color: transparent;\n",
              "      border-bottom-color: var(--fill-color);\n",
              "    }\n",
              "  }\n",
              "</style>\n",
              "\n",
              "  <script>\n",
              "    async function quickchart(key) {\n",
              "      const quickchartButtonEl =\n",
              "        document.querySelector('#' + key + ' button');\n",
              "      quickchartButtonEl.disabled = true;  // To prevent multiple clicks.\n",
              "      quickchartButtonEl.classList.add('colab-df-spinner');\n",
              "      try {\n",
              "        const charts = await google.colab.kernel.invokeFunction(\n",
              "            'suggestCharts', [key], {});\n",
              "      } catch (error) {\n",
              "        console.error('Error during call to suggestCharts:', error);\n",
              "      }\n",
              "      quickchartButtonEl.classList.remove('colab-df-spinner');\n",
              "      quickchartButtonEl.classList.add('colab-df-quickchart-complete');\n",
              "    }\n",
              "    (() => {\n",
              "      let quickchartButtonEl =\n",
              "        document.querySelector('#df-93fc3105-3d98-44ac-a876-169f20bc9560 button');\n",
              "      quickchartButtonEl.style.display =\n",
              "        google.colab.kernel.accessAllowed ? 'block' : 'none';\n",
              "    })();\n",
              "  </script>\n",
              "</div>\n",
              "    </div>\n",
              "  </div>\n"
            ]
          },
          "metadata": {},
          "execution_count": 104
        }
      ]
    },
    {
      "cell_type": "code",
      "source": [
        "positives = df[df['rating_grade']==5]['lemmas'].to_list() # Это все положительные отзывы\n",
        "negatives = df[df['rating_grade']==1]['lemmas'].to_list() # Это все отрицательные отзывы\n",
        "batch_size = 1000\n",
        "text_batch_pos = [positives[i: i + batch_size] for i in range(0, len(positives), batch_size)] # Это батчи по 1000 позитивных отзывов\n",
        "text_batch_neg = [negatives[i: i + batch_size] for i in range(0, len(negatives), batch_size)] # это батчи по 1000 отрицательных отзывов"
      ],
      "metadata": {
        "id": "iz8pOz_DSaLB"
      },
      "execution_count": 97,
      "outputs": []
    },
    {
      "cell_type": "code",
      "source": [
        "len(positives)"
      ],
      "metadata": {
        "colab": {
          "base_uri": "https://localhost:8080/"
        },
        "id": "lZX2BhPGSjpX",
        "outputId": "427a3af4-efd1-4b42-cb47-6660bebf5e1b"
      },
      "execution_count": 98,
      "outputs": [
        {
          "output_type": "execute_result",
          "data": {
            "text/plain": [
              "14713"
            ]
          },
          "metadata": {},
          "execution_count": 98
        }
      ]
    },
    {
      "cell_type": "code",
      "source": [
        "len(negatives)"
      ],
      "metadata": {
        "colab": {
          "base_uri": "https://localhost:8080/"
        },
        "id": "W5ydV622SrBM",
        "outputId": "70a542d7-674c-44e4-acb1-39d9a6f90009"
      },
      "execution_count": 99,
      "outputs": [
        {
          "output_type": "execute_result",
          "data": {
            "text/plain": [
              "47387"
            ]
          },
          "metadata": {},
          "execution_count": 99
        }
      ]
    },
    {
      "cell_type": "code",
      "source": [
        "def find_ngram(text, n):\n",
        "    \"\"\" находит n-граммы\n",
        "    на входе - список из слов\n",
        "    на выходе - список n-Грамм\n",
        "    \"\"\"\n",
        "    return list(ngrams(text.split(), n))"
      ],
      "metadata": {
        "id": "1DTIEpODSvss"
      },
      "execution_count": 100,
      "outputs": []
    },
    {
      "cell_type": "markdown",
      "source": [
        "добрый день являться клиент банка поручитель"
      ],
      "metadata": {
        "id": "5TIM2H7h0snE"
      }
    },
    {
      "cell_type": "code",
      "source": [
        "def find_key_ngrams(processed_texts, n, m):\n",
        "    \"\"\" возвращает n наиболее часто встречающихся m-грамм в корпусе\n",
        "    На входе - список -батч отзывов размером batch_size\n",
        "    \"\"\"\n",
        "    result = []\n",
        "    # Берем по одному лемматизированному отзыву из батча\n",
        "    for item in processed_texts:\n",
        "        # и находим  в нем m-Граммы\n",
        "        result += find_ngram(item, m)\n",
        "    return result"
      ],
      "metadata": {
        "id": "gDqhaDF-SzhD"
      },
      "execution_count": 107,
      "outputs": []
    },
    {
      "cell_type": "code",
      "source": [
        "from nltk import ngrams\n",
        "print('Ключевые слова в положительных отзывах')\n",
        "result = []\n",
        "for batch in tqdm(text_batch_pos):\n",
        "  result += find_key_ngrams(batch, 10, 1)\n",
        "freq_dict = Counter(result)\n",
        "freq_dict.most_common(10)"
      ],
      "metadata": {
        "colab": {
          "base_uri": "https://localhost:8080/"
        },
        "id": "qzGIre2qS-HF",
        "outputId": "421be3b7-8785-4843-86bc-47d62b71b4fe"
      },
      "execution_count": 108,
      "outputs": [
        {
          "output_type": "stream",
          "name": "stdout",
          "text": [
            "Ключевые слова в положительных отзывах\n"
          ]
        },
        {
          "output_type": "stream",
          "name": "stderr",
          "text": [
            "100%|██████████| 15/15 [00:00<00:00, 24.72it/s]\n"
          ]
        },
        {
          "output_type": "execute_result",
          "data": {
            "text/plain": [
              "[(('банк',), 39012),\n",
              " (('банка',), 26332),\n",
              " (('карта',), 25129),\n",
              " (('очень',), 15695),\n",
              " (('кредит',), 13613),\n",
              " (('день',), 13604),\n",
              " (('клиент',), 13319),\n",
              " (('отделение',), 13020),\n",
              " (('который',), 12061),\n",
              " (('сотрудник',), 11788)]"
            ]
          },
          "metadata": {},
          "execution_count": 108
        }
      ]
    },
    {
      "cell_type": "code",
      "source": [
        "print('Биграммы в положительных отзывах')\n",
        "result = []\n",
        "for batch in tqdm(text_batch_pos):\n",
        "  result += find_key_ngrams(batch, 10, 2)\n",
        "freq_dict = Counter(result)\n",
        "freq_dict.most_common(10)"
      ],
      "metadata": {
        "colab": {
          "base_uri": "https://localhost:8080/"
        },
        "id": "CKv5KqG_TJcm",
        "outputId": "b5c2b9a0-b806-431c-99e6-9a4e11a9f8fa"
      },
      "execution_count": 109,
      "outputs": [
        {
          "output_type": "stream",
          "name": "stdout",
          "text": [
            "Биграммы в положительных отзывах\n"
          ]
        },
        {
          "output_type": "stream",
          "name": "stderr",
          "text": [
            "100%|██████████| 15/15 [00:00<00:00, 20.01it/s]\n"
          ]
        },
        {
          "output_type": "execute_result",
          "data": {
            "text/plain": [
              "[(('кредитный', 'карта'), 2782),\n",
              " (('интернет', 'банк'), 2597),\n",
              " (('сотрудник', 'банка'), 2533),\n",
              " (('другой', 'банк'), 2309),\n",
              " (('клиент', 'банка'), 1801),\n",
              " (('следующий', 'день'), 1525),\n",
              " (('открывать', 'вклад'), 1523),\n",
              " (('являться', 'клиент'), 1438),\n",
              " (('отделение', 'банка'), 1415),\n",
              " (('дебетовый', 'карта'), 1150)]"
            ]
          },
          "metadata": {},
          "execution_count": 109
        }
      ]
    },
    {
      "cell_type": "code",
      "source": [
        "print('Ключевые слова в отрицательных отзывах')\n",
        "result = []\n",
        "for batch in tqdm(text_batch_neg):\n",
        "  result += find_key_ngrams(batch, 10, 1)\n",
        "freq_dict = Counter(result)\n",
        "freq_dict.most_common(10)"
      ],
      "metadata": {
        "colab": {
          "base_uri": "https://localhost:8080/"
        },
        "id": "L22wZ-vPTOrH",
        "outputId": "084cb0fd-8357-4953-d436-bfc8150aa09b"
      },
      "execution_count": 110,
      "outputs": [
        {
          "output_type": "stream",
          "name": "stdout",
          "text": [
            "Ключевые слова в отрицательных отзывах\n"
          ]
        },
        {
          "output_type": "stream",
          "name": "stderr",
          "text": [
            "100%|██████████| 48/48 [00:04<00:00, 10.28it/s]\n"
          ]
        },
        {
          "output_type": "execute_result",
          "data": {
            "text/plain": [
              "[(('банк',), 121657),\n",
              " (('карта',), 116026),\n",
              " (('банка',), 106545),\n",
              " (('деньги',), 69589),\n",
              " (('день',), 65827),\n",
              " (('мой',), 60584),\n",
              " (('отделение',), 59572),\n",
              " (('который',), 55155),\n",
              " (('кредит',), 53387),\n",
              " (('сотрудник',), 52989)]"
            ]
          },
          "metadata": {},
          "execution_count": 110
        }
      ]
    },
    {
      "cell_type": "code",
      "source": [
        "print('Биграммы в отрицательных отзывах')\n",
        "result = []\n",
        "for batch in tqdm(text_batch_neg):\n",
        "  result += find_key_ngrams(batch, 10, 2)\n",
        "freq_dict = Counter(result)\n",
        "freq_dict.most_common(10)"
      ],
      "metadata": {
        "colab": {
          "base_uri": "https://localhost:8080/"
        },
        "id": "-L99lnZ9TXZC",
        "outputId": "e5fa9b3a-be13-4bec-9127-160ebcda8cda"
      },
      "execution_count": 111,
      "outputs": [
        {
          "output_type": "stream",
          "name": "stdout",
          "text": [
            "Биграммы в отрицательных отзывах\n"
          ]
        },
        {
          "output_type": "stream",
          "name": "stderr",
          "text": [
            "100%|██████████| 48/48 [00:03<00:00, 15.85it/s]\n"
          ]
        },
        {
          "output_type": "execute_result",
          "data": {
            "text/plain": [
              "[(('сотрудник', 'банка'), 14292),\n",
              " (('кредитный', 'карта'), 9946),\n",
              " (('отделение', 'банка'), 9762),\n",
              " (('денежный', 'средство'), 9389),\n",
              " (('написать', 'заявление'), 9230),\n",
              " (('горячий', 'линия'), 7403),\n",
              " (('рабочий', 'день'), 5894),\n",
              " (('колл', 'центр'), 5813),\n",
              " (('следующий', 'день'), 5154),\n",
              " (('служба', 'поддержка'), 4871)]"
            ]
          },
          "metadata": {},
          "execution_count": 111
        }
      ]
    },
    {
      "cell_type": "markdown",
      "metadata": {
        "id": "5cySuLCaqCPX"
      },
      "source": [
        "## Часть 2. Тематическое моделирование"
      ]
    },
    {
      "cell_type": "markdown",
      "source": [
        "### 2.1. Постройте несколько тематических моделей коллекции документов с разным числом тем. Приведите примеры понятных (интерпретируемых) тем."
      ],
      "metadata": {
        "id": "a7fVJc0PUBk2"
      }
    },
    {
      "cell_type": "code",
      "execution_count": 112,
      "metadata": {
        "id": "hjA_Fb0fqn99"
      },
      "outputs": [],
      "source": [
        "import gensim.corpora as corpora\n",
        "from gensim.models import ldamodel"
      ]
    },
    {
      "cell_type": "code",
      "source": [
        "texts = [df['lemmas'].iloc[i].split() for i in range(len(df))]\n",
        "dictionary = corpora.Dictionary(texts)\n",
        "corpus = [dictionary.doc2bow(text) for text in texts]"
      ],
      "metadata": {
        "id": "0pKJVgtIUwYW"
      },
      "execution_count": 113,
      "outputs": []
    },
    {
      "cell_type": "code",
      "source": [
        "lda = ldamodel.LdaModel(corpus=corpus,\n",
        "                        id2word=dictionary,\n",
        "                        num_topics=20,\n",
        "                        alpha='auto',\n",
        "                        eta='auto',\n",
        "                        iterations = 20,\n",
        "                        passes = 5,\n",
        "                        random_state=42)"
      ],
      "metadata": {
        "id": "QcUampxMU4l5"
      },
      "execution_count": 114,
      "outputs": []
    },
    {
      "cell_type": "code",
      "source": [
        "# 20 тем, рандомная выборка 5\n",
        "lda.show_topics(5)"
      ],
      "metadata": {
        "colab": {
          "base_uri": "https://localhost:8080/"
        },
        "id": "ea9pdwelU9a6",
        "outputId": "a98cad80-e34c-4673-e017-beb942640f11"
      },
      "execution_count": 117,
      "outputs": [
        {
          "output_type": "execute_result",
          "data": {
            "text/plain": [
              "[(18,\n",
              "  '0.047*\"доллар\" + 0.046*\"курс\" + 0.036*\"покупка\" + 0.036*\"евро\" + 0.033*\"рубль\" + 0.032*\"валюта\" + 0.031*\"магазин\" + 0.018*\"связной\" + 0.016*\"акция\" + 0.015*\"валютный\"'),\n",
              " (9,\n",
              "  '0.046*\"кредит\" + 0.035*\"договор\" + 0.031*\"документ\" + 0.017*\"квартира\" + 0.017*\"сделка\" + 0.015*\"страховка\" + 0.012*\"менеджер\" + 0.012*\"оформлять\" + 0.012*\"подписывать\" + 0.012*\"банка\"'),\n",
              " (12,\n",
              "  '0.037*\"очень\" + 0.022*\"банка\" + 0.021*\"банк\" + 0.020*\"обслуживание\" + 0.015*\"сотрудник\" + 0.014*\"быстро\" + 0.013*\"вопрос\" + 0.013*\"работа\" + 0.012*\"спасибо\" + 0.011*\"офис\"'),\n",
              " (3,\n",
              "  '0.025*\"день\" + 0.024*\"сказать\" + 0.016*\"позвонить\" + 0.013*\"звонить\" + 0.013*\"говорить\" + 0.013*\"девушка\" + 0.011*\"вопрос\" + 0.010*\"приходить\" + 0.010*\"отвечать\" + 0.010*\"ответ\"'),\n",
              " (17,\n",
              "  '0.034*\"банк\" + 0.016*\"клиент\" + 0.015*\"банка\" + 0.012*\"который\" + 0.011*\"свой\" + 0.010*\"такой\" + 0.008*\"просто\" + 0.007*\"проблема\" + 0.007*\"один\" + 0.007*\"другой\"')]"
            ]
          },
          "metadata": {},
          "execution_count": 117
        }
      ]
    },
    {
      "cell_type": "markdown",
      "source": [
        "Темы:\n",
        "* Покупка и продажа валюты\n",
        "* Кредиты\n",
        "* Хорошее обслуживание клиентов в банке\n",
        "* Общение по телефону с сотрудниками банка"
      ],
      "metadata": {
        "id": "0PznhSKR4mDw"
      }
    },
    {
      "cell_type": "code",
      "source": [
        "del df1"
      ],
      "metadata": {
        "id": "cEcY39u_4cN-"
      },
      "execution_count": 115,
      "outputs": []
    },
    {
      "cell_type": "code",
      "source": [
        "df.drop(columns=['datetime', 'text', 'text_tokenized', 'text_tokenized_stop_worlds', 'city', 'rating_not_checked', 'num_comments', 'author', 'bank_license'], inplace=True)"
      ],
      "metadata": {
        "id": "d2ZJIw6Y2mNm"
      },
      "execution_count": 116,
      "outputs": []
    },
    {
      "cell_type": "code",
      "source": [
        "del lda"
      ],
      "metadata": {
        "id": "usL0Yh5F4DkC"
      },
      "execution_count": 118,
      "outputs": []
    },
    {
      "cell_type": "code",
      "source": [
        "lda15 = ldamodel.LdaModel(corpus=corpus,\n",
        "                          id2word=dictionary,\n",
        "                          num_topics=15,\n",
        "                          alpha='auto',\n",
        "                          eta='auto',\n",
        "                          iterations = 20,\n",
        "                          passes = 5)"
      ],
      "metadata": {
        "id": "JAO8lvT-VA3X"
      },
      "execution_count": 119,
      "outputs": []
    },
    {
      "cell_type": "code",
      "source": [
        "# 15 тем, рандомная выборка 5\n",
        "lda15.show_topics(5)"
      ],
      "metadata": {
        "colab": {
          "base_uri": "https://localhost:8080/"
        },
        "id": "1oAyPKYYVDlR",
        "outputId": "6e0d46fe-d560-4e35-cb40-1ffb38f53bae"
      },
      "execution_count": 120,
      "outputs": [
        {
          "output_type": "execute_result",
          "data": {
            "text/plain": [
              "[(8,\n",
              "  '0.034*\"договор\" + 0.027*\"банк\" + 0.020*\"рф\" + 0.013*\"закон\" + 0.012*\"лицо\" + 0.012*\"право\" + 0.010*\"требование\" + 0.009*\"суд\" + 0.009*\"банковский\" + 0.008*\"п\"'),\n",
              " (13,\n",
              "  '0.118*\"вклад\" + 0.045*\"открывать\" + 0.028*\"процент\" + 0.027*\"депозит\" + 0.025*\"договор\" + 0.024*\"банк\" + 0.024*\"деньги\" + 0.015*\"открытие\" + 0.014*\"условие\" + 0.013*\"банка\"'),\n",
              " (2,\n",
              "  '0.011*\"который\" + 0.010*\"такой\" + 0.010*\"человек\" + 0.008*\"свой\" + 0.008*\"просто\" + 0.007*\"знать\" + 0.007*\"мой\" + 0.007*\"девушка\" + 0.007*\"вс\" + 0.007*\"говорить\"'),\n",
              " (7,\n",
              "  '0.030*\"день\" + 0.025*\"сказать\" + 0.018*\"позвонить\" + 0.016*\"отделение\" + 0.016*\"банк\" + 0.016*\"звонить\" + 0.013*\"приходить\" + 0.012*\"неделя\" + 0.012*\"говорить\" + 0.011*\"деньги\"'),\n",
              " (5,\n",
              "  '0.027*\"банк\" + 0.022*\"клиент\" + 0.021*\"банка\" + 0.017*\"очень\" + 0.014*\"очередь\" + 0.014*\"отделение\" + 0.013*\"работать\" + 0.012*\"время\" + 0.012*\"работа\" + 0.010*\"офис\"')]"
            ]
          },
          "metadata": {},
          "execution_count": 120
        }
      ]
    },
    {
      "cell_type": "markdown",
      "source": [
        "Темы:\n",
        "* банковский договор\n",
        "* условия ткрытия вклада\n",
        "* Общение с сотрудником банка\n",
        "* звонок в отделение банка\n",
        "* режим работы отделения, очереди"
      ],
      "metadata": {
        "id": "N8F08dCC7sXT"
      }
    },
    {
      "cell_type": "code",
      "source": [
        "del lda15"
      ],
      "metadata": {
        "id": "awHqPor04ICo"
      },
      "execution_count": 121,
      "outputs": []
    },
    {
      "cell_type": "code",
      "source": [
        "lda10 = ldamodel.LdaModel(corpus=corpus,\n",
        "                          id2word=dictionary,\n",
        "                          num_topics=10,\n",
        "                          alpha='auto',\n",
        "                          eta='auto',\n",
        "                          iterations = 20,\n",
        "                          passes = 5)"
      ],
      "metadata": {
        "id": "N8xzaapKVF_9"
      },
      "execution_count": 122,
      "outputs": []
    },
    {
      "cell_type": "code",
      "source": [
        "# 10 тем, рандомная выборка 5\n",
        "lda10.show_topics(5)"
      ],
      "metadata": {
        "colab": {
          "base_uri": "https://localhost:8080/"
        },
        "id": "U6a5fxFpVITn",
        "outputId": "5e513794-6299-4a5e-f325-d6dcb9d45310"
      },
      "execution_count": 123,
      "outputs": [
        {
          "output_type": "execute_result",
          "data": {
            "text/plain": [
              "[(1,\n",
              "  '0.083*\"вклад\" + 0.034*\"открывать\" + 0.027*\"банк\" + 0.027*\"деньги\" + 0.022*\"счет\" + 0.020*\"процент\" + 0.019*\"депозит\" + 0.016*\"договор\" + 0.015*\"банка\" + 0.014*\"сумма\"'),\n",
              " (3,\n",
              "  '0.047*\"кредит\" + 0.033*\"платеж\" + 0.030*\"сумма\" + 0.023*\"банк\" + 0.017*\"задолженность\" + 0.016*\"месяц\" + 0.016*\"кредитный\" + 0.015*\"погашение\" + 0.015*\"банка\" + 0.014*\"год\"'),\n",
              " (2,\n",
              "  '0.033*\"банк\" + 0.017*\"счет\" + 0.015*\"банка\" + 0.013*\"карта\" + 0.013*\"интернет\" + 0.011*\"комиссия\" + 0.009*\"услуга\" + 0.009*\"перевод\" + 0.009*\"клиент\" + 0.008*\"деньги\"'),\n",
              " (6,\n",
              "  '0.020*\"день\" + 0.017*\"сказать\" + 0.016*\"звонить\" + 0.014*\"позвонить\" + 0.013*\"банк\" + 0.012*\"говорить\" + 0.011*\"телефон\" + 0.011*\"ответ\" + 0.010*\"приходить\" + 0.009*\"мочь\"'),\n",
              " (7,\n",
              "  '0.015*\"клиент\" + 0.014*\"отделение\" + 0.013*\"банк\" + 0.011*\"банка\" + 0.011*\"работать\" + 0.010*\"очередь\" + 0.009*\"очень\" + 0.009*\"время\" + 0.009*\"сотрудник\" + 0.008*\"офис\"')]"
            ]
          },
          "metadata": {},
          "execution_count": 123
        }
      ]
    },
    {
      "cell_type": "markdown",
      "source": [
        "Темы:\n",
        "* вклады\n",
        "* кредиты\n",
        "* операции в интернет=банке\n",
        "* звонок в банк\n",
        "* работа отделения"
      ],
      "metadata": {
        "id": "MLRTzmov8SSH"
      }
    },
    {
      "cell_type": "code",
      "source": [
        "del lda10"
      ],
      "metadata": {
        "id": "fS4jqt9r4Kds"
      },
      "execution_count": null,
      "outputs": []
    },
    {
      "cell_type": "markdown",
      "source": [
        "### 2.2. Найдите темы, в которых упомянуты конкретные банки (Сбербанк, ВТБ, другой банк). Можете ли вы их прокомментировать / объяснить? Эта часть задания может быть сделана с использованием gensim."
      ],
      "metadata": {
        "id": "XY27Vqb-UIUe"
      }
    },
    {
      "cell_type": "code",
      "source": [
        "ddf = df[df['bank_name'] == 'ситибанк']\n",
        "ddf.shape[0]"
      ],
      "metadata": {
        "colab": {
          "base_uri": "https://localhost:8080/"
        },
        "id": "FDJ6B0PiUMYd",
        "outputId": "6cf6ad48-bb37-4642-8d43-6b1d423ecf6c"
      },
      "execution_count": 124,
      "outputs": [
        {
          "output_type": "execute_result",
          "data": {
            "text/plain": [
              "2848"
            ]
          },
          "metadata": {},
          "execution_count": 124
        }
      ]
    },
    {
      "cell_type": "code",
      "source": [
        "texts_bank = [ddf['lemmas'].iloc[i].split() for i in range(len(ddf))]\n",
        "dictionary_bank = corpora.Dictionary(texts_bank)\n",
        "corpus_bank = [dictionary_bank.doc2bow(text) for text in texts_bank]"
      ],
      "metadata": {
        "id": "SfloW6RN-ECj"
      },
      "execution_count": 125,
      "outputs": []
    },
    {
      "cell_type": "code",
      "source": [
        "lda_bank = ldamodel.LdaModel(corpus=corpus_bank,\n",
        "                          id2word=dictionary_bank,\n",
        "                          num_topics=15,\n",
        "                          alpha='auto',\n",
        "                          eta='auto',\n",
        "                          iterations = 20,\n",
        "                          passes = 5)"
      ],
      "metadata": {
        "colab": {
          "base_uri": "https://localhost:8080/"
        },
        "id": "mSpmb6UjVOlL",
        "outputId": "027fca9a-7662-4d13-ca3f-adafeaf14874"
      },
      "execution_count": 126,
      "outputs": [
        {
          "output_type": "stream",
          "name": "stderr",
          "text": [
            "WARNING:gensim.models.ldamodel:too few updates, training might not converge; consider increasing the number of passes or iterations to improve accuracy\n"
          ]
        }
      ]
    },
    {
      "cell_type": "code",
      "source": [
        "# 10 тем, рандомная выборка 5\n",
        "lda_bank.show_topics(5)"
      ],
      "metadata": {
        "colab": {
          "base_uri": "https://localhost:8080/"
        },
        "id": "bAdZ8sxW-VIW",
        "outputId": "b8dfdbc7-1835-4f0d-c14f-f8e9a099bf92"
      },
      "execution_count": 127,
      "outputs": [
        {
          "output_type": "execute_result",
          "data": {
            "text/plain": [
              "[(12,\n",
              "  '0.001*\"деактивировать\" + 0.001*\"скользкий\" + 0.001*\"попкорн\" + 0.001*\"исправный\" + 0.001*\"доллар\" + 0.001*\"банкомат\" + 0.001*\"исполнительный\" + 0.001*\"филиал\" + 0.001*\"куркино\" + 0.001*\"плитка\"'),\n",
              " (6,\n",
              "  '0.010*\"язык\" + 0.006*\"английский\" + 0.005*\"документ\" + 0.005*\"кб\" + 0.005*\"декларация\" + 0.005*\"зао\" + 0.005*\"договор\" + 0.004*\"налоговый\" + 0.004*\"справка\" + 0.004*\"мой\"'),\n",
              " (13,\n",
              "  '0.018*\"день\" + 0.014*\"отделение\" + 0.009*\"банкомат\" + 0.009*\"ситифон\" + 0.009*\"деньги\" + 0.008*\"банк\" + 0.008*\"работать\" + 0.008*\"карта\" + 0.007*\"время\" + 0.007*\"мой\"'),\n",
              " (2,\n",
              "  '0.043*\"карта\" + 0.010*\"счет\" + 0.009*\"банк\" + 0.009*\"который\" + 0.009*\"получать\" + 0.009*\"кредитный\" + 0.008*\"заявление\" + 0.008*\"банка\" + 0.007*\"обслуживание\" + 0.006*\"сказать\"'),\n",
              " (0,\n",
              "  '0.024*\"карта\" + 0.014*\"банк\" + 0.010*\"банка\" + 0.009*\"счет\" + 0.009*\"мой\" + 0.008*\"ситибанк\" + 0.008*\"сумма\" + 0.008*\"деньги\" + 0.008*\"клиент\" + 0.008*\"ситибанка\"')]"
            ]
          },
          "metadata": {},
          "execution_count": 127
        }
      ]
    },
    {
      "cell_type": "markdown",
      "source": [
        "* Скользкий пол в филиале ситибанка в куркино\n",
        "* налоговая декларация\n",
        "* режим работы\n",
        "* получение карты\n",
        "* обслуживание карты"
      ],
      "metadata": {
        "id": "o9WtQsjT-hO2"
      }
    },
    {
      "cell_type": "code",
      "source": [
        "del lda_bank"
      ],
      "metadata": {
        "id": "3Vklu11p-9Tq"
      },
      "execution_count": 128,
      "outputs": []
    },
    {
      "cell_type": "markdown",
      "metadata": {
        "id": "AdPGUAq1qcFs"
      },
      "source": [
        "## Часть 3. Классификация текстов\n",
        "Сформулируем для простоты задачу бинарной классификации: будем классифицировать на два класса, то есть, различать резко отрицательные отзывы (с оценкой 1) и положительные отзывы (с оценкой 5).\n",
        "\n",
        "* Составьте обучающее и тестовое множество: выберите из всего набора данных N1 отзывов с оценкой 1 и N2 отзывов с оценкой 5 (значение N1 и N2 – на ваше усмотрение). Используйте sklearn.model_selection.train_test_split для разделения множества отобранных документов на обучающее и тестовое.\n",
        "Используйте любой известный вам алгоритм классификации текстов для решения задачи и получите baseline. Сравните разные варианты векторизации текста:\n",
        "  * использование только униграм,\n",
        "  * использование пар или троек слов или\n",
        "  * использованием символьных -грам.\n",
        "* Сравните, как изменяется качество решения задачи при использовании скрытых тем в качестве признаков:\n",
        "  * 1-ый вариант:\n",
        " преобразование (sklearn.feature_extraction.text.TfidfTransformer) и сингулярное разложение (оно же – латентый семантический анализ) (sklearn.decomposition.TruncatedSVD),\n",
        "  * 2-ой вариант: тематические модели LDA (sklearn.decomposition.LatentDirichletAllocation). Используйте accuracy и F-measure для оценки качества классификации.\n",
        "В ноутбуке, размещенном в папке репозитория. написан примерный Pipeline для классификации текстов.\n",
        "\n",
        "Эта часть задания может быть сделана с использованием sklearn."
      ]
    },
    {
      "cell_type": "markdown",
      "source": [
        "### 3.1. Подготовка обучающего и тестового датасетов, baseline классификация"
      ],
      "metadata": {
        "id": "e-tSlRbrVWXM"
      }
    },
    {
      "cell_type": "code",
      "source": [
        "n1 = 1000\n",
        "n2 = 1000\n",
        "df_sample = df[(df.rating_grade==1)].sample(n=n1).copy()\n",
        "df_sample = df_sample.append(df[(df.rating_grade==5)].sample(n=n2))\n",
        "df_sample.rating_grade.value_counts()"
      ],
      "metadata": {
        "colab": {
          "base_uri": "https://localhost:8080/"
        },
        "id": "avYDe5JWVTKb",
        "outputId": "54b378c1-ac51-4876-fdb3-2101d436a7f2"
      },
      "execution_count": 135,
      "outputs": [
        {
          "output_type": "execute_result",
          "data": {
            "text/plain": [
              "1.0    1000\n",
              "5.0    1000\n",
              "Name: rating_grade, dtype: int64"
            ]
          },
          "metadata": {},
          "execution_count": 135
        }
      ]
    },
    {
      "cell_type": "code",
      "source": [
        "X = df_sample['lemmas'].values\n",
        "y = df_sample.rating_grade.values"
      ],
      "metadata": {
        "id": "MDdSMMkbVc7m"
      },
      "execution_count": 136,
      "outputs": []
    },
    {
      "cell_type": "code",
      "source": [
        "X_train, X_test, y_train, y_test = train_test_split(X, y, test_size=0.3)"
      ],
      "metadata": {
        "id": "sJacWKlwViVi"
      },
      "execution_count": 137,
      "outputs": []
    },
    {
      "cell_type": "code",
      "source": [
        "# Baseline Классификатор - Logistic Regression + CountVectorizer + униграммы, биграммы, триграммы на базе слов или символов\n",
        "clf_countvectorized = Pipeline(\n",
        "    [('vect', CountVectorizer()),\n",
        "     ('clf', LogisticRegression())]\n",
        ")\n",
        "\n",
        "params_cntv = {\n",
        "    'vect__analyzer': ['word','char'],\n",
        "    'vect__max_df': (0.5, 0.75, 1.0),\n",
        "    'vect__ngram_range': ((1, 1), (2, 2), (3, 3)),\n",
        "    'clf__C': np.logspace(-3,3,7),\n",
        "    'clf__penalty': ['l1','l2']\n",
        "}\n",
        "\n",
        "scores=['accuracy', 'f1']"
      ],
      "metadata": {
        "id": "Q_boyg4lVlAE"
      },
      "execution_count": 138,
      "outputs": []
    },
    {
      "cell_type": "code",
      "source": [
        "grid_cntv = GridSearchCV(\n",
        "    clf_countvectorized,\n",
        "    param_grid=params_cntv,\n",
        "    cv=3,\n",
        "    scoring=scores,\n",
        "    refit=scores[0],\n",
        "    n_jobs=-1,\n",
        "    verbose=3\n",
        ")"
      ],
      "metadata": {
        "id": "TTbL_f11VoPs"
      },
      "execution_count": 140,
      "outputs": []
    },
    {
      "cell_type": "code",
      "source": [
        "grid_cntv.fit(X_train, y_train)"
      ],
      "metadata": {
        "colab": {
          "base_uri": "https://localhost:8080/",
          "height": 170
        },
        "id": "tPYfQz1YVtK_",
        "outputId": "190a9e1d-a4cc-4a72-a7b4-cd32119e0c05"
      },
      "execution_count": 153,
      "outputs": [
        {
          "output_type": "stream",
          "name": "stdout",
          "text": [
            "Fitting 3 folds for each of 252 candidates, totalling 756 fits\n"
          ]
        },
        {
          "output_type": "execute_result",
          "data": {
            "text/plain": [
              "GridSearchCV(cv=3,\n",
              "             estimator=Pipeline(steps=[('vect', CountVectorizer()),\n",
              "                                       ('clf', LogisticRegression())]),\n",
              "             n_jobs=-1,\n",
              "             param_grid={'clf__C': array([1.e-03, 1.e-02, 1.e-01, 1.e+00, 1.e+01, 1.e+02, 1.e+03]),\n",
              "                         'clf__penalty': ['l1', 'l2'],\n",
              "                         'vect__analyzer': ['word', 'char'],\n",
              "                         'vect__max_df': (0.5, 0.75, 1.0),\n",
              "                         'vect__ngram_range': ((1, 1), (2, 2), (3, 3))},\n",
              "             refit='accuracy', scoring=['accuracy', 'f1'], verbose=3)"
            ],
            "text/html": [
              "<style>#sk-container-id-1 {color: black;background-color: white;}#sk-container-id-1 pre{padding: 0;}#sk-container-id-1 div.sk-toggleable {background-color: white;}#sk-container-id-1 label.sk-toggleable__label {cursor: pointer;display: block;width: 100%;margin-bottom: 0;padding: 0.3em;box-sizing: border-box;text-align: center;}#sk-container-id-1 label.sk-toggleable__label-arrow:before {content: \"▸\";float: left;margin-right: 0.25em;color: #696969;}#sk-container-id-1 label.sk-toggleable__label-arrow:hover:before {color: black;}#sk-container-id-1 div.sk-estimator:hover label.sk-toggleable__label-arrow:before {color: black;}#sk-container-id-1 div.sk-toggleable__content {max-height: 0;max-width: 0;overflow: hidden;text-align: left;background-color: #f0f8ff;}#sk-container-id-1 div.sk-toggleable__content pre {margin: 0.2em;color: black;border-radius: 0.25em;background-color: #f0f8ff;}#sk-container-id-1 input.sk-toggleable__control:checked~div.sk-toggleable__content {max-height: 200px;max-width: 100%;overflow: auto;}#sk-container-id-1 input.sk-toggleable__control:checked~label.sk-toggleable__label-arrow:before {content: \"▾\";}#sk-container-id-1 div.sk-estimator input.sk-toggleable__control:checked~label.sk-toggleable__label {background-color: #d4ebff;}#sk-container-id-1 div.sk-label input.sk-toggleable__control:checked~label.sk-toggleable__label {background-color: #d4ebff;}#sk-container-id-1 input.sk-hidden--visually {border: 0;clip: rect(1px 1px 1px 1px);clip: rect(1px, 1px, 1px, 1px);height: 1px;margin: -1px;overflow: hidden;padding: 0;position: absolute;width: 1px;}#sk-container-id-1 div.sk-estimator {font-family: monospace;background-color: #f0f8ff;border: 1px dotted black;border-radius: 0.25em;box-sizing: border-box;margin-bottom: 0.5em;}#sk-container-id-1 div.sk-estimator:hover {background-color: #d4ebff;}#sk-container-id-1 div.sk-parallel-item::after {content: \"\";width: 100%;border-bottom: 1px solid gray;flex-grow: 1;}#sk-container-id-1 div.sk-label:hover label.sk-toggleable__label {background-color: #d4ebff;}#sk-container-id-1 div.sk-serial::before {content: \"\";position: absolute;border-left: 1px solid gray;box-sizing: border-box;top: 0;bottom: 0;left: 50%;z-index: 0;}#sk-container-id-1 div.sk-serial {display: flex;flex-direction: column;align-items: center;background-color: white;padding-right: 0.2em;padding-left: 0.2em;position: relative;}#sk-container-id-1 div.sk-item {position: relative;z-index: 1;}#sk-container-id-1 div.sk-parallel {display: flex;align-items: stretch;justify-content: center;background-color: white;position: relative;}#sk-container-id-1 div.sk-item::before, #sk-container-id-1 div.sk-parallel-item::before {content: \"\";position: absolute;border-left: 1px solid gray;box-sizing: border-box;top: 0;bottom: 0;left: 50%;z-index: -1;}#sk-container-id-1 div.sk-parallel-item {display: flex;flex-direction: column;z-index: 1;position: relative;background-color: white;}#sk-container-id-1 div.sk-parallel-item:first-child::after {align-self: flex-end;width: 50%;}#sk-container-id-1 div.sk-parallel-item:last-child::after {align-self: flex-start;width: 50%;}#sk-container-id-1 div.sk-parallel-item:only-child::after {width: 0;}#sk-container-id-1 div.sk-dashed-wrapped {border: 1px dashed gray;margin: 0 0.4em 0.5em 0.4em;box-sizing: border-box;padding-bottom: 0.4em;background-color: white;}#sk-container-id-1 div.sk-label label {font-family: monospace;font-weight: bold;display: inline-block;line-height: 1.2em;}#sk-container-id-1 div.sk-label-container {text-align: center;}#sk-container-id-1 div.sk-container {/* jupyter's `normalize.less` sets `[hidden] { display: none; }` but bootstrap.min.css set `[hidden] { display: none !important; }` so we also need the `!important` here to be able to override the default hidden behavior on the sphinx rendered scikit-learn.org. See: https://github.com/scikit-learn/scikit-learn/issues/21755 */display: inline-block !important;position: relative;}#sk-container-id-1 div.sk-text-repr-fallback {display: none;}</style><div id=\"sk-container-id-1\" class=\"sk-top-container\"><div class=\"sk-text-repr-fallback\"><pre>GridSearchCV(cv=3,\n",
              "             estimator=Pipeline(steps=[(&#x27;vect&#x27;, CountVectorizer()),\n",
              "                                       (&#x27;clf&#x27;, LogisticRegression())]),\n",
              "             n_jobs=-1,\n",
              "             param_grid={&#x27;clf__C&#x27;: array([1.e-03, 1.e-02, 1.e-01, 1.e+00, 1.e+01, 1.e+02, 1.e+03]),\n",
              "                         &#x27;clf__penalty&#x27;: [&#x27;l1&#x27;, &#x27;l2&#x27;],\n",
              "                         &#x27;vect__analyzer&#x27;: [&#x27;word&#x27;, &#x27;char&#x27;],\n",
              "                         &#x27;vect__max_df&#x27;: (0.5, 0.75, 1.0),\n",
              "                         &#x27;vect__ngram_range&#x27;: ((1, 1), (2, 2), (3, 3))},\n",
              "             refit=&#x27;accuracy&#x27;, scoring=[&#x27;accuracy&#x27;, &#x27;f1&#x27;], verbose=3)</pre><b>In a Jupyter environment, please rerun this cell to show the HTML representation or trust the notebook. <br />On GitHub, the HTML representation is unable to render, please try loading this page with nbviewer.org.</b></div><div class=\"sk-container\" hidden><div class=\"sk-item sk-dashed-wrapped\"><div class=\"sk-label-container\"><div class=\"sk-label sk-toggleable\"><input class=\"sk-toggleable__control sk-hidden--visually\" id=\"sk-estimator-id-1\" type=\"checkbox\" ><label for=\"sk-estimator-id-1\" class=\"sk-toggleable__label sk-toggleable__label-arrow\">GridSearchCV</label><div class=\"sk-toggleable__content\"><pre>GridSearchCV(cv=3,\n",
              "             estimator=Pipeline(steps=[(&#x27;vect&#x27;, CountVectorizer()),\n",
              "                                       (&#x27;clf&#x27;, LogisticRegression())]),\n",
              "             n_jobs=-1,\n",
              "             param_grid={&#x27;clf__C&#x27;: array([1.e-03, 1.e-02, 1.e-01, 1.e+00, 1.e+01, 1.e+02, 1.e+03]),\n",
              "                         &#x27;clf__penalty&#x27;: [&#x27;l1&#x27;, &#x27;l2&#x27;],\n",
              "                         &#x27;vect__analyzer&#x27;: [&#x27;word&#x27;, &#x27;char&#x27;],\n",
              "                         &#x27;vect__max_df&#x27;: (0.5, 0.75, 1.0),\n",
              "                         &#x27;vect__ngram_range&#x27;: ((1, 1), (2, 2), (3, 3))},\n",
              "             refit=&#x27;accuracy&#x27;, scoring=[&#x27;accuracy&#x27;, &#x27;f1&#x27;], verbose=3)</pre></div></div></div><div class=\"sk-parallel\"><div class=\"sk-parallel-item\"><div class=\"sk-item\"><div class=\"sk-label-container\"><div class=\"sk-label sk-toggleable\"><input class=\"sk-toggleable__control sk-hidden--visually\" id=\"sk-estimator-id-2\" type=\"checkbox\" ><label for=\"sk-estimator-id-2\" class=\"sk-toggleable__label sk-toggleable__label-arrow\">estimator: Pipeline</label><div class=\"sk-toggleable__content\"><pre>Pipeline(steps=[(&#x27;vect&#x27;, CountVectorizer()), (&#x27;clf&#x27;, LogisticRegression())])</pre></div></div></div><div class=\"sk-serial\"><div class=\"sk-item\"><div class=\"sk-serial\"><div class=\"sk-item\"><div class=\"sk-estimator sk-toggleable\"><input class=\"sk-toggleable__control sk-hidden--visually\" id=\"sk-estimator-id-3\" type=\"checkbox\" ><label for=\"sk-estimator-id-3\" class=\"sk-toggleable__label sk-toggleable__label-arrow\">CountVectorizer</label><div class=\"sk-toggleable__content\"><pre>CountVectorizer()</pre></div></div></div><div class=\"sk-item\"><div class=\"sk-estimator sk-toggleable\"><input class=\"sk-toggleable__control sk-hidden--visually\" id=\"sk-estimator-id-4\" type=\"checkbox\" ><label for=\"sk-estimator-id-4\" class=\"sk-toggleable__label sk-toggleable__label-arrow\">LogisticRegression</label><div class=\"sk-toggleable__content\"><pre>LogisticRegression()</pre></div></div></div></div></div></div></div></div></div></div></div></div>"
            ]
          },
          "metadata": {},
          "execution_count": 153
        }
      ]
    },
    {
      "cell_type": "code",
      "source": [
        "del  mylist, nouns, lemmas"
      ],
      "metadata": {
        "id": "mRdnvjD2_SeF"
      },
      "execution_count": 152,
      "outputs": []
    },
    {
      "cell_type": "code",
      "source": [
        "predictions = grid_cntv.best_estimator_.predict(X_test)"
      ],
      "metadata": {
        "id": "1HrUtRy3VvKt"
      },
      "execution_count": 154,
      "outputs": []
    },
    {
      "cell_type": "code",
      "source": [
        "print(f\"Best params: {grid_cntv.best_params_}\")"
      ],
      "metadata": {
        "colab": {
          "base_uri": "https://localhost:8080/"
        },
        "id": "v7mZhpnxV8aT",
        "outputId": "07a0e175-c7ff-4aa6-d0c5-bd3c34d9eb96"
      },
      "execution_count": 155,
      "outputs": [
        {
          "output_type": "stream",
          "name": "stdout",
          "text": [
            "Best params: {'clf__C': 0.1, 'clf__penalty': 'l2', 'vect__analyzer': 'char', 'vect__max_df': 0.75, 'vect__ngram_range': (3, 3)}\n"
          ]
        }
      ]
    },
    {
      "cell_type": "code",
      "source": [
        "print(\"Best score: %0.3f\" % grid_cntv.best_score_)"
      ],
      "metadata": {
        "colab": {
          "base_uri": "https://localhost:8080/"
        },
        "id": "FLiDMvxoVyqd",
        "outputId": "3a91dd6a-773c-4ab1-c5f5-f1ee7b4911c8"
      },
      "execution_count": 156,
      "outputs": [
        {
          "output_type": "stream",
          "name": "stdout",
          "text": [
            "Best score: 0.913\n"
          ]
        }
      ]
    },
    {
      "cell_type": "code",
      "source": [
        "print(classification_report(y_test, predictions))"
      ],
      "metadata": {
        "colab": {
          "base_uri": "https://localhost:8080/"
        },
        "id": "f3Q5Afi7V0sR",
        "outputId": "efaa46f1-8737-4c0c-807c-d6c6b26ca106"
      },
      "execution_count": 157,
      "outputs": [
        {
          "output_type": "stream",
          "name": "stdout",
          "text": [
            "              precision    recall  f1-score   support\n",
            "\n",
            "         1.0       0.89      0.89      0.89       302\n",
            "         5.0       0.89      0.89      0.89       298\n",
            "\n",
            "    accuracy                           0.89       600\n",
            "   macro avg       0.89      0.89      0.89       600\n",
            "weighted avg       0.89      0.89      0.89       600\n",
            "\n"
          ]
        }
      ]
    },
    {
      "cell_type": "code",
      "source": [
        "labels = grid_cntv.best_estimator_.classes_\n",
        "\n",
        "sns.heatmap(\n",
        "    data=confusion_matrix(y_test, predictions),\n",
        "    annot=True,\n",
        "    fmt=\"d\",\n",
        "    cbar=False,\n",
        "    xticklabels=labels,\n",
        "    yticklabels=labels\n",
        ")\n",
        "\n",
        "plt.title(\"Baseline Confusion matrix\")\n",
        "plt.show()"
      ],
      "metadata": {
        "colab": {
          "base_uri": "https://localhost:8080/",
          "height": 546
        },
        "id": "lrc_ud5vWmdn",
        "outputId": "d298516e-1032-4105-d63e-17fa9bd09d94"
      },
      "execution_count": 158,
      "outputs": [
        {
          "output_type": "display_data",
          "data": {
            "text/plain": [
              "<Figure size 800x600 with 1 Axes>"
            ],
            "image/png": "[encoded data removed]"
          },
          "metadata": {}
        }
      ]
    },
    {
      "cell_type": "code",
      "source": [
        "# Классификатор - Logistic Regression + CountVectorizer + TfidfTransformer + униграммы, биграммы, триграммы  на базе слов\n",
        "clf_tf_idf = Pipeline(\n",
        "    [('vect', CountVectorizer()),\n",
        "     ('tfidf', TfidfTransformer()),\n",
        "     ('clf', LogisticRegression())]\n",
        ")\n",
        "\n",
        "params_tf_idf={\n",
        "    'vect__analyzer': ['word'],\n",
        "    'vect__max_df': (0.5, 0.75, 1.0),\n",
        "    'vect__ngram_range': [(1, 1), (2, 2), (3, 3)],\n",
        "    'tfidf__use_idf': (True, False),\n",
        "    'clf__C': np.logspace(-3, 3, 7),\n",
        "    'clf__penalty': ['l1', 'l2']\n",
        "}\n",
        "\n",
        "scores=['accuracy','f1']"
      ],
      "metadata": {
        "id": "oRwwz3arWp3i"
      },
      "execution_count": 159,
      "outputs": []
    },
    {
      "cell_type": "code",
      "source": [
        "grid_tf_idf = GridSearchCV(\n",
        "    clf_tf_idf,\n",
        "    param_grid=params_tf_idf,\n",
        "    cv=3,\n",
        "    scoring=scores,\n",
        "    refit=scores[0],\n",
        "    n_jobs=-1,\n",
        "    verbose=3\n",
        ")"
      ],
      "metadata": {
        "id": "yses-c-EWtTh"
      },
      "execution_count": 160,
      "outputs": []
    },
    {
      "cell_type": "code",
      "source": [
        "grid_tf_idf.fit(X_train, y_train)"
      ],
      "metadata": {
        "colab": {
          "base_uri": "https://localhost:8080/",
          "height": 205
        },
        "id": "eU-4NTEfWxS1",
        "outputId": "9c580164-d5e0-4f1c-a2cb-e94bbf763dd9"
      },
      "execution_count": 161,
      "outputs": [
        {
          "output_type": "stream",
          "name": "stdout",
          "text": [
            "Fitting 3 folds for each of 252 candidates, totalling 756 fits\n"
          ]
        },
        {
          "output_type": "execute_result",
          "data": {
            "text/plain": [
              "GridSearchCV(cv=3,\n",
              "             estimator=Pipeline(steps=[('vect', CountVectorizer()),\n",
              "                                       ('tfidf', TfidfTransformer()),\n",
              "                                       ('clf', LogisticRegression())]),\n",
              "             n_jobs=-1,\n",
              "             param_grid={'clf__C': array([1.e-03, 1.e-02, 1.e-01, 1.e+00, 1.e+01, 1.e+02, 1.e+03]),\n",
              "                         'clf__penalty': ['l1', 'l2'],\n",
              "                         'tfidf__use_idf': (True, False),\n",
              "                         'vect__analyzer': ['word'],\n",
              "                         'vect__max_df': (0.5, 0.75, 1.0),\n",
              "                         'vect__ngram_range': [(1, 1), (2, 2), (3, 3)]},\n",
              "             refit='accuracy', scoring=['accuracy', 'f1'], verbose=3)"
            ],
            "text/html": [
              "<style>#sk-container-id-2 {color: black;background-color: white;}#sk-container-id-2 pre{padding: 0;}#sk-container-id-2 div.sk-toggleable {background-color: white;}#sk-container-id-2 label.sk-toggleable__label {cursor: pointer;display: block;width: 100%;margin-bottom: 0;padding: 0.3em;box-sizing: border-box;text-align: center;}#sk-container-id-2 label.sk-toggleable__label-arrow:before {content: \"▸\";float: left;margin-right: 0.25em;color: #696969;}#sk-container-id-2 label.sk-toggleable__label-arrow:hover:before {color: black;}#sk-container-id-2 div.sk-estimator:hover label.sk-toggleable__label-arrow:before {color: black;}#sk-container-id-2 div.sk-toggleable__content {max-height: 0;max-width: 0;overflow: hidden;text-align: left;background-color: #f0f8ff;}#sk-container-id-2 div.sk-toggleable__content pre {margin: 0.2em;color: black;border-radius: 0.25em;background-color: #f0f8ff;}#sk-container-id-2 input.sk-toggleable__control:checked~div.sk-toggleable__content {max-height: 200px;max-width: 100%;overflow: auto;}#sk-container-id-2 input.sk-toggleable__control:checked~label.sk-toggleable__label-arrow:before {content: \"▾\";}#sk-container-id-2 div.sk-estimator input.sk-toggleable__control:checked~label.sk-toggleable__label {background-color: #d4ebff;}#sk-container-id-2 div.sk-label input.sk-toggleable__control:checked~label.sk-toggleable__label {background-color: #d4ebff;}#sk-container-id-2 input.sk-hidden--visually {border: 0;clip: rect(1px 1px 1px 1px);clip: rect(1px, 1px, 1px, 1px);height: 1px;margin: -1px;overflow: hidden;padding: 0;position: absolute;width: 1px;}#sk-container-id-2 div.sk-estimator {font-family: monospace;background-color: #f0f8ff;border: 1px dotted black;border-radius: 0.25em;box-sizing: border-box;margin-bottom: 0.5em;}#sk-container-id-2 div.sk-estimator:hover {background-color: #d4ebff;}#sk-container-id-2 div.sk-parallel-item::after {content: \"\";width: 100%;border-bottom: 1px solid gray;flex-grow: 1;}#sk-container-id-2 div.sk-label:hover label.sk-toggleable__label {background-color: #d4ebff;}#sk-container-id-2 div.sk-serial::before {content: \"\";position: absolute;border-left: 1px solid gray;box-sizing: border-box;top: 0;bottom: 0;left: 50%;z-index: 0;}#sk-container-id-2 div.sk-serial {display: flex;flex-direction: column;align-items: center;background-color: white;padding-right: 0.2em;padding-left: 0.2em;position: relative;}#sk-container-id-2 div.sk-item {position: relative;z-index: 1;}#sk-container-id-2 div.sk-parallel {display: flex;align-items: stretch;justify-content: center;background-color: white;position: relative;}#sk-container-id-2 div.sk-item::before, #sk-container-id-2 div.sk-parallel-item::before {content: \"\";position: absolute;border-left: 1px solid gray;box-sizing: border-box;top: 0;bottom: 0;left: 50%;z-index: -1;}#sk-container-id-2 div.sk-parallel-item {display: flex;flex-direction: column;z-index: 1;position: relative;background-color: white;}#sk-container-id-2 div.sk-parallel-item:first-child::after {align-self: flex-end;width: 50%;}#sk-container-id-2 div.sk-parallel-item:last-child::after {align-self: flex-start;width: 50%;}#sk-container-id-2 div.sk-parallel-item:only-child::after {width: 0;}#sk-container-id-2 div.sk-dashed-wrapped {border: 1px dashed gray;margin: 0 0.4em 0.5em 0.4em;box-sizing: border-box;padding-bottom: 0.4em;background-color: white;}#sk-container-id-2 div.sk-label label {font-family: monospace;font-weight: bold;display: inline-block;line-height: 1.2em;}#sk-container-id-2 div.sk-label-container {text-align: center;}#sk-container-id-2 div.sk-container {/* jupyter's `normalize.less` sets `[hidden] { display: none; }` but bootstrap.min.css set `[hidden] { display: none !important; }` so we also need the `!important` here to be able to override the default hidden behavior on the sphinx rendered scikit-learn.org. See: https://github.com/scikit-learn/scikit-learn/issues/21755 */display: inline-block !important;position: relative;}#sk-container-id-2 div.sk-text-repr-fallback {display: none;}</style><div id=\"sk-container-id-2\" class=\"sk-top-container\"><div class=\"sk-text-repr-fallback\"><pre>GridSearchCV(cv=3,\n",
              "             estimator=Pipeline(steps=[(&#x27;vect&#x27;, CountVectorizer()),\n",
              "                                       (&#x27;tfidf&#x27;, TfidfTransformer()),\n",
              "                                       (&#x27;clf&#x27;, LogisticRegression())]),\n",
              "             n_jobs=-1,\n",
              "             param_grid={&#x27;clf__C&#x27;: array([1.e-03, 1.e-02, 1.e-01, 1.e+00, 1.e+01, 1.e+02, 1.e+03]),\n",
              "                         &#x27;clf__penalty&#x27;: [&#x27;l1&#x27;, &#x27;l2&#x27;],\n",
              "                         &#x27;tfidf__use_idf&#x27;: (True, False),\n",
              "                         &#x27;vect__analyzer&#x27;: [&#x27;word&#x27;],\n",
              "                         &#x27;vect__max_df&#x27;: (0.5, 0.75, 1.0),\n",
              "                         &#x27;vect__ngram_range&#x27;: [(1, 1), (2, 2), (3, 3)]},\n",
              "             refit=&#x27;accuracy&#x27;, scoring=[&#x27;accuracy&#x27;, &#x27;f1&#x27;], verbose=3)</pre><b>In a Jupyter environment, please rerun this cell to show the HTML representation or trust the notebook. <br />On GitHub, the HTML representation is unable to render, please try loading this page with nbviewer.org.</b></div><div class=\"sk-container\" hidden><div class=\"sk-item sk-dashed-wrapped\"><div class=\"sk-label-container\"><div class=\"sk-label sk-toggleable\"><input class=\"sk-toggleable__control sk-hidden--visually\" id=\"sk-estimator-id-5\" type=\"checkbox\" ><label for=\"sk-estimator-id-5\" class=\"sk-toggleable__label sk-toggleable__label-arrow\">GridSearchCV</label><div class=\"sk-toggleable__content\"><pre>GridSearchCV(cv=3,\n",
              "             estimator=Pipeline(steps=[(&#x27;vect&#x27;, CountVectorizer()),\n",
              "                                       (&#x27;tfidf&#x27;, TfidfTransformer()),\n",
              "                                       (&#x27;clf&#x27;, LogisticRegression())]),\n",
              "             n_jobs=-1,\n",
              "             param_grid={&#x27;clf__C&#x27;: array([1.e-03, 1.e-02, 1.e-01, 1.e+00, 1.e+01, 1.e+02, 1.e+03]),\n",
              "                         &#x27;clf__penalty&#x27;: [&#x27;l1&#x27;, &#x27;l2&#x27;],\n",
              "                         &#x27;tfidf__use_idf&#x27;: (True, False),\n",
              "                         &#x27;vect__analyzer&#x27;: [&#x27;word&#x27;],\n",
              "                         &#x27;vect__max_df&#x27;: (0.5, 0.75, 1.0),\n",
              "                         &#x27;vect__ngram_range&#x27;: [(1, 1), (2, 2), (3, 3)]},\n",
              "             refit=&#x27;accuracy&#x27;, scoring=[&#x27;accuracy&#x27;, &#x27;f1&#x27;], verbose=3)</pre></div></div></div><div class=\"sk-parallel\"><div class=\"sk-parallel-item\"><div class=\"sk-item\"><div class=\"sk-label-container\"><div class=\"sk-label sk-toggleable\"><input class=\"sk-toggleable__control sk-hidden--visually\" id=\"sk-estimator-id-6\" type=\"checkbox\" ><label for=\"sk-estimator-id-6\" class=\"sk-toggleable__label sk-toggleable__label-arrow\">estimator: Pipeline</label><div class=\"sk-toggleable__content\"><pre>Pipeline(steps=[(&#x27;vect&#x27;, CountVectorizer()), (&#x27;tfidf&#x27;, TfidfTransformer()),\n",
              "                (&#x27;clf&#x27;, LogisticRegression())])</pre></div></div></div><div class=\"sk-serial\"><div class=\"sk-item\"><div class=\"sk-serial\"><div class=\"sk-item\"><div class=\"sk-estimator sk-toggleable\"><input class=\"sk-toggleable__control sk-hidden--visually\" id=\"sk-estimator-id-7\" type=\"checkbox\" ><label for=\"sk-estimator-id-7\" class=\"sk-toggleable__label sk-toggleable__label-arrow\">CountVectorizer</label><div class=\"sk-toggleable__content\"><pre>CountVectorizer()</pre></div></div></div><div class=\"sk-item\"><div class=\"sk-estimator sk-toggleable\"><input class=\"sk-toggleable__control sk-hidden--visually\" id=\"sk-estimator-id-8\" type=\"checkbox\" ><label for=\"sk-estimator-id-8\" class=\"sk-toggleable__label sk-toggleable__label-arrow\">TfidfTransformer</label><div class=\"sk-toggleable__content\"><pre>TfidfTransformer()</pre></div></div></div><div class=\"sk-item\"><div class=\"sk-estimator sk-toggleable\"><input class=\"sk-toggleable__control sk-hidden--visually\" id=\"sk-estimator-id-9\" type=\"checkbox\" ><label for=\"sk-estimator-id-9\" class=\"sk-toggleable__label sk-toggleable__label-arrow\">LogisticRegression</label><div class=\"sk-toggleable__content\"><pre>LogisticRegression()</pre></div></div></div></div></div></div></div></div></div></div></div></div>"
            ]
          },
          "metadata": {},
          "execution_count": 161
        }
      ]
    },
    {
      "cell_type": "code",
      "source": [
        "predictions = grid_tf_idf.best_estimator_.predict(X_test)"
      ],
      "metadata": {
        "id": "MjwOYi4oW5xP"
      },
      "execution_count": 162,
      "outputs": []
    },
    {
      "cell_type": "code",
      "source": [
        "print(f\"Best params: {grid_tf_idf.best_params_}\")"
      ],
      "metadata": {
        "colab": {
          "base_uri": "https://localhost:8080/"
        },
        "id": "OzN-82vWW_B9",
        "outputId": "33407ef1-0488-4136-85f7-a0fa91e97e9a"
      },
      "execution_count": 163,
      "outputs": [
        {
          "output_type": "stream",
          "name": "stdout",
          "text": [
            "Best params: {'clf__C': 1000.0, 'clf__penalty': 'l2', 'tfidf__use_idf': True, 'vect__analyzer': 'word', 'vect__max_df': 0.5, 'vect__ngram_range': (1, 1)}\n"
          ]
        }
      ]
    },
    {
      "cell_type": "code",
      "source": [
        "print(\"Best score: %0.3f\" % grid_tf_idf.best_score_)"
      ],
      "metadata": {
        "colab": {
          "base_uri": "https://localhost:8080/"
        },
        "id": "FVMU8otrWyLp",
        "outputId": "1df8196c-ab8d-401f-8be1-3a3ce2f4e9b2"
      },
      "execution_count": 164,
      "outputs": [
        {
          "output_type": "stream",
          "name": "stdout",
          "text": [
            "Best score: 0.921\n"
          ]
        }
      ]
    },
    {
      "cell_type": "code",
      "source": [
        "print(classification_report(y_test, predictions))"
      ],
      "metadata": {
        "colab": {
          "base_uri": "https://localhost:8080/"
        },
        "id": "pPNZ_ek1W09U",
        "outputId": "a0291ef7-d868-4067-cebc-5e3478e5b3cd"
      },
      "execution_count": 165,
      "outputs": [
        {
          "output_type": "stream",
          "name": "stdout",
          "text": [
            "              precision    recall  f1-score   support\n",
            "\n",
            "         1.0       0.92      0.92      0.92       302\n",
            "         5.0       0.92      0.92      0.92       298\n",
            "\n",
            "    accuracy                           0.92       600\n",
            "   macro avg       0.92      0.92      0.92       600\n",
            "weighted avg       0.92      0.92      0.92       600\n",
            "\n"
          ]
        }
      ]
    },
    {
      "cell_type": "code",
      "source": [
        "labels = grid_tf_idf.best_estimator_.classes_\n",
        "\n",
        "sns.heatmap(\n",
        "    data=confusion_matrix(y_test, predictions),\n",
        "    annot=True,\n",
        "    fmt=\"d\",\n",
        "    cbar=False,\n",
        "    xticklabels=labels,\n",
        "    yticklabels=labels\n",
        ")\n",
        "\n",
        "plt.title(\"TF_idf Confusion matrix\")\n",
        "plt.show()"
      ],
      "metadata": {
        "colab": {
          "base_uri": "https://localhost:8080/",
          "height": 546
        },
        "id": "t3JbBBMIXEIE",
        "outputId": "22c19c49-ef94-4f4f-fd0c-b062edd115bd"
      },
      "execution_count": 166,
      "outputs": [
        {
          "output_type": "display_data",
          "data": {
            "text/plain": [
              "<Figure size 800x600 with 1 Axes>"
            ],
            "image/png": "[encoded data removed]"
          },
          "metadata": {}
        }
      ]
    },
    {
      "cell_type": "code",
      "source": [
        "# Сингулярное разложение\n",
        "clf_tf_idf_TruncatedSVD = Pipeline(\n",
        "    [('vect', CountVectorizer()),\n",
        "     ('tfidf', TfidfTransformer()),\n",
        "     ('tsvd', TruncatedSVD()),\n",
        "     ('clf', LogisticRegression())]\n",
        ")\n",
        "\n",
        "params_tf_idf_TruncatedSVD={\n",
        "    'vect__analyzer': ['word'],\n",
        "    'vect__ngram_range': [(1, 1), (2, 2), (3, 3)],\n",
        "    'tsvd__n_components': [5, 10, 25, 50, 100],\n",
        "    'clf__C': np.logspace(-3, 3, 7),\n",
        "    'clf__penalty': ['l1', 'l2']\n",
        "}\n",
        "\n",
        "scores=['accuracy','f1']"
      ],
      "metadata": {
        "id": "3BYZ0-zpXUhw"
      },
      "execution_count": 167,
      "outputs": []
    },
    {
      "cell_type": "code",
      "source": [
        "grid_tf_idf_TruncatedSVD = GridSearchCV(\n",
        "    clf_tf_idf_TruncatedSVD,\n",
        "    param_grid=params_tf_idf_TruncatedSVD,\n",
        "    cv=3,\n",
        "    scoring=scores,\n",
        "    refit=scores[0],\n",
        "    n_jobs=-1,\n",
        "    verbose=1\n",
        ")"
      ],
      "metadata": {
        "id": "PlnXSVqaYFli"
      },
      "execution_count": 168,
      "outputs": []
    },
    {
      "cell_type": "code",
      "source": [
        "grid_tf_idf_TruncatedSVD.fit(X_train, y_train)"
      ],
      "metadata": {
        "colab": {
          "base_uri": "https://localhost:8080/",
          "height": 239
        },
        "id": "yN4iZWAZYKcW",
        "outputId": "abc8352c-949b-4308-ef4f-1b70f1d2c9ff"
      },
      "execution_count": 169,
      "outputs": [
        {
          "output_type": "stream",
          "name": "stdout",
          "text": [
            "Fitting 3 folds for each of 210 candidates, totalling 630 fits\n"
          ]
        },
        {
          "output_type": "execute_result",
          "data": {
            "text/plain": [
              "GridSearchCV(cv=3,\n",
              "             estimator=Pipeline(steps=[('vect', CountVectorizer()),\n",
              "                                       ('tfidf', TfidfTransformer()),\n",
              "                                       ('tsvd', TruncatedSVD()),\n",
              "                                       ('clf', LogisticRegression())]),\n",
              "             n_jobs=-1,\n",
              "             param_grid={'clf__C': array([1.e-03, 1.e-02, 1.e-01, 1.e+00, 1.e+01, 1.e+02, 1.e+03]),\n",
              "                         'clf__penalty': ['l1', 'l2'],\n",
              "                         'tsvd__n_components': [5, 10, 25, 50, 100],\n",
              "                         'vect__analyzer': ['word'],\n",
              "                         'vect__ngram_range': [(1, 1), (2, 2), (3, 3)]},\n",
              "             refit='accuracy', scoring=['accuracy', 'f1'], verbose=1)"
            ],
            "text/html": [
              "<style>#sk-container-id-3 {color: black;background-color: white;}#sk-container-id-3 pre{padding: 0;}#sk-container-id-3 div.sk-toggleable {background-color: white;}#sk-container-id-3 label.sk-toggleable__label {cursor: pointer;display: block;width: 100%;margin-bottom: 0;padding: 0.3em;box-sizing: border-box;text-align: center;}#sk-container-id-3 label.sk-toggleable__label-arrow:before {content: \"▸\";float: left;margin-right: 0.25em;color: #696969;}#sk-container-id-3 label.sk-toggleable__label-arrow:hover:before {color: black;}#sk-container-id-3 div.sk-estimator:hover label.sk-toggleable__label-arrow:before {color: black;}#sk-container-id-3 div.sk-toggleable__content {max-height: 0;max-width: 0;overflow: hidden;text-align: left;background-color: #f0f8ff;}#sk-container-id-3 div.sk-toggleable__content pre {margin: 0.2em;color: black;border-radius: 0.25em;background-color: #f0f8ff;}#sk-container-id-3 input.sk-toggleable__control:checked~div.sk-toggleable__content {max-height: 200px;max-width: 100%;overflow: auto;}#sk-container-id-3 input.sk-toggleable__control:checked~label.sk-toggleable__label-arrow:before {content: \"▾\";}#sk-container-id-3 div.sk-estimator input.sk-toggleable__control:checked~label.sk-toggleable__label {background-color: #d4ebff;}#sk-container-id-3 div.sk-label input.sk-toggleable__control:checked~label.sk-toggleable__label {background-color: #d4ebff;}#sk-container-id-3 input.sk-hidden--visually {border: 0;clip: rect(1px 1px 1px 1px);clip: rect(1px, 1px, 1px, 1px);height: 1px;margin: -1px;overflow: hidden;padding: 0;position: absolute;width: 1px;}#sk-container-id-3 div.sk-estimator {font-family: monospace;background-color: #f0f8ff;border: 1px dotted black;border-radius: 0.25em;box-sizing: border-box;margin-bottom: 0.5em;}#sk-container-id-3 div.sk-estimator:hover {background-color: #d4ebff;}#sk-container-id-3 div.sk-parallel-item::after {content: \"\";width: 100%;border-bottom: 1px solid gray;flex-grow: 1;}#sk-container-id-3 div.sk-label:hover label.sk-toggleable__label {background-color: #d4ebff;}#sk-container-id-3 div.sk-serial::before {content: \"\";position: absolute;border-left: 1px solid gray;box-sizing: border-box;top: 0;bottom: 0;left: 50%;z-index: 0;}#sk-container-id-3 div.sk-serial {display: flex;flex-direction: column;align-items: center;background-color: white;padding-right: 0.2em;padding-left: 0.2em;position: relative;}#sk-container-id-3 div.sk-item {position: relative;z-index: 1;}#sk-container-id-3 div.sk-parallel {display: flex;align-items: stretch;justify-content: center;background-color: white;position: relative;}#sk-container-id-3 div.sk-item::before, #sk-container-id-3 div.sk-parallel-item::before {content: \"\";position: absolute;border-left: 1px solid gray;box-sizing: border-box;top: 0;bottom: 0;left: 50%;z-index: -1;}#sk-container-id-3 div.sk-parallel-item {display: flex;flex-direction: column;z-index: 1;position: relative;background-color: white;}#sk-container-id-3 div.sk-parallel-item:first-child::after {align-self: flex-end;width: 50%;}#sk-container-id-3 div.sk-parallel-item:last-child::after {align-self: flex-start;width: 50%;}#sk-container-id-3 div.sk-parallel-item:only-child::after {width: 0;}#sk-container-id-3 div.sk-dashed-wrapped {border: 1px dashed gray;margin: 0 0.4em 0.5em 0.4em;box-sizing: border-box;padding-bottom: 0.4em;background-color: white;}#sk-container-id-3 div.sk-label label {font-family: monospace;font-weight: bold;display: inline-block;line-height: 1.2em;}#sk-container-id-3 div.sk-label-container {text-align: center;}#sk-container-id-3 div.sk-container {/* jupyter's `normalize.less` sets `[hidden] { display: none; }` but bootstrap.min.css set `[hidden] { display: none !important; }` so we also need the `!important` here to be able to override the default hidden behavior on the sphinx rendered scikit-learn.org. See: https://github.com/scikit-learn/scikit-learn/issues/21755 */display: inline-block !important;position: relative;}#sk-container-id-3 div.sk-text-repr-fallback {display: none;}</style><div id=\"sk-container-id-3\" class=\"sk-top-container\"><div class=\"sk-text-repr-fallback\"><pre>GridSearchCV(cv=3,\n",
              "             estimator=Pipeline(steps=[(&#x27;vect&#x27;, CountVectorizer()),\n",
              "                                       (&#x27;tfidf&#x27;, TfidfTransformer()),\n",
              "                                       (&#x27;tsvd&#x27;, TruncatedSVD()),\n",
              "                                       (&#x27;clf&#x27;, LogisticRegression())]),\n",
              "             n_jobs=-1,\n",
              "             param_grid={&#x27;clf__C&#x27;: array([1.e-03, 1.e-02, 1.e-01, 1.e+00, 1.e+01, 1.e+02, 1.e+03]),\n",
              "                         &#x27;clf__penalty&#x27;: [&#x27;l1&#x27;, &#x27;l2&#x27;],\n",
              "                         &#x27;tsvd__n_components&#x27;: [5, 10, 25, 50, 100],\n",
              "                         &#x27;vect__analyzer&#x27;: [&#x27;word&#x27;],\n",
              "                         &#x27;vect__ngram_range&#x27;: [(1, 1), (2, 2), (3, 3)]},\n",
              "             refit=&#x27;accuracy&#x27;, scoring=[&#x27;accuracy&#x27;, &#x27;f1&#x27;], verbose=1)</pre><b>In a Jupyter environment, please rerun this cell to show the HTML representation or trust the notebook. <br />On GitHub, the HTML representation is unable to render, please try loading this page with nbviewer.org.</b></div><div class=\"sk-container\" hidden><div class=\"sk-item sk-dashed-wrapped\"><div class=\"sk-label-container\"><div class=\"sk-label sk-toggleable\"><input class=\"sk-toggleable__control sk-hidden--visually\" id=\"sk-estimator-id-10\" type=\"checkbox\" ><label for=\"sk-estimator-id-10\" class=\"sk-toggleable__label sk-toggleable__label-arrow\">GridSearchCV</label><div class=\"sk-toggleable__content\"><pre>GridSearchCV(cv=3,\n",
              "             estimator=Pipeline(steps=[(&#x27;vect&#x27;, CountVectorizer()),\n",
              "                                       (&#x27;tfidf&#x27;, TfidfTransformer()),\n",
              "                                       (&#x27;tsvd&#x27;, TruncatedSVD()),\n",
              "                                       (&#x27;clf&#x27;, LogisticRegression())]),\n",
              "             n_jobs=-1,\n",
              "             param_grid={&#x27;clf__C&#x27;: array([1.e-03, 1.e-02, 1.e-01, 1.e+00, 1.e+01, 1.e+02, 1.e+03]),\n",
              "                         &#x27;clf__penalty&#x27;: [&#x27;l1&#x27;, &#x27;l2&#x27;],\n",
              "                         &#x27;tsvd__n_components&#x27;: [5, 10, 25, 50, 100],\n",
              "                         &#x27;vect__analyzer&#x27;: [&#x27;word&#x27;],\n",
              "                         &#x27;vect__ngram_range&#x27;: [(1, 1), (2, 2), (3, 3)]},\n",
              "             refit=&#x27;accuracy&#x27;, scoring=[&#x27;accuracy&#x27;, &#x27;f1&#x27;], verbose=1)</pre></div></div></div><div class=\"sk-parallel\"><div class=\"sk-parallel-item\"><div class=\"sk-item\"><div class=\"sk-label-container\"><div class=\"sk-label sk-toggleable\"><input class=\"sk-toggleable__control sk-hidden--visually\" id=\"sk-estimator-id-11\" type=\"checkbox\" ><label for=\"sk-estimator-id-11\" class=\"sk-toggleable__label sk-toggleable__label-arrow\">estimator: Pipeline</label><div class=\"sk-toggleable__content\"><pre>Pipeline(steps=[(&#x27;vect&#x27;, CountVectorizer()), (&#x27;tfidf&#x27;, TfidfTransformer()),\n",
              "                (&#x27;tsvd&#x27;, TruncatedSVD()), (&#x27;clf&#x27;, LogisticRegression())])</pre></div></div></div><div class=\"sk-serial\"><div class=\"sk-item\"><div class=\"sk-serial\"><div class=\"sk-item\"><div class=\"sk-estimator sk-toggleable\"><input class=\"sk-toggleable__control sk-hidden--visually\" id=\"sk-estimator-id-12\" type=\"checkbox\" ><label for=\"sk-estimator-id-12\" class=\"sk-toggleable__label sk-toggleable__label-arrow\">CountVectorizer</label><div class=\"sk-toggleable__content\"><pre>CountVectorizer()</pre></div></div></div><div class=\"sk-item\"><div class=\"sk-estimator sk-toggleable\"><input class=\"sk-toggleable__control sk-hidden--visually\" id=\"sk-estimator-id-13\" type=\"checkbox\" ><label for=\"sk-estimator-id-13\" class=\"sk-toggleable__label sk-toggleable__label-arrow\">TfidfTransformer</label><div class=\"sk-toggleable__content\"><pre>TfidfTransformer()</pre></div></div></div><div class=\"sk-item\"><div class=\"sk-estimator sk-toggleable\"><input class=\"sk-toggleable__control sk-hidden--visually\" id=\"sk-estimator-id-14\" type=\"checkbox\" ><label for=\"sk-estimator-id-14\" class=\"sk-toggleable__label sk-toggleable__label-arrow\">TruncatedSVD</label><div class=\"sk-toggleable__content\"><pre>TruncatedSVD()</pre></div></div></div><div class=\"sk-item\"><div class=\"sk-estimator sk-toggleable\"><input class=\"sk-toggleable__control sk-hidden--visually\" id=\"sk-estimator-id-15\" type=\"checkbox\" ><label for=\"sk-estimator-id-15\" class=\"sk-toggleable__label sk-toggleable__label-arrow\">LogisticRegression</label><div class=\"sk-toggleable__content\"><pre>LogisticRegression()</pre></div></div></div></div></div></div></div></div></div></div></div></div>"
            ]
          },
          "metadata": {},
          "execution_count": 169
        }
      ]
    },
    {
      "cell_type": "code",
      "source": [
        "predictions=grid_tf_idf_TruncatedSVD.best_estimator_.predict(X_test)"
      ],
      "metadata": {
        "id": "QshSlzQJYhw_"
      },
      "execution_count": 170,
      "outputs": []
    },
    {
      "cell_type": "code",
      "source": [
        "print(f\"Best params: {grid_tf_idf_TruncatedSVD.best_params_}\")"
      ],
      "metadata": {
        "colab": {
          "base_uri": "https://localhost:8080/"
        },
        "id": "MbYNrXvLYSBx",
        "outputId": "a89ab312-afe5-4de0-d8d4-30396e48d941"
      },
      "execution_count": 171,
      "outputs": [
        {
          "output_type": "stream",
          "name": "stdout",
          "text": [
            "Best params: {'clf__C': 100.0, 'clf__penalty': 'l2', 'tsvd__n_components': 100, 'vect__analyzer': 'word', 'vect__ngram_range': (1, 1)}\n"
          ]
        }
      ]
    },
    {
      "cell_type": "code",
      "source": [
        "print(\"Best score: %0.3f\" % grid_tf_idf_TruncatedSVD.best_score_)"
      ],
      "metadata": {
        "colab": {
          "base_uri": "https://localhost:8080/"
        },
        "id": "R3cIpKtiYXL2",
        "outputId": "7f35fb86-2d6c-4733-e77e-6572a577d76a"
      },
      "execution_count": 172,
      "outputs": [
        {
          "output_type": "stream",
          "name": "stdout",
          "text": [
            "Best score: 0.919\n"
          ]
        }
      ]
    },
    {
      "cell_type": "code",
      "source": [
        "print(classification_report(y_test, predictions))"
      ],
      "metadata": {
        "colab": {
          "base_uri": "https://localhost:8080/"
        },
        "id": "dNUMfbP5YcpH",
        "outputId": "78c9a677-def7-4ef2-8e25-106e4cef9ae4"
      },
      "execution_count": 173,
      "outputs": [
        {
          "output_type": "stream",
          "name": "stdout",
          "text": [
            "              precision    recall  f1-score   support\n",
            "\n",
            "         1.0       0.92      0.92      0.92       302\n",
            "         5.0       0.92      0.92      0.92       298\n",
            "\n",
            "    accuracy                           0.92       600\n",
            "   macro avg       0.92      0.92      0.92       600\n",
            "weighted avg       0.92      0.92      0.92       600\n",
            "\n"
          ]
        }
      ]
    },
    {
      "cell_type": "code",
      "source": [
        "labels = grid_tf_idf_TruncatedSVD.best_estimator_.classes_\n",
        "\n",
        "sns.heatmap(\n",
        "    data=confusion_matrix(y_test, predictions),\n",
        "    annot=True,\n",
        "    fmt=\"d\",\n",
        "    cbar=False,\n",
        "    xticklabels=labels,\n",
        "    yticklabels=labels\n",
        ")\n",
        "\n",
        "plt.title(\"TruncatedSVD Confusion matrix\")\n",
        "plt.show()"
      ],
      "metadata": {
        "colab": {
          "base_uri": "https://localhost:8080/",
          "height": 546
        },
        "id": "uVbdTfjBYlbK",
        "outputId": "30f51f98-5364-4875-b05c-793a6f8fb250"
      },
      "execution_count": 174,
      "outputs": [
        {
          "output_type": "display_data",
          "data": {
            "text/plain": [
              "<Figure size 800x600 with 1 Axes>"
            ],
            "image/png": "[encoded data removed]"
          },
          "metadata": {}
        }
      ]
    },
    {
      "cell_type": "code",
      "source": [
        "# LDA\n",
        "clf_tf_idf_LDA = Pipeline(\n",
        "    [('vect', CountVectorizer()),\n",
        "     ('lda', LatentDirichletAllocation()),\n",
        "     ('clf', LogisticRegression())]\n",
        ")\n",
        "\n",
        "params_tf_idf_LDA={\n",
        "    'vect__analyzer': ['word'],\n",
        "    'vect__max_df': [0.75],\n",
        "    'vect__ngram_range': [(1, 1)],\n",
        "    'lda__n_components' : [25, 50, 100],\n",
        "    'clf__C': np.logspace(-3, 3, 7),\n",
        "    'clf__penalty': ['l2']\n",
        "}\n",
        "\n",
        "scores=['accuracy', 'f1']"
      ],
      "metadata": {
        "id": "Y_Rm7NfAYrnw"
      },
      "execution_count": 180,
      "outputs": []
    },
    {
      "cell_type": "code",
      "source": [
        "grid_tf_idf_LDA = GridSearchCV(\n",
        "    clf_tf_idf_LDA,\n",
        "    param_grid=params_tf_idf_LDA,\n",
        "    cv=3,\n",
        "    scoring=scores,\n",
        "    refit=scores[0],\n",
        "    n_jobs=-1,\n",
        "    verbose=1\n",
        ")"
      ],
      "metadata": {
        "id": "j9oD5SYqZVoe"
      },
      "execution_count": 181,
      "outputs": []
    },
    {
      "cell_type": "code",
      "source": [
        "grid_tf_idf_LDA.fit(X_train, y_train)"
      ],
      "metadata": {
        "colab": {
          "base_uri": "https://localhost:8080/",
          "height": 205
        },
        "id": "bEPy3cN1ZxZa",
        "outputId": "62f51641-2f45-4669-cebc-dcce67fed472"
      },
      "execution_count": 182,
      "outputs": [
        {
          "output_type": "stream",
          "name": "stdout",
          "text": [
            "Fitting 3 folds for each of 21 candidates, totalling 63 fits\n"
          ]
        },
        {
          "output_type": "execute_result",
          "data": {
            "text/plain": [
              "GridSearchCV(cv=3,\n",
              "             estimator=Pipeline(steps=[('vect', CountVectorizer()),\n",
              "                                       ('lda', LatentDirichletAllocation()),\n",
              "                                       ('clf', LogisticRegression())]),\n",
              "             n_jobs=-1,\n",
              "             param_grid={'clf__C': array([1.e-03, 1.e-02, 1.e-01, 1.e+00, 1.e+01, 1.e+02, 1.e+03]),\n",
              "                         'clf__penalty': ['l2'],\n",
              "                         'lda__n_components': [25, 50, 100],\n",
              "                         'vect__analyzer': ['word'], 'vect__max_df': [0.75],\n",
              "                         'vect__ngram_range': [(1, 1)]},\n",
              "             refit='accuracy', scoring=['accuracy', 'f1'], verbose=1)"
            ],
            "text/html": [
              "<style>#sk-container-id-4 {color: black;background-color: white;}#sk-container-id-4 pre{padding: 0;}#sk-container-id-4 div.sk-toggleable {background-color: white;}#sk-container-id-4 label.sk-toggleable__label {cursor: pointer;display: block;width: 100%;margin-bottom: 0;padding: 0.3em;box-sizing: border-box;text-align: center;}#sk-container-id-4 label.sk-toggleable__label-arrow:before {content: \"▸\";float: left;margin-right: 0.25em;color: #696969;}#sk-container-id-4 label.sk-toggleable__label-arrow:hover:before {color: black;}#sk-container-id-4 div.sk-estimator:hover label.sk-toggleable__label-arrow:before {color: black;}#sk-container-id-4 div.sk-toggleable__content {max-height: 0;max-width: 0;overflow: hidden;text-align: left;background-color: #f0f8ff;}#sk-container-id-4 div.sk-toggleable__content pre {margin: 0.2em;color: black;border-radius: 0.25em;background-color: #f0f8ff;}#sk-container-id-4 input.sk-toggleable__control:checked~div.sk-toggleable__content {max-height: 200px;max-width: 100%;overflow: auto;}#sk-container-id-4 input.sk-toggleable__control:checked~label.sk-toggleable__label-arrow:before {content: \"▾\";}#sk-container-id-4 div.sk-estimator input.sk-toggleable__control:checked~label.sk-toggleable__label {background-color: #d4ebff;}#sk-container-id-4 div.sk-label input.sk-toggleable__control:checked~label.sk-toggleable__label {background-color: #d4ebff;}#sk-container-id-4 input.sk-hidden--visually {border: 0;clip: rect(1px 1px 1px 1px);clip: rect(1px, 1px, 1px, 1px);height: 1px;margin: -1px;overflow: hidden;padding: 0;position: absolute;width: 1px;}#sk-container-id-4 div.sk-estimator {font-family: monospace;background-color: #f0f8ff;border: 1px dotted black;border-radius: 0.25em;box-sizing: border-box;margin-bottom: 0.5em;}#sk-container-id-4 div.sk-estimator:hover {background-color: #d4ebff;}#sk-container-id-4 div.sk-parallel-item::after {content: \"\";width: 100%;border-bottom: 1px solid gray;flex-grow: 1;}#sk-container-id-4 div.sk-label:hover label.sk-toggleable__label {background-color: #d4ebff;}#sk-container-id-4 div.sk-serial::before {content: \"\";position: absolute;border-left: 1px solid gray;box-sizing: border-box;top: 0;bottom: 0;left: 50%;z-index: 0;}#sk-container-id-4 div.sk-serial {display: flex;flex-direction: column;align-items: center;background-color: white;padding-right: 0.2em;padding-left: 0.2em;position: relative;}#sk-container-id-4 div.sk-item {position: relative;z-index: 1;}#sk-container-id-4 div.sk-parallel {display: flex;align-items: stretch;justify-content: center;background-color: white;position: relative;}#sk-container-id-4 div.sk-item::before, #sk-container-id-4 div.sk-parallel-item::before {content: \"\";position: absolute;border-left: 1px solid gray;box-sizing: border-box;top: 0;bottom: 0;left: 50%;z-index: -1;}#sk-container-id-4 div.sk-parallel-item {display: flex;flex-direction: column;z-index: 1;position: relative;background-color: white;}#sk-container-id-4 div.sk-parallel-item:first-child::after {align-self: flex-end;width: 50%;}#sk-container-id-4 div.sk-parallel-item:last-child::after {align-self: flex-start;width: 50%;}#sk-container-id-4 div.sk-parallel-item:only-child::after {width: 0;}#sk-container-id-4 div.sk-dashed-wrapped {border: 1px dashed gray;margin: 0 0.4em 0.5em 0.4em;box-sizing: border-box;padding-bottom: 0.4em;background-color: white;}#sk-container-id-4 div.sk-label label {font-family: monospace;font-weight: bold;display: inline-block;line-height: 1.2em;}#sk-container-id-4 div.sk-label-container {text-align: center;}#sk-container-id-4 div.sk-container {/* jupyter's `normalize.less` sets `[hidden] { display: none; }` but bootstrap.min.css set `[hidden] { display: none !important; }` so we also need the `!important` here to be able to override the default hidden behavior on the sphinx rendered scikit-learn.org. See: https://github.com/scikit-learn/scikit-learn/issues/21755 */display: inline-block !important;position: relative;}#sk-container-id-4 div.sk-text-repr-fallback {display: none;}</style><div id=\"sk-container-id-4\" class=\"sk-top-container\"><div class=\"sk-text-repr-fallback\"><pre>GridSearchCV(cv=3,\n",
              "             estimator=Pipeline(steps=[(&#x27;vect&#x27;, CountVectorizer()),\n",
              "                                       (&#x27;lda&#x27;, LatentDirichletAllocation()),\n",
              "                                       (&#x27;clf&#x27;, LogisticRegression())]),\n",
              "             n_jobs=-1,\n",
              "             param_grid={&#x27;clf__C&#x27;: array([1.e-03, 1.e-02, 1.e-01, 1.e+00, 1.e+01, 1.e+02, 1.e+03]),\n",
              "                         &#x27;clf__penalty&#x27;: [&#x27;l2&#x27;],\n",
              "                         &#x27;lda__n_components&#x27;: [25, 50, 100],\n",
              "                         &#x27;vect__analyzer&#x27;: [&#x27;word&#x27;], &#x27;vect__max_df&#x27;: [0.75],\n",
              "                         &#x27;vect__ngram_range&#x27;: [(1, 1)]},\n",
              "             refit=&#x27;accuracy&#x27;, scoring=[&#x27;accuracy&#x27;, &#x27;f1&#x27;], verbose=1)</pre><b>In a Jupyter environment, please rerun this cell to show the HTML representation or trust the notebook. <br />On GitHub, the HTML representation is unable to render, please try loading this page with nbviewer.org.</b></div><div class=\"sk-container\" hidden><div class=\"sk-item sk-dashed-wrapped\"><div class=\"sk-label-container\"><div class=\"sk-label sk-toggleable\"><input class=\"sk-toggleable__control sk-hidden--visually\" id=\"sk-estimator-id-16\" type=\"checkbox\" ><label for=\"sk-estimator-id-16\" class=\"sk-toggleable__label sk-toggleable__label-arrow\">GridSearchCV</label><div class=\"sk-toggleable__content\"><pre>GridSearchCV(cv=3,\n",
              "             estimator=Pipeline(steps=[(&#x27;vect&#x27;, CountVectorizer()),\n",
              "                                       (&#x27;lda&#x27;, LatentDirichletAllocation()),\n",
              "                                       (&#x27;clf&#x27;, LogisticRegression())]),\n",
              "             n_jobs=-1,\n",
              "             param_grid={&#x27;clf__C&#x27;: array([1.e-03, 1.e-02, 1.e-01, 1.e+00, 1.e+01, 1.e+02, 1.e+03]),\n",
              "                         &#x27;clf__penalty&#x27;: [&#x27;l2&#x27;],\n",
              "                         &#x27;lda__n_components&#x27;: [25, 50, 100],\n",
              "                         &#x27;vect__analyzer&#x27;: [&#x27;word&#x27;], &#x27;vect__max_df&#x27;: [0.75],\n",
              "                         &#x27;vect__ngram_range&#x27;: [(1, 1)]},\n",
              "             refit=&#x27;accuracy&#x27;, scoring=[&#x27;accuracy&#x27;, &#x27;f1&#x27;], verbose=1)</pre></div></div></div><div class=\"sk-parallel\"><div class=\"sk-parallel-item\"><div class=\"sk-item\"><div class=\"sk-label-container\"><div class=\"sk-label sk-toggleable\"><input class=\"sk-toggleable__control sk-hidden--visually\" id=\"sk-estimator-id-17\" type=\"checkbox\" ><label for=\"sk-estimator-id-17\" class=\"sk-toggleable__label sk-toggleable__label-arrow\">estimator: Pipeline</label><div class=\"sk-toggleable__content\"><pre>Pipeline(steps=[(&#x27;vect&#x27;, CountVectorizer()),\n",
              "                (&#x27;lda&#x27;, LatentDirichletAllocation()),\n",
              "                (&#x27;clf&#x27;, LogisticRegression())])</pre></div></div></div><div class=\"sk-serial\"><div class=\"sk-item\"><div class=\"sk-serial\"><div class=\"sk-item\"><div class=\"sk-estimator sk-toggleable\"><input class=\"sk-toggleable__control sk-hidden--visually\" id=\"sk-estimator-id-18\" type=\"checkbox\" ><label for=\"sk-estimator-id-18\" class=\"sk-toggleable__label sk-toggleable__label-arrow\">CountVectorizer</label><div class=\"sk-toggleable__content\"><pre>CountVectorizer()</pre></div></div></div><div class=\"sk-item\"><div class=\"sk-estimator sk-toggleable\"><input class=\"sk-toggleable__control sk-hidden--visually\" id=\"sk-estimator-id-19\" type=\"checkbox\" ><label for=\"sk-estimator-id-19\" class=\"sk-toggleable__label sk-toggleable__label-arrow\">LatentDirichletAllocation</label><div class=\"sk-toggleable__content\"><pre>LatentDirichletAllocation()</pre></div></div></div><div class=\"sk-item\"><div class=\"sk-estimator sk-toggleable\"><input class=\"sk-toggleable__control sk-hidden--visually\" id=\"sk-estimator-id-20\" type=\"checkbox\" ><label for=\"sk-estimator-id-20\" class=\"sk-toggleable__label sk-toggleable__label-arrow\">LogisticRegression</label><div class=\"sk-toggleable__content\"><pre>LogisticRegression()</pre></div></div></div></div></div></div></div></div></div></div></div></div>"
            ]
          },
          "metadata": {},
          "execution_count": 182
        }
      ]
    },
    {
      "cell_type": "code",
      "source": [
        "predictions=grid_tf_idf_LDA.best_estimator_.predict(X_test)"
      ],
      "metadata": {
        "id": "tfhVHmyNZ1_b"
      },
      "execution_count": 183,
      "outputs": []
    },
    {
      "cell_type": "code",
      "source": [
        "print(f\"Best params: {grid_tf_idf_LDA.best_params_}\")"
      ],
      "metadata": {
        "colab": {
          "base_uri": "https://localhost:8080/"
        },
        "id": "F9BuQZuzZ87D",
        "outputId": "60f6696b-de17-47ca-cd8a-c12962404351"
      },
      "execution_count": 184,
      "outputs": [
        {
          "output_type": "stream",
          "name": "stdout",
          "text": [
            "Best params: {'clf__C': 10.0, 'clf__penalty': 'l2', 'lda__n_components': 50, 'vect__analyzer': 'word', 'vect__max_df': 0.75, 'vect__ngram_range': (1, 1)}\n"
          ]
        }
      ]
    },
    {
      "cell_type": "code",
      "source": [
        "print(\"Best score: %0.3f\" % grid_tf_idf_LDA.best_score_)"
      ],
      "metadata": {
        "colab": {
          "base_uri": "https://localhost:8080/"
        },
        "id": "FpsWpI8wZyMa",
        "outputId": "f50e73eb-728b-44ca-8c41-d57b458604a4"
      },
      "execution_count": 185,
      "outputs": [
        {
          "output_type": "stream",
          "name": "stdout",
          "text": [
            "Best score: 0.833\n"
          ]
        }
      ]
    },
    {
      "cell_type": "code",
      "source": [
        "print(classification_report(y_test, predictions))"
      ],
      "metadata": {
        "colab": {
          "base_uri": "https://localhost:8080/"
        },
        "id": "Mi_3yUPJZ_Di",
        "outputId": "d1bb734e-7e5e-48cc-afd7-15bdcce132cf"
      },
      "execution_count": 186,
      "outputs": [
        {
          "output_type": "stream",
          "name": "stdout",
          "text": [
            "              precision    recall  f1-score   support\n",
            "\n",
            "         1.0       0.82      0.81      0.82       302\n",
            "         5.0       0.81      0.82      0.81       298\n",
            "\n",
            "    accuracy                           0.81       600\n",
            "   macro avg       0.82      0.82      0.81       600\n",
            "weighted avg       0.82      0.81      0.82       600\n",
            "\n"
          ]
        }
      ]
    },
    {
      "cell_type": "code",
      "source": [
        "labels = grid_tf_idf_LDA.best_estimator_.classes_\n",
        "\n",
        "sns.heatmap(\n",
        "    data=confusion_matrix(y_test, predictions),\n",
        "    annot=True,\n",
        "    fmt=\"d\",\n",
        "    cbar=False,\n",
        "    xticklabels=labels,\n",
        "    yticklabels=labels\n",
        ")\n",
        "\n",
        "plt.title(\"LDA Confusion matrix\")\n",
        "plt.show()"
      ],
      "metadata": {
        "colab": {
          "base_uri": "https://localhost:8080/",
          "height": 546
        },
        "id": "vxPHbTiLaC9o",
        "outputId": "f2baa68d-73ea-4c04-b4e7-00bb3cf740e2"
      },
      "execution_count": 187,
      "outputs": [
        {
          "output_type": "display_data",
          "data": {
            "text/plain": [
              "<Figure size 800x600 with 1 Axes>"
            ],
            "image/png": "[encoded data removed]"
          },
          "metadata": {}
        }
      ]
    },
    {
      "cell_type": "code",
      "source": [
        "models=['grid_cntv', 'grid_tf_idf', 'grid_tf_idf_TruncatedSVD', 'grid_tf_idf_LDA']\n",
        "\n",
        "for model in models:\n",
        "    print(model[5:])\n",
        "    predictions=eval(model).best_estimator_.predict(X_test)\n",
        "    print(\"f1_score: {0:6.3f}\\nAccuracy: {0:6.3f}\\n\\n\".format(\n",
        "        f1_score(y_test, predictions, average='macro'),\n",
        "        accuracy_score(y_test, predictions)))"
      ],
      "metadata": {
        "colab": {
          "base_uri": "https://localhost:8080/"
        },
        "id": "tjSepaLTaIAN",
        "outputId": "adfc222c-fd0e-4a34-ae4f-28f744328b0d"
      },
      "execution_count": 188,
      "outputs": [
        {
          "output_type": "stream",
          "name": "stdout",
          "text": [
            "cntv\n",
            "f1_score:  0.888\n",
            "Accuracy:  0.888\n",
            "\n",
            "\n",
            "tf_idf\n",
            "f1_score:  0.917\n",
            "Accuracy:  0.917\n",
            "\n",
            "\n",
            "tf_idf_TruncatedSVD\n",
            "f1_score:  0.918\n",
            "Accuracy:  0.918\n",
            "\n",
            "\n",
            "tf_idf_LDA\n",
            "f1_score:  0.815\n",
            "Accuracy:  0.815\n",
            "\n",
            "\n"
          ]
        }
      ]
    },
    {
      "cell_type": "markdown",
      "source": [
        "Лучший результат у TruncatedSVD"
      ],
      "metadata": {
        "id": "NUOEYb3dlWLI"
      }
    }
  ],
  "metadata": {
    "colab": {
      "provenance": [],
      "collapsed_sections": [
        "5GMXKLn0E3cl",
        "Wq5kPODWFCqg",
        "85sChSO7PUo6",
        "ljMKt0oPqNGK"
      ],
      "mount_file_id": "1GQ0PXtDTG1K3xdToyz0ySrWp60hmD9sB",
      "authorship_tag": "ABX9TyPypJXFKd0ByoA+HUtYhOx5",
      "include_colab_link": true
    },
    "kernelspec": {
      "display_name": "Python 3",
      "name": "python3"
    },
    "language_info": {
      "name": "python"
    }
  },
  "nbformat": 4,
  "nbformat_minor": 0
}
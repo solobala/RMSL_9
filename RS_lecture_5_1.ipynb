{
  "cells": [
    {
      "cell_type": "markdown",
      "metadata": {
        "id": "view-in-github",
        "colab_type": "text"
      },
      "source": [
        "<a href=\"https://colab.research.google.com/github/solobala/RMSL_9/blob/main/RS_lecture_5_1.ipynb\" target=\"_parent\"><img src=\"https://colab.research.google.com/assets/colab-badge.svg\" alt=\"Open In Colab\"/></a>"
      ]
    },
    {
      "cell_type": "code",
      "source": [
        "!pip install surprise"
      ],
      "metadata": {
        "id": "PabTM2LTCDlB",
        "colab": {
          "base_uri": "https://localhost:8080/"
        },
        "outputId": "2174553d-5338-493d-c438-ac6eb4f6fd02"
      },
      "execution_count": null,
      "outputs": [
        {
          "output_type": "stream",
          "name": "stdout",
          "text": [
            "Collecting surprise\n",
            "  Downloading surprise-0.1-py2.py3-none-any.whl (1.8 kB)\n",
            "Collecting scikit-surprise (from surprise)\n",
            "  Downloading scikit-surprise-1.1.3.tar.gz (771 kB)\n",
            "\u001b[2K     \u001b[90m━━━━━━━━━━━━━━━━━━━━━━━━━━━━━━━━━━━━━━\u001b[0m \u001b[32m772.0/772.0 kB\u001b[0m \u001b[31m11.7 MB/s\u001b[0m eta \u001b[36m0:00:00\u001b[0m\n",
            "\u001b[?25h  Preparing metadata (setup.py) ... \u001b[?25l\u001b[?25hdone\n",
            "Requirement already satisfied: joblib>=1.0.0 in /usr/local/lib/python3.10/dist-packages (from scikit-surprise->surprise) (1.2.0)\n",
            "Requirement already satisfied: numpy>=1.17.3 in /usr/local/lib/python3.10/dist-packages (from scikit-surprise->surprise) (1.22.4)\n",
            "Requirement already satisfied: scipy>=1.3.2 in /usr/local/lib/python3.10/dist-packages (from scikit-surprise->surprise) (1.10.1)\n",
            "Building wheels for collected packages: scikit-surprise\n",
            "  Building wheel for scikit-surprise (setup.py) ... \u001b[?25l\u001b[?25hdone\n",
            "  Created wheel for scikit-surprise: filename=scikit_surprise-1.1.3-cp310-cp310-linux_x86_64.whl size=3096342 sha256=189083496a128746e4a719520839f9bd7dff96986b69e84ab0b814a23f521f72\n",
            "  Stored in directory: /root/.cache/pip/wheels/a5/ca/a8/4e28def53797fdc4363ca4af740db15a9c2f1595ebc51fb445\n",
            "Successfully built scikit-surprise\n",
            "Installing collected packages: scikit-surprise, surprise\n",
            "Successfully installed scikit-surprise-1.1.3 surprise-0.1\n"
          ]
        }
      ]
    },
    {
      "cell_type": "code",
      "execution_count": null,
      "metadata": {
        "id": "DMvs1oe-B7vs"
      },
      "outputs": [],
      "source": [
        "from surprise import SVD, SVDpp\n",
        "from surprise import Dataset\n",
        "from surprise import accuracy\n",
        "from surprise import Reader\n",
        "from surprise.model_selection import train_test_split\n",
        "\n",
        "import matplotlib.pyplot as plt\n",
        "\n",
        "from tqdm import tqdm_notebook\n",
        "\n",
        "from sklearn.feature_extraction.text import TfidfVectorizer\n",
        "from sklearn.neighbors import NearestNeighbors\n",
        "\n",
        "import pandas as pd\n",
        "import numpy as np"
      ]
    },
    {
      "cell_type": "code",
      "source": [
        "!wget https://github.com/ALKONDR/netology-recsys/archive/refs/heads/master.zip\n",
        "!unzip master.zip"
      ],
      "metadata": {
        "id": "EbXwflzJCFXD",
        "colab": {
          "base_uri": "https://localhost:8080/"
        },
        "outputId": "e15c809e-3f5a-4851-fa2a-c439b16a3d07"
      },
      "execution_count": null,
      "outputs": [
        {
          "output_type": "stream",
          "name": "stdout",
          "text": [
            "--2023-07-08 16:46:46--  https://github.com/ALKONDR/netology-recsys/archive/refs/heads/master.zip\n",
            "Resolving github.com (github.com)... 140.82.114.3\n",
            "Connecting to github.com (github.com)|140.82.114.3|:443... connected.\n",
            "HTTP request sent, awaiting response... 302 Found\n",
            "Location: https://codeload.github.com/ALKONDR/netology-recsys/zip/refs/heads/master [following]\n",
            "--2023-07-08 16:46:46--  https://codeload.github.com/ALKONDR/netology-recsys/zip/refs/heads/master\n",
            "Resolving codeload.github.com (codeload.github.com)... 140.82.114.10\n",
            "Connecting to codeload.github.com (codeload.github.com)|140.82.114.10|:443... connected.\n",
            "HTTP request sent, awaiting response... 200 OK\n",
            "Length: unspecified [application/zip]\n",
            "Saving to: ‘master.zip’\n",
            "\n",
            "master.zip              [  <=>               ]   1.06M  4.27MB/s    in 0.2s    \n",
            "\n",
            "2023-07-08 16:46:47 (4.27 MB/s) - ‘master.zip’ saved [1111929]\n",
            "\n",
            "Archive:  master.zip\n",
            "dfe2a910caf170a1f0fd2174867169ce737c9dc7\n",
            "   creating: netology-recsys-master/\n",
            "   creating: netology-recsys-master/lecture-1/\n",
            "   creating: netology-recsys-master/lecture-1/.ipynb_checkpoints/\n",
            "  inflating: netology-recsys-master/lecture-1/.ipynb_checkpoints/lecture-1-checkpoint.ipynb  \n",
            "  inflating: netology-recsys-master/lecture-1/.ipynb_checkpoints/lecture-2-part-1-checkpoint.ipynb  \n",
            "  inflating: netology-recsys-master/lecture-1/.ipynb_checkpoints/lecture-2-part-2-checkpoint.ipynb  \n",
            "  inflating: netology-recsys-master/lecture-1/README.txt  \n",
            "  inflating: netology-recsys-master/lecture-1/lecture-1.ipynb  \n",
            "  inflating: netology-recsys-master/lecture-1/links.csv  \n",
            "  inflating: netology-recsys-master/lecture-1/movies.csv  \n",
            "  inflating: netology-recsys-master/lecture-1/ratings.csv  \n",
            "  inflating: netology-recsys-master/lecture-1/tags.csv  \n",
            "   creating: netology-recsys-master/lecture-2/\n",
            "   creating: netology-recsys-master/lecture-2/.ipynb_checkpoints/\n",
            "  inflating: netology-recsys-master/lecture-2/.ipynb_checkpoints/lecture-2-part-1-checkpoint.ipynb  \n",
            "  inflating: netology-recsys-master/lecture-2/.ipynb_checkpoints/lecture-2-part-2-checkpoint.ipynb  \n",
            "  inflating: netology-recsys-master/lecture-2/lecture-2-part-1.ipynb  \n",
            "  inflating: netology-recsys-master/lecture-2/lecture-2-part-2.ipynb  \n",
            "   creating: netology-recsys-master/lecture-3/\n",
            "   creating: netology-recsys-master/lecture-3/.ipynb_checkpoints/\n",
            "  inflating: netology-recsys-master/lecture-3/.ipynb_checkpoints/lecture-3-part-1-checkpoint.ipynb  \n",
            "  inflating: netology-recsys-master/lecture-3/.ipynb_checkpoints/lecture-3-part-2-checkpoint.ipynb  \n",
            "  inflating: netology-recsys-master/lecture-3/lecture-3-part-1.ipynb  \n",
            "  inflating: netology-recsys-master/lecture-3/lecture-3-part-2.ipynb  \n",
            "   creating: netology-recsys-master/lecture-4/\n",
            "  inflating: netology-recsys-master/lecture-4/lecture-4-part-1.ipynb  \n",
            "  inflating: netology-recsys-master/lecture-4/lecture-4-part-2.ipynb  \n",
            "   creating: netology-recsys-master/lecture-5/\n",
            "  inflating: netology-recsys-master/lecture-5/hybrid rec.ipynb  \n",
            "  inflating: netology-recsys-master/lecture-5/lecture-5-part-2.ipynb  \n"
          ]
        }
      ]
    },
    {
      "cell_type": "code",
      "execution_count": null,
      "metadata": {
        "id": "HdCfwOGuB7vu"
      },
      "outputs": [],
      "source": [
        "links = pd.read_csv('netology-recsys-master/lecture-1/links.csv')\n",
        "movies = pd.read_csv('netology-recsys-master/lecture-1/movies.csv')\n",
        "ratings = pd.read_csv('netology-recsys-master/lecture-1/ratings.csv')\n",
        "tags = pd.read_csv('netology-recsys-master/lecture-1/tags.csv')"
      ]
    },
    {
      "cell_type": "code",
      "execution_count": null,
      "metadata": {
        "id": "Jjm_-Ot4B7vv"
      },
      "outputs": [],
      "source": [
        "# Соединяем таблицы movied и ratings\n",
        "movies_with_ratings = movies.join(ratings.set_index('movieId'), on='movieId').reset_index(drop=True)\n",
        "movies_with_ratings.dropna(inplace=True)"
      ]
    },
    {
      "cell_type": "code",
      "execution_count": null,
      "metadata": {
        "id": "ihrGHhn0B7vv",
        "colab": {
          "base_uri": "https://localhost:8080/",
          "height": 206
        },
        "outputId": "fee3a7e8-a748-4b62-ddd8-0e2d26d975d0"
      },
      "outputs": [
        {
          "output_type": "execute_result",
          "data": {
            "text/plain": [
              "   movieId             title                                       genres  \\\n",
              "0        1  Toy Story (1995)  Adventure|Animation|Children|Comedy|Fantasy   \n",
              "1        1  Toy Story (1995)  Adventure|Animation|Children|Comedy|Fantasy   \n",
              "2        1  Toy Story (1995)  Adventure|Animation|Children|Comedy|Fantasy   \n",
              "3        1  Toy Story (1995)  Adventure|Animation|Children|Comedy|Fantasy   \n",
              "4        1  Toy Story (1995)  Adventure|Animation|Children|Comedy|Fantasy   \n",
              "\n",
              "   userId  rating     timestamp  \n",
              "0     1.0     4.0  9.649827e+08  \n",
              "1     5.0     4.0  8.474350e+08  \n",
              "2     7.0     4.5  1.106636e+09  \n",
              "3    15.0     2.5  1.510578e+09  \n",
              "4    17.0     4.5  1.305696e+09  "
            ],
            "text/html": [
              "\n",
              "  <div id=\"df-03ca3a12-4f4e-49e9-a039-8ec087a229b2\">\n",
              "    <div class=\"colab-df-container\">\n",
              "      <div>\n",
              "<style scoped>\n",
              "    .dataframe tbody tr th:only-of-type {\n",
              "        vertical-align: middle;\n",
              "    }\n",
              "\n",
              "    .dataframe tbody tr th {\n",
              "        vertical-align: top;\n",
              "    }\n",
              "\n",
              "    .dataframe thead th {\n",
              "        text-align: right;\n",
              "    }\n",
              "</style>\n",
              "<table border=\"1\" class=\"dataframe\">\n",
              "  <thead>\n",
              "    <tr style=\"text-align: right;\">\n",
              "      <th></th>\n",
              "      <th>movieId</th>\n",
              "      <th>title</th>\n",
              "      <th>genres</th>\n",
              "      <th>userId</th>\n",
              "      <th>rating</th>\n",
              "      <th>timestamp</th>\n",
              "    </tr>\n",
              "  </thead>\n",
              "  <tbody>\n",
              "    <tr>\n",
              "      <th>0</th>\n",
              "      <td>1</td>\n",
              "      <td>Toy Story (1995)</td>\n",
              "      <td>Adventure|Animation|Children|Comedy|Fantasy</td>\n",
              "      <td>1.0</td>\n",
              "      <td>4.0</td>\n",
              "      <td>9.649827e+08</td>\n",
              "    </tr>\n",
              "    <tr>\n",
              "      <th>1</th>\n",
              "      <td>1</td>\n",
              "      <td>Toy Story (1995)</td>\n",
              "      <td>Adventure|Animation|Children|Comedy|Fantasy</td>\n",
              "      <td>5.0</td>\n",
              "      <td>4.0</td>\n",
              "      <td>8.474350e+08</td>\n",
              "    </tr>\n",
              "    <tr>\n",
              "      <th>2</th>\n",
              "      <td>1</td>\n",
              "      <td>Toy Story (1995)</td>\n",
              "      <td>Adventure|Animation|Children|Comedy|Fantasy</td>\n",
              "      <td>7.0</td>\n",
              "      <td>4.5</td>\n",
              "      <td>1.106636e+09</td>\n",
              "    </tr>\n",
              "    <tr>\n",
              "      <th>3</th>\n",
              "      <td>1</td>\n",
              "      <td>Toy Story (1995)</td>\n",
              "      <td>Adventure|Animation|Children|Comedy|Fantasy</td>\n",
              "      <td>15.0</td>\n",
              "      <td>2.5</td>\n",
              "      <td>1.510578e+09</td>\n",
              "    </tr>\n",
              "    <tr>\n",
              "      <th>4</th>\n",
              "      <td>1</td>\n",
              "      <td>Toy Story (1995)</td>\n",
              "      <td>Adventure|Animation|Children|Comedy|Fantasy</td>\n",
              "      <td>17.0</td>\n",
              "      <td>4.5</td>\n",
              "      <td>1.305696e+09</td>\n",
              "    </tr>\n",
              "  </tbody>\n",
              "</table>\n",
              "</div>\n",
              "      <button class=\"colab-df-convert\" onclick=\"convertToInteractive('df-03ca3a12-4f4e-49e9-a039-8ec087a229b2')\"\n",
              "              title=\"Convert this dataframe to an interactive table.\"\n",
              "              style=\"display:none;\">\n",
              "        \n",
              "  <svg xmlns=\"http://www.w3.org/2000/svg\" height=\"24px\"viewBox=\"0 0 24 24\"\n",
              "       width=\"24px\">\n",
              "    <path d=\"M0 0h24v24H0V0z\" fill=\"none\"/>\n",
              "    <path d=\"M18.56 5.44l.94 2.06.94-2.06 2.06-.94-2.06-.94-.94-2.06-.94 2.06-2.06.94zm-11 1L8.5 8.5l.94-2.06 2.06-.94-2.06-.94L8.5 2.5l-.94 2.06-2.06.94zm10 10l.94 2.06.94-2.06 2.06-.94-2.06-.94-.94-2.06-.94 2.06-2.06.94z\"/><path d=\"M17.41 7.96l-1.37-1.37c-.4-.4-.92-.59-1.43-.59-.52 0-1.04.2-1.43.59L10.3 9.45l-7.72 7.72c-.78.78-.78 2.05 0 2.83L4 21.41c.39.39.9.59 1.41.59.51 0 1.02-.2 1.41-.59l7.78-7.78 2.81-2.81c.8-.78.8-2.07 0-2.86zM5.41 20L4 18.59l7.72-7.72 1.47 1.35L5.41 20z\"/>\n",
              "  </svg>\n",
              "      </button>\n",
              "      \n",
              "  <style>\n",
              "    .colab-df-container {\n",
              "      display:flex;\n",
              "      flex-wrap:wrap;\n",
              "      gap: 12px;\n",
              "    }\n",
              "\n",
              "    .colab-df-convert {\n",
              "      background-color: #E8F0FE;\n",
              "      border: none;\n",
              "      border-radius: 50%;\n",
              "      cursor: pointer;\n",
              "      display: none;\n",
              "      fill: #1967D2;\n",
              "      height: 32px;\n",
              "      padding: 0 0 0 0;\n",
              "      width: 32px;\n",
              "    }\n",
              "\n",
              "    .colab-df-convert:hover {\n",
              "      background-color: #E2EBFA;\n",
              "      box-shadow: 0px 1px 2px rgba(60, 64, 67, 0.3), 0px 1px 3px 1px rgba(60, 64, 67, 0.15);\n",
              "      fill: #174EA6;\n",
              "    }\n",
              "\n",
              "    [theme=dark] .colab-df-convert {\n",
              "      background-color: #3B4455;\n",
              "      fill: #D2E3FC;\n",
              "    }\n",
              "\n",
              "    [theme=dark] .colab-df-convert:hover {\n",
              "      background-color: #434B5C;\n",
              "      box-shadow: 0px 1px 3px 1px rgba(0, 0, 0, 0.15);\n",
              "      filter: drop-shadow(0px 1px 2px rgba(0, 0, 0, 0.3));\n",
              "      fill: #FFFFFF;\n",
              "    }\n",
              "  </style>\n",
              "\n",
              "      <script>\n",
              "        const buttonEl =\n",
              "          document.querySelector('#df-03ca3a12-4f4e-49e9-a039-8ec087a229b2 button.colab-df-convert');\n",
              "        buttonEl.style.display =\n",
              "          google.colab.kernel.accessAllowed ? 'block' : 'none';\n",
              "\n",
              "        async function convertToInteractive(key) {\n",
              "          const element = document.querySelector('#df-03ca3a12-4f4e-49e9-a039-8ec087a229b2');\n",
              "          const dataTable =\n",
              "            await google.colab.kernel.invokeFunction('convertToInteractive',\n",
              "                                                     [key], {});\n",
              "          if (!dataTable) return;\n",
              "\n",
              "          const docLinkHtml = 'Like what you see? Visit the ' +\n",
              "            '<a target=\"_blank\" href=https://colab.research.google.com/notebooks/data_table.ipynb>data table notebook</a>'\n",
              "            + ' to learn more about interactive tables.';\n",
              "          element.innerHTML = '';\n",
              "          dataTable['output_type'] = 'display_data';\n",
              "          await google.colab.output.renderOutput(dataTable, element);\n",
              "          const docLink = document.createElement('div');\n",
              "          docLink.innerHTML = docLinkHtml;\n",
              "          element.appendChild(docLink);\n",
              "        }\n",
              "      </script>\n",
              "    </div>\n",
              "  </div>\n",
              "  "
            ]
          },
          "metadata": {},
          "execution_count": 6
        }
      ],
      "source": [
        "movies_with_ratings.head()"
      ]
    },
    {
      "cell_type": "code",
      "execution_count": null,
      "metadata": {
        "id": "5rMkyixeB7vw"
      },
      "outputs": [],
      "source": [
        "# Для того чтоб ыиспользовать surprise нужно чтобы в датасете были столбцы iid, uid, rating\n",
        "dataset = pd.DataFrame({\n",
        "    'uid': movies_with_ratings.userId,\n",
        "    'iid': movies_with_ratings.title,\n",
        "    'rating': movies_with_ratings.rating\n",
        "})"
      ]
    },
    {
      "cell_type": "code",
      "execution_count": null,
      "metadata": {
        "id": "HoyF0JAkB7vx"
      },
      "outputs": [],
      "source": [
        "# загружаем датафрейм в Dataset с помощью Reader\n",
        "reader = Reader(rating_scale=(0.5, 5.0))\n",
        "data = Dataset.load_from_df(dataset, reader)"
      ]
    },
    {
      "cell_type": "code",
      "execution_count": null,
      "metadata": {
        "id": "tLGYF_9dB7vx"
      },
      "outputs": [],
      "source": [
        "trainset, testset = train_test_split(data, test_size=.15, random_state=42)"
      ]
    },
    {
      "cell_type": "code",
      "execution_count": null,
      "metadata": {
        "id": "IwnsAwmNB7vx",
        "colab": {
          "base_uri": "https://localhost:8080/"
        },
        "outputId": "6c133df7-6d0d-494d-d6b7-30233d0d8908"
      },
      "outputs": [
        {
          "output_type": "stream",
          "name": "stdout",
          "text": [
            "CPU times: user 913 ms, sys: 1.67 ms, total: 914 ms\n",
            "Wall time: 973 ms\n"
          ]
        },
        {
          "output_type": "execute_result",
          "data": {
            "text/plain": [
              "<surprise.prediction_algorithms.matrix_factorization.SVD at 0x7f70514c5480>"
            ]
          },
          "metadata": {},
          "execution_count": 10
        }
      ],
      "source": [
        "# Это алгоритм коллаборативной фильтрации с использованием скрытых факторов\n",
        "%%time\n",
        "algo = SVD(n_factors=20, n_epochs=20)\n",
        "algo.fit(trainset)"
      ]
    },
    {
      "cell_type": "code",
      "execution_count": null,
      "metadata": {
        "id": "VSd2paMgB7vy"
      },
      "outputs": [],
      "source": [
        "test_pred = algo.test(testset)"
      ]
    },
    {
      "cell_type": "code",
      "execution_count": null,
      "metadata": {
        "id": "O84skFnSB7vz",
        "colab": {
          "base_uri": "https://localhost:8080/"
        },
        "outputId": "23d74278-d54d-4567-d727-edf5a6ea3e7a"
      },
      "outputs": [
        {
          "output_type": "stream",
          "name": "stdout",
          "text": [
            "RMSE: 0.8682\n"
          ]
        },
        {
          "output_type": "execute_result",
          "data": {
            "text/plain": [
              "0.8681990336677368"
            ]
          },
          "metadata": {},
          "execution_count": 12
        }
      ],
      "source": [
        "accuracy.rmse(test_pred, verbose=True)"
      ]
    },
    {
      "cell_type": "code",
      "execution_count": null,
      "metadata": {
        "id": "w-gzJnndB7vz",
        "colab": {
          "base_uri": "https://localhost:8080/"
        },
        "outputId": "c379a3ed-af2a-44d2-fb27-fa5291f4ed55"
      },
      "outputs": [
        {
          "output_type": "execute_result",
          "data": {
            "text/plain": [
              "2.5895436677191443"
            ]
          },
          "metadata": {},
          "execution_count": 13
        }
      ],
      "source": [
        "algo.predict(uid=2.0, iid='Mortal Kombat (1995)').est"
      ]
    },
    {
      "cell_type": "code",
      "execution_count": null,
      "metadata": {
        "id": "x4KmIZl9B7v0"
      },
      "outputs": [],
      "source": [
        "current_user_id = 2.0\n",
        "# Получим список названий фильмов, которым пользователь 2.0 ставил оценкни\n",
        "user_movies = movies_with_ratings[movies_with_ratings.userId == current_user_id].title.unique()\n",
        "\n",
        "scores = []\n",
        "titles = []\n",
        "# А теперь получим 2 списка - фильмы, которые он еще нге смотрел, и предполагаемыек оценки для этих фильмов\n",
        "for movie in movies_with_ratings.title.unique():\n",
        "    if movie in user_movies:\n",
        "        continue\n",
        "\n",
        "    scores.append(algo.predict(uid=current_user_id, iid=movie).est)\n",
        "    titles.append(movie)"
      ]
    },
    {
      "cell_type": "code",
      "execution_count": null,
      "metadata": {
        "id": "Yh-sif1xB7v0",
        "colab": {
          "base_uri": "https://localhost:8080/"
        },
        "outputId": "4850e76b-500d-4749-90a6-9c25c51c4cb0"
      },
      "outputs": [
        {
          "output_type": "execute_result",
          "data": {
            "text/plain": [
              "[4.290645872171909,\n",
              " 4.2923942638822075,\n",
              " 4.312343314655032,\n",
              " 4.3179390424606865,\n",
              " 4.328781455972176,\n",
              " 4.333000674473621,\n",
              " 4.356912155716694,\n",
              " 4.392378371522267,\n",
              " 4.399658887513509,\n",
              " 4.4029537525049145]"
            ]
          },
          "metadata": {},
          "execution_count": 15
        }
      ],
      "source": [
        "sorted(scores)[-10:]  # Это предполагаемые оценки для непросмотренных фильмов, отсортированные в порядке возрастания"
      ]
    },
    {
      "cell_type": "code",
      "execution_count": null,
      "metadata": {
        "id": "DH-dTFQHB7v0"
      },
      "outputs": [],
      "source": [
        "def change_string(s):\n",
        "    return ' '.join(s.replace(' ', '').replace('-', '').split('|')) # Распарсить жанры"
      ]
    },
    {
      "cell_type": "code",
      "execution_count": null,
      "metadata": {
        "id": "jblm8TWMB7v1",
        "colab": {
          "base_uri": "https://localhost:8080/"
        },
        "outputId": "8ef0c0a4-8941-44a6-94fc-b745969e9d76"
      },
      "outputs": [
        {
          "output_type": "stream",
          "name": "stdout",
          "text": [
            "CPU times: user 11.2 ms, sys: 2 µs, total: 11.2 ms\n",
            "Wall time: 13.6 ms\n"
          ]
        }
      ],
      "source": [
        "%%time\n",
        "movie_genres = [change_string(g) for g in movies.genres.values] # Это парсим столбец жанров"
      ]
    },
    {
      "cell_type": "code",
      "source": [
        "%%time\n",
        "movies_with_ratings['genres'] = movies_with_ratings['genres'].apply(change_string) # так выходит дольше"
      ],
      "metadata": {
        "colab": {
          "base_uri": "https://localhost:8080/"
        },
        "id": "rCLFotT1Z1qT",
        "outputId": "99b089f5-5170-4ba5-83d7-f62ff85fcd28"
      },
      "execution_count": null,
      "outputs": [
        {
          "output_type": "stream",
          "name": "stdout",
          "text": [
            "CPU times: user 65.2 ms, sys: 1.94 ms, total: 67.1 ms\n",
            "Wall time: 70.6 ms\n"
          ]
        }
      ]
    },
    {
      "cell_type": "code",
      "execution_count": null,
      "metadata": {
        "id": "sX-AeM2KB7v1",
        "outputId": "a6a2d956-1945-4ffb-9821-c0fd82946b00",
        "colab": {
          "base_uri": "https://localhost:8080/",
          "height": 36
        }
      },
      "outputs": [
        {
          "output_type": "execute_result",
          "data": {
            "text/plain": [
              "'Adventure Animation Children Comedy Fantasy'"
            ],
            "application/vnd.google.colaboratory.intrinsic+json": {
              "type": "string"
            }
          },
          "metadata": {},
          "execution_count": 19
        }
      ],
      "source": [
        "movie_genres[0]"
      ]
    },
    {
      "cell_type": "code",
      "execution_count": null,
      "metadata": {
        "id": "J245f3E2B7v1",
        "colab": {
          "base_uri": "https://localhost:8080/",
          "height": 74
        },
        "outputId": "676ff269-7b08-4a3b-bb8f-abec503c8e28"
      },
      "outputs": [
        {
          "output_type": "execute_result",
          "data": {
            "text/plain": [
              "NearestNeighbors(metric='euclidean', n_jobs=-1, n_neighbors=20)"
            ],
            "text/html": [
              "<style>#sk-container-id-1 {color: black;background-color: white;}#sk-container-id-1 pre{padding: 0;}#sk-container-id-1 div.sk-toggleable {background-color: white;}#sk-container-id-1 label.sk-toggleable__label {cursor: pointer;display: block;width: 100%;margin-bottom: 0;padding: 0.3em;box-sizing: border-box;text-align: center;}#sk-container-id-1 label.sk-toggleable__label-arrow:before {content: \"▸\";float: left;margin-right: 0.25em;color: #696969;}#sk-container-id-1 label.sk-toggleable__label-arrow:hover:before {color: black;}#sk-container-id-1 div.sk-estimator:hover label.sk-toggleable__label-arrow:before {color: black;}#sk-container-id-1 div.sk-toggleable__content {max-height: 0;max-width: 0;overflow: hidden;text-align: left;background-color: #f0f8ff;}#sk-container-id-1 div.sk-toggleable__content pre {margin: 0.2em;color: black;border-radius: 0.25em;background-color: #f0f8ff;}#sk-container-id-1 input.sk-toggleable__control:checked~div.sk-toggleable__content {max-height: 200px;max-width: 100%;overflow: auto;}#sk-container-id-1 input.sk-toggleable__control:checked~label.sk-toggleable__label-arrow:before {content: \"▾\";}#sk-container-id-1 div.sk-estimator input.sk-toggleable__control:checked~label.sk-toggleable__label {background-color: #d4ebff;}#sk-container-id-1 div.sk-label input.sk-toggleable__control:checked~label.sk-toggleable__label {background-color: #d4ebff;}#sk-container-id-1 input.sk-hidden--visually {border: 0;clip: rect(1px 1px 1px 1px);clip: rect(1px, 1px, 1px, 1px);height: 1px;margin: -1px;overflow: hidden;padding: 0;position: absolute;width: 1px;}#sk-container-id-1 div.sk-estimator {font-family: monospace;background-color: #f0f8ff;border: 1px dotted black;border-radius: 0.25em;box-sizing: border-box;margin-bottom: 0.5em;}#sk-container-id-1 div.sk-estimator:hover {background-color: #d4ebff;}#sk-container-id-1 div.sk-parallel-item::after {content: \"\";width: 100%;border-bottom: 1px solid gray;flex-grow: 1;}#sk-container-id-1 div.sk-label:hover label.sk-toggleable__label {background-color: #d4ebff;}#sk-container-id-1 div.sk-serial::before {content: \"\";position: absolute;border-left: 1px solid gray;box-sizing: border-box;top: 0;bottom: 0;left: 50%;z-index: 0;}#sk-container-id-1 div.sk-serial {display: flex;flex-direction: column;align-items: center;background-color: white;padding-right: 0.2em;padding-left: 0.2em;position: relative;}#sk-container-id-1 div.sk-item {position: relative;z-index: 1;}#sk-container-id-1 div.sk-parallel {display: flex;align-items: stretch;justify-content: center;background-color: white;position: relative;}#sk-container-id-1 div.sk-item::before, #sk-container-id-1 div.sk-parallel-item::before {content: \"\";position: absolute;border-left: 1px solid gray;box-sizing: border-box;top: 0;bottom: 0;left: 50%;z-index: -1;}#sk-container-id-1 div.sk-parallel-item {display: flex;flex-direction: column;z-index: 1;position: relative;background-color: white;}#sk-container-id-1 div.sk-parallel-item:first-child::after {align-self: flex-end;width: 50%;}#sk-container-id-1 div.sk-parallel-item:last-child::after {align-self: flex-start;width: 50%;}#sk-container-id-1 div.sk-parallel-item:only-child::after {width: 0;}#sk-container-id-1 div.sk-dashed-wrapped {border: 1px dashed gray;margin: 0 0.4em 0.5em 0.4em;box-sizing: border-box;padding-bottom: 0.4em;background-color: white;}#sk-container-id-1 div.sk-label label {font-family: monospace;font-weight: bold;display: inline-block;line-height: 1.2em;}#sk-container-id-1 div.sk-label-container {text-align: center;}#sk-container-id-1 div.sk-container {/* jupyter's `normalize.less` sets `[hidden] { display: none; }` but bootstrap.min.css set `[hidden] { display: none !important; }` so we also need the `!important` here to be able to override the default hidden behavior on the sphinx rendered scikit-learn.org. See: https://github.com/scikit-learn/scikit-learn/issues/21755 */display: inline-block !important;position: relative;}#sk-container-id-1 div.sk-text-repr-fallback {display: none;}</style><div id=\"sk-container-id-1\" class=\"sk-top-container\"><div class=\"sk-text-repr-fallback\"><pre>NearestNeighbors(metric=&#x27;euclidean&#x27;, n_jobs=-1, n_neighbors=20)</pre><b>In a Jupyter environment, please rerun this cell to show the HTML representation or trust the notebook. <br />On GitHub, the HTML representation is unable to render, please try loading this page with nbviewer.org.</b></div><div class=\"sk-container\" hidden><div class=\"sk-item\"><div class=\"sk-estimator sk-toggleable\"><input class=\"sk-toggleable__control sk-hidden--visually\" id=\"sk-estimator-id-1\" type=\"checkbox\" checked><label for=\"sk-estimator-id-1\" class=\"sk-toggleable__label sk-toggleable__label-arrow\">NearestNeighbors</label><div class=\"sk-toggleable__content\"><pre>NearestNeighbors(metric=&#x27;euclidean&#x27;, n_jobs=-1, n_neighbors=20)</pre></div></div></div></div></div>"
            ]
          },
          "metadata": {},
          "execution_count": 21
        }
      ],
      "source": [
        "# Строим эмбеддинги по жанрам и ищем ближайших соседей\n",
        "vectorizer = TfidfVectorizer()\n",
        "X_train_tfidf = vectorizer.fit_transform(movie_genres)\n",
        "neigh = NearestNeighbors(n_neighbors=20, n_jobs=-1, metric='euclidean')\n",
        "neigh.fit(X_train_tfidf)"
      ]
    },
    {
      "cell_type": "code",
      "execution_count": null,
      "metadata": {
        "id": "l8CA3DQ0B7v1"
      },
      "outputs": [],
      "source": [
        "test = change_string(\"Adventure|Comedy|Fantasy|Crime\")\n",
        "X_tfidf2 = vectorizer.transform([test])\n",
        "res = neigh.kneighbors(X_tfidf2, return_distance=True)"
      ]
    },
    {
      "cell_type": "code",
      "execution_count": null,
      "metadata": {
        "id": "ziwZW6CRB7v1",
        "colab": {
          "base_uri": "https://localhost:8080/"
        },
        "outputId": "e6544316-8513-4dc5-ae27-56a8a9a3da73"
      },
      "outputs": [
        {
          "output_type": "execute_result",
          "data": {
            "text/plain": [
              "(array([[0.42079615, 0.53300564, 0.54288608, 0.54288608, 0.54288608,\n",
              "         0.54288608, 0.54288608, 0.54288608, 0.54288608, 0.54288608,\n",
              "         0.54288608, 0.54288608, 0.54288608, 0.54288608, 0.54288608,\n",
              "         0.54288608, 0.54288608, 0.6188388 , 0.62682864, 0.62682864]]),\n",
              " array([[6774, 9096, 2302, 5627, 6723, 8361, 5737, 2608, 7865, 5636, 3302,\n",
              "         7496, 3582,  863, 3376, 9717, 3576, 2206, 3010, 6133]]))"
            ]
          },
          "metadata": {},
          "execution_count": 25
        }
      ],
      "source": [
        "res # Получаем индексы по ближайшим соседям"
      ]
    },
    {
      "cell_type": "code",
      "execution_count": null,
      "metadata": {
        "scrolled": true,
        "id": "s-VKFKwwB7v2",
        "colab": {
          "base_uri": "https://localhost:8080/",
          "height": 676
        },
        "outputId": "c62b7466-3dcb-445b-943c-a97839e9234f"
      },
      "outputs": [
        {
          "output_type": "execute_result",
          "data": {
            "text/plain": [
              "      movieId                                              title  \\\n",
              "6774    60074                                     Hancock (2008)   \n",
              "9096   143559                                L.A. Slasher (2015)   \n",
              "2302     3052                                       Dogma (1999)   \n",
              "5627    27251                           10th Kingdom, The (2000)   \n",
              "6723    58972                                Nim's Island (2008)   \n",
              "8361   109042                        Knights of Badassdom (2013)   \n",
              "5737    30810         Life Aquatic with Steve Zissou, The (2004)   \n",
              "2608     3489                                        Hook (1991)   \n",
              "7865    94015                               Mirror Mirror (2012)   \n",
              "5636    27368  Asterix & Obelix: Mission Cleopatra (Astérix &...   \n",
              "3302     4467         Adventures of Baron Munchausen, The (1988)   \n",
              "7496    82854                          Gulliver's Travels (2010)   \n",
              "3582     4911                                 Jabberwocky (1977)   \n",
              "863      1136             Monty Python and the Holy Grail (1975)   \n",
              "3376     4591                             Erik the Viking (1989)   \n",
              "9717   188833              The Man Who Killed Don Quixote (2018)   \n",
              "3576     4899                                Black Knight (2001)   \n",
              "2206     2931        Time of the Gypsies (Dom za vesanje) (1989)   \n",
              "3010     4027                  O Brother, Where Art Thou? (2000)   \n",
              "6133    43836                           Pink Panther, The (2006)   \n",
              "\n",
              "                                     genres  \n",
              "6774  Action|Adventure|Comedy|Crime|Fantasy  \n",
              "9096                   Comedy|Crime|Fantasy  \n",
              "2302               Adventure|Comedy|Fantasy  \n",
              "5627               Adventure|Comedy|Fantasy  \n",
              "6723               Adventure|Comedy|Fantasy  \n",
              "8361               Adventure|Comedy|Fantasy  \n",
              "5737               Adventure|Comedy|Fantasy  \n",
              "2608               Adventure|Comedy|Fantasy  \n",
              "7865               Adventure|Comedy|Fantasy  \n",
              "5636               Adventure|Comedy|Fantasy  \n",
              "3302               Adventure|Comedy|Fantasy  \n",
              "7496               Adventure|Comedy|Fantasy  \n",
              "3582               Adventure|Comedy|Fantasy  \n",
              "863                Adventure|Comedy|Fantasy  \n",
              "3376               Adventure|Comedy|Fantasy  \n",
              "9717               Adventure|Comedy|Fantasy  \n",
              "3576               Adventure|Comedy|Fantasy  \n",
              "2206             Comedy|Crime|Drama|Fantasy  \n",
              "3010                 Adventure|Comedy|Crime  \n",
              "6133                 Adventure|Comedy|Crime  "
            ],
            "text/html": [
              "\n",
              "  <div id=\"df-369c3776-9302-4c57-83fa-2bdd8ada6121\">\n",
              "    <div class=\"colab-df-container\">\n",
              "      <div>\n",
              "<style scoped>\n",
              "    .dataframe tbody tr th:only-of-type {\n",
              "        vertical-align: middle;\n",
              "    }\n",
              "\n",
              "    .dataframe tbody tr th {\n",
              "        vertical-align: top;\n",
              "    }\n",
              "\n",
              "    .dataframe thead th {\n",
              "        text-align: right;\n",
              "    }\n",
              "</style>\n",
              "<table border=\"1\" class=\"dataframe\">\n",
              "  <thead>\n",
              "    <tr style=\"text-align: right;\">\n",
              "      <th></th>\n",
              "      <th>movieId</th>\n",
              "      <th>title</th>\n",
              "      <th>genres</th>\n",
              "    </tr>\n",
              "  </thead>\n",
              "  <tbody>\n",
              "    <tr>\n",
              "      <th>6774</th>\n",
              "      <td>60074</td>\n",
              "      <td>Hancock (2008)</td>\n",
              "      <td>Action|Adventure|Comedy|Crime|Fantasy</td>\n",
              "    </tr>\n",
              "    <tr>\n",
              "      <th>9096</th>\n",
              "      <td>143559</td>\n",
              "      <td>L.A. Slasher (2015)</td>\n",
              "      <td>Comedy|Crime|Fantasy</td>\n",
              "    </tr>\n",
              "    <tr>\n",
              "      <th>2302</th>\n",
              "      <td>3052</td>\n",
              "      <td>Dogma (1999)</td>\n",
              "      <td>Adventure|Comedy|Fantasy</td>\n",
              "    </tr>\n",
              "    <tr>\n",
              "      <th>5627</th>\n",
              "      <td>27251</td>\n",
              "      <td>10th Kingdom, The (2000)</td>\n",
              "      <td>Adventure|Comedy|Fantasy</td>\n",
              "    </tr>\n",
              "    <tr>\n",
              "      <th>6723</th>\n",
              "      <td>58972</td>\n",
              "      <td>Nim's Island (2008)</td>\n",
              "      <td>Adventure|Comedy|Fantasy</td>\n",
              "    </tr>\n",
              "    <tr>\n",
              "      <th>8361</th>\n",
              "      <td>109042</td>\n",
              "      <td>Knights of Badassdom (2013)</td>\n",
              "      <td>Adventure|Comedy|Fantasy</td>\n",
              "    </tr>\n",
              "    <tr>\n",
              "      <th>5737</th>\n",
              "      <td>30810</td>\n",
              "      <td>Life Aquatic with Steve Zissou, The (2004)</td>\n",
              "      <td>Adventure|Comedy|Fantasy</td>\n",
              "    </tr>\n",
              "    <tr>\n",
              "      <th>2608</th>\n",
              "      <td>3489</td>\n",
              "      <td>Hook (1991)</td>\n",
              "      <td>Adventure|Comedy|Fantasy</td>\n",
              "    </tr>\n",
              "    <tr>\n",
              "      <th>7865</th>\n",
              "      <td>94015</td>\n",
              "      <td>Mirror Mirror (2012)</td>\n",
              "      <td>Adventure|Comedy|Fantasy</td>\n",
              "    </tr>\n",
              "    <tr>\n",
              "      <th>5636</th>\n",
              "      <td>27368</td>\n",
              "      <td>Asterix &amp; Obelix: Mission Cleopatra (Astérix &amp;...</td>\n",
              "      <td>Adventure|Comedy|Fantasy</td>\n",
              "    </tr>\n",
              "    <tr>\n",
              "      <th>3302</th>\n",
              "      <td>4467</td>\n",
              "      <td>Adventures of Baron Munchausen, The (1988)</td>\n",
              "      <td>Adventure|Comedy|Fantasy</td>\n",
              "    </tr>\n",
              "    <tr>\n",
              "      <th>7496</th>\n",
              "      <td>82854</td>\n",
              "      <td>Gulliver's Travels (2010)</td>\n",
              "      <td>Adventure|Comedy|Fantasy</td>\n",
              "    </tr>\n",
              "    <tr>\n",
              "      <th>3582</th>\n",
              "      <td>4911</td>\n",
              "      <td>Jabberwocky (1977)</td>\n",
              "      <td>Adventure|Comedy|Fantasy</td>\n",
              "    </tr>\n",
              "    <tr>\n",
              "      <th>863</th>\n",
              "      <td>1136</td>\n",
              "      <td>Monty Python and the Holy Grail (1975)</td>\n",
              "      <td>Adventure|Comedy|Fantasy</td>\n",
              "    </tr>\n",
              "    <tr>\n",
              "      <th>3376</th>\n",
              "      <td>4591</td>\n",
              "      <td>Erik the Viking (1989)</td>\n",
              "      <td>Adventure|Comedy|Fantasy</td>\n",
              "    </tr>\n",
              "    <tr>\n",
              "      <th>9717</th>\n",
              "      <td>188833</td>\n",
              "      <td>The Man Who Killed Don Quixote (2018)</td>\n",
              "      <td>Adventure|Comedy|Fantasy</td>\n",
              "    </tr>\n",
              "    <tr>\n",
              "      <th>3576</th>\n",
              "      <td>4899</td>\n",
              "      <td>Black Knight (2001)</td>\n",
              "      <td>Adventure|Comedy|Fantasy</td>\n",
              "    </tr>\n",
              "    <tr>\n",
              "      <th>2206</th>\n",
              "      <td>2931</td>\n",
              "      <td>Time of the Gypsies (Dom za vesanje) (1989)</td>\n",
              "      <td>Comedy|Crime|Drama|Fantasy</td>\n",
              "    </tr>\n",
              "    <tr>\n",
              "      <th>3010</th>\n",
              "      <td>4027</td>\n",
              "      <td>O Brother, Where Art Thou? (2000)</td>\n",
              "      <td>Adventure|Comedy|Crime</td>\n",
              "    </tr>\n",
              "    <tr>\n",
              "      <th>6133</th>\n",
              "      <td>43836</td>\n",
              "      <td>Pink Panther, The (2006)</td>\n",
              "      <td>Adventure|Comedy|Crime</td>\n",
              "    </tr>\n",
              "  </tbody>\n",
              "</table>\n",
              "</div>\n",
              "      <button class=\"colab-df-convert\" onclick=\"convertToInteractive('df-369c3776-9302-4c57-83fa-2bdd8ada6121')\"\n",
              "              title=\"Convert this dataframe to an interactive table.\"\n",
              "              style=\"display:none;\">\n",
              "        \n",
              "  <svg xmlns=\"http://www.w3.org/2000/svg\" height=\"24px\"viewBox=\"0 0 24 24\"\n",
              "       width=\"24px\">\n",
              "    <path d=\"M0 0h24v24H0V0z\" fill=\"none\"/>\n",
              "    <path d=\"M18.56 5.44l.94 2.06.94-2.06 2.06-.94-2.06-.94-.94-2.06-.94 2.06-2.06.94zm-11 1L8.5 8.5l.94-2.06 2.06-.94-2.06-.94L8.5 2.5l-.94 2.06-2.06.94zm10 10l.94 2.06.94-2.06 2.06-.94-2.06-.94-.94-2.06-.94 2.06-2.06.94z\"/><path d=\"M17.41 7.96l-1.37-1.37c-.4-.4-.92-.59-1.43-.59-.52 0-1.04.2-1.43.59L10.3 9.45l-7.72 7.72c-.78.78-.78 2.05 0 2.83L4 21.41c.39.39.9.59 1.41.59.51 0 1.02-.2 1.41-.59l7.78-7.78 2.81-2.81c.8-.78.8-2.07 0-2.86zM5.41 20L4 18.59l7.72-7.72 1.47 1.35L5.41 20z\"/>\n",
              "  </svg>\n",
              "      </button>\n",
              "      \n",
              "  <style>\n",
              "    .colab-df-container {\n",
              "      display:flex;\n",
              "      flex-wrap:wrap;\n",
              "      gap: 12px;\n",
              "    }\n",
              "\n",
              "    .colab-df-convert {\n",
              "      background-color: #E8F0FE;\n",
              "      border: none;\n",
              "      border-radius: 50%;\n",
              "      cursor: pointer;\n",
              "      display: none;\n",
              "      fill: #1967D2;\n",
              "      height: 32px;\n",
              "      padding: 0 0 0 0;\n",
              "      width: 32px;\n",
              "    }\n",
              "\n",
              "    .colab-df-convert:hover {\n",
              "      background-color: #E2EBFA;\n",
              "      box-shadow: 0px 1px 2px rgba(60, 64, 67, 0.3), 0px 1px 3px 1px rgba(60, 64, 67, 0.15);\n",
              "      fill: #174EA6;\n",
              "    }\n",
              "\n",
              "    [theme=dark] .colab-df-convert {\n",
              "      background-color: #3B4455;\n",
              "      fill: #D2E3FC;\n",
              "    }\n",
              "\n",
              "    [theme=dark] .colab-df-convert:hover {\n",
              "      background-color: #434B5C;\n",
              "      box-shadow: 0px 1px 3px 1px rgba(0, 0, 0, 0.15);\n",
              "      filter: drop-shadow(0px 1px 2px rgba(0, 0, 0, 0.3));\n",
              "      fill: #FFFFFF;\n",
              "    }\n",
              "  </style>\n",
              "\n",
              "      <script>\n",
              "        const buttonEl =\n",
              "          document.querySelector('#df-369c3776-9302-4c57-83fa-2bdd8ada6121 button.colab-df-convert');\n",
              "        buttonEl.style.display =\n",
              "          google.colab.kernel.accessAllowed ? 'block' : 'none';\n",
              "\n",
              "        async function convertToInteractive(key) {\n",
              "          const element = document.querySelector('#df-369c3776-9302-4c57-83fa-2bdd8ada6121');\n",
              "          const dataTable =\n",
              "            await google.colab.kernel.invokeFunction('convertToInteractive',\n",
              "                                                     [key], {});\n",
              "          if (!dataTable) return;\n",
              "\n",
              "          const docLinkHtml = 'Like what you see? Visit the ' +\n",
              "            '<a target=\"_blank\" href=https://colab.research.google.com/notebooks/data_table.ipynb>data table notebook</a>'\n",
              "            + ' to learn more about interactive tables.';\n",
              "          element.innerHTML = '';\n",
              "          dataTable['output_type'] = 'display_data';\n",
              "          await google.colab.output.renderOutput(dataTable, element);\n",
              "          const docLink = document.createElement('div');\n",
              "          docLink.innerHTML = docLinkHtml;\n",
              "          element.appendChild(docLink);\n",
              "        }\n",
              "      </script>\n",
              "    </div>\n",
              "  </div>\n",
              "  "
            ]
          },
          "metadata": {},
          "execution_count": 22
        }
      ],
      "source": [
        "movies.iloc[res[1][0]] # и используем их для просмотра записей"
      ]
    },
    {
      "cell_type": "code",
      "execution_count": null,
      "metadata": {
        "id": "rjrZxvuNB7v2"
      },
      "outputs": [],
      "source": [
        "movies_with_ratings.sort_values('timestamp', inplace=True) # сортируем рейтинги по времени  отзывов"
      ]
    },
    {
      "cell_type": "code",
      "execution_count": null,
      "metadata": {
        "id": "W7a4_2gPB7v2",
        "colab": {
          "base_uri": "https://localhost:8080/",
          "height": 206
        },
        "outputId": "9edea828-765c-447a-86f7-09ba1913df1c"
      },
      "outputs": [
        {
          "output_type": "execute_result",
          "data": {
            "text/plain": [
              "   movieId                               title  \\\n",
              "0        1                    Toy Story (1995)   \n",
              "1        2                      Jumanji (1995)   \n",
              "2        3             Grumpier Old Men (1995)   \n",
              "3        4            Waiting to Exhale (1995)   \n",
              "4        5  Father of the Bride Part II (1995)   \n",
              "\n",
              "                                        genres  \n",
              "0  Adventure|Animation|Children|Comedy|Fantasy  \n",
              "1                   Adventure|Children|Fantasy  \n",
              "2                               Comedy|Romance  \n",
              "3                         Comedy|Drama|Romance  \n",
              "4                                       Comedy  "
            ],
            "text/html": [
              "\n",
              "  <div id=\"df-f613ebd0-d3f2-49f0-935a-e73bc9f2ebc0\">\n",
              "    <div class=\"colab-df-container\">\n",
              "      <div>\n",
              "<style scoped>\n",
              "    .dataframe tbody tr th:only-of-type {\n",
              "        vertical-align: middle;\n",
              "    }\n",
              "\n",
              "    .dataframe tbody tr th {\n",
              "        vertical-align: top;\n",
              "    }\n",
              "\n",
              "    .dataframe thead th {\n",
              "        text-align: right;\n",
              "    }\n",
              "</style>\n",
              "<table border=\"1\" class=\"dataframe\">\n",
              "  <thead>\n",
              "    <tr style=\"text-align: right;\">\n",
              "      <th></th>\n",
              "      <th>movieId</th>\n",
              "      <th>title</th>\n",
              "      <th>genres</th>\n",
              "    </tr>\n",
              "  </thead>\n",
              "  <tbody>\n",
              "    <tr>\n",
              "      <th>0</th>\n",
              "      <td>1</td>\n",
              "      <td>Toy Story (1995)</td>\n",
              "      <td>Adventure|Animation|Children|Comedy|Fantasy</td>\n",
              "    </tr>\n",
              "    <tr>\n",
              "      <th>1</th>\n",
              "      <td>2</td>\n",
              "      <td>Jumanji (1995)</td>\n",
              "      <td>Adventure|Children|Fantasy</td>\n",
              "    </tr>\n",
              "    <tr>\n",
              "      <th>2</th>\n",
              "      <td>3</td>\n",
              "      <td>Grumpier Old Men (1995)</td>\n",
              "      <td>Comedy|Romance</td>\n",
              "    </tr>\n",
              "    <tr>\n",
              "      <th>3</th>\n",
              "      <td>4</td>\n",
              "      <td>Waiting to Exhale (1995)</td>\n",
              "      <td>Comedy|Drama|Romance</td>\n",
              "    </tr>\n",
              "    <tr>\n",
              "      <th>4</th>\n",
              "      <td>5</td>\n",
              "      <td>Father of the Bride Part II (1995)</td>\n",
              "      <td>Comedy</td>\n",
              "    </tr>\n",
              "  </tbody>\n",
              "</table>\n",
              "</div>\n",
              "      <button class=\"colab-df-convert\" onclick=\"convertToInteractive('df-f613ebd0-d3f2-49f0-935a-e73bc9f2ebc0')\"\n",
              "              title=\"Convert this dataframe to an interactive table.\"\n",
              "              style=\"display:none;\">\n",
              "        \n",
              "  <svg xmlns=\"http://www.w3.org/2000/svg\" height=\"24px\"viewBox=\"0 0 24 24\"\n",
              "       width=\"24px\">\n",
              "    <path d=\"M0 0h24v24H0V0z\" fill=\"none\"/>\n",
              "    <path d=\"M18.56 5.44l.94 2.06.94-2.06 2.06-.94-2.06-.94-.94-2.06-.94 2.06-2.06.94zm-11 1L8.5 8.5l.94-2.06 2.06-.94-2.06-.94L8.5 2.5l-.94 2.06-2.06.94zm10 10l.94 2.06.94-2.06 2.06-.94-2.06-.94-.94-2.06-.94 2.06-2.06.94z\"/><path d=\"M17.41 7.96l-1.37-1.37c-.4-.4-.92-.59-1.43-.59-.52 0-1.04.2-1.43.59L10.3 9.45l-7.72 7.72c-.78.78-.78 2.05 0 2.83L4 21.41c.39.39.9.59 1.41.59.51 0 1.02-.2 1.41-.59l7.78-7.78 2.81-2.81c.8-.78.8-2.07 0-2.86zM5.41 20L4 18.59l7.72-7.72 1.47 1.35L5.41 20z\"/>\n",
              "  </svg>\n",
              "      </button>\n",
              "      \n",
              "  <style>\n",
              "    .colab-df-container {\n",
              "      display:flex;\n",
              "      flex-wrap:wrap;\n",
              "      gap: 12px;\n",
              "    }\n",
              "\n",
              "    .colab-df-convert {\n",
              "      background-color: #E8F0FE;\n",
              "      border: none;\n",
              "      border-radius: 50%;\n",
              "      cursor: pointer;\n",
              "      display: none;\n",
              "      fill: #1967D2;\n",
              "      height: 32px;\n",
              "      padding: 0 0 0 0;\n",
              "      width: 32px;\n",
              "    }\n",
              "\n",
              "    .colab-df-convert:hover {\n",
              "      background-color: #E2EBFA;\n",
              "      box-shadow: 0px 1px 2px rgba(60, 64, 67, 0.3), 0px 1px 3px 1px rgba(60, 64, 67, 0.15);\n",
              "      fill: #174EA6;\n",
              "    }\n",
              "\n",
              "    [theme=dark] .colab-df-convert {\n",
              "      background-color: #3B4455;\n",
              "      fill: #D2E3FC;\n",
              "    }\n",
              "\n",
              "    [theme=dark] .colab-df-convert:hover {\n",
              "      background-color: #434B5C;\n",
              "      box-shadow: 0px 1px 3px 1px rgba(0, 0, 0, 0.15);\n",
              "      filter: drop-shadow(0px 1px 2px rgba(0, 0, 0, 0.3));\n",
              "      fill: #FFFFFF;\n",
              "    }\n",
              "  </style>\n",
              "\n",
              "      <script>\n",
              "        const buttonEl =\n",
              "          document.querySelector('#df-f613ebd0-d3f2-49f0-935a-e73bc9f2ebc0 button.colab-df-convert');\n",
              "        buttonEl.style.display =\n",
              "          google.colab.kernel.accessAllowed ? 'block' : 'none';\n",
              "\n",
              "        async function convertToInteractive(key) {\n",
              "          const element = document.querySelector('#df-f613ebd0-d3f2-49f0-935a-e73bc9f2ebc0');\n",
              "          const dataTable =\n",
              "            await google.colab.kernel.invokeFunction('convertToInteractive',\n",
              "                                                     [key], {});\n",
              "          if (!dataTable) return;\n",
              "\n",
              "          const docLinkHtml = 'Like what you see? Visit the ' +\n",
              "            '<a target=\"_blank\" href=https://colab.research.google.com/notebooks/data_table.ipynb>data table notebook</a>'\n",
              "            + ' to learn more about interactive tables.';\n",
              "          element.innerHTML = '';\n",
              "          dataTable['output_type'] = 'display_data';\n",
              "          await google.colab.output.renderOutput(dataTable, element);\n",
              "          const docLink = document.createElement('div');\n",
              "          docLink.innerHTML = docLinkHtml;\n",
              "          element.appendChild(docLink);\n",
              "        }\n",
              "      </script>\n",
              "    </div>\n",
              "  </div>\n",
              "  "
            ]
          },
          "metadata": {},
          "execution_count": 24
        }
      ],
      "source": [
        "movies.head()"
      ]
    },
    {
      "cell_type": "code",
      "execution_count": null,
      "metadata": {
        "id": "QWP0aSywB7v3",
        "colab": {
          "base_uri": "https://localhost:8080/",
          "height": 118,
          "referenced_widgets": [
            "02d58895c0054a07a73b4824ce09fc30",
            "f47a1dcd5436426fb7c7f270c22968de",
            "eaafcbb460c44c96bda1288ee0591339",
            "9aea632fb55e49099b6b74552518e086",
            "1a4b4c376f7f407aaf8f8fa80090d111",
            "2b0e565ed0ad47d9a48c2b68180a65ce",
            "82bb2b0fa5b74a9ea813828ebf2950b8",
            "d37a3523681844cba07c670e0de8a63b",
            "c4774ead9ff846e6a525f216c8bf952b",
            "814eea2a5f364abab6759e306fdcf632",
            "e66eebe0fc3b47d9ab3b7a9fea9b9f89"
          ]
        },
        "outputId": "267cbc1f-f3a0-4580-e394-bf93848ba06e"
      },
      "outputs": [
        {
          "output_type": "stream",
          "name": "stderr",
          "text": [
            "<timed exec>:3: TqdmDeprecationWarning: This function will be removed in tqdm==5.0.0\n",
            "Please use `tqdm.notebook.tqdm` instead of `tqdm.tqdm_notebook`\n"
          ]
        },
        {
          "output_type": "display_data",
          "data": {
            "text/plain": [
              "0it [00:00, ?it/s]"
            ],
            "application/vnd.jupyter.widget-view+json": {
              "version_major": 2,
              "version_minor": 0,
              "model_id": "02d58895c0054a07a73b4824ce09fc30"
            }
          },
          "metadata": {}
        },
        {
          "output_type": "stream",
          "name": "stdout",
          "text": [
            "CPU times: user 627 ms, sys: 4.93 ms, total: 632 ms\n",
            "Wall time: 644 ms\n"
          ]
        }
      ],
      "source": [
        "%%time\n",
        "title_genres = {} # получаем словарь название - жанры\n",
        "\n",
        "for index, row in tqdm_notebook(movies.iterrows()):\n",
        "    title_genres[row.title] = row.genres"
      ]
    },
    {
      "cell_type": "code",
      "source": [
        "title_genres['Toy Story (1995)']"
      ],
      "metadata": {
        "id": "3_TbAeZIcP53",
        "outputId": "5d2d2912-4fd1-4c22-86a2-13db5c8cde88",
        "colab": {
          "base_uri": "https://localhost:8080/",
          "height": 36
        }
      },
      "execution_count": null,
      "outputs": [
        {
          "output_type": "execute_result",
          "data": {
            "text/plain": [
              "'Adventure|Animation|Children|Comedy|Fantasy'"
            ],
            "application/vnd.google.colaboratory.intrinsic+json": {
              "type": "string"
            }
          },
          "metadata": {},
          "execution_count": 30
        }
      ]
    },
    {
      "cell_type": "code",
      "source": [
        "%%time\n",
        "title_genres = movies_with_ratings[['title', 'genres']].drop_duplicates().set_index('title')['genres'].to_dict() # Так в 15 раз быстрее!"
      ],
      "metadata": {
        "id": "sPeQGljmb3Q7",
        "outputId": "60309d0a-7a94-4a1b-cea1-63b111875f24",
        "colab": {
          "base_uri": "https://localhost:8080/"
        }
      },
      "execution_count": null,
      "outputs": [
        {
          "output_type": "stream",
          "name": "stdout",
          "text": [
            "CPU times: user 43.1 ms, sys: 0 ns, total: 43.1 ms\n",
            "Wall time: 43.1 ms\n"
          ]
        }
      ]
    },
    {
      "cell_type": "code",
      "source": [
        "current_user_id = 5\n",
        "user_movies = movies_with_ratings[movies_with_ratings.userId == current_user_id].title.unique()"
      ],
      "metadata": {
        "id": "SiKe9DQ1KgU1"
      },
      "execution_count": null,
      "outputs": []
    },
    {
      "cell_type": "code",
      "source": [
        "LAST_N_MOVIES = 5\n",
        "\n",
        "genres = []\n",
        "for movie in user_movies[-LAST_N_MOVIES:]:\n",
        "    genres.append(title_genres[movie])"
      ],
      "metadata": {
        "id": "gQVXg3l1MT9H"
      },
      "execution_count": null,
      "outputs": []
    },
    {
      "cell_type": "code",
      "source": [
        "unique_genres = set()\n",
        "for genre in genres:\n",
        "    genres_i = genre.split('|')\n",
        "    for parsed_genre in genres_i:\n",
        "        unique_genres.add(parsed_genre)\n",
        "unique_genres = list(unique_genres)\n",
        "out_genre = \"\"\n",
        "for genre in sorted(unique_genres):\n",
        "    out_genre += \" \"\n",
        "    out_genre += genre\n",
        "out_genre = out_genre[1:]"
      ],
      "metadata": {
        "id": "UP2tUztGMi79"
      },
      "execution_count": null,
      "outputs": []
    },
    {
      "cell_type": "code",
      "source": [
        "out_genre"
      ],
      "metadata": {
        "colab": {
          "base_uri": "https://localhost:8080/",
          "height": 36
        },
        "id": "2IeImCXDNHfe",
        "outputId": "af0628d9-780b-4fe9-a511-4781ac1d7be5"
      },
      "execution_count": null,
      "outputs": [
        {
          "output_type": "execute_result",
          "data": {
            "text/plain": [
              "'Action Crime Drama Thriller'"
            ],
            "application/vnd.google.colaboratory.intrinsic+json": {
              "type": "string"
            }
          },
          "metadata": {},
          "execution_count": 53
        }
      ]
    },
    {
      "cell_type": "code",
      "source": [
        "title_genres[user_movies[-1]]"
      ],
      "metadata": {
        "colab": {
          "base_uri": "https://localhost:8080/",
          "height": 36
        },
        "id": "lDe-SHRsOIRw",
        "outputId": "9dec334c-4a66-4dd6-c689-cf4267c4ae20"
      },
      "execution_count": null,
      "outputs": [
        {
          "output_type": "execute_result",
          "data": {
            "text/plain": [
              "'Action|Thriller'"
            ],
            "application/vnd.google.colaboratory.intrinsic+json": {
              "type": "string"
            }
          },
          "metadata": {},
          "execution_count": 55
        }
      ]
    },
    {
      "cell_type": "code",
      "execution_count": null,
      "metadata": {
        "id": "XQNaHaSQB7v3"
      },
      "outputs": [],
      "source": [
        "def recommend_for_user(user_id):\n",
        "    current_user_id = user_id\n",
        "    # Получаем список фильмов, котрым этот пользователь ставил оценки\n",
        "    user_movies = movies_with_ratings[movies_with_ratings.userId == current_user_id].title.unique()\n",
        "    # ищем последний просмотренный фильм\n",
        "    last_user_movie = user_movies[-1]\n",
        "\n",
        "    # получаем жанры для того (последнего) фильма\n",
        "    movie_genres = title_genres[last_user_movie]\n",
        "    # парсим жанры\n",
        "    movie_genres = change_string(movie_genres)\n",
        "    # получаем предсказания kNN ( ближайшие соседи - фильмы у которых близок вектор по оценкам и жанрам)\n",
        "    predict = count_vect.transform([movie_genres])\n",
        "    X_tfidf2 = tfidf_transformer.transform(predict)\n",
        "\n",
        "    res = neigh.kneighbors(X_tfidf2, return_distance=True)\n",
        "\n",
        "    # записываем результат в переменную movies_to_score\n",
        "    movies_to_score = movies.iloc[res[1][0]].title.values\n",
        "\n",
        "    scores = []\n",
        "    titles = []\n",
        "\n",
        "    for movie in movies_to_score:\n",
        "        if movie in user_movies:\n",
        "            continue\n",
        "        # итерируемся по результату kNN и получаем оценки рейтинга с помощью svd\n",
        "        scores.append(algo.predict(uid=current_user_id, iid=movie).est)\n",
        "        titles.append(movie)\n",
        "\n",
        "\n",
        "    best_indexes = np.argsort(scores)[-10:]\n",
        "    for i in reversed(best_indexes):\n",
        "        print(titles[i], scores[i])"
      ]
    },
    {
      "cell_type": "code",
      "execution_count": null,
      "metadata": {
        "scrolled": true,
        "id": "X_VizS4JB7v3",
        "colab": {
          "base_uri": "https://localhost:8080/",
          "height": 1000
        },
        "outputId": "09c158a6-71c9-4542-de55-1663050935e9"
      },
      "outputs": [
        {
          "output_type": "execute_result",
          "data": {
            "text/plain": [
              "       movieId                                              title  \\\n",
              "97478   114060                                    The Drop (2014)   \n",
              "93998    91658            Girl with the Dragon Tattoo, The (2011)   \n",
              "8652       318                   Shawshank Redemption, The (1994)   \n",
              "96746   109487                                Interstellar (2014)   \n",
              "91063    77455                  Exit Through the Gift Shop (2010)   \n",
              "90135    71535                                  Zombieland (2009)   \n",
              "93833    91529                      Dark Knight Rises, The (2012)   \n",
              "95272    99114                            Django Unchained (2012)   \n",
              "97675   115713                                  Ex Machina (2015)   \n",
              "76960     8798                                  Collateral (2004)   \n",
              "55521     3578                                   Gladiator (2000)   \n",
              "92756    86345                       Louis C.K.: Hilarious (2010)   \n",
              "91373    79132                                   Inception (2010)   \n",
              "83525    48516                               Departed, The (2006)   \n",
              "97256   112552                                    Whiplash (2014)   \n",
              "82957    46970  Talladega Nights: The Ballad of Ricky Bobby (2...   \n",
              "9186       333                                   Tommy Boy (1995)   \n",
              "72623     6874                           Kill Bill: Vol. 1 (2003)   \n",
              "90699    74458                              Shutter Island (2010)   \n",
              "86885    58559                            Dark Knight, The (2008)   \n",
              "89054    68157                        Inglourious Basterds (2009)   \n",
              "34763     1704                           Good Will Hunting (1997)   \n",
              "91793    80489                                   Town, The (2010)   \n",
              "98721   131724  The Jinx: The Life and Deaths of Robert Durst ...   \n",
              "96387   106782                    Wolf of Wall Street, The (2013)   \n",
              "91890    80906                                  Inside Job (2010)   \n",
              "93512    89774                                     Warrior (2011)   \n",
              "98110   122882                          Mad Max: Fury Road (2015)   \n",
              "87792    60756                               Step Brothers (2008)   \n",
              "\n",
              "                                                genres  userId  rating  \\\n",
              "97478                             Crime|Drama|Thriller     2.0     2.0   \n",
              "93998                                   Drama|Thriller     2.0     2.5   \n",
              "8652                                       Crime|Drama     2.0     3.0   \n",
              "96746                                      Sci-Fi|IMAX     2.0     3.0   \n",
              "91063                               Comedy|Documentary     2.0     3.0   \n",
              "90135                             Action|Comedy|Horror     2.0     3.0   \n",
              "93833                      Action|Adventure|Crime|IMAX     2.0     3.5   \n",
              "95272                             Action|Drama|Western     2.0     3.5   \n",
              "97675                            Drama|Sci-Fi|Thriller     2.0     3.5   \n",
              "76960                      Action|Crime|Drama|Thriller     2.0     3.5   \n",
              "55521                           Action|Adventure|Drama     2.0     4.0   \n",
              "92756                                           Comedy     2.0     4.0   \n",
              "91373  Action|Crime|Drama|Mystery|Sci-Fi|Thriller|IMAX     2.0     4.0   \n",
              "83525                             Crime|Drama|Thriller     2.0     4.0   \n",
              "97256                                            Drama     2.0     4.0   \n",
              "82957                                    Action|Comedy     2.0     4.0   \n",
              "9186                                            Comedy     2.0     4.0   \n",
              "72623                            Action|Crime|Thriller     2.0     4.0   \n",
              "90699                           Drama|Mystery|Thriller     2.0     4.0   \n",
              "86885                          Action|Crime|Drama|IMAX     2.0     4.5   \n",
              "89054                                 Action|Drama|War     2.0     4.5   \n",
              "34763                                    Drama|Romance     2.0     4.5   \n",
              "91793                             Crime|Drama|Thriller     2.0     4.5   \n",
              "98721                                      Documentary     2.0     5.0   \n",
              "96387                               Comedy|Crime|Drama     2.0     5.0   \n",
              "91890                                      Documentary     2.0     5.0   \n",
              "93512                                            Drama     2.0     5.0   \n",
              "98110                 Action|Adventure|Sci-Fi|Thriller     2.0     5.0   \n",
              "87792                                           Comedy     2.0     5.0   \n",
              "\n",
              "          timestamp  \n",
              "97478  1.445715e+09  \n",
              "93998  1.445715e+09  \n",
              "8652   1.445715e+09  \n",
              "96746  1.445715e+09  \n",
              "91063  1.445715e+09  \n",
              "90135  1.445715e+09  \n",
              "93833  1.445715e+09  \n",
              "95272  1.445715e+09  \n",
              "97675  1.445715e+09  \n",
              "76960  1.445715e+09  \n",
              "55521  1.445715e+09  \n",
              "92756  1.445715e+09  \n",
              "91373  1.445715e+09  \n",
              "83525  1.445715e+09  \n",
              "97256  1.445715e+09  \n",
              "82957  1.445715e+09  \n",
              "9186   1.445715e+09  \n",
              "72623  1.445715e+09  \n",
              "90699  1.445715e+09  \n",
              "86885  1.445715e+09  \n",
              "89054  1.445715e+09  \n",
              "34763  1.445715e+09  \n",
              "91793  1.445715e+09  \n",
              "98721  1.445715e+09  \n",
              "96387  1.445715e+09  \n",
              "91890  1.445715e+09  \n",
              "93512  1.445715e+09  \n",
              "98110  1.445715e+09  \n",
              "87792  1.445715e+09  "
            ],
            "text/html": [
              "\n",
              "  <div id=\"df-7f0c2009-59f6-4832-944a-97c21f222ef8\">\n",
              "    <div class=\"colab-df-container\">\n",
              "      <div>\n",
              "<style scoped>\n",
              "    .dataframe tbody tr th:only-of-type {\n",
              "        vertical-align: middle;\n",
              "    }\n",
              "\n",
              "    .dataframe tbody tr th {\n",
              "        vertical-align: top;\n",
              "    }\n",
              "\n",
              "    .dataframe thead th {\n",
              "        text-align: right;\n",
              "    }\n",
              "</style>\n",
              "<table border=\"1\" class=\"dataframe\">\n",
              "  <thead>\n",
              "    <tr style=\"text-align: right;\">\n",
              "      <th></th>\n",
              "      <th>movieId</th>\n",
              "      <th>title</th>\n",
              "      <th>genres</th>\n",
              "      <th>userId</th>\n",
              "      <th>rating</th>\n",
              "      <th>timestamp</th>\n",
              "    </tr>\n",
              "  </thead>\n",
              "  <tbody>\n",
              "    <tr>\n",
              "      <th>97478</th>\n",
              "      <td>114060</td>\n",
              "      <td>The Drop (2014)</td>\n",
              "      <td>Crime|Drama|Thriller</td>\n",
              "      <td>2.0</td>\n",
              "      <td>2.0</td>\n",
              "      <td>1.445715e+09</td>\n",
              "    </tr>\n",
              "    <tr>\n",
              "      <th>93998</th>\n",
              "      <td>91658</td>\n",
              "      <td>Girl with the Dragon Tattoo, The (2011)</td>\n",
              "      <td>Drama|Thriller</td>\n",
              "      <td>2.0</td>\n",
              "      <td>2.5</td>\n",
              "      <td>1.445715e+09</td>\n",
              "    </tr>\n",
              "    <tr>\n",
              "      <th>8652</th>\n",
              "      <td>318</td>\n",
              "      <td>Shawshank Redemption, The (1994)</td>\n",
              "      <td>Crime|Drama</td>\n",
              "      <td>2.0</td>\n",
              "      <td>3.0</td>\n",
              "      <td>1.445715e+09</td>\n",
              "    </tr>\n",
              "    <tr>\n",
              "      <th>96746</th>\n",
              "      <td>109487</td>\n",
              "      <td>Interstellar (2014)</td>\n",
              "      <td>Sci-Fi|IMAX</td>\n",
              "      <td>2.0</td>\n",
              "      <td>3.0</td>\n",
              "      <td>1.445715e+09</td>\n",
              "    </tr>\n",
              "    <tr>\n",
              "      <th>91063</th>\n",
              "      <td>77455</td>\n",
              "      <td>Exit Through the Gift Shop (2010)</td>\n",
              "      <td>Comedy|Documentary</td>\n",
              "      <td>2.0</td>\n",
              "      <td>3.0</td>\n",
              "      <td>1.445715e+09</td>\n",
              "    </tr>\n",
              "    <tr>\n",
              "      <th>90135</th>\n",
              "      <td>71535</td>\n",
              "      <td>Zombieland (2009)</td>\n",
              "      <td>Action|Comedy|Horror</td>\n",
              "      <td>2.0</td>\n",
              "      <td>3.0</td>\n",
              "      <td>1.445715e+09</td>\n",
              "    </tr>\n",
              "    <tr>\n",
              "      <th>93833</th>\n",
              "      <td>91529</td>\n",
              "      <td>Dark Knight Rises, The (2012)</td>\n",
              "      <td>Action|Adventure|Crime|IMAX</td>\n",
              "      <td>2.0</td>\n",
              "      <td>3.5</td>\n",
              "      <td>1.445715e+09</td>\n",
              "    </tr>\n",
              "    <tr>\n",
              "      <th>95272</th>\n",
              "      <td>99114</td>\n",
              "      <td>Django Unchained (2012)</td>\n",
              "      <td>Action|Drama|Western</td>\n",
              "      <td>2.0</td>\n",
              "      <td>3.5</td>\n",
              "      <td>1.445715e+09</td>\n",
              "    </tr>\n",
              "    <tr>\n",
              "      <th>97675</th>\n",
              "      <td>115713</td>\n",
              "      <td>Ex Machina (2015)</td>\n",
              "      <td>Drama|Sci-Fi|Thriller</td>\n",
              "      <td>2.0</td>\n",
              "      <td>3.5</td>\n",
              "      <td>1.445715e+09</td>\n",
              "    </tr>\n",
              "    <tr>\n",
              "      <th>76960</th>\n",
              "      <td>8798</td>\n",
              "      <td>Collateral (2004)</td>\n",
              "      <td>Action|Crime|Drama|Thriller</td>\n",
              "      <td>2.0</td>\n",
              "      <td>3.5</td>\n",
              "      <td>1.445715e+09</td>\n",
              "    </tr>\n",
              "    <tr>\n",
              "      <th>55521</th>\n",
              "      <td>3578</td>\n",
              "      <td>Gladiator (2000)</td>\n",
              "      <td>Action|Adventure|Drama</td>\n",
              "      <td>2.0</td>\n",
              "      <td>4.0</td>\n",
              "      <td>1.445715e+09</td>\n",
              "    </tr>\n",
              "    <tr>\n",
              "      <th>92756</th>\n",
              "      <td>86345</td>\n",
              "      <td>Louis C.K.: Hilarious (2010)</td>\n",
              "      <td>Comedy</td>\n",
              "      <td>2.0</td>\n",
              "      <td>4.0</td>\n",
              "      <td>1.445715e+09</td>\n",
              "    </tr>\n",
              "    <tr>\n",
              "      <th>91373</th>\n",
              "      <td>79132</td>\n",
              "      <td>Inception (2010)</td>\n",
              "      <td>Action|Crime|Drama|Mystery|Sci-Fi|Thriller|IMAX</td>\n",
              "      <td>2.0</td>\n",
              "      <td>4.0</td>\n",
              "      <td>1.445715e+09</td>\n",
              "    </tr>\n",
              "    <tr>\n",
              "      <th>83525</th>\n",
              "      <td>48516</td>\n",
              "      <td>Departed, The (2006)</td>\n",
              "      <td>Crime|Drama|Thriller</td>\n",
              "      <td>2.0</td>\n",
              "      <td>4.0</td>\n",
              "      <td>1.445715e+09</td>\n",
              "    </tr>\n",
              "    <tr>\n",
              "      <th>97256</th>\n",
              "      <td>112552</td>\n",
              "      <td>Whiplash (2014)</td>\n",
              "      <td>Drama</td>\n",
              "      <td>2.0</td>\n",
              "      <td>4.0</td>\n",
              "      <td>1.445715e+09</td>\n",
              "    </tr>\n",
              "    <tr>\n",
              "      <th>82957</th>\n",
              "      <td>46970</td>\n",
              "      <td>Talladega Nights: The Ballad of Ricky Bobby (2...</td>\n",
              "      <td>Action|Comedy</td>\n",
              "      <td>2.0</td>\n",
              "      <td>4.0</td>\n",
              "      <td>1.445715e+09</td>\n",
              "    </tr>\n",
              "    <tr>\n",
              "      <th>9186</th>\n",
              "      <td>333</td>\n",
              "      <td>Tommy Boy (1995)</td>\n",
              "      <td>Comedy</td>\n",
              "      <td>2.0</td>\n",
              "      <td>4.0</td>\n",
              "      <td>1.445715e+09</td>\n",
              "    </tr>\n",
              "    <tr>\n",
              "      <th>72623</th>\n",
              "      <td>6874</td>\n",
              "      <td>Kill Bill: Vol. 1 (2003)</td>\n",
              "      <td>Action|Crime|Thriller</td>\n",
              "      <td>2.0</td>\n",
              "      <td>4.0</td>\n",
              "      <td>1.445715e+09</td>\n",
              "    </tr>\n",
              "    <tr>\n",
              "      <th>90699</th>\n",
              "      <td>74458</td>\n",
              "      <td>Shutter Island (2010)</td>\n",
              "      <td>Drama|Mystery|Thriller</td>\n",
              "      <td>2.0</td>\n",
              "      <td>4.0</td>\n",
              "      <td>1.445715e+09</td>\n",
              "    </tr>\n",
              "    <tr>\n",
              "      <th>86885</th>\n",
              "      <td>58559</td>\n",
              "      <td>Dark Knight, The (2008)</td>\n",
              "      <td>Action|Crime|Drama|IMAX</td>\n",
              "      <td>2.0</td>\n",
              "      <td>4.5</td>\n",
              "      <td>1.445715e+09</td>\n",
              "    </tr>\n",
              "    <tr>\n",
              "      <th>89054</th>\n",
              "      <td>68157</td>\n",
              "      <td>Inglourious Basterds (2009)</td>\n",
              "      <td>Action|Drama|War</td>\n",
              "      <td>2.0</td>\n",
              "      <td>4.5</td>\n",
              "      <td>1.445715e+09</td>\n",
              "    </tr>\n",
              "    <tr>\n",
              "      <th>34763</th>\n",
              "      <td>1704</td>\n",
              "      <td>Good Will Hunting (1997)</td>\n",
              "      <td>Drama|Romance</td>\n",
              "      <td>2.0</td>\n",
              "      <td>4.5</td>\n",
              "      <td>1.445715e+09</td>\n",
              "    </tr>\n",
              "    <tr>\n",
              "      <th>91793</th>\n",
              "      <td>80489</td>\n",
              "      <td>Town, The (2010)</td>\n",
              "      <td>Crime|Drama|Thriller</td>\n",
              "      <td>2.0</td>\n",
              "      <td>4.5</td>\n",
              "      <td>1.445715e+09</td>\n",
              "    </tr>\n",
              "    <tr>\n",
              "      <th>98721</th>\n",
              "      <td>131724</td>\n",
              "      <td>The Jinx: The Life and Deaths of Robert Durst ...</td>\n",
              "      <td>Documentary</td>\n",
              "      <td>2.0</td>\n",
              "      <td>5.0</td>\n",
              "      <td>1.445715e+09</td>\n",
              "    </tr>\n",
              "    <tr>\n",
              "      <th>96387</th>\n",
              "      <td>106782</td>\n",
              "      <td>Wolf of Wall Street, The (2013)</td>\n",
              "      <td>Comedy|Crime|Drama</td>\n",
              "      <td>2.0</td>\n",
              "      <td>5.0</td>\n",
              "      <td>1.445715e+09</td>\n",
              "    </tr>\n",
              "    <tr>\n",
              "      <th>91890</th>\n",
              "      <td>80906</td>\n",
              "      <td>Inside Job (2010)</td>\n",
              "      <td>Documentary</td>\n",
              "      <td>2.0</td>\n",
              "      <td>5.0</td>\n",
              "      <td>1.445715e+09</td>\n",
              "    </tr>\n",
              "    <tr>\n",
              "      <th>93512</th>\n",
              "      <td>89774</td>\n",
              "      <td>Warrior (2011)</td>\n",
              "      <td>Drama</td>\n",
              "      <td>2.0</td>\n",
              "      <td>5.0</td>\n",
              "      <td>1.445715e+09</td>\n",
              "    </tr>\n",
              "    <tr>\n",
              "      <th>98110</th>\n",
              "      <td>122882</td>\n",
              "      <td>Mad Max: Fury Road (2015)</td>\n",
              "      <td>Action|Adventure|Sci-Fi|Thriller</td>\n",
              "      <td>2.0</td>\n",
              "      <td>5.0</td>\n",
              "      <td>1.445715e+09</td>\n",
              "    </tr>\n",
              "    <tr>\n",
              "      <th>87792</th>\n",
              "      <td>60756</td>\n",
              "      <td>Step Brothers (2008)</td>\n",
              "      <td>Comedy</td>\n",
              "      <td>2.0</td>\n",
              "      <td>5.0</td>\n",
              "      <td>1.445715e+09</td>\n",
              "    </tr>\n",
              "  </tbody>\n",
              "</table>\n",
              "</div>\n",
              "      <button class=\"colab-df-convert\" onclick=\"convertToInteractive('df-7f0c2009-59f6-4832-944a-97c21f222ef8')\"\n",
              "              title=\"Convert this dataframe to an interactive table.\"\n",
              "              style=\"display:none;\">\n",
              "        \n",
              "  <svg xmlns=\"http://www.w3.org/2000/svg\" height=\"24px\"viewBox=\"0 0 24 24\"\n",
              "       width=\"24px\">\n",
              "    <path d=\"M0 0h24v24H0V0z\" fill=\"none\"/>\n",
              "    <path d=\"M18.56 5.44l.94 2.06.94-2.06 2.06-.94-2.06-.94-.94-2.06-.94 2.06-2.06.94zm-11 1L8.5 8.5l.94-2.06 2.06-.94-2.06-.94L8.5 2.5l-.94 2.06-2.06.94zm10 10l.94 2.06.94-2.06 2.06-.94-2.06-.94-.94-2.06-.94 2.06-2.06.94z\"/><path d=\"M17.41 7.96l-1.37-1.37c-.4-.4-.92-.59-1.43-.59-.52 0-1.04.2-1.43.59L10.3 9.45l-7.72 7.72c-.78.78-.78 2.05 0 2.83L4 21.41c.39.39.9.59 1.41.59.51 0 1.02-.2 1.41-.59l7.78-7.78 2.81-2.81c.8-.78.8-2.07 0-2.86zM5.41 20L4 18.59l7.72-7.72 1.47 1.35L5.41 20z\"/>\n",
              "  </svg>\n",
              "      </button>\n",
              "      \n",
              "  <style>\n",
              "    .colab-df-container {\n",
              "      display:flex;\n",
              "      flex-wrap:wrap;\n",
              "      gap: 12px;\n",
              "    }\n",
              "\n",
              "    .colab-df-convert {\n",
              "      background-color: #E8F0FE;\n",
              "      border: none;\n",
              "      border-radius: 50%;\n",
              "      cursor: pointer;\n",
              "      display: none;\n",
              "      fill: #1967D2;\n",
              "      height: 32px;\n",
              "      padding: 0 0 0 0;\n",
              "      width: 32px;\n",
              "    }\n",
              "\n",
              "    .colab-df-convert:hover {\n",
              "      background-color: #E2EBFA;\n",
              "      box-shadow: 0px 1px 2px rgba(60, 64, 67, 0.3), 0px 1px 3px 1px rgba(60, 64, 67, 0.15);\n",
              "      fill: #174EA6;\n",
              "    }\n",
              "\n",
              "    [theme=dark] .colab-df-convert {\n",
              "      background-color: #3B4455;\n",
              "      fill: #D2E3FC;\n",
              "    }\n",
              "\n",
              "    [theme=dark] .colab-df-convert:hover {\n",
              "      background-color: #434B5C;\n",
              "      box-shadow: 0px 1px 3px 1px rgba(0, 0, 0, 0.15);\n",
              "      filter: drop-shadow(0px 1px 2px rgba(0, 0, 0, 0.3));\n",
              "      fill: #FFFFFF;\n",
              "    }\n",
              "  </style>\n",
              "\n",
              "      <script>\n",
              "        const buttonEl =\n",
              "          document.querySelector('#df-7f0c2009-59f6-4832-944a-97c21f222ef8 button.colab-df-convert');\n",
              "        buttonEl.style.display =\n",
              "          google.colab.kernel.accessAllowed ? 'block' : 'none';\n",
              "\n",
              "        async function convertToInteractive(key) {\n",
              "          const element = document.querySelector('#df-7f0c2009-59f6-4832-944a-97c21f222ef8');\n",
              "          const dataTable =\n",
              "            await google.colab.kernel.invokeFunction('convertToInteractive',\n",
              "                                                     [key], {});\n",
              "          if (!dataTable) return;\n",
              "\n",
              "          const docLinkHtml = 'Like what you see? Visit the ' +\n",
              "            '<a target=\"_blank\" href=https://colab.research.google.com/notebooks/data_table.ipynb>data table notebook</a>'\n",
              "            + ' to learn more about interactive tables.';\n",
              "          element.innerHTML = '';\n",
              "          dataTable['output_type'] = 'display_data';\n",
              "          await google.colab.output.renderOutput(dataTable, element);\n",
              "          const docLink = document.createElement('div');\n",
              "          docLink.innerHTML = docLinkHtml;\n",
              "          element.appendChild(docLink);\n",
              "        }\n",
              "      </script>\n",
              "    </div>\n",
              "  </div>\n",
              "  "
            ]
          },
          "metadata": {},
          "execution_count": 29
        }
      ],
      "source": [
        "movies_with_ratings[movies_with_ratings.userId == 2.0].sort_values('rating')"
      ]
    },
    {
      "cell_type": "code",
      "execution_count": null,
      "metadata": {
        "id": "G50-IGGTB7v3",
        "colab": {
          "base_uri": "https://localhost:8080/"
        },
        "outputId": "dd08cd54-c400-4620-ece5-911e61f8dd4e"
      },
      "outputs": [
        {
          "output_type": "stream",
          "name": "stdout",
          "text": [
            "Taxi Driver (1976) 4.002098345418905\n",
            "Simple Plan, A (1998) 3.967268045593234\n",
            "Few Good Men, A (1992) 3.9523380093777236\n",
            "Limey, The (1999) 3.8968704173876856\n",
            "Shadow of a Doubt (1943) 3.8170214948180767\n",
            "Killing Zoe (1994) 3.7957155906921694\n",
            "Cape Fear (1962) 3.7836821663878273\n",
            "Rope (1948) 3.757474011584865\n",
            "Jackie Brown (1997) 3.705843602548442\n",
            "Lodger: A Story of the London Fog, The (1927) 3.6122183327072506\n"
          ]
        }
      ],
      "source": [
        "recommend_for_user(2.0)"
      ]
    },
    {
      "cell_type": "code",
      "execution_count": null,
      "metadata": {
        "id": "1klPw7GTB7v4"
      },
      "outputs": [],
      "source": []
    },
    {
      "cell_type": "code",
      "execution_count": null,
      "metadata": {
        "id": "TvHA4V24B7v4"
      },
      "outputs": [],
      "source": []
    }
  ],
  "metadata": {
    "kernelspec": {
      "display_name": "Python 3",
      "language": "python",
      "name": "python3"
    },
    "language_info": {
      "codemirror_mode": {
        "name": "ipython",
        "version": 3
      },
      "file_extension": ".py",
      "mimetype": "text/x-python",
      "name": "python",
      "nbconvert_exporter": "python",
      "pygments_lexer": "ipython3",
      "version": "3.6.4"
    },
    "colab": {
      "provenance": [],
      "include_colab_link": true
    },
    "widgets": {
      "application/vnd.jupyter.widget-state+json": {
        "02d58895c0054a07a73b4824ce09fc30": {
          "model_module": "@jupyter-widgets/controls",
          "model_name": "HBoxModel",
          "model_module_version": "1.5.0",
          "state": {
            "_dom_classes": [],
            "_model_module": "@jupyter-widgets/controls",
            "_model_module_version": "1.5.0",
            "_model_name": "HBoxModel",
            "_view_count": null,
            "_view_module": "@jupyter-widgets/controls",
            "_view_module_version": "1.5.0",
            "_view_name": "HBoxView",
            "box_style": "",
            "children": [
              "IPY_MODEL_f47a1dcd5436426fb7c7f270c22968de",
              "IPY_MODEL_eaafcbb460c44c96bda1288ee0591339",
              "IPY_MODEL_9aea632fb55e49099b6b74552518e086"
            ],
            "layout": "IPY_MODEL_1a4b4c376f7f407aaf8f8fa80090d111"
          }
        },
        "f47a1dcd5436426fb7c7f270c22968de": {
          "model_module": "@jupyter-widgets/controls",
          "model_name": "HTMLModel",
          "model_module_version": "1.5.0",
          "state": {
            "_dom_classes": [],
            "_model_module": "@jupyter-widgets/controls",
            "_model_module_version": "1.5.0",
            "_model_name": "HTMLModel",
            "_view_count": null,
            "_view_module": "@jupyter-widgets/controls",
            "_view_module_version": "1.5.0",
            "_view_name": "HTMLView",
            "description": "",
            "description_tooltip": null,
            "layout": "IPY_MODEL_2b0e565ed0ad47d9a48c2b68180a65ce",
            "placeholder": "​",
            "style": "IPY_MODEL_82bb2b0fa5b74a9ea813828ebf2950b8",
            "value": ""
          }
        },
        "eaafcbb460c44c96bda1288ee0591339": {
          "model_module": "@jupyter-widgets/controls",
          "model_name": "FloatProgressModel",
          "model_module_version": "1.5.0",
          "state": {
            "_dom_classes": [],
            "_model_module": "@jupyter-widgets/controls",
            "_model_module_version": "1.5.0",
            "_model_name": "FloatProgressModel",
            "_view_count": null,
            "_view_module": "@jupyter-widgets/controls",
            "_view_module_version": "1.5.0",
            "_view_name": "ProgressView",
            "bar_style": "success",
            "description": "",
            "description_tooltip": null,
            "layout": "IPY_MODEL_d37a3523681844cba07c670e0de8a63b",
            "max": 1,
            "min": 0,
            "orientation": "horizontal",
            "style": "IPY_MODEL_c4774ead9ff846e6a525f216c8bf952b",
            "value": 1
          }
        },
        "9aea632fb55e49099b6b74552518e086": {
          "model_module": "@jupyter-widgets/controls",
          "model_name": "HTMLModel",
          "model_module_version": "1.5.0",
          "state": {
            "_dom_classes": [],
            "_model_module": "@jupyter-widgets/controls",
            "_model_module_version": "1.5.0",
            "_model_name": "HTMLModel",
            "_view_count": null,
            "_view_module": "@jupyter-widgets/controls",
            "_view_module_version": "1.5.0",
            "_view_name": "HTMLView",
            "description": "",
            "description_tooltip": null,
            "layout": "IPY_MODEL_814eea2a5f364abab6759e306fdcf632",
            "placeholder": "​",
            "style": "IPY_MODEL_e66eebe0fc3b47d9ab3b7a9fea9b9f89",
            "value": " 9742/? [00:00&lt;00:00, 16099.07it/s]"
          }
        },
        "1a4b4c376f7f407aaf8f8fa80090d111": {
          "model_module": "@jupyter-widgets/base",
          "model_name": "LayoutModel",
          "model_module_version": "1.2.0",
          "state": {
            "_model_module": "@jupyter-widgets/base",
            "_model_module_version": "1.2.0",
            "_model_name": "LayoutModel",
            "_view_count": null,
            "_view_module": "@jupyter-widgets/base",
            "_view_module_version": "1.2.0",
            "_view_name": "LayoutView",
            "align_content": null,
            "align_items": null,
            "align_self": null,
            "border": null,
            "bottom": null,
            "display": null,
            "flex": null,
            "flex_flow": null,
            "grid_area": null,
            "grid_auto_columns": null,
            "grid_auto_flow": null,
            "grid_auto_rows": null,
            "grid_column": null,
            "grid_gap": null,
            "grid_row": null,
            "grid_template_areas": null,
            "grid_template_columns": null,
            "grid_template_rows": null,
            "height": null,
            "justify_content": null,
            "justify_items": null,
            "left": null,
            "margin": null,
            "max_height": null,
            "max_width": null,
            "min_height": null,
            "min_width": null,
            "object_fit": null,
            "object_position": null,
            "order": null,
            "overflow": null,
            "overflow_x": null,
            "overflow_y": null,
            "padding": null,
            "right": null,
            "top": null,
            "visibility": null,
            "width": null
          }
        },
        "2b0e565ed0ad47d9a48c2b68180a65ce": {
          "model_module": "@jupyter-widgets/base",
          "model_name": "LayoutModel",
          "model_module_version": "1.2.0",
          "state": {
            "_model_module": "@jupyter-widgets/base",
            "_model_module_version": "1.2.0",
            "_model_name": "LayoutModel",
            "_view_count": null,
            "_view_module": "@jupyter-widgets/base",
            "_view_module_version": "1.2.0",
            "_view_name": "LayoutView",
            "align_content": null,
            "align_items": null,
            "align_self": null,
            "border": null,
            "bottom": null,
            "display": null,
            "flex": null,
            "flex_flow": null,
            "grid_area": null,
            "grid_auto_columns": null,
            "grid_auto_flow": null,
            "grid_auto_rows": null,
            "grid_column": null,
            "grid_gap": null,
            "grid_row": null,
            "grid_template_areas": null,
            "grid_template_columns": null,
            "grid_template_rows": null,
            "height": null,
            "justify_content": null,
            "justify_items": null,
            "left": null,
            "margin": null,
            "max_height": null,
            "max_width": null,
            "min_height": null,
            "min_width": null,
            "object_fit": null,
            "object_position": null,
            "order": null,
            "overflow": null,
            "overflow_x": null,
            "overflow_y": null,
            "padding": null,
            "right": null,
            "top": null,
            "visibility": null,
            "width": null
          }
        },
        "82bb2b0fa5b74a9ea813828ebf2950b8": {
          "model_module": "@jupyter-widgets/controls",
          "model_name": "DescriptionStyleModel",
          "model_module_version": "1.5.0",
          "state": {
            "_model_module": "@jupyter-widgets/controls",
            "_model_module_version": "1.5.0",
            "_model_name": "DescriptionStyleModel",
            "_view_count": null,
            "_view_module": "@jupyter-widgets/base",
            "_view_module_version": "1.2.0",
            "_view_name": "StyleView",
            "description_width": ""
          }
        },
        "d37a3523681844cba07c670e0de8a63b": {
          "model_module": "@jupyter-widgets/base",
          "model_name": "LayoutModel",
          "model_module_version": "1.2.0",
          "state": {
            "_model_module": "@jupyter-widgets/base",
            "_model_module_version": "1.2.0",
            "_model_name": "LayoutModel",
            "_view_count": null,
            "_view_module": "@jupyter-widgets/base",
            "_view_module_version": "1.2.0",
            "_view_name": "LayoutView",
            "align_content": null,
            "align_items": null,
            "align_self": null,
            "border": null,
            "bottom": null,
            "display": null,
            "flex": null,
            "flex_flow": null,
            "grid_area": null,
            "grid_auto_columns": null,
            "grid_auto_flow": null,
            "grid_auto_rows": null,
            "grid_column": null,
            "grid_gap": null,
            "grid_row": null,
            "grid_template_areas": null,
            "grid_template_columns": null,
            "grid_template_rows": null,
            "height": null,
            "justify_content": null,
            "justify_items": null,
            "left": null,
            "margin": null,
            "max_height": null,
            "max_width": null,
            "min_height": null,
            "min_width": null,
            "object_fit": null,
            "object_position": null,
            "order": null,
            "overflow": null,
            "overflow_x": null,
            "overflow_y": null,
            "padding": null,
            "right": null,
            "top": null,
            "visibility": null,
            "width": "20px"
          }
        },
        "c4774ead9ff846e6a525f216c8bf952b": {
          "model_module": "@jupyter-widgets/controls",
          "model_name": "ProgressStyleModel",
          "model_module_version": "1.5.0",
          "state": {
            "_model_module": "@jupyter-widgets/controls",
            "_model_module_version": "1.5.0",
            "_model_name": "ProgressStyleModel",
            "_view_count": null,
            "_view_module": "@jupyter-widgets/base",
            "_view_module_version": "1.2.0",
            "_view_name": "StyleView",
            "bar_color": null,
            "description_width": ""
          }
        },
        "814eea2a5f364abab6759e306fdcf632": {
          "model_module": "@jupyter-widgets/base",
          "model_name": "LayoutModel",
          "model_module_version": "1.2.0",
          "state": {
            "_model_module": "@jupyter-widgets/base",
            "_model_module_version": "1.2.0",
            "_model_name": "LayoutModel",
            "_view_count": null,
            "_view_module": "@jupyter-widgets/base",
            "_view_module_version": "1.2.0",
            "_view_name": "LayoutView",
            "align_content": null,
            "align_items": null,
            "align_self": null,
            "border": null,
            "bottom": null,
            "display": null,
            "flex": null,
            "flex_flow": null,
            "grid_area": null,
            "grid_auto_columns": null,
            "grid_auto_flow": null,
            "grid_auto_rows": null,
            "grid_column": null,
            "grid_gap": null,
            "grid_row": null,
            "grid_template_areas": null,
            "grid_template_columns": null,
            "grid_template_rows": null,
            "height": null,
            "justify_content": null,
            "justify_items": null,
            "left": null,
            "margin": null,
            "max_height": null,
            "max_width": null,
            "min_height": null,
            "min_width": null,
            "object_fit": null,
            "object_position": null,
            "order": null,
            "overflow": null,
            "overflow_x": null,
            "overflow_y": null,
            "padding": null,
            "right": null,
            "top": null,
            "visibility": null,
            "width": null
          }
        },
        "e66eebe0fc3b47d9ab3b7a9fea9b9f89": {
          "model_module": "@jupyter-widgets/controls",
          "model_name": "DescriptionStyleModel",
          "model_module_version": "1.5.0",
          "state": {
            "_model_module": "@jupyter-widgets/controls",
            "_model_module_version": "1.5.0",
            "_model_name": "DescriptionStyleModel",
            "_view_count": null,
            "_view_module": "@jupyter-widgets/base",
            "_view_module_version": "1.2.0",
            "_view_name": "StyleView",
            "description_width": ""
          }
        }
      }
    }
  },
  "nbformat": 4,
  "nbformat_minor": 0
}
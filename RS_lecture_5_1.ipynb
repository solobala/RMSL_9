{
  "cells": [
    {
      "cell_type": "markdown",
      "metadata": {
        "id": "view-in-github",
        "colab_type": "text"
      },
      "source": [
        "<a href=\"https://colab.research.google.com/github/solobala/RMSL_9/blob/main/RS_lecture_5_1.ipynb\" target=\"_parent\"><img src=\"https://colab.research.google.com/assets/colab-badge.svg\" alt=\"Open In Colab\"/></a>"
      ]
    },
    {
      "cell_type": "code",
      "source": [
        "!pip install surprise"
      ],
      "metadata": {
        "id": "PabTM2LTCDlB"
      },
      "execution_count": null,
      "outputs": []
    },
    {
      "cell_type": "code",
      "execution_count": null,
      "metadata": {
        "id": "DMvs1oe-B7vs"
      },
      "outputs": [],
      "source": [
        "from surprise import SVD, SVDpp\n",
        "from surprise import Dataset\n",
        "from surprise import accuracy\n",
        "from surprise import Reader\n",
        "from surprise.model_selection import train_test_split\n",
        "\n",
        "import matplotlib.pyplot as plt\n",
        "\n",
        "from tqdm import tqdm_notebook\n",
        "\n",
        "from sklearn.feature_extraction.text import TfidfTransformer, CountVectorizer\n",
        "from sklearn.neighbors import NearestNeighbors\n",
        "\n",
        "import pandas as pd\n",
        "import numpy as np"
      ]
    },
    {
      "cell_type": "code",
      "source": [
        "!wget https://github.com/ALKONDR/netology-recsys/archive/refs/heads/master.zip\n",
        "!unzip master.zip"
      ],
      "metadata": {
        "id": "EbXwflzJCFXD"
      },
      "execution_count": null,
      "outputs": []
    },
    {
      "cell_type": "code",
      "execution_count": null,
      "metadata": {
        "id": "HdCfwOGuB7vu"
      },
      "outputs": [],
      "source": [
        "links = pd.read_csv('netology-recsys-master/lecture-1/links.csv')\n",
        "movies = pd.read_csv('netology-recsys-master/lecture-1/movies.csv')\n",
        "ratings = pd.read_csv('netology-recsys-master/lecture-1/ratings.csv')\n",
        "tags = pd.read_csv('netology-recsys-master/lecture-1/tags.csv')"
      ]
    },
    {
      "cell_type": "code",
      "execution_count": null,
      "metadata": {
        "id": "Jjm_-Ot4B7vv"
      },
      "outputs": [],
      "source": [
        "movies_with_ratings = movies.join(ratings.set_index('movieId'), on='movieId').reset_index(drop=True)\n",
        "movies_with_ratings.dropna(inplace=True)"
      ]
    },
    {
      "cell_type": "code",
      "execution_count": null,
      "metadata": {
        "id": "ihrGHhn0B7vv"
      },
      "outputs": [],
      "source": [
        "movies_with_ratings.head()"
      ]
    },
    {
      "cell_type": "code",
      "execution_count": null,
      "metadata": {
        "id": "5rMkyixeB7vw"
      },
      "outputs": [],
      "source": [
        "dataset = pd.DataFrame({\n",
        "    'uid': movies_with_ratings.userId,\n",
        "    'iid': movies_with_ratings.title,\n",
        "    'rating': movies_with_ratings.rating\n",
        "})"
      ]
    },
    {
      "cell_type": "code",
      "execution_count": null,
      "metadata": {
        "id": "HoyF0JAkB7vx"
      },
      "outputs": [],
      "source": [
        "reader = Reader(rating_scale=(0.5, 5.0))\n",
        "data = Dataset.load_from_df(dataset, reader)"
      ]
    },
    {
      "cell_type": "code",
      "execution_count": null,
      "metadata": {
        "id": "tLGYF_9dB7vx"
      },
      "outputs": [],
      "source": [
        "trainset, testset = train_test_split(data, test_size=.15, random_state=42)"
      ]
    },
    {
      "cell_type": "code",
      "execution_count": null,
      "metadata": {
        "id": "IwnsAwmNB7vx"
      },
      "outputs": [],
      "source": [
        "%%time\n",
        "algo = SVD(n_factors=20, n_epochs=20)\n",
        "algo.fit(trainset)"
      ]
    },
    {
      "cell_type": "code",
      "execution_count": null,
      "metadata": {
        "id": "VSd2paMgB7vy"
      },
      "outputs": [],
      "source": [
        "test_pred = algo.test(testset)"
      ]
    },
    {
      "cell_type": "code",
      "execution_count": null,
      "metadata": {
        "id": "O84skFnSB7vz"
      },
      "outputs": [],
      "source": [
        "accuracy.rmse(test_pred, verbose=True)"
      ]
    },
    {
      "cell_type": "code",
      "execution_count": null,
      "metadata": {
        "id": "w-gzJnndB7vz"
      },
      "outputs": [],
      "source": [
        "algo.predict(uid=2.0, iid='Mortal Kombat (1995)').est"
      ]
    },
    {
      "cell_type": "code",
      "execution_count": null,
      "metadata": {
        "id": "x4KmIZl9B7v0"
      },
      "outputs": [],
      "source": [
        "current_user_id = 2.0\n",
        "user_movies = movies_with_ratings[movies_with_ratings.userId == current_user_id].title.unique()\n",
        "\n",
        "scores = []\n",
        "titles = []\n",
        "\n",
        "for movie in movies_with_ratings.title.unique():\n",
        "    if movie in user_movies:\n",
        "        continue\n",
        "\n",
        "    scores.append(algo.predict(uid=current_user_id, iid=movie).est)\n",
        "    titles.append(movie)"
      ]
    },
    {
      "cell_type": "code",
      "execution_count": null,
      "metadata": {
        "id": "Yh-sif1xB7v0"
      },
      "outputs": [],
      "source": [
        "sorted(scores)[-10:]"
      ]
    },
    {
      "cell_type": "code",
      "execution_count": null,
      "metadata": {
        "id": "DH-dTFQHB7v0"
      },
      "outputs": [],
      "source": [
        "def change_string(s):\n",
        "    return ' '.join(s.replace(' ', '').replace('-', '').split('|'))"
      ]
    },
    {
      "cell_type": "code",
      "execution_count": null,
      "metadata": {
        "id": "jblm8TWMB7v1"
      },
      "outputs": [],
      "source": [
        "movie_genres = [change_string(g) for g in movies.genres.values]"
      ]
    },
    {
      "cell_type": "code",
      "execution_count": null,
      "metadata": {
        "id": "sX-AeM2KB7v1",
        "outputId": "db5af8a4-87dc-4be8-e485-1eb5d0fc361b"
      },
      "outputs": [
        {
          "data": {
            "text/plain": [
              "'Adventure Animation Children Comedy Fantasy'"
            ]
          },
          "execution_count": 22,
          "metadata": {},
          "output_type": "execute_result"
        }
      ],
      "source": [
        "movie_genres[0]"
      ]
    },
    {
      "cell_type": "code",
      "execution_count": null,
      "metadata": {
        "id": "J245f3E2B7v1"
      },
      "outputs": [],
      "source": [
        "count_vect = CountVectorizer()\n",
        "X_train_counts = count_vect.fit_transform(movie_genres)\n",
        "\n",
        "tfidf_transformer = TfidfTransformer()\n",
        "X_train_tfidf = tfidf_transformer.fit_transform(X_train_counts)\n",
        "\n",
        "neigh = NearestNeighbors(n_neighbors=20, n_jobs=-1, metric='euclidean')\n",
        "neigh.fit(X_train_tfidf)"
      ]
    },
    {
      "cell_type": "code",
      "execution_count": null,
      "metadata": {
        "id": "l8CA3DQ0B7v1"
      },
      "outputs": [],
      "source": [
        "test = change_string(\"Adventure|Comedy|Fantasy|Crime\")\n",
        "\n",
        "predict = count_vect.transform([test])\n",
        "X_tfidf2 = tfidf_transformer.transform(predict)\n",
        "\n",
        "res = neigh.kneighbors(X_tfidf2, return_distance=True)"
      ]
    },
    {
      "cell_type": "code",
      "execution_count": null,
      "metadata": {
        "id": "ziwZW6CRB7v1"
      },
      "outputs": [],
      "source": [
        "res"
      ]
    },
    {
      "cell_type": "code",
      "execution_count": null,
      "metadata": {
        "scrolled": true,
        "id": "s-VKFKwwB7v2"
      },
      "outputs": [],
      "source": [
        "movies.iloc[res[1][0]]"
      ]
    },
    {
      "cell_type": "code",
      "execution_count": null,
      "metadata": {
        "id": "rjrZxvuNB7v2"
      },
      "outputs": [],
      "source": [
        "movies_with_ratings.sort_values('timestamp', inplace=True)"
      ]
    },
    {
      "cell_type": "code",
      "execution_count": null,
      "metadata": {
        "id": "W7a4_2gPB7v2"
      },
      "outputs": [],
      "source": [
        "movies.head()"
      ]
    },
    {
      "cell_type": "code",
      "execution_count": null,
      "metadata": {
        "id": "Ke-oHQDsB7v2"
      },
      "outputs": [],
      "source": [
        "movies_with_ratings[movies_with_ratings]"
      ]
    },
    {
      "cell_type": "code",
      "execution_count": null,
      "metadata": {
        "id": "QWP0aSywB7v3"
      },
      "outputs": [],
      "source": [
        "title_genres = {}\n",
        "\n",
        "for index, row in tqdm_notebook(movies.iterrows()):\n",
        "    title_genres[row.title] = row.genres"
      ]
    },
    {
      "cell_type": "code",
      "execution_count": null,
      "metadata": {
        "id": "XQNaHaSQB7v3"
      },
      "outputs": [],
      "source": [
        "def recommend_for_user(user_id):\n",
        "    current_user_id = user_id\n",
        "    user_movies = movies_with_ratings[movies_with_ratings.userId == current_user_id].title.unique()\n",
        "\n",
        "    last_user_movie = user_movies[-1]\n",
        "\n",
        "    movie_genres = title_genres[last_user_movie]\n",
        "\n",
        "    movie_genres = change_string(movie_genres)\n",
        "\n",
        "    predict = count_vect.transform([movie_genres])\n",
        "    X_tfidf2 = tfidf_transformer.transform(predict)\n",
        "\n",
        "    res = neigh.kneighbors(X_tfidf2, return_distance=True)\n",
        "\n",
        "    movies_to_score = movies.iloc[res[1][0]].title.values\n",
        "\n",
        "    scores = []\n",
        "    titles = []\n",
        "\n",
        "    for movie in movies_to_score:\n",
        "        if movie in user_movies:\n",
        "            continue\n",
        "\n",
        "        scores.append(algo.predict(uid=current_user_id, iid=movie).est)\n",
        "        titles.append(movie)\n",
        "\n",
        "\n",
        "    best_indexes = np.argsort(scores)[-10:]\n",
        "    for i in reversed(best_indexes):\n",
        "        print(titles[i], scores[i])"
      ]
    },
    {
      "cell_type": "code",
      "execution_count": null,
      "metadata": {
        "scrolled": true,
        "id": "X_VizS4JB7v3"
      },
      "outputs": [],
      "source": [
        "movies_with_ratings[movies_with_ratings.userId == 2.0].sort_values('rating')"
      ]
    },
    {
      "cell_type": "code",
      "execution_count": null,
      "metadata": {
        "id": "G50-IGGTB7v3"
      },
      "outputs": [],
      "source": [
        "recommend_for_user(2.0)"
      ]
    },
    {
      "cell_type": "code",
      "execution_count": null,
      "metadata": {
        "id": "1klPw7GTB7v4"
      },
      "outputs": [],
      "source": [
        "np.argsort([1,9,5,7])"
      ]
    },
    {
      "cell_type": "code",
      "execution_count": null,
      "metadata": {
        "id": "TvHA4V24B7v4"
      },
      "outputs": [],
      "source": []
    }
  ],
  "metadata": {
    "kernelspec": {
      "display_name": "Python 3",
      "language": "python",
      "name": "python3"
    },
    "language_info": {
      "codemirror_mode": {
        "name": "ipython",
        "version": 3
      },
      "file_extension": ".py",
      "mimetype": "text/x-python",
      "name": "python",
      "nbconvert_exporter": "python",
      "pygments_lexer": "ipython3",
      "version": "3.6.4"
    },
    "colab": {
      "provenance": [],
      "include_colab_link": true
    }
  },
  "nbformat": 4,
  "nbformat_minor": 0
}
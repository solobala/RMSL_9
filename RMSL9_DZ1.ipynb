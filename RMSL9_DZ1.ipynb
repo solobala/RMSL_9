{
  "nbformat": 4,
  "nbformat_minor": 0,
  "metadata": {
    "colab": {
      "provenance": [],
      "authorship_tag": "ABX9TyOkL+onlwnBtaQjPpIVkQ4v",
      "include_colab_link": true
    },
    "kernelspec": {
      "name": "python3",
      "display_name": "Python 3"
    },
    "language_info": {
      "name": "python"
    }
  },
  "cells": [
    {
      "cell_type": "markdown",
      "metadata": {
        "id": "view-in-github",
        "colab_type": "text"
      },
      "source": [
        "<a href=\"https://colab.research.google.com/github/solobala/RMSL_9/blob/main/RMSL9_DZ1.ipynb\" target=\"_parent\"><img src=\"https://colab.research.google.com/assets/colab-badge.svg\" alt=\"Open In Colab\"/></a>"
      ]
    },
    {
      "cell_type": "markdown",
      "source": [
        "Домашнее задание по теме «Рекомендации на основе содержания»\n",
        "1. Использовать датасет MovieLens.\n",
        "2. Построить рекомендации (регрессия, предсказываем оценку) на фичах:\n",
        "\n",
        "  *   TF-IDF на тегах и жанрах;\n",
        "  *   средние оценки (+ median, variance и т. д.) пользователя и фильма.\n",
        "\n",
        "\n",
        "3. Оценить RMSE на тестовой выборке."
      ],
      "metadata": {
        "id": "2tcvh3pKQiJQ"
      }
    },
    {
      "cell_type": "markdown",
      "source": [
        "# 0. Загрузка данных и импорт библиотек"
      ],
      "metadata": {
        "id": "9Nb8KcXqRH6i"
      }
    },
    {
      "cell_type": "code",
      "execution_count": null,
      "metadata": {
        "id": "DLoggrtXQaaC"
      },
      "outputs": [],
      "source": [
        "import numpy as np\n",
        "import pandas as pd\n",
        "import scipy\n",
        "from sklearn.linear_model import LinearRegression\n",
        "from sklearn.model_selection import train_test_split\n",
        "from sklearn.feature_extraction.text import TfidfTransformer, CountVectorizer\n",
        "from sklearn.neighbors import NearestNeighbors\n",
        "from sklearn.base import RegressorMixin\n",
        "from sklearn.metrics import mean_squared_error"
      ]
    },
    {
      "cell_type": "markdown",
      "source": [
        "#1. Пользовательские функции"
      ],
      "metadata": {
        "id": "hnvpLPS9aTr-"
      }
    },
    {
      "cell_type": "code",
      "source": [
        "def change_string(s: str) -> str:\n",
        "    # Убираем лищние пробелы и тире и разбиваем строку на отдельные слова, затем сохраняем в строку через пробел\n",
        "    return ' '.join(s.replace(' ', '').replace('-', '').split('|'))"
      ],
      "metadata": {
        "id": "KBVzbVa0ysml"
      },
      "execution_count": null,
      "outputs": []
    },
    {
      "cell_type": "code",
      "source": [
        "def make_dataset() -> pd.DataFrame:\n",
        "  # load dataset\n",
        "  !wget  \"https://files.grouplens.org/datasets/movielens/ml-latest-small.zip\"   # Качаем архив выбранного датасета\n",
        "  # unzip data from zip\n",
        "  !unzip ml-latest-small.zip\n",
        "  # read tables\n",
        "  tags = pd.read_csv('/content/ml-latest-small/tags.csv')\n",
        "  movies = pd.read_csv('/content/ml-latest-small/movies.csv')\n",
        "  ratings = pd.read_csv('/content/ml-latest-small/ratings.csv')\n",
        "  ratings.drop(columns=['timestamp'], inplace=True)\n",
        "  tags.drop(columns=['timestamp'], inplace=True)\n",
        "  # join tables\n",
        "  df = ratings.join(movies.set_index('movieId'), on='movieId', how='left')\n",
        "  # drop some columns\n",
        "  df = pd.merge(df, tags, left_on=['userId','movieId'], right_on = ['userId','movieId'], how='left')\n",
        "  return df"
      ],
      "metadata": {
        "id": "g59i-QMnSadf"
      },
      "execution_count": null,
      "outputs": []
    },
    {
      "cell_type": "code",
      "source": [
        "def clean(df: pd.DataFrame) -> pd.DataFrame:\n",
        "  # fill nan\n",
        "  df['tag'] = df['tag'].fillna('no_tag')\n",
        "  return df"
      ],
      "metadata": {
        "id": "oPV73CgBS3-D"
      },
      "execution_count": null,
      "outputs": []
    },
    {
      "cell_type": "code",
      "source": [
        "def build_features(df: pd.DataFrame) -> tuple():\n",
        "  # feature engineering признаков, связанных с item\n",
        "\n",
        "  # Убираем лищние пробелы и тире, разбиваем строку жанров на отдельные слова и снова сохраняем в строку через пробел\n",
        "  df['genres'] = df['genres'].apply(lambda x: change_string(x))\n",
        "\n",
        "  # Убираем лищние пробелы и тире, разбиваем строку тэгов на отдельные слова и снова сохраняем в строку через пробел\n",
        "  df['tag'] = df['tag'].apply(lambda x: change_string(x))\n",
        "\n",
        "  # рейтинги преобразуем в numpy\n",
        "  y = df['rating'].to_numpy()\n",
        "\n",
        "  # ВЫбираем признаки - жанр и тэг\n",
        "  X = df[['genres', 'tag']]\n",
        "\n",
        "  # трансформируем в векторы, конкатенируем\n",
        "  count_vect = CountVectorizer()\n",
        "  X_counts_1 = count_vect.fit_transform(X['genres'])\n",
        "  X_counts_2 = count_vect.fit_transform(X['tag'])\n",
        "\n",
        "  tfidf_transformer = TfidfTransformer()\n",
        "  X_tfidf_1 = tfidf_transformer.fit_transform(X_counts_1)\n",
        "  X_tfidf_2 = tfidf_transformer.fit_transform(X_counts_2)\n",
        "\n",
        "  X_transform = scipy.sparse.hstack([X_tfidf_1, X_tfidf_2 ])\n",
        "\n",
        "  return X_transform, y"
      ],
      "metadata": {
        "id": "dFEQqNhrTMEN"
      },
      "execution_count": null,
      "outputs": []
    },
    {
      "cell_type": "code",
      "source": [
        "def b_f(ddf: pd.DataFrame)-> tuple():\n",
        "  # feature engineering Признаков, связанных с user\n",
        "\n",
        "  mean_user_rating = ddf.groupby(by='userId')[['rating']].mean()\n",
        "  mean_movie_rating = ddf.groupby(by='movieId')[['rating']].mean()\n",
        "  ddf = ddf.join(mean_user_rating.reset_index('userId'), on='userId',lsuffix='', rsuffix='_user', how='left')\n",
        "  ddf = ddf.join(mean_movie_rating.reset_index('movieId'), on='movieId', lsuffix='', rsuffix='_movie', how='left')\n",
        "\n",
        "  # Среднее значение рейтинга для юзера\n",
        "  rating_user = ddf['rating_user'].mean()\n",
        "  # Среднее значение рейтинга для итема\n",
        "  rating_movie = ddf['rating_movie'].mean()\n",
        "\n",
        "  # заполняем пропуски\n",
        "  ddf['rating_user'] = ddf['rating_user'].fillna(rating_user)\n",
        "  ddf['rating_movie'] = ddf['rating_movie'].fillna(rating_movie)\n",
        "  y = ddf['rating']\n",
        "  X = ddf.drop(columns=['userId', 'movieId', 'rating', 'userId_user', 'movieId_movie'])\n",
        "  # scaling\n",
        "  X['rating_user'] = (X['rating_user']-X['rating_user'].mean())/(X['rating_user'].max() - X['rating_user'].min())\n",
        "  X['rating_movie'] = (X['rating_movie'] - X['rating_movie'].mean())/(X['rating_movie'].max() - X['rating_movie'].min())\n",
        "  return X,y"
      ],
      "metadata": {
        "id": "PHzf_EuukKVG"
      },
      "execution_count": null,
      "outputs": []
    },
    {
      "cell_type": "code",
      "source": [
        "def train_model(X: scipy.sparse._csr.csr_matrix, y: np.ndarray) -> RegressorMixin:\n",
        "  # fit model - линейная регрессия\n",
        "  lr = LinearRegression()\n",
        "  lr.fit(X_train, y_train)\n",
        "  return lr"
      ],
      "metadata": {
        "id": "OIL_IUrGUKDW"
      },
      "execution_count": null,
      "outputs": []
    },
    {
      "cell_type": "code",
      "source": [
        "def predict_model(model: RegressorMixin,\n",
        "                  X_test: scipy.sparse._csr.csr_matrix ) -> np.ndarray:\n",
        "  # make predictions\n",
        "  y_pred = model.predict(X_test)\n",
        "  return y_pred"
      ],
      "metadata": {
        "id": "31vj0pc3WTsG"
      },
      "execution_count": null,
      "outputs": []
    },
    {
      "cell_type": "code",
      "source": [
        "def evaluate_model(y_test, y_pred) -> None:\n",
        "  # model evaluation with rmse\n",
        "  rmse = np.sqrt(mean_squared_error(y_test, y_pred))\n",
        "  print(\"RMSE: \", rmse)\n"
      ],
      "metadata": {
        "id": "T3p6KJlJWurt"
      },
      "execution_count": null,
      "outputs": []
    },
    {
      "cell_type": "markdown",
      "source": [
        "#2. Построить рекомендации (регрессия, предсказываем оценку) на фичах TF-IDF - на тегах и жанрах;"
      ],
      "metadata": {
        "id": "wVVIghvEbgv1"
      }
    },
    {
      "cell_type": "code",
      "source": [
        "df = make_dataset()"
      ],
      "metadata": {
        "colab": {
          "base_uri": "https://localhost:8080/"
        },
        "id": "Ejrv_idIXGt_",
        "outputId": "2b925aae-3526-40c8-9aee-4371cd9742b8"
      },
      "execution_count": null,
      "outputs": [
        {
          "output_type": "stream",
          "name": "stdout",
          "text": [
            "--2023-06-25 22:04:25--  https://files.grouplens.org/datasets/movielens/ml-latest-small.zip\n",
            "Resolving files.grouplens.org (files.grouplens.org)... 128.101.65.152\n",
            "Connecting to files.grouplens.org (files.grouplens.org)|128.101.65.152|:443... connected.\n",
            "HTTP request sent, awaiting response... 200 OK\n",
            "Length: 978202 (955K) [application/zip]\n",
            "Saving to: ‘ml-latest-small.zip’\n",
            "\n",
            "ml-latest-small.zip 100%[===================>] 955.28K  1.53MB/s    in 0.6s    \n",
            "\n",
            "2023-06-25 22:04:26 (1.53 MB/s) - ‘ml-latest-small.zip’ saved [978202/978202]\n",
            "\n",
            "Archive:  ml-latest-small.zip\n",
            "   creating: ml-latest-small/\n",
            "  inflating: ml-latest-small/links.csv  \n",
            "  inflating: ml-latest-small/tags.csv  \n",
            "  inflating: ml-latest-small/ratings.csv  \n",
            "  inflating: ml-latest-small/README.txt  \n",
            "  inflating: ml-latest-small/movies.csv  \n"
          ]
        }
      ]
    },
    {
      "cell_type": "code",
      "source": [
        "df = clean(df)\n",
        "X_transform, y = build_features(df)\n",
        "X_train, X_test, y_train, y_test =\\\n",
        "  train_test_split(X_transform, y, test_size=0.2, random_state=42)\n",
        "model = train_model(X_train, y_train)\n",
        "y_pred = predict_model(model, X_test)\n",
        "evaluate_model(y_test, y_pred)"
      ],
      "metadata": {
        "colab": {
          "base_uri": "https://localhost:8080/"
        },
        "id": "0DEBcqjbXonl",
        "outputId": "434d43f7-eccd-4ddd-ada4-adeb3cca2289"
      },
      "execution_count": null,
      "outputs": [
        {
          "output_type": "stream",
          "name": "stdout",
          "text": [
            "RMSE:  1.0182096860235028\n"
          ]
        }
      ]
    },
    {
      "cell_type": "markdown",
      "source": [
        "# 3. Построить рекомендации (регрессия, предсказываем оценку) на фичах - средние оценки (+ median, variance и т. д.) пользователя и фильма"
      ],
      "metadata": {
        "id": "U68NaIoXbYO5"
      }
    },
    {
      "cell_type": "code",
      "source": [
        "ddf = df[['userId', 'movieId', 'rating']]\n",
        "X, y = b_f(ddf)\n",
        "X_train, X_test, y_train, y_test =\\\n",
        "  train_test_split(X, y, test_size=0.2, random_state=42)\n",
        "model = train_model(X_train, y_train)\n",
        "y_pred = predict_model(model, X_test)\n",
        "evaluate_model(y_test, y_pred)"
      ],
      "metadata": {
        "colab": {
          "base_uri": "https://localhost:8080/"
        },
        "id": "ITqjCUiscN7C",
        "outputId": "fe6912f6-7cd8-4d24-95ae-8f114cc29042"
      },
      "execution_count": null,
      "outputs": [
        {
          "output_type": "stream",
          "name": "stdout",
          "text": [
            "RMSE:  1.0428823839999444\n"
          ]
        }
      ]
    }
  ]
}